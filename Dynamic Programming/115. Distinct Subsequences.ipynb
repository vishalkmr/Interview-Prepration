{
 "cells": [
  {
   "cell_type": "markdown",
   "metadata": {},
   "source": [
    "<h1>\n",
    "<a href=\"https://leetcode.com/problems/distinct-subsequences/\" style=\"color:orange;text-decoration: none\";>115. Distinct Subsequences\n",
    "</a> \n",
    "</h1> \n",
    "\n",
    "```\n",
    "Given two strings s and t, return the number of distinct subsequences of s which equals t.\n",
    "\n",
    "A string's subsequence is a new string formed from the original string by deleting some (can be none) of the characters without disturbing the remaining characters' relative positions. (i.e., \"ACE\" is a subsequence of \"ABCDE\" while \"AEC\" is not).\n",
    "\n",
    "The test cases are generated so that the answer fits on a 32-bit signed integer.\n",
    "\n",
    "Example 1:\n",
    "Input: s = \"rabbbit\", t = \"rabbit\"\n",
    "Output: 3\n",
    "Explanation:\n",
    "As shown below, there are 3 ways you can generate \"rabbit\" from S.\n",
    "rabbbit\n",
    "rabbbit\n",
    "rabbbit\n",
    "                                                                                                    \n",
    "Example 2:\n",
    "Input: s = \"babgbag\", t = \"bag\"\n",
    "Output: 5\n",
    "Explanation:\n",
    "As shown below, there are 5 ways you can generate \"bag\" from S.\n",
    "babgbag\n",
    "babgbag\n",
    "babgbag\n",
    "babgbag\n",
    "babgbag\n",
    "\n",
    "Constraints:\n",
    "1 <= s.length, t.length <= 1000\n",
    "s and t consist of English letters.\n",
    "```"
   ]
  },
  {
   "cell_type": "markdown",
   "metadata": {},
   "source": [
    "## Approach 1\n",
    "- Recursion + Memoization\n",
    " \n",
    "**T(n)=O(n*n)**\n",
    "\n",
    "**S(n)=O(n*n)**"
   ]
  },
  {
   "cell_type": "code",
   "execution_count": 1,
   "metadata": {},
   "outputs": [],
   "source": [
    "def numDistinct(s,t):\n",
    "    S=len(s)\n",
    "    T=len(t)\n",
    "    dp=[[None for i in range(T)] for j in range(S)]\n",
    "\n",
    "    def dfs(i,j):\n",
    "        #base case\n",
    "        if j ==T:\n",
    "            return 1\n",
    "        elif i == S:\n",
    "            return 0\n",
    "\n",
    "        elif dp[i][j]:\n",
    "            return dp[i][j]\n",
    "        #if equal element in both string either choose the character from s or not\n",
    "        elif s[i]==t[j]:\n",
    "            dp[i][j]=dfs(i+1,j+1)+dfs(i+1,j)\n",
    "            return dp[i][j]\n",
    "        else:\n",
    "            dp[i][j]=dfs(i+1,j)\n",
    "            return dp[i][j]\n",
    "    return dfs(0,0)"
   ]
  },
  {
   "cell_type": "code",
   "execution_count": 2,
   "metadata": {},
   "outputs": [
    {
     "data": {
      "text/plain": [
       "5"
      ]
     },
     "execution_count": 2,
     "metadata": {},
     "output_type": "execute_result"
    }
   ],
   "source": [
    "s = \"babgbag\"\n",
    "t = \"bag\"\n",
    "numDistinct(s,t)"
   ]
  },
  {
   "cell_type": "markdown",
   "metadata": {},
   "source": [
    "## Approach 2\n",
    "- Tabulation (Top Down)\n",
    " \n",
    "**T(n)=O(n*n)**\n",
    "\n",
    "**S(n)=O(n*n)**"
   ]
  },
  {
   "cell_type": "code",
   "execution_count": 3,
   "metadata": {},
   "outputs": [],
   "source": [
    "def numDistinct(s,t):\n",
    "        S=len(s)\n",
    "        T=len(t)\n",
    "        dp=[[None for i in range(T+1)] for j in range(S+1)]\n",
    "        \n",
    "        #base case\n",
    "        for i in range(S + 1):\n",
    "            dp[i][T] = 1\n",
    "        for j in range(T):\n",
    "            dp[S][j] = 0\n",
    "        \n",
    "        for i in range(len(s) - 1, -1, -1):\n",
    "            for j in range(len(t) - 1, -1, -1):\n",
    "                if s[i] == t[j]:\n",
    "                    dp[i][j]=dp[i+1][j+1]+dp[i+1][j]\n",
    "                else:\n",
    "                    dp[i][j]=dp[i+1][j]\n",
    "        return dp[0][0]"
   ]
  },
  {
   "cell_type": "code",
   "execution_count": 4,
   "metadata": {},
   "outputs": [
    {
     "data": {
      "text/plain": [
       "5"
      ]
     },
     "execution_count": 4,
     "metadata": {},
     "output_type": "execute_result"
    }
   ],
   "source": [
    "s = \"babgbag\"\n",
    "t = \"bag\"\n",
    "numDistinct(s,t)"
   ]
  },
  {
   "cell_type": "markdown",
   "metadata": {},
   "source": [
    "## Approach 3\n",
    "- Tabulation (Bottom Up)\n",
    " \n",
    "**T(n)=O(n*n)**\n",
    "\n",
    "**S(n)=O(n*n)**"
   ]
  },
  {
   "cell_type": "code",
   "execution_count": 5,
   "metadata": {},
   "outputs": [],
   "source": [
    "def numDistinct(s,t):\n",
    "    S=len(s)\n",
    "    T=len(t)\n",
    "    dp=[[None for i in range(T+1)] for j in range(S+1)]\n",
    "    \n",
    "    #base case\n",
    "    for i in range(S+1):\n",
    "        dp[i][0] = 1\n",
    "    for j in range(1,T+1):\n",
    "        dp[0][j] = 0\n",
    "\n",
    "    for i in range(1,S+1):\n",
    "        for j in range(1,T+1):\n",
    "            if s[i-1] == t[j-1]:\n",
    "                dp[i][j]=dp[i-1][j-1]+dp[i-1][j]\n",
    "            else:\n",
    "                dp[i][j]=dp[i-1][j]\n",
    "    return dp[S][T]"
   ]
  },
  {
   "cell_type": "code",
   "execution_count": 6,
   "metadata": {},
   "outputs": [
    {
     "data": {
      "text/plain": [
       "5"
      ]
     },
     "execution_count": 6,
     "metadata": {},
     "output_type": "execute_result"
    }
   ],
   "source": [
    "s = \"babgbag\"\n",
    "t = \"bag\"\n",
    "numDistinct(s,t)"
   ]
  }
 ],
 "metadata": {
  "kernelspec": {
   "display_name": "Python 3",
   "language": "python",
   "name": "python3"
  },
  "language_info": {
   "codemirror_mode": {
    "name": "ipython",
    "version": 3
   },
   "file_extension": ".py",
   "mimetype": "text/x-python",
   "name": "python",
   "nbconvert_exporter": "python",
   "pygments_lexer": "ipython3",
   "version": "3.8.5"
  }
 },
 "nbformat": 4,
 "nbformat_minor": 4
}
