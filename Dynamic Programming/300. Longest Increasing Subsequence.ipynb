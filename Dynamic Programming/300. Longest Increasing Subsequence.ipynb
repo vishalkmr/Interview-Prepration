{
 "cells": [
  {
   "cell_type": "markdown",
   "metadata": {},
   "source": [
    "<h1>\n",
    "<a href=\"https://leetcode.com/problems/longest-increasing-subsequence/\" style=\"color:orange;text-decoration: none\";>300. Longest Increasing Subsequence\n",
    "</a> \n",
    "</h1> \n",
    "\n",
    "```\n",
    "Given an integer array nums, return the length of the longest strictly increasing subsequence.\n",
    "\n",
    "A subsequence is a sequence that can be derived from an array by deleting some or no elements without changing the order of the remaining elements. For example, [3,6,2,7] is a subsequence of the array [0,3,1,6,2,2,7].\n",
    "\n",
    "Example 1:\n",
    "Input: nums = [10,9,2,5,3,7,101,18]\n",
    "Output: 4\n",
    "Explanation: The longest increasing subsequence is [2,3,7,101], therefore the length is 4.\n",
    "                                                                                                    \n",
    "Example 2:\n",
    "Input: nums = [0,1,0,3,2,3]\n",
    "Output: 4\n",
    " \n",
    "Constraints:\n",
    "1 <= nums.length <= 2500\n",
    "-104 <= nums[i] <= 104\n",
    "```"
   ]
  },
  {
   "cell_type": "markdown",
   "metadata": {},
   "source": [
    "## Approach 1\n",
    "- LCS of array and sorted array with distinct element is LIS\n",
    " \n",
    "**T(n)=O(n*n)**\n",
    "\n",
    "**S(n)=O(n*n)**"
   ]
  },
  {
   "cell_type": "code",
   "execution_count": 1,
   "metadata": {},
   "outputs": [],
   "source": [
    "def lengthOfLIS(nums):\n",
    "    X=nums\n",
    "    Y=sorted(list(set(nums)))\n",
    "    N=len(Y)\n",
    "    M=len(nums)\n",
    "    table=[[None for i in range(N+1)] for j in range(M+1)]\n",
    "\n",
    "    for m in range(M+1):\n",
    "        for n in range(N+1):\n",
    "            if m==0 or n==0:\n",
    "                table[m][n]=0\n",
    "            elif X[m-1] == Y[n-1]:\n",
    "                table[m][n]=1+table[m-1][n-1]\n",
    "            else:\n",
    "                table[m][n]=max(table[m-1][n],table[m][n-1])\n",
    "\n",
    "    return table[m][n]"
   ]
  },
  {
   "cell_type": "code",
   "execution_count": 2,
   "metadata": {},
   "outputs": [
    {
     "data": {
      "text/plain": [
       "4"
      ]
     },
     "execution_count": 2,
     "metadata": {},
     "output_type": "execute_result"
    }
   ],
   "source": [
    "nums=[0,1,0,3,2,3]\n",
    "lengthOfLIS(nums)"
   ]
  },
  {
   "cell_type": "markdown",
   "metadata": {},
   "source": [
    "## Approach 2\n",
    "\n",
    "L(i) = 1 + max( L(j) ) where 0 < j < i and arr[j] < arr[i]; \n",
    "\n",
    "L(i) = 1, if no such j exists.\n",
    " \n",
    "**T(n)=O(n*n)**\n",
    "\n",
    "**S(n)=O(n*n)**"
   ]
  },
  {
   "cell_type": "code",
   "execution_count": 3,
   "metadata": {},
   "outputs": [],
   "source": [
    "def lengthOfLIS(nums):\n",
    "    lis=[1 for i in range(len(nums))]\n",
    "    for i in range(1,len(nums)):\n",
    "        for j in range(i+1):\n",
    "            #max valid soln upto length i\n",
    "            if nums[j]<nums[i]:\n",
    "                lis[i]=max(lis[i],1+lis[j])\n",
    "\n",
    "    return max(lis)"
   ]
  },
  {
   "cell_type": "code",
   "execution_count": 4,
   "metadata": {},
   "outputs": [
    {
     "data": {
      "text/plain": [
       "6"
      ]
     },
     "execution_count": 4,
     "metadata": {},
     "output_type": "execute_result"
    }
   ],
   "source": [
    "nums=[1,3,6,7,9,4,10,5,6]\n",
    "lengthOfLIS(nums)"
   ]
  }
 ],
 "metadata": {
  "kernelspec": {
   "display_name": "Python 3",
   "language": "python",
   "name": "python3"
  },
  "language_info": {
   "codemirror_mode": {
    "name": "ipython",
    "version": 3
   },
   "file_extension": ".py",
   "mimetype": "text/x-python",
   "name": "python",
   "nbconvert_exporter": "python",
   "pygments_lexer": "ipython3",
   "version": "3.8.5"
  }
 },
 "nbformat": 4,
 "nbformat_minor": 4
}
