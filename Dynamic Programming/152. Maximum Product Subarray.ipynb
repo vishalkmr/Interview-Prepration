{
 "cells": [
  {
   "cell_type": "markdown",
   "metadata": {},
   "source": [
    "<h1>\n",
    "<a href=\"https://leetcode.com/problems/maximum-product-subarray/\" style=\"color:orange;text-decoration: none\";>152. Maximum Product Subarray\n",
    "</a> \n",
    "</h1> \n",
    "\n",
    "```\n",
    "Given an integer array nums, find a contiguous non-empty subarray within the array that has the largest product, and return the product.\n",
    "\n",
    "The test cases are generated so that the answer will fit in a 32-bit integer.\n",
    "\n",
    "A subarray is a contiguous subsequence of the array.\n",
    "\n",
    "Example 1:\n",
    "Input: nums = [2,3,-2,4]\n",
    "Output: 6\n",
    "Explanation: [2,3] has the largest product 6.\n",
    "                                                                                                    \n",
    "Example 2:\n",
    "Input: nums = [-2,0,-1]\n",
    "Output: 0\n",
    "Explanation: The result cannot be 2, because [-2,-1] is not a subarray.\n",
    " \n",
    "Constraints:\n",
    "1 <= nums.length <= 2 * 104\n",
    "-10 <= nums[i] <= 10\n",
    "The product of any prefix or suffix of nums is guaranteed to fit in a 32-bit integer.\n",
    "```"
   ]
  },
  {
   "cell_type": "markdown",
   "metadata": {},
   "source": [
    "## Approach 1\n",
    "- We have to use two variable to keep track of curr max and curr min product\n",
    "- -ve element case the result is curr min X curr element\n",
    "- +ve element case the result is curr max X curr element\n",
    "- 0 element case the result is 0\n",
    "\n",
    "**T(n)=O(n)**\n",
    "\n",
    "**S(n)=O(1)**"
   ]
  },
  {
   "cell_type": "code",
   "execution_count": 5,
   "metadata": {},
   "outputs": [],
   "source": [
    "def maxProduct(nums):\n",
    "    curr_min=1\n",
    "    curr_max=1\n",
    "    res=float(\"-inf\")\n",
    "\n",
    "    for n in nums:\n",
    "        temp=curr_max\n",
    "        curr_max=max(n,curr_max*n,curr_min*n)\n",
    "        curr_min=min(n,temp*n,curr_min*n)\n",
    "        res=max(res,curr_max,curr_min)\n",
    "        print(f\"n={n} curr_max={curr_max} curr_min={curr_min}\")\n",
    "\n",
    "    return res"
   ]
  },
  {
   "cell_type": "code",
   "execution_count": 6,
   "metadata": {},
   "outputs": [
    {
     "name": "stdout",
     "output_type": "stream",
     "text": [
      "n=2 curr_max=2 curr_min=2\n",
      "n=3 curr_max=6 curr_min=3\n",
      "n=-2 curr_max=-2 curr_min=-12\n",
      "n=4 curr_max=4 curr_min=-48\n"
     ]
    },
    {
     "data": {
      "text/plain": [
       "6"
      ]
     },
     "execution_count": 6,
     "metadata": {},
     "output_type": "execute_result"
    }
   ],
   "source": [
    "nums=[2,3,-2,4]\n",
    "maxProduct(nums)"
   ]
  }
 ],
 "metadata": {
  "kernelspec": {
   "display_name": "Python 3",
   "language": "python",
   "name": "python3"
  },
  "language_info": {
   "codemirror_mode": {
    "name": "ipython",
    "version": 3
   },
   "file_extension": ".py",
   "mimetype": "text/x-python",
   "name": "python",
   "nbconvert_exporter": "python",
   "pygments_lexer": "ipython3",
   "version": "3.8.5"
  }
 },
 "nbformat": 4,
 "nbformat_minor": 4
}
