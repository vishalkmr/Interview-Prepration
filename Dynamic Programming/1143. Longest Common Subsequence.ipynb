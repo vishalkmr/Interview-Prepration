{
 "cells": [
  {
   "cell_type": "markdown",
   "metadata": {},
   "source": [
    "<h1>\n",
    "<a href=\"https://leetcode.com/problems/longest-common-subsequence/\" style=\"color:orange;text-decoration: none\";>1143. Longest Common Subsequence\n",
    "</a> \n",
    "</h1> \n",
    "\n",
    "```\n",
    "Given two strings text1 and text2, return the length of their longest common subsequence. If there is no common subsequence, return 0.\n",
    "\n",
    "A subsequence of a string is a new string generated from the original string with some characters (can be none) deleted without changing the relative order of the remaining characters.\n",
    "\n",
    "For example, \"ace\" is a subsequence of \"abcde\".\n",
    "A common subsequence of two strings is a subsequence that is common to both strings.\n",
    "\n",
    "Example 1:\n",
    "Input: text1 = \"abcde\", text2 = \"ace\" \n",
    "Output: 3  \n",
    "Explanation: The longest common subsequence is \"ace\" and its length is 3.\n",
    "                                                                                                    \n",
    "Example 2:\n",
    "Input: text1 = \"abc\", text2 = \"abc\"\n",
    "Output: 3\n",
    "Explanation: The longest common subsequence is \"abc\" and its length is 3.\n",
    " \n",
    "Constraints:\n",
    "1 <= text1.length, text2.length <= 1000\n",
    "text1 and text2 consist of only lowercase English characters.\n",
    "```"
   ]
  },
  {
   "cell_type": "markdown",
   "metadata": {},
   "source": [
    "## Approach 1\n",
    "- Recursive solution using memoization\n",
    " \n",
    "**T(n)=O(n*w)**\n",
    "\n",
    "**S(n)=O(n*w)**"
   ]
  },
  {
   "cell_type": "code",
   "execution_count": 1,
   "metadata": {},
   "outputs": [],
   "source": [
    "def longestCommonSubsequence(text1,text2):\n",
    "    M=len(text1)\n",
    "    N=len(text2)\n",
    "    memo=[[None for n in range(N + 1)] for m in range(M + 1)]\n",
    "    \n",
    "    def recursion(m,n):\n",
    "        #already solved subproblem\n",
    "        if memo[m][n]:\n",
    "            return memo[m][n]\n",
    "\n",
    "        #base case\n",
    "        elif m==0 or n==0:\n",
    "            return 0\n",
    "\n",
    "        #when elements are matched in two strings\n",
    "        elif text1[m-1] == text2[n-1]:\n",
    "             memo[m][n]=1+recursion(m-1,n-1)\n",
    "        #when elements are not matched\n",
    "        else:\n",
    "            memo[m][n]=max(recursion(m,n-1),recursion(m-1,n))\n",
    "        return memo[m][n]\n",
    "    \n",
    "    return recursion(M,N)"
   ]
  },
  {
   "cell_type": "code",
   "execution_count": 2,
   "metadata": {},
   "outputs": [
    {
     "data": {
      "text/plain": [
       "3"
      ]
     },
     "execution_count": 2,
     "metadata": {},
     "output_type": "execute_result"
    }
   ],
   "source": [
    "text1 = \"abcde\"\n",
    "text2 = \"ace\" \n",
    "longestCommonSubsequence(text1,text2)"
   ]
  },
  {
   "cell_type": "markdown",
   "metadata": {},
   "source": [
    "## Approach 2\n",
    "- Tabulation method\n",
    " \n",
    "**T(n)=O(m*n)**\n",
    "\n",
    "**S(n)=O(m*n)**"
   ]
  },
  {
   "cell_type": "code",
   "execution_count": 3,
   "metadata": {},
   "outputs": [],
   "source": [
    "def longestCommonSubsequence(text1,text2):\n",
    "    M=len(text1)\n",
    "    N=len(text2)\n",
    "    table=[[None for n in range(N + 1)] for m in range(M + 1)]\n",
    "\n",
    "    for m in range(M+1):\n",
    "        for n in range(N+1):\n",
    "            if m==0 or n==0:\n",
    "                table[m][n]=0\n",
    "            elif text1[m-1] == text2[n-1]:\n",
    "                table[m][n]=1+table[m-1][n-1]\n",
    "            else:\n",
    "                table[m][n]=max(table[m-1][n],table[m][n-1])\n",
    "\n",
    "    return table[M][N]"
   ]
  },
  {
   "cell_type": "code",
   "execution_count": 4,
   "metadata": {},
   "outputs": [
    {
     "data": {
      "text/plain": [
       "3"
      ]
     },
     "execution_count": 4,
     "metadata": {},
     "output_type": "execute_result"
    }
   ],
   "source": [
    "text1 = \"abcde\"\n",
    "text2 = \"ace\" \n",
    "longestCommonSubsequence(text1,text2)"
   ]
  }
 ],
 "metadata": {
  "kernelspec": {
   "display_name": "Python 3",
   "language": "python",
   "name": "python3"
  },
  "language_info": {
   "codemirror_mode": {
    "name": "ipython",
    "version": 3
   },
   "file_extension": ".py",
   "mimetype": "text/x-python",
   "name": "python",
   "nbconvert_exporter": "python",
   "pygments_lexer": "ipython3",
   "version": "3.8.5"
  }
 },
 "nbformat": 4,
 "nbformat_minor": 4
}
