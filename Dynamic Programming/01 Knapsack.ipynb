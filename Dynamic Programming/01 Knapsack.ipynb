{
 "cells": [
  {
   "cell_type": "markdown",
   "metadata": {},
   "source": [
    "## 0/1 Knapsack\n",
    "```\n",
    "--------------------------------------------\n",
    " Name  Weight\tProfit\n",
    "--------------------------------------------\n",
    "obj1\t10\t\t60\n",
    "obj2\t20\t\t100\n",
    "obj3\t30\t\t120\n",
    "--------------------------------------------\n",
    "  Total Profit : 220 when w=50\n",
    "--------------------------------------------\n",
    "```"
   ]
  },
  {
   "cell_type": "markdown",
   "metadata": {},
   "source": [
    "## Approach 1\n",
    "- Recursive solution using memoization\n",
    " \n",
    "**T(n)=O(n*w)**\n",
    "\n",
    "**S(n)=O(n*w)**"
   ]
  },
  {
   "cell_type": "code",
   "execution_count": 1,
   "metadata": {},
   "outputs": [],
   "source": [
    "def O1_knapsack(weights,profits,w,n):\n",
    "    #already solved subproblem\n",
    "    if memo[n][w]:\n",
    "        return memo[n][w]\n",
    "    \n",
    "    #base case\n",
    "    if w==0 or n==0:\n",
    "        return 0\n",
    "\n",
    "    #when weight of nth item is more than weight constraint => simply skip that element \n",
    "    if w < weights[n-1]:\n",
    "        memo[n][w]=O1_knapsack(weights,profits,w,n-1)\n",
    "    \n",
    "    #when weight of nth item is less or equal to the weight constraint\n",
    "    #then consider all possiblities(either take the nth item or skip the nth item)\n",
    "    #return value which maximize profit\n",
    "    else:\n",
    "        memo[n][w]=max(O1_knapsack(weights,profits,w-weights[n-1],n-1)+profits[n-1],O1_knapsack(weights,profits,w,n-1))\n",
    "    return memo[n][w]"
   ]
  },
  {
   "cell_type": "code",
   "execution_count": 2,
   "metadata": {},
   "outputs": [],
   "source": [
    "W=50 # max weight\n",
    "weights=[10, 20, 30]\n",
    "profits=[60, 100, 120]\n",
    "N=len(weights)\n",
    "\n",
    "memo=[[None for x in range(W + 1)] for x in range(N + 1)]\n",
    "O1_knapsack(weights,profits,W,N)"
   ]
  },
  {
   "cell_type": "markdown",
   "metadata": {},
   "source": [
    "## Approach 2\n",
    "- Tabulation method\n",
    " \n",
    "**T(n)=O(n*w)**\n",
    "\n",
    "**S(n)=O(n*w)**"
   ]
  },
  {
   "cell_type": "code",
   "execution_count": 3,
   "metadata": {},
   "outputs": [],
   "source": [
    "def O1_knapsack(weights,profits,W,N):    \n",
    "    table=[[None for x in range(W + 1)] for x in range(N + 1)]\n",
    "\n",
    "    for n in range(N+1):\n",
    "        for w in range(W+1):\n",
    "            #base case\n",
    "            if n==0 or w==0:\n",
    "                table[n][w]=0\n",
    "                \n",
    "            #when weight of nth item is more than weight constraint => simply skip that element \n",
    "            elif w < weights[n-1]:\n",
    "                table[n][w]=table[n-1][w]\n",
    "\n",
    "            #when weight of nth item is less or equal to the weight constraint\n",
    "            #then consider all possiblities(either take the nth item or skip the nth item)\n",
    "            #return value which maximize profit\n",
    "            else:\n",
    "                 table[n][w]=max(table[n-1][w-weights[n-1]]+profits[n-1],table[n-1][w])\n",
    "    return table[n][w]"
   ]
  },
  {
   "cell_type": "code",
   "execution_count": 4,
   "metadata": {},
   "outputs": [
    {
     "data": {
      "text/plain": [
       "220"
      ]
     },
     "execution_count": 4,
     "metadata": {},
     "output_type": "execute_result"
    }
   ],
   "source": [
    "W=50 # max weight\n",
    "weights=[10, 20, 30]\n",
    "profits=[60, 100, 120]\n",
    "N=len(weights)\n",
    "\n",
    "O1_knapsack(weights,profits,W,N)"
   ]
  }
 ],
 "metadata": {
  "kernelspec": {
   "display_name": "Python 3",
   "language": "python",
   "name": "python3"
  },
  "language_info": {
   "codemirror_mode": {
    "name": "ipython",
    "version": 3
   },
   "file_extension": ".py",
   "mimetype": "text/x-python",
   "name": "python",
   "nbconvert_exporter": "python",
   "pygments_lexer": "ipython3",
   "version": "3.8.5"
  }
 },
 "nbformat": 4,
 "nbformat_minor": 4
}
