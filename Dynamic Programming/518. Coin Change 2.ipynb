{
 "cells": [
  {
   "cell_type": "markdown",
   "metadata": {},
   "source": [
    "<h1>\n",
    "<a href=\"https://leetcode.com/problems/coin-change-2/\" style=\"color:orange;text-decoration: none\";>518. Coin Change 2\n",
    "</a> \n",
    "</h1> \n",
    "\n",
    "```\n",
    "You are given an integer array coins representing coins of different denominations and an integer amount representing a total amount of money.\n",
    "\n",
    "Return the number of combinations that make up that amount. If that amount of money cannot be made up by any combination of the coins, return 0.\n",
    "\n",
    "You may assume that you have an infinite number of each kind of coin.\n",
    "\n",
    "The answer is guaranteed to fit into a signed 32-bit integer.\n",
    "\n",
    "Example 1:\n",
    "Input: amount = 5, coins = [1,2,5]\n",
    "Output: 4\n",
    "Explanation: there are four ways to make up the amount:\n",
    "5=5\n",
    "5=2+2+1\n",
    "5=2+1+1+1\n",
    "5=1+1+1+1+1\n",
    "                                                                                                    \n",
    "Example 2:\n",
    "Input: amount = 3, coins = [2]\n",
    "Output: 0\n",
    "Explanation: the amount of 3 cannot be made up just with coins of 2.\n",
    "\n",
    "Constraints:\n",
    "1 <= coins.length <= 300\n",
    "1 <= coins[i] <= 5000\n",
    "All the values of coins are unique.\n",
    "0 <= amount <= 5000\n",
    "```"
   ]
  },
  {
   "cell_type": "markdown",
   "metadata": {},
   "source": [
    "## Approach 1\n",
    "- Tabulation method\n",
    "- Unbounded Knapsack type problem\n",
    " \n",
    "**T(n)=O(m*n)**\n",
    "\n",
    "**S(n)=O(m*n)**"
   ]
  },
  {
   "cell_type": "code",
   "execution_count": 1,
   "metadata": {},
   "outputs": [],
   "source": [
    "def coinChange(coins, amount):\n",
    "    S=amount\n",
    "    N=len(coins)\n",
    "    table=[[0 for i in range(S+1)] for i in range(N+1)]\n",
    "    for n in range(N+1):\n",
    "        for s in range(S+1):\n",
    "            if n==0:\n",
    "                table[n][s]=0\n",
    "            elif s==0:\n",
    "                table[n][s]=1                 \n",
    "            elif s < coins[n-1]:\n",
    "                table[n][s]=table[n-1][s]\n",
    "            else:\n",
    "                table[n][s]=table[n][s-coins[n-1]]+table[n-1][s]\n",
    "\n",
    "    if table[n][s]==0:\n",
    "        return 0\n",
    "    else:\n",
    "        return table[n][s]"
   ]
  },
  {
   "cell_type": "code",
   "execution_count": 2,
   "metadata": {},
   "outputs": [
    {
     "data": {
      "text/plain": [
       "4"
      ]
     },
     "execution_count": 2,
     "metadata": {},
     "output_type": "execute_result"
    }
   ],
   "source": [
    "coins = [1,2,5]\n",
    "amount = 5\n",
    "coinChange(coins, amount)"
   ]
  }
 ],
 "metadata": {
  "kernelspec": {
   "display_name": "Python 3",
   "language": "python",
   "name": "python3"
  },
  "language_info": {
   "codemirror_mode": {
    "name": "ipython",
    "version": 3
   },
   "file_extension": ".py",
   "mimetype": "text/x-python",
   "name": "python",
   "nbconvert_exporter": "python",
   "pygments_lexer": "ipython3",
   "version": "3.8.5"
  }
 },
 "nbformat": 4,
 "nbformat_minor": 4
}
