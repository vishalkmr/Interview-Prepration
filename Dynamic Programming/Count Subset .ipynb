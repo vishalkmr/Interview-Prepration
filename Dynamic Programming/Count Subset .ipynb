{
 "cells": [
  {
   "cell_type": "markdown",
   "metadata": {},
   "source": [
    "## Count Subset"
   ]
  },
  {
   "cell_type": "markdown",
   "metadata": {},
   "source": [
    "## Approach 1\n",
    "- Recursive solution using memoization\n",
    " \n",
    "**T(n)=O(n*n)**\n",
    "\n",
    "**S(n)=O(n*n)**"
   ]
  },
  {
   "cell_type": "code",
   "execution_count": 1,
   "metadata": {},
   "outputs": [],
   "source": [
    "def count_subset(values,s,n):\n",
    "    #already solved subproblem\n",
    "    if memo[n][s]:\n",
    "        return memo[n][s]\n",
    "    \n",
    "    #base case\n",
    "    if s==0:\n",
    "        return 1\n",
    "    elif n==0:\n",
    "        return 0\n",
    "\n",
    "    #when value of nth item is more than sum constraint => simply skip that element \n",
    "    elif s < values[n-1]:\n",
    "        memo[n][s]=count_subset(values,s,n-1)\n",
    "\n",
    "    #when value of nth item is less or equal to the sum constraint\n",
    "    #then consider all possiblities(either take the nth item or skip the nth item)\n",
    "    #add the count of both subproblem\n",
    "    else:\n",
    "         memo[n][s]=count_subset(values,s-values[n-1],n-1) + count_subset(values,s,n-1)\n",
    "    \n",
    "    return memo[n][s]"
   ]
  },
  {
   "cell_type": "code",
   "execution_count": 2,
   "metadata": {},
   "outputs": [
    {
     "data": {
      "text/plain": [
       "3"
      ]
     },
     "execution_count": 2,
     "metadata": {},
     "output_type": "execute_result"
    }
   ],
   "source": [
    "S=7 # max sum\n",
    "values=[1, 2, 3, 4, 5]\n",
    "N=len(values)\n",
    "\n",
    "memo=[[None for i in range(S+1)] for j in range(N+1)]\n",
    "\n",
    "count_subset(values,S,N)"
   ]
  },
  {
   "cell_type": "markdown",
   "metadata": {},
   "source": [
    "## Approach 2\n",
    "- Tabulation method\n",
    " \n",
    "**T(n)=O(w*n)**\n",
    "\n",
    "**S(n)=O(w*n)**"
   ]
  },
  {
   "cell_type": "code",
   "execution_count": 3,
   "metadata": {},
   "outputs": [],
   "source": [
    "def count_subset(values,S,N):  \n",
    "    table=[[None for i in range(S+1)] for j in range(N+1)]\n",
    "\n",
    "    for n in range(N+1):\n",
    "        for s in range(S+1):\n",
    "            #base case\n",
    "            if s==0:\n",
    "                table[n][s]=1\n",
    "            elif n==0:\n",
    "                table[n][s]=0\n",
    "        \n",
    "            #when value of nth item is more than sum constraint => simply skip that element \n",
    "            elif s < values[n-1]:\n",
    "                table[n][s]=table[n-1][s]\n",
    "\n",
    "            #when weight of nth item is less or equal to the weight constraint\n",
    "            #then consider all possiblities(either take the nth item or skip the nth item)\n",
    "            #return value which maximize profit\n",
    "            else:\n",
    "                 table[n][s]=table[n-1][s-values[n-1]] + table[n-1][s]\n",
    "    return table[n][s]"
   ]
  },
  {
   "cell_type": "code",
   "execution_count": 4,
   "metadata": {},
   "outputs": [
    {
     "data": {
      "text/plain": [
       "2"
      ]
     },
     "execution_count": 4,
     "metadata": {},
     "output_type": "execute_result"
    }
   ],
   "source": [
    "S=10 # max sum\n",
    "values=[3, 4, 7, 6]\n",
    "N=len(values)\n",
    "count_subset(values,S,N)"
   ]
  }
 ],
 "metadata": {
  "kernelspec": {
   "display_name": "Python 3",
   "language": "python",
   "name": "python3"
  },
  "language_info": {
   "codemirror_mode": {
    "name": "ipython",
    "version": 3
   },
   "file_extension": ".py",
   "mimetype": "text/x-python",
   "name": "python",
   "nbconvert_exporter": "python",
   "pygments_lexer": "ipython3",
   "version": "3.8.5"
  }
 },
 "nbformat": 4,
 "nbformat_minor": 4
}
