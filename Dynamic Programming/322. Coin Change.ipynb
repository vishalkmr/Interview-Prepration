{
 "cells": [
  {
   "cell_type": "markdown",
   "metadata": {},
   "source": [
    "<h1>\n",
    "<a href=\"https://leetcode.com/problems/coin-change/\" style=\"color:orange;text-decoration: none\";>322. Coin Change\n",
    "</a> \n",
    "</h1> \n",
    "\n",
    "```\n",
    "You are given an integer array coins representing coins of different denominations and an integer amount representing a total amount of money.\n",
    "\n",
    "Return the fewest number of coins that you need to make up that amount. If that amount of money cannot be made up by any combination of the coins, return -1.\n",
    "\n",
    "You may assume that you have an infinite number of each kind of coin.\n",
    "\n",
    "Example 1:\n",
    "Input: coins = [1,2,5], amount = 11\n",
    "Output: 3\n",
    "Explanation: 11 = 5 + 5 + 1\n",
    "\n",
    "                                                                                                    \n",
    "Example 2:\n",
    "Input: coins = [2], amount = 3\n",
    "Output: -1\n",
    "\n",
    "Constraints:\n",
    "1 <= coins.length <= 12\n",
    "1 <= coins[i] <= 231 - 1\n",
    "0 <= amount <= 104\n",
    "```"
   ]
  },
  {
   "cell_type": "markdown",
   "metadata": {},
   "source": [
    "## Approach 1\n",
    "- Tabulation method\n",
    "- Unbounded Knapsack type problem\n",
    " \n",
    "**T(n)=O(m*n)**\n",
    "\n",
    "**S(n)=O(m*n)**"
   ]
  },
  {
   "cell_type": "code",
   "execution_count": 1,
   "metadata": {},
   "outputs": [],
   "source": [
    "def coinChange(coins, amount):\n",
    "    S=amount\n",
    "    N=len(coins)\n",
    "    table=[[0 for i in range(S+1)] for i in range(N+1)]\n",
    "    max_num=99999\n",
    "    for n in range(N+1):\n",
    "        for s in range(S+1):\n",
    "            if n==0:\n",
    "                table[n][s]=max_num\n",
    "            elif s==0:\n",
    "                table[n][s]=0                 \n",
    "            elif s < coins[n-1]:\n",
    "                table[n][s]=table[n-1][s]\n",
    "            else:\n",
    "                table[n][s]=min(table[n][s-coins[n-1]]+1,table[n-1][s])\n",
    "\n",
    "    if table[n][s]==max_num:\n",
    "        return -1\n",
    "    else:\n",
    "        return table[n][s]"
   ]
  },
  {
   "cell_type": "code",
   "execution_count": 2,
   "metadata": {},
   "outputs": [
    {
     "data": {
      "text/plain": [
       "3"
      ]
     },
     "execution_count": 2,
     "metadata": {},
     "output_type": "execute_result"
    }
   ],
   "source": [
    "coins = [1,2,5]\n",
    "amount = 11\n",
    "coinChange(coins, amount)"
   ]
  }
 ],
 "metadata": {
  "kernelspec": {
   "display_name": "Python 3",
   "language": "python",
   "name": "python3"
  },
  "language_info": {
   "codemirror_mode": {
    "name": "ipython",
    "version": 3
   },
   "file_extension": ".py",
   "mimetype": "text/x-python",
   "name": "python",
   "nbconvert_exporter": "python",
   "pygments_lexer": "ipython3",
   "version": "3.8.5"
  }
 },
 "nbformat": 4,
 "nbformat_minor": 4
}
