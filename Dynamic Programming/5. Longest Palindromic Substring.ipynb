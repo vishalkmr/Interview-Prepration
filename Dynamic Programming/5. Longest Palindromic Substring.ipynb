{
 "cells": [
  {
   "cell_type": "markdown",
   "metadata": {},
   "source": [
    "<h1>\n",
    "<a href=\"https://leetcode.com/problems/longest-palindromic-substring/\" style=\"color:orange;text-decoration: none\";>5. Longest Palindromic Substring\n",
    "</a> \n",
    "</h1> \n",
    "\n",
    "```\n",
    "Given a string s, return the longest palindromic substring in s.\n",
    "\n",
    "Example 1:\n",
    "Input: s = \"babad\"\n",
    "Output: \"bab\"\n",
    "Explanation: \"aba\" is also a valid answer.\n",
    "                                                                                                    \n",
    "Example 2:\n",
    "Input: s = \"cbbd\"\n",
    "Output: \"bb\"\n",
    " \n",
    "Constraints:\n",
    "1 <= s.length <= 1000\n",
    "s consist of only digits and English letters.\n",
    "```"
   ]
  },
  {
   "cell_type": "markdown",
   "metadata": {},
   "source": [
    "## Approach 1\n",
    "- Treat each element as center of the palidrome and expands both side\n",
    " \n",
    "**T(n)=O(n*n)**\n",
    "\n",
    "**S(n)=O(n*n)**"
   ]
  },
  {
   "cell_type": "code",
   "execution_count": 1,
   "metadata": {},
   "outputs": [],
   "source": [
    "def longestPalindrome(s):\n",
    "    length=0\n",
    "    string=\"\"\n",
    "    N=len(s)\n",
    "    for i in range(N+1):\n",
    "        #odd length palindrome\n",
    "        l=i\n",
    "        r=i\n",
    "        while l >=0 and r < N and s[l]==s[r]:\n",
    "            #largest palindrome seen so far\n",
    "            if r-l+1 > length:\n",
    "                length=r-l+1\n",
    "                string=s[l:r+1]\n",
    "            l-=1\n",
    "            r+=1\n",
    "\n",
    "        #even length palindrome\n",
    "        l=i\n",
    "        r=i+1\n",
    "        while l >=0 and r < N and s[l]==s[r]:\n",
    "            #largest palindrome seen so far\n",
    "            if r-l+1 > length:\n",
    "                length=r-l+1\n",
    "                string=s[l:r+1]\n",
    "            l-=1\n",
    "            r+=1\n",
    "\n",
    "    return string"
   ]
  },
  {
   "cell_type": "code",
   "execution_count": 2,
   "metadata": {},
   "outputs": [
    {
     "data": {
      "text/plain": [
       "'bab'"
      ]
     },
     "execution_count": 2,
     "metadata": {},
     "output_type": "execute_result"
    }
   ],
   "source": [
    "s = \"babad\"\n",
    "longestPalindrome(s)"
   ]
  }
 ],
 "metadata": {
  "kernelspec": {
   "display_name": "Python 3",
   "language": "python",
   "name": "python3"
  },
  "language_info": {
   "codemirror_mode": {
    "name": "ipython",
    "version": 3
   },
   "file_extension": ".py",
   "mimetype": "text/x-python",
   "name": "python",
   "nbconvert_exporter": "python",
   "pygments_lexer": "ipython3",
   "version": "3.8.5"
  }
 },
 "nbformat": 4,
 "nbformat_minor": 4
}
