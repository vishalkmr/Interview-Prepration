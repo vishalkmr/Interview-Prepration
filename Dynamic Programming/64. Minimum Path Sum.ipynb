{
 "cells": [
  {
   "cell_type": "markdown",
   "metadata": {},
   "source": [
    "<h1>\n",
    "<a href=\"https://leetcode.com/problems/minimum-path-sum/\" style=\"color:orange;text-decoration: none\";>64. Minimum Path Sum\n",
    "</a> \n",
    "</h1> \n",
    "\n",
    "```\n",
    "Given a m x n grid filled with non-negative numbers, find a path from top left to bottom right, which minimizes the sum of all numbers along its path.\n",
    "\n",
    "Note: You can only move either down or right at any point in time.\n",
    "\n",
    "Example 1:\n",
    "Input: grid = [[1,3,1],[1,5,1],[4,2,1]]\n",
    "Output: 7\n",
    "Explanation: Because the path 1 → 3 → 1 → 1 → 1 minimizes the sum.\n",
    "\n",
    "Example 2:\n",
    "Input: grid = [[1,2,3],[4,5,6]]\n",
    "Output: 12\n",
    "\n",
    "Constraints:\n",
    "m == grid.length\n",
    "n == grid[i].length\n",
    "1 <= m, n <= 200\n",
    "0 <= grid[i][j] <= 100\n",
    "```"
   ]
  },
  {
   "cell_type": "markdown",
   "metadata": {},
   "source": [
    "## Approach 1\n",
    "- Tabulation method\n",
    " \n",
    "**T(n)=O(m*n)**\n",
    "\n",
    "**S(n)=O(m*n)**"
   ]
  },
  {
   "cell_type": "code",
   "execution_count": 1,
   "metadata": {},
   "outputs": [],
   "source": [
    "def minPathSum(grid):\n",
    "    m=len(grid)\n",
    "    n=len(grid[0])\n",
    "    table=[[None for i in range(n)] for j in range(m)]\n",
    "    #table[i][j] represents min val required to reach pos(i,j)\n",
    "\n",
    "    for i in range(m):\n",
    "        for j in range(n):\n",
    "            if i==0 and j==0:\n",
    "                table[i][j]=grid[i][j]\n",
    "            elif i==0:\n",
    "                table[i][j]=table[i][j-1]+grid[i][j]\n",
    "            elif j==0:\n",
    "                table[i][j]=table[i-1][j]+grid[i][j]\n",
    "            else:\n",
    "                table[i][j]=min(table[i-1][j],table[i][j-1])+grid[i][j]\n",
    "    print(table)\n",
    "    return table[m-1][n-1]"
   ]
  },
  {
   "cell_type": "code",
   "execution_count": 2,
   "metadata": {},
   "outputs": [
    {
     "name": "stdout",
     "output_type": "stream",
     "text": [
      "[[1, 4, 5], [2, 7, 6], [6, 8, 7]]\n"
     ]
    },
    {
     "data": {
      "text/plain": [
       "7"
      ]
     },
     "execution_count": 2,
     "metadata": {},
     "output_type": "execute_result"
    }
   ],
   "source": [
    "grid = [[1,3,1],[1,5,1],[4,2,1]]\n",
    "minPathSum(grid)"
   ]
  }
 ],
 "metadata": {
  "kernelspec": {
   "display_name": "Python 3",
   "language": "python",
   "name": "python3"
  },
  "language_info": {
   "codemirror_mode": {
    "name": "ipython",
    "version": 3
   },
   "file_extension": ".py",
   "mimetype": "text/x-python",
   "name": "python",
   "nbconvert_exporter": "python",
   "pygments_lexer": "ipython3",
   "version": "3.8.5"
  }
 },
 "nbformat": 4,
 "nbformat_minor": 4
}
