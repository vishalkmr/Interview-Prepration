{
 "cells": [
  {
   "cell_type": "markdown",
   "metadata": {},
   "source": [
    "<h1>\n",
    "<a href=\"https://leetcode.com/problems/target-sum/\" style=\"color:orange;text-decoration: none\";>494. Target Sum\n",
    "</a> \n",
    "</h1> \n",
    "\n",
    "```\n",
    "You are given an integer array nums and an integer target.\n",
    "\n",
    "You want to build an expression out of nums by adding one of the symbols '+' and '-' before each integer in nums and then concatenate all the integers.\n",
    "\n",
    "For example, if nums = [2, 1], you can add a '+' before 2 and a '-' before 1 and concatenate them to build the expression \"+2-1\".\n",
    "Return the number of different expressions that you can build, which evaluates to target.\n",
    "\n",
    "Example 1:\n",
    "Input: nums = [1,1,1,1,1], target = 3\n",
    "Output: 5\n",
    "Explanation: There are 5 ways to assign symbols to make the sum of nums be target 3.\n",
    "-1 + 1 + 1 + 1 + 1 = 3\n",
    "+1 - 1 + 1 + 1 + 1 = 3\n",
    "+1 + 1 - 1 + 1 + 1 = 3\n",
    "+1 + 1 + 1 - 1 + 1 = 3\n",
    "+1 + 1 + 1 + 1 - 1 = 3\n",
    "                                                                                                    \n",
    "Example 2:\n",
    "Input: nums = [1], target = 1\n",
    "Output: 1\n",
    " \n",
    "Constraints:\n",
    "1 <= nums.length <= 20\n",
    "0 <= nums[i] <= 1000\n",
    "0 <= sum(nums[i]) <= 1000\n",
    "-1000 <= target <= 1000\n",
    "```"
   ]
  },
  {
   "cell_type": "markdown",
   "metadata": {},
   "source": [
    "## Approach 1\n",
    "- Recursive solution using memoization\n",
    " \n",
    "**T(n)=O(n*s)**\n",
    "\n",
    "**S(n)=O(n*s)**"
   ]
  },
  {
   "cell_type": "code",
   "execution_count": 1,
   "metadata": {},
   "outputs": [],
   "source": [
    "def findTargetSumWays(nums, target):\n",
    "    dp = {} # (index, total) -> # of ways\n",
    "\n",
    "    def backtrack(i, total):\n",
    "        if i == len(nums):\n",
    "            if total == target:\n",
    "                return 1  \n",
    "            else:\n",
    "                return 0\n",
    "        if (i, total) in dp:\n",
    "            return dp[(i, total)]\n",
    " \n",
    "        dp[(i, total)] = (backtrack(i + 1, total + nums[i]) + backtrack(i + 1, total - nums[i]))   \n",
    "        return dp[(i, total)]\n",
    "    return backtrack(0, 0)"
   ]
  },
  {
   "cell_type": "code",
   "execution_count": 2,
   "metadata": {},
   "outputs": [
    {
     "data": {
      "text/plain": [
       "5"
      ]
     },
     "execution_count": 2,
     "metadata": {},
     "output_type": "execute_result"
    }
   ],
   "source": [
    "nums = [1,1,1,1,1]\n",
    "target = 3\n",
    "findTargetSumWays(nums, target)"
   ]
  },
  {
   "cell_type": "markdown",
   "metadata": {},
   "source": [
    "## Approach 2\n",
    "- Tabulation method using sum of subset problem\n",
    " \n",
    "**T(n)=O(n*s)**\n",
    "\n",
    "**S(n)=O(n*s)**"
   ]
  },
  {
   "cell_type": "code",
   "execution_count": 3,
   "metadata": {},
   "outputs": [],
   "source": [
    "def findTargetSumWays(nums, target):\n",
    "    if (sum(nums)+target)%2==1 or abs(sum(nums)) < abs(target):\n",
    "        return 0\n",
    "    sum_of_positive_subset_elements=(sum(nums)+target)//2\n",
    "    S=sum_of_positive_subset_elements\n",
    "    N=len(nums)\n",
    "    table=[[None for i in range(S+1)] for j in range(N+1)]\n",
    "\n",
    "    for n in range(N+1):\n",
    "        for s in range(S+1):\n",
    "            if s==0:\n",
    "                table[n][s]=1\n",
    "            elif n==0:\n",
    "                table[n][s]=0\n",
    "\n",
    "    for n in range(1,N+1):\n",
    "        for s in range(S+1):\n",
    "            if s < nums[n-1] :\n",
    "                table[n][s]=table[n-1][s]\n",
    "            else:\n",
    "                table[n][s]=table[n-1][s-nums[n-1]]+table[n-1][s]\n",
    "    return table[n][s]"
   ]
  },
  {
   "cell_type": "code",
   "execution_count": 4,
   "metadata": {},
   "outputs": [
    {
     "data": {
      "text/plain": [
       "5"
      ]
     },
     "execution_count": 4,
     "metadata": {},
     "output_type": "execute_result"
    }
   ],
   "source": [
    "nums = [1,1,1,1,1]\n",
    "target = 3\n",
    "findTargetSumWays(nums, target)"
   ]
  }
 ],
 "metadata": {
  "kernelspec": {
   "display_name": "Python 3",
   "language": "python",
   "name": "python3"
  },
  "language_info": {
   "codemirror_mode": {
    "name": "ipython",
    "version": 3
   },
   "file_extension": ".py",
   "mimetype": "text/x-python",
   "name": "python",
   "nbconvert_exporter": "python",
   "pygments_lexer": "ipython3",
   "version": "3.8.5"
  }
 },
 "nbformat": 4,
 "nbformat_minor": 4
}
