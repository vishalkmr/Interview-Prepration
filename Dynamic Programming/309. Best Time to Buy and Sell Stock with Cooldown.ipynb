{
 "cells": [
  {
   "cell_type": "markdown",
   "metadata": {},
   "source": [
    "<h1>\n",
    "<a href=\"https://leetcode.com/problems/best-time-to-buy-and-sell-stock-with-cooldown/\" style=\"color:orange;text-decoration: none\";>309. Best Time to Buy and Sell Stock with Cooldown\n",
    "</a> \n",
    "</h1> \n",
    "\n",
    "```\n",
    "You are given an array prices where prices[i] is the price of a given stock on the ith day.\n",
    "\n",
    "Find the maximum profit you can achieve. You may complete as many transactions as you like (i.e., buy one and sell one share of the stock multiple times) with the following restrictions:\n",
    "\n",
    "After you sell your stock, you cannot buy stock on the next day (i.e., cooldown one day).\n",
    "Note: You may not engage in multiple transactions simultaneously (i.e., you must sell the stock before you buy again).\n",
    "\n",
    "Example 1:\n",
    "Input: prices = [1,2,3,0,2]\n",
    "Output: 3\n",
    "Explanation: transactions = [buy, sell, cooldown, buy, sell]\n",
    "\n",
    "                                                                                                    \n",
    "Example 2:\n",
    "Input: prices = [1]\n",
    "Output: 0\n",
    "\n",
    "Constraints:\n",
    "1 <= prices.length <= 5000\n",
    "0 <= prices[i] <= 1000\n",
    "```"
   ]
  },
  {
   "cell_type": "markdown",
   "metadata": {},
   "source": [
    "## Approach 1\n",
    "- Tabulation method\n",
    "- Unbounded Knapsack type problem\n",
    " \n",
    "**T(n)=O(m*n)**\n",
    "\n",
    "**S(n)=O(m*n)**"
   ]
  },
  {
   "cell_type": "code",
   "execution_count": 1,
   "metadata": {},
   "outputs": [],
   "source": [
    "def maxProfit(prices):\n",
    "    N=len(prices)\n",
    "    dp={}  #key (index,operation)\n",
    "\n",
    "    def dfs(n,buying):\n",
    "        if n>=N:\n",
    "            return 0\n",
    "        if (n,buying) in dp:\n",
    "            return dp[(n,buying)]\n",
    "        #if state is buying then either we can buy or stay idle\n",
    "        elif buying:\n",
    "            buy=dfs(n+1,not buying)-prices[n]\n",
    "            cooldown=dfs(n+1,buying)\n",
    "            dp[(n,buying)]=max(buy,cooldown)\n",
    "        #when state is not buying then either we can sell or stay idle\n",
    "        else:\n",
    "            #skiiping next item due to cooldown restriction\n",
    "            sell=dfs(n+2,not buying)+prices[n] \n",
    "            cooldown=dfs(n+1,buying)\n",
    "            dp[(n,buying)]=max(sell,cooldown)\n",
    "        return dp[(n,buying)]\n",
    "    return dfs(0,True)"
   ]
  },
  {
   "cell_type": "code",
   "execution_count": 2,
   "metadata": {},
   "outputs": [
    {
     "data": {
      "text/plain": [
       "3"
      ]
     },
     "execution_count": 2,
     "metadata": {},
     "output_type": "execute_result"
    }
   ],
   "source": [
    "prices = [1,2,3,0,2]\n",
    "maxProfit(prices)"
   ]
  }
 ],
 "metadata": {
  "kernelspec": {
   "display_name": "Python 3",
   "language": "python",
   "name": "python3"
  },
  "language_info": {
   "codemirror_mode": {
    "name": "ipython",
    "version": 3
   },
   "file_extension": ".py",
   "mimetype": "text/x-python",
   "name": "python",
   "nbconvert_exporter": "python",
   "pygments_lexer": "ipython3",
   "version": "3.8.5"
  }
 },
 "nbformat": 4,
 "nbformat_minor": 4
}
