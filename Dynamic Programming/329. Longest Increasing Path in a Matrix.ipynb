{
 "cells": [
  {
   "cell_type": "markdown",
   "metadata": {},
   "source": [
    "<h1>\n",
    "<a href=\"https://leetcode.com/problems/longest-increasing-path-in-a-matrix/\" style=\"color:orange;text-decoration: none\";>329. Longest Increasing Path in a Matrix\n",
    "</a> \n",
    "</h1> \n",
    "\n",
    "```\n",
    "Given an m x n integers matrix, return the length of the longest increasing path in matrix.\n",
    "\n",
    "From each cell, you can either move in four directions: left, right, up, or down. You may not move diagonally or move outside the boundary (i.e., wrap-around is not allowed).\n",
    "\n",
    "Example 1:\n",
    "Input: matrix = [[9,9,4],[6,6,8],[2,1,1]]\n",
    "Output: 4\n",
    "Explanation: The longest increasing path is [1, 2, 6, 9].\n",
    "                                                                                                    \n",
    "Example 2:\n",
    "Input: matrix = [[3,4,5],[3,2,6],[2,2,1]]\n",
    "Output: 4\n",
    "Explanation: The longest increasing path is [3, 4, 5, 6]. Moving diagonally is not allowed.\n",
    " \n",
    "Constraints:\n",
    "m == matrix.length\n",
    "n == matrix[i].length\n",
    "1 <= m, n <= 200\n",
    "0 <= matrix[i][j] <= 231 - 1\n",
    "```"
   ]
  },
  {
   "cell_type": "markdown",
   "metadata": {},
   "source": [
    "## Approach 1\n",
    "- Recursion + Memoization\n",
    " \n",
    "**T(n)=O(m*n)**\n",
    "\n",
    "**S(n)=O(m*n)**"
   ]
  },
  {
   "cell_type": "code",
   "execution_count": 1,
   "metadata": {},
   "outputs": [],
   "source": [
    "def longestIncreasingPath(matrix):\n",
    "    M=len(matrix)\n",
    "    N=len(matrix[0])\n",
    "    dp=[[0 for i in range(N)] for j in range(M)]\n",
    "\n",
    "\n",
    "    def dfs(i,j):\n",
    "        if i >=M or j >= N:\n",
    "            return 0\n",
    "        elif dp[i][j]!=0:\n",
    "            return dp[i][j]\n",
    "        else:\n",
    "            res=0\n",
    "            #valid left exists\n",
    "            if 0 <= j-1 and matrix[i][j] < matrix[i][j-1]:\n",
    "                dp[i][j-1]=dfs(i,j-1)\n",
    "                res=max(res,dp[i][j-1])\n",
    "\n",
    "            #valid right exists\n",
    "            if j+1 < N and matrix[i][j] < matrix[i][j+1]:\n",
    "                dp[i][j+1]=dfs(i,j+1)     \n",
    "                res=max(res,dp[i][j+1])\n",
    "\n",
    "            #valid up exists\n",
    "            if 0 <= i-1 and matrix[i][j] < matrix[i-1][j]:\n",
    "                dp[i-1][j]=dfs(i-1,j)     \n",
    "                res=max(res,dp[i-1][j])\n",
    "\n",
    "\n",
    "            #valid down exists\n",
    "            if i+1 < M and matrix[i][j] < matrix[i+1][j]:\n",
    "                dp[i+1][j]=dfs(i+1,j)     \n",
    "                res=max(res,dp[i+1][j])\n",
    "\n",
    "            dp[i][j]=res+1\n",
    "            return dp[i][j]\n",
    "    res=0\n",
    "    for i in range(M):\n",
    "        for j in range(N):\n",
    "            res=max(dfs(i,j),res)\n",
    "\n",
    "    print(dp)\n",
    "    return res"
   ]
  },
  {
   "cell_type": "code",
   "execution_count": 2,
   "metadata": {},
   "outputs": [
    {
     "name": "stdout",
     "output_type": "stream",
     "text": [
      "[[1, 1, 2], [2, 2, 1], [3, 4, 2]]\n"
     ]
    },
    {
     "data": {
      "text/plain": [
       "4"
      ]
     },
     "execution_count": 2,
     "metadata": {},
     "output_type": "execute_result"
    }
   ],
   "source": [
    "matrix = [[9,9,4],[6,6,8],[2,1,1]]\n",
    "longestIncreasingPath(matrix)"
   ]
  }
 ],
 "metadata": {
  "kernelspec": {
   "display_name": "Python 3",
   "language": "python",
   "name": "python3"
  },
  "language_info": {
   "codemirror_mode": {
    "name": "ipython",
    "version": 3
   },
   "file_extension": ".py",
   "mimetype": "text/x-python",
   "name": "python",
   "nbconvert_exporter": "python",
   "pygments_lexer": "ipython3",
   "version": "3.8.5"
  }
 },
 "nbformat": 4,
 "nbformat_minor": 4
}
