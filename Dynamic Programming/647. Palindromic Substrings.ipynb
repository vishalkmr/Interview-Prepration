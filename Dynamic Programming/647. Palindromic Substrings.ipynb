{
 "cells": [
  {
   "cell_type": "markdown",
   "metadata": {},
   "source": [
    "<h1>\n",
    "<a href=\"https://leetcode.com/problems/palindromic-substrings/\" style=\"color:orange;text-decoration: none\";>647. Palindromic Substrings\n",
    "</a> \n",
    "</h1> \n",
    "\n",
    "```\n",
    "Given a string s, return the number of palindromic substrings in it.\n",
    "\n",
    "A string is a palindrome when it reads the same backward as forward.\n",
    "\n",
    "A substring is a contiguous sequence of characters within the string.\n",
    "\n",
    "Example 1:\n",
    "Input: s = \"abc\"\n",
    "Output: 3\n",
    "Explanation: Three palindromic strings: \"a\", \"b\", \"c\".\n",
    "                                                                                                    \n",
    "Example 2:\n",
    "Input: s = \"aaa\"\n",
    "Output: 6\n",
    "Explanation: Six palindromic strings: \"a\", \"a\", \"a\", \"aa\", \"aa\", \"aaa\".\n",
    " \n",
    "Constraints:\n",
    "1 <= s.length <= 1000\n",
    "s consists of lowercase English letters.\n",
    "```"
   ]
  },
  {
   "cell_type": "markdown",
   "metadata": {},
   "source": [
    "## Approach 1\n",
    "- Treat each element as center of the palidrome and expands both side\n",
    " \n",
    "**T(n)=O(n*n)**\n",
    "\n",
    "**S(n)=O(n*n)**"
   ]
  },
  {
   "cell_type": "code",
   "execution_count": 1,
   "metadata": {},
   "outputs": [],
   "source": [
    "def countSubstrings(s):\n",
    "    ways=0\n",
    "    N=len(s)\n",
    "\n",
    "    for i in range(N+1):\n",
    "        #odd length palindrom \n",
    "        l=i\n",
    "        r=i\n",
    "        while l >=0 and r < N and s[l]==s[r]:\n",
    "            ways+=1\n",
    "            l-=1\n",
    "            r+=1\n",
    "        #even length palindrom \n",
    "        l=i\n",
    "        r=i+1\n",
    "        while l >=0 and r < N and s[l]==s[r]:\n",
    "            ways+=1\n",
    "            l-=1\n",
    "            r+=1\n",
    "\n",
    "    return ways"
   ]
  },
  {
   "cell_type": "code",
   "execution_count": 2,
   "metadata": {},
   "outputs": [
    {
     "data": {
      "text/plain": [
       "6"
      ]
     },
     "execution_count": 2,
     "metadata": {},
     "output_type": "execute_result"
    }
   ],
   "source": [
    "s = \"aaa\"\n",
    "countSubstrings(s)"
   ]
  }
 ],
 "metadata": {
  "kernelspec": {
   "display_name": "Python 3",
   "language": "python",
   "name": "python3"
  },
  "language_info": {
   "codemirror_mode": {
    "name": "ipython",
    "version": 3
   },
   "file_extension": ".py",
   "mimetype": "text/x-python",
   "name": "python",
   "nbconvert_exporter": "python",
   "pygments_lexer": "ipython3",
   "version": "3.8.5"
  }
 },
 "nbformat": 4,
 "nbformat_minor": 4
}
