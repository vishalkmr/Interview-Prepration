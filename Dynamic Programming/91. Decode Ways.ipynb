{
 "cells": [
  {
   "cell_type": "markdown",
   "metadata": {},
   "source": [
    "<h1>\n",
    "<a href=\"https://leetcode.com/problems/interleaving-string/\" style=\"color:orange;text-decoration: none\";>91. Decode Ways\n",
    "</a> \n",
    "</h1> \n",
    "\n",
    "```\n",
    "A message containing letters from A-Z can be encoded into numbers using the following mapping:\n",
    "\n",
    "'A' -> \"1\"\n",
    "'B' -> \"2\"\n",
    "...\n",
    "'Z' -> \"26\"\n",
    "To decode an encoded message, all the digits must be grouped then mapped back into letters using the reverse of the mapping above (there may be multiple ways). For example, \"11106\" can be mapped into:\n",
    "\n",
    "\"AAJF\" with the grouping (1 1 10 6)\n",
    "\"KJF\" with the grouping (11 10 6)\n",
    "Note that the grouping (1 11 06) is invalid because \"06\" cannot be mapped into 'F' since \"6\" is different from \"06\".\n",
    "\n",
    "Given a string s containing only digits, return the number of ways to decode it.\n",
    "\n",
    "The test cases are generated so that the answer fits in a 32-bit integer.\n",
    "\n",
    "Example 1:\n",
    "Input: s = \"12\"\n",
    "Output: 2\n",
    "Explanation: \"12\" could be decoded as \"AB\" (1 2) or \"L\" (12).\n",
    "                                                                                                    \n",
    "Example 2:\n",
    "Input: s = \"226\"\n",
    "Output: 3\n",
    "Explanation: \"226\" could be decoded as \"BZ\" (2 26), \"VF\" (22 6), or \"BBF\" (2 2 6).\n",
    " \n",
    "Constraints:\n",
    "1 <= s.length <= 100\n",
    "s contains only digits and may contain leading zero(s).\n",
    "```"
   ]
  },
  {
   "cell_type": "markdown",
   "metadata": {},
   "source": [
    "## Approach 1\n",
    "- Recursion + Memoization\n",
    " \n",
    "**T(n)=O(n)**\n",
    "\n",
    "**S(n)=O(n)**"
   ]
  },
  {
   "cell_type": "code",
   "execution_count": 1,
   "metadata": {},
   "outputs": [],
   "source": [
    "def numDecodings(s):\n",
    "    N=len(s)\n",
    "    dp=[None for i in range(N+1)]\n",
    "    def dfs(i):\n",
    "        if i == N:\n",
    "            return 1\n",
    "        elif s[i]=='0':\n",
    "            return 0\n",
    "        elif dp[i]:\n",
    "            return dp[i]\n",
    "        else:\n",
    "            single_digit_ways=dfs(i+1)\n",
    "            double_digit_ways=0\n",
    "            if i+1 < N and (s[i]=='1' or (s[i]=='2' and s[i+1] in\"0123456\")):\n",
    "                double_digit_ways=dfs(i+2)\n",
    "            dp[i]=single_digit_ways+double_digit_ways\n",
    "            return dp[i]\n",
    "\n",
    "    return dfs(0)"
   ]
  },
  {
   "cell_type": "code",
   "execution_count": 2,
   "metadata": {},
   "outputs": [
    {
     "data": {
      "text/plain": [
       "3"
      ]
     },
     "execution_count": 2,
     "metadata": {},
     "output_type": "execute_result"
    }
   ],
   "source": [
    "s = \"226\"\n",
    "numDecodings(s)"
   ]
  }
 ],
 "metadata": {
  "kernelspec": {
   "display_name": "Python 3",
   "language": "python",
   "name": "python3"
  },
  "language_info": {
   "codemirror_mode": {
    "name": "ipython",
    "version": 3
   },
   "file_extension": ".py",
   "mimetype": "text/x-python",
   "name": "python",
   "nbconvert_exporter": "python",
   "pygments_lexer": "ipython3",
   "version": "3.8.5"
  }
 },
 "nbformat": 4,
 "nbformat_minor": 4
}
