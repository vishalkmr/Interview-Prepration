{
 "cells": [
  {
   "cell_type": "markdown",
   "metadata": {},
   "source": [
    "<h1>\n",
    "<a href=\"https://leetcode.com/problems/min-cost-climbing-stairs/\" style=\"color:green;text-decoration: none\";>746. Min Cost Climbing Stairs\n",
    "</a> \n",
    "</h1> \n",
    "\n",
    "```\n",
    "You are given an integer array cost where cost[i] is the cost of ith step on a staircase. Once you pay the cost, you can either climb one or two steps.\n",
    "\n",
    "You can either start from the step with index 0, or the step with index 1.\n",
    "\n",
    "Return the minimum cost to reach the top of the floor.\n",
    "\n",
    "Example 1:\n",
    "Input: cost = [10,15,20]\n",
    "Output: 15\n",
    "Explanation: You will start at index 1.\n",
    "- Pay 15 and climb two steps to reach the top.\n",
    "The total cost is 15.\n",
    "                                                                                                    \n",
    "Example 2:\n",
    "Input: cost = [1,100,1,1,1,100,1,1,100,1]\n",
    "Output: 6\n",
    "Explanation: You will start at index 0.\n",
    "- Pay 1 and climb two steps to reach index 2.\n",
    "- Pay 1 and climb two steps to reach index 4.\n",
    "- Pay 1 and climb two steps to reach index 6.\n",
    "- Pay 1 and climb one step to reach index 7.\n",
    "- Pay 1 and climb two steps to reach index 9.\n",
    "- Pay 1 and climb one step to reach the top.\n",
    "The total cost is 6.\n",
    " \n",
    "Constraints:\n",
    "2 <= cost.length <= 1000\n",
    "0 <= cost[i] <= 999\n",
    "```"
   ]
  },
  {
   "cell_type": "markdown",
   "metadata": {},
   "source": [
    "## Approach 1\n",
    "- Recursive solution using memoization\n",
    " \n",
    "**T(n)=O(n)**\n",
    "\n",
    "**S(n)=O(n)**"
   ]
  },
  {
   "cell_type": "code",
   "execution_count": 35,
   "metadata": {},
   "outputs": [],
   "source": [
    "def minCostClimbingStairs(cost):\n",
    "    n=len(cost)-1\n",
    "    memo=[None]*(n+1)\n",
    "    def recursion(n):\n",
    "        if memo[n]:\n",
    "            return memo[n]\n",
    "\n",
    "        if n <= 1:\n",
    "            return cost[n]\n",
    "\n",
    "        memo[n]=min(recursion(n-1),recursion(n-2))+cost[n]\n",
    "        print(n,memo[n])\n",
    "        return memo[n]\n",
    "\n",
    "    return min(recursion(n),recursion(n-1))"
   ]
  },
  {
   "cell_type": "code",
   "execution_count": 36,
   "metadata": {},
   "outputs": [
    {
     "name": "stdout",
     "output_type": "stream",
     "text": [
      "2 2\n",
      "3 3\n",
      "4 3\n",
      "5 103\n",
      "6 4\n",
      "7 5\n",
      "8 104\n",
      "9 6\n"
     ]
    },
    {
     "data": {
      "text/plain": [
       "6"
      ]
     },
     "execution_count": 36,
     "metadata": {},
     "output_type": "execute_result"
    }
   ],
   "source": [
    "cost =  [1,100,1,1,1,100,1,1,100,1]\n",
    "minCostClimbingStairs(cost)"
   ]
  },
  {
   "cell_type": "markdown",
   "metadata": {},
   "source": [
    "## Approach 2\n",
    "- Simple method like fibonacci\n",
    " \n",
    "**T(n)=O(n)**\n",
    "\n",
    "**S(n)=O(1)**"
   ]
  },
  {
   "cell_type": "code",
   "execution_count": 3,
   "metadata": {},
   "outputs": [],
   "source": [
    "def minCostClimbingStairs(cost):    \n",
    "    n=len(cost)-1\n",
    "    a=cost[n-1]\n",
    "    b=cost[n]\n",
    "\n",
    "    for i in range(n-2,-1,-1):\n",
    "        print(a,b)\n",
    "        a,b=min(a,b)+cost[i],a\n",
    "\n",
    "\n",
    "    return min(a,b)"
   ]
  },
  {
   "cell_type": "code",
   "execution_count": 4,
   "metadata": {},
   "outputs": [
    {
     "name": "stdout",
     "output_type": "stream",
     "text": [
      "100 1\n",
      "2 100\n",
      "3 2\n",
      "102 3\n",
      "4 102\n",
      "5 4\n",
      "5 5\n",
      "105 5\n"
     ]
    },
    {
     "data": {
      "text/plain": [
       "6"
      ]
     },
     "execution_count": 4,
     "metadata": {},
     "output_type": "execute_result"
    }
   ],
   "source": [
    "cost = [1,100,1,1,1,100,1,1,100,1]\n",
    "minCostClimbingStairs(cost)"
   ]
  }
 ],
 "metadata": {
  "kernelspec": {
   "display_name": "Python 3",
   "language": "python",
   "name": "python3"
  },
  "language_info": {
   "codemirror_mode": {
    "name": "ipython",
    "version": 3
   },
   "file_extension": ".py",
   "mimetype": "text/x-python",
   "name": "python",
   "nbconvert_exporter": "python",
   "pygments_lexer": "ipython3",
   "version": "3.8.5"
  }
 },
 "nbformat": 4,
 "nbformat_minor": 4
}
