{
 "cells": [
  {
   "cell_type": "markdown",
   "metadata": {},
   "source": [
    "<h1>\n",
    "<a href=\"https://leetcode.com/problems/partition-equal-subset-sum/\" style=\"color:orange;text-decoration: none\";>70. Climbing Stair416. Partition Equal Subset Sum\n",
    "</a> \n",
    "</h1> \n",
    "\n",
    "```\n",
    "Given a non-empty array nums containing only positive integers, find if the array can be partitioned into two subsets such that the sum of elements in both subsets is equal.\n",
    "\n",
    "Example 1:\n",
    "Input: nums = [1,5,11,5]\n",
    "Output: true\n",
    "Explanation: The array can be partitioned as [1, 5, 5] and [11].\n",
    "                                                                                                    \n",
    "Example 2:\n",
    "Input: nums = [1,2,3,5]\n",
    "Output: false\n",
    "Explanation: The array cannot be partitioned into equal sum subsets.\n",
    " \n",
    "Constraints:\n",
    "1 <= nums.length <= 200\n",
    "1 <= nums[i] <= 100\n",
    "```"
   ]
  },
  {
   "cell_type": "markdown",
   "metadata": {},
   "source": [
    "## Approach 1\n",
    "- Tabulation method\n",
    "- Extension of subset sum preblem where the required sum is the half of the sum of the given array\n",
    " \n",
    "**T(n)=O(s*n)**\n",
    "\n",
    "**S(n)=O(s*n)**"
   ]
  },
  {
   "cell_type": "code",
   "execution_count": 5,
   "metadata": {},
   "outputs": [],
   "source": [
    "def canPartition(nums):\n",
    "    S=sum(nums)\n",
    "    #if sum is odd no chance of equal sum subset\n",
    "    if S%2 != 0:\n",
    "        return False\n",
    "    #now make half of sum as required sum to be checked in the nums\n",
    "    R=S//2\n",
    "    N=len(nums)\n",
    "    table=[[None for i in range(R+1)] for j in range(N+1)]\n",
    "\n",
    "    #simmilar logic as that of subset sum to check that there exists a subset whose sum is equal to the requried sum\n",
    "    #remaining subset bydefault half the value to the required sum\n",
    "    for n in range(N+1):\n",
    "        for s in range(R+1):\n",
    "            if s==0:\n",
    "                table[n][s]=True\n",
    "            elif n==0:\n",
    "                table[n][s]=False \n",
    "            elif s < nums[n-1]:\n",
    "                table[n][s]=table[n-1][s]\n",
    "            else:\n",
    "                table[n][s]=table[n-1][s-nums[n-1]] or table[n-1][s]\n",
    "\n",
    "    return table[n][s]"
   ]
  },
  {
   "cell_type": "code",
   "execution_count": 8,
   "metadata": {},
   "outputs": [
    {
     "data": {
      "text/plain": [
       "True"
      ]
     },
     "execution_count": 8,
     "metadata": {},
     "output_type": "execute_result"
    }
   ],
   "source": [
    "nums=[2,5,3]\n",
    "canPartition(nums)"
   ]
  }
 ],
 "metadata": {
  "kernelspec": {
   "display_name": "Python 3",
   "language": "python",
   "name": "python3"
  },
  "language_info": {
   "codemirror_mode": {
    "name": "ipython",
    "version": 3
   },
   "file_extension": ".py",
   "mimetype": "text/x-python",
   "name": "python",
   "nbconvert_exporter": "python",
   "pygments_lexer": "ipython3",
   "version": "3.8.5"
  }
 },
 "nbformat": 4,
 "nbformat_minor": 4
}
