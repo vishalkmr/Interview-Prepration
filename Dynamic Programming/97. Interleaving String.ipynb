{
 "cells": [
  {
   "cell_type": "markdown",
   "metadata": {},
   "source": [
    "<h1>\n",
    "<a href=\"https://leetcode.com/problems/interleaving-string/\" style=\"color:orange;text-decoration: none\";>97. Interleaving String\n",
    "</a> \n",
    "</h1> \n",
    "\n",
    "```\n",
    "Given strings s1, s2, and s3, find whether s3 is formed by an interleaving of s1 and s2.\n",
    "\n",
    "An interleaving of two strings s and t is a configuration where they are divided into non-empty substrings such that:\n",
    "\n",
    "s = s1 + s2 + ... + sn\n",
    "t = t1 + t2 + ... + tm\n",
    "|n - m| <= 1\n",
    "The interleaving is s1 + t1 + s2 + t2 + s3 + t3 + ... or t1 + s1 + t2 + s2 + t3 + s3 + ...\n",
    "Note: a + b is the concatenation of strings a and b.\n",
    "\n",
    "Example 1:\n",
    "Input: s1 = \"aabcc\", s2 = \"dbbca\", s3 = \"aadbbcbcac\"\n",
    "Output: true\n",
    "                                                                                                    \n",
    "Example 2:\n",
    "Input: s1 = \"aabcc\", s2 = \"dbbca\", s3 = \"aadbbbaccc\"\n",
    "Output: false\n",
    "\n",
    "Constraints:\n",
    "0 <= s1.length, s2.length <= 100\n",
    "0 <= s3.length <= 200\n",
    "s1, s2, and s3 consist of lowercase English letters.\n",
    "```"
   ]
  },
  {
   "cell_type": "markdown",
   "metadata": {},
   "source": [
    "## Approach 1\n",
    "- Recursion + Memoization\n",
    " \n",
    "**T(n)=O(n*n)**\n",
    "\n",
    "**S(n)=O(n*n)**"
   ]
  },
  {
   "cell_type": "code",
   "execution_count": 1,
   "metadata": {},
   "outputs": [],
   "source": [
    "def isInterleave(s1,s2,s3):\n",
    "    n1=len(s1)\n",
    "    n2=len(s2)\n",
    "    n3=len(s3)\n",
    "    if n1+n2 != n3:\n",
    "        return False\n",
    "\n",
    "    dp = [[False for i in range(n2+1)] for j in range(n1+1)]\n",
    "    def dfs(i,j):\n",
    "        #base case\n",
    "        if i==n1 and j==n2 and i+j==n3:\n",
    "            return True            \n",
    "        \n",
    "        elif dp[i][j]:\n",
    "            return dp[i][j]\n",
    "        \n",
    "        #when both strings matched with s3\n",
    "        elif i < n1 and j <n2 and s1[i] == s3[i + j] and s2[j] == s3[i + j]:\n",
    "            dp[i+1][j]=dfs(i+1,j)\n",
    "            dp[i][j+1]=dfs(i,j+1)\n",
    "            dp[i][j]=dp[i+1][j] or dp[i][j+1] \n",
    "        \n",
    "        #when s1 is matched with s3\n",
    "        elif i < n1 and s1[i] == s3[i + j]:                \n",
    "            dp[i][j]=dfs(i+1,j)\n",
    "        \n",
    "        #when s2 is matched with s3\n",
    "        elif j < n2 and s2[j] == s3[i + j]:                \n",
    "            dp[i][j]=dfs(i,j+1)\n",
    "        \n",
    "        else:\n",
    "            dp[i][j]=False\n",
    "        return dp[i][j]\n",
    "    return dfs(0,0)"
   ]
  },
  {
   "cell_type": "code",
   "execution_count": 2,
   "metadata": {},
   "outputs": [
    {
     "data": {
      "text/plain": [
       "False"
      ]
     },
     "execution_count": 2,
     "metadata": {},
     "output_type": "execute_result"
    }
   ],
   "source": [
    "s1 = \"aabcc\"\n",
    "s2 = \"dbbca\"\n",
    "s3 = \"aadbbbaccc\"\n",
    "isInterleave(s1, s2, s3)"
   ]
  },
  {
   "cell_type": "markdown",
   "metadata": {},
   "source": [
    "## Approach 2\n",
    "- Tabulation\n",
    " \n",
    "**T(n)=O(n*n)**\n",
    "\n",
    "**S(n)=O(n*n)**"
   ]
  },
  {
   "cell_type": "code",
   "execution_count": 3,
   "metadata": {},
   "outputs": [],
   "source": [
    "def isInterleave(s1,s2,s3):\n",
    "    dp = [ [False] * (len(s2) + 1) for i in range(len(s1) + 1)]\n",
    "    dp[len(s1)][len(s2)] = True\n",
    "\n",
    "    for i in range(len(s1), -1, -1):\n",
    "        for j in range(len(s2), -1, -1):\n",
    "            #s1 charachter is matched with s3\n",
    "            if i < len(s1) and s1[i] == s3[i + j] and dp[i + 1][j]:\n",
    "                dp[i][j] = True\n",
    "            #s2 charachter is matched with s3\n",
    "            if j < len(s2) and s2[j] == s3[i + j] and dp[i][j + 1]:\n",
    "                dp[i][j] = True\n",
    "    return dp[0][0]"
   ]
  },
  {
   "cell_type": "code",
   "execution_count": 4,
   "metadata": {},
   "outputs": [
    {
     "data": {
      "text/plain": [
       "True"
      ]
     },
     "execution_count": 4,
     "metadata": {},
     "output_type": "execute_result"
    }
   ],
   "source": [
    "s1 = \"aabcc\"\n",
    "s2 = \"dbbca\"\n",
    "s3 = \"aadbbcbcac\"\n",
    "isInterleave(s1,s2,s3)"
   ]
  }
 ],
 "metadata": {
  "kernelspec": {
   "display_name": "Python 3",
   "language": "python",
   "name": "python3"
  },
  "language_info": {
   "codemirror_mode": {
    "name": "ipython",
    "version": 3
   },
   "file_extension": ".py",
   "mimetype": "text/x-python",
   "name": "python",
   "nbconvert_exporter": "python",
   "pygments_lexer": "ipython3",
   "version": "3.8.5"
  }
 },
 "nbformat": 4,
 "nbformat_minor": 4
}
