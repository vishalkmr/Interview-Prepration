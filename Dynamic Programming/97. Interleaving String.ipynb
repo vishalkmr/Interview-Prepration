{
 "cells": [
  {
   "cell_type": "markdown",
   "metadata": {},
   "source": [
    "<h1>\n",
    "<a href=\"https://leetcode.com/problems/interleaving-string/\" style=\"color:orange;text-decoration: none\";>97. Interleaving String\n",
    "</a> \n",
    "</h1> \n",
    "\n",
    "```\n",
    "Given strings s1, s2, and s3, find whether s3 is formed by an interleaving of s1 and s2.\n",
    "\n",
    "An interleaving of two strings s and t is a configuration where they are divided into non-empty substrings such that:\n",
    "\n",
    "s = s1 + s2 + ... + sn\n",
    "t = t1 + t2 + ... + tm\n",
    "|n - m| <= 1\n",
    "The interleaving is s1 + t1 + s2 + t2 + s3 + t3 + ... or t1 + s1 + t2 + s2 + t3 + s3 + ...\n",
    "Note: a + b is the concatenation of strings a and b.\n",
    "\n",
    "Example 1:\n",
    "Input: s1 = \"aabcc\", s2 = \"dbbca\", s3 = \"aadbbcbcac\"\n",
    "Output: true\n",
    "                                                                                                    \n",
    "Example 2:\n",
    "Input: s1 = \"aabcc\", s2 = \"dbbca\", s3 = \"aadbbbaccc\"\n",
    "Output: false\n",
    "\n",
    "Constraints:\n",
    "0 <= s1.length, s2.length <= 100\n",
    "0 <= s3.length <= 200\n",
    "s1, s2, and s3 consist of lowercase English letters.\n",
    "```"
   ]
  },
  {
   "cell_type": "markdown",
   "metadata": {},
   "source": [
    "## Approach 1\n",
    "- \n",
    " \n",
    "**T(n)=O(n*m)**\n",
    "\n",
    "**S(n)=O(n*m)**"
   ]
  },
  {
   "cell_type": "code",
   "execution_count": 12,
   "metadata": {},
   "outputs": [],
   "source": [
    "def isInterleave(s1, s2, s3):\n",
    "    #edge case\n",
    "    if len(s1) + len(s2) != len(s3):\n",
    "        return False\n",
    "\n",
    "    dp = [ [False] * (len(s2) + 1) for i in range(len(s1) + 1)]\n",
    "    dp[len(s1)][len(s2)] = True\n",
    "\n",
    "    for i in range(len(s1), -1, -1):\n",
    "        for j in range(len(s2), -1, -1):\n",
    "            #s1 charachter is matched with s3\n",
    "            if i < len(s1) and s1[i] == s3[i + j] and dp[i + 1][j]:\n",
    "                dp[i][j] = True\n",
    "            #s2 charachter is matched with s3\n",
    "            if j < len(s2) and s2[j] == s3[i + j] and dp[i][j + 1]:\n",
    "                dp[i][j] = True\n",
    "    print(dp)\n",
    "    return dp[0][0]"
   ]
  },
  {
   "cell_type": "code",
   "execution_count": 13,
   "metadata": {},
   "outputs": [
    {
     "name": "stdout",
     "output_type": "stream",
     "text": [
      "[[False, False, False, False, False, False], [False, False, False, False, False, False], [False, False, False, False, False, False], [False, False, False, False, False, True], [False, False, False, False, False, True], [False, False, False, False, False, True]]\n"
     ]
    },
    {
     "data": {
      "text/plain": [
       "False"
      ]
     },
     "execution_count": 13,
     "metadata": {},
     "output_type": "execute_result"
    }
   ],
   "source": [
    "s1 = \"aabcc\"\n",
    "s2 = \"dbbca\"\n",
    "s3 = \"aadbbbaccc\"\n",
    "isInterleave(s1, s2, s3)"
   ]
  }
 ],
 "metadata": {
  "kernelspec": {
   "display_name": "Python 3",
   "language": "python",
   "name": "python3"
  },
  "language_info": {
   "codemirror_mode": {
    "name": "ipython",
    "version": 3
   },
   "file_extension": ".py",
   "mimetype": "text/x-python",
   "name": "python",
   "nbconvert_exporter": "python",
   "pygments_lexer": "ipython3",
   "version": "3.8.5"
  }
 },
 "nbformat": 4,
 "nbformat_minor": 4
}
