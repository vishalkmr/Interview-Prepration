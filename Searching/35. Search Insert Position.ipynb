{
 "cells": [
  {
   "cell_type": "markdown",
   "metadata": {},
   "source": [
    "<h1>\n",
    "<a href=\"https://leetcode.com/problems/search-insert-position/\" style=\"color:green;text-decoration: none\";> 35. Search Insert Position </a> \n",
    "</h1> \n",
    "\n",
    "```\n",
    "Given a sorted array of distinct integers and a target value, return   the index if the target is found. If not, return the index where it would be if it were inserted in order.\n",
    "\n",
    "You must write an algorithm with O(log n) runtime complexity.\n",
    "\n",
    "Example 1:\n",
    "Input: nums = [1,3,5,6], target = 5\n",
    "Output: 2\n",
    "\n",
    "Example 2:\n",
    "Input: nums = [1,3,5,6], target = 2\n",
    "Output: 1\n",
    "\n",
    "Example 3:\n",
    "Input: nums = [1,3,5,6], target = 7\n",
    "Output: 4\n",
    " \n",
    "Constraints:\n",
    "1 <= nums.length <= 104\n",
    "-104 <= nums[i] <= 104\n",
    "nums contains distinct values sorted in ascending order.\n",
    "-104 <= target <= 104\n",
    "```"
   ]
  },
  {
   "cell_type": "markdown",
   "metadata": {},
   "source": [
    "## Approach\n",
    "Using modified binary search to find the element is present in list or not.\n",
    "\n",
    "T(n)=O(logn)"
   ]
  },
  {
   "cell_type": "code",
   "execution_count": 1,
   "metadata": {},
   "outputs": [],
   "source": [
    "def searchInsert(nums, target):\n",
    "    beg=0\n",
    "    end=len(nums)-1\n",
    "\n",
    "    #when target is smaller than all the element in the list\n",
    "    if target < nums[0]:\n",
    "        return 0\n",
    "\n",
    "    #when target is larger than all the element in the list\n",
    "    if target > nums[-1]:\n",
    "        return len(nums)\n",
    "\n",
    "    #binary search the target \n",
    "    while beg<=end:\n",
    "        mid=(beg+end)//2\n",
    "\n",
    "        if(nums[mid]==target):\n",
    "            return mid\n",
    "\n",
    "        elif(nums[mid]<target):\n",
    "            beg=mid+1\n",
    "\n",
    "        elif(nums[mid]>target):\n",
    "            end=mid-1\n",
    "\n",
    "    return beg"
   ]
  }
 ],
 "metadata": {
  "kernelspec": {
   "display_name": "Python 3",
   "language": "python",
   "name": "python3"
  },
  "language_info": {
   "codemirror_mode": {
    "name": "ipython",
    "version": 3
   },
   "file_extension": ".py",
   "mimetype": "text/x-python",
   "name": "python",
   "nbconvert_exporter": "python",
   "pygments_lexer": "ipython3",
   "version": "3.8.5"
  }
 },
 "nbformat": 4,
 "nbformat_minor": 4
}
