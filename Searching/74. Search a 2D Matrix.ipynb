{
 "cells": [
  {
   "cell_type": "markdown",
   "metadata": {},
   "source": [
    "<h1>\n",
    "<a href=\"https://leetcode.com/problems/search-a-2d-matrix/\" style=\"color:orange;text-decoration: none\";>74. Search a 2D Matrix</a> \n",
    "</h1> \n",
    "\n",
    "```\n",
    "Write an efficient algorithm that searches for a value target in an m x n integer matrix matrix. This matrix has the following properties:\n",
    "- Integers in each row are sorted from left to right.\n",
    "- The first integer of each row is greater than the last integer of the previous row.\n",
    "\n",
    "Example 1:\n",
    "Input: matrix = [[1,3,5,7],[10,11,16,20],[23,30,34,60]], target = 3\n",
    "Output: true\n",
    "\n",
    "Example 2:\n",
    "Input: matrix = [[1,3,5,7],[10,11,16,20],[23,30,34,60]], target = 13\n",
    "Output: false\n",
    " \n",
    "Constraints:\n",
    "m == matrix.length\n",
    "n == matrix[i].length\n",
    "1 <= m, n <= 100\n",
    "-104 <= matrix[i][j], target <= 104\n",
    "```"
   ]
  },
  {
   "cell_type": "markdown",
   "metadata": {},
   "source": [
    "## Approach 1\n",
    "- apply the binary serach on row \n",
    "- for each row apply binary search to find the target \n",
    "- the direction of search for row is determind by comparing the row elements with target\n",
    "\n",
    "**T(n)=O(logm*logn)**"
   ]
  },
  {
   "cell_type": "code",
   "execution_count": 1,
   "metadata": {},
   "outputs": [],
   "source": [
    "def row_binary_search(nums,target,beg,end):\n",
    "    if beg <= end:\n",
    "        middle=(beg+end)//2\n",
    "        \n",
    "        #if target is mathched with middle element \n",
    "        if nums[middle] == target:\n",
    "            return \"found\"\n",
    "\n",
    "        #if target is less the middle element  \n",
    "        elif nums[middle] > target:\n",
    "            #element is present in left subarray\n",
    "            if nums[beg] <= target:\n",
    "                return row_binary_search(nums,target,beg,middle-1)\n",
    "            else:\n",
    "                return \"left\"\n",
    "        #if target is greater the middle element\n",
    "        else:\n",
    "            #element is present in right subarray\n",
    "            if target <= nums[end]: \n",
    "                return row_binary_search(nums,target,middle+1,end)\n",
    "            else:\n",
    "                return \"right\"\n",
    "    else:\n",
    "        return False"
   ]
  },
  {
   "cell_type": "code",
   "execution_count": 2,
   "metadata": {},
   "outputs": [],
   "source": [
    "def searchMatrix(matrix, target):\n",
    "    beg=0\n",
    "    end=len(matrix)-1\n",
    "    while beg<=end:\n",
    "        middle=(beg+end)//2\n",
    "        status=row_binary_search(matrix[middle],target,0,len(matrix[middle])-1)\n",
    "        if status == 'found':\n",
    "            return True\n",
    "        elif status == 'left':\n",
    "            end=middle-1\n",
    "        elif status == 'right':\n",
    "            beg=middle+1  \n",
    "        else:\n",
    "            return False\n",
    "    return False"
   ]
  },
  {
   "cell_type": "code",
   "execution_count": 3,
   "metadata": {},
   "outputs": [
    {
     "data": {
      "text/plain": [
       "True"
      ]
     },
     "execution_count": 3,
     "metadata": {},
     "output_type": "execute_result"
    }
   ],
   "source": [
    "matrix = [[1,3,5,7],[10,11,16,20],[23,30,34,60]]\n",
    "searchMatrix(matrix,3)"
   ]
  },
  {
   "cell_type": "markdown",
   "metadata": {},
   "source": [
    "## Approach 2\n",
    "- apply the binary serach on row to find the row where target might present\n",
    "- for that row apply binary search to find the target \n",
    "\n",
    "**T(n)=O(logm+logn)**"
   ]
  },
  {
   "cell_type": "code",
   "execution_count": 4,
   "metadata": {},
   "outputs": [],
   "source": [
    "def searchMatrix(matrix, target):\n",
    "    #binary search on rows of the matirx\n",
    "    beg_row=0\n",
    "    end_row=len(matrix)-1\n",
    "    while beg_row <= end_row:\n",
    "        middle_row=(beg_row+end_row)//2\n",
    "        \n",
    "        #if target is greater than all the elements in the row\n",
    "        if matrix[middle_row][-1] < target:\n",
    "            beg_row=middle_row+1\n",
    "        \n",
    "        #if target is lesser than all the elements in the row\n",
    "        elif target < matrix[middle_row][0] :\n",
    "            end_row=middle_row-1\n",
    "        \n",
    "        #the target lie in the current row\n",
    "        else:\n",
    "            break\n",
    "\n",
    "    #binary search on the selected row of the matirx where there is a chance of target being present\n",
    "    row=middle_row       \n",
    "    beg=0\n",
    "    end=len(matrix[row])-1\n",
    "    while beg <= end:\n",
    "        middle=(beg+end)//2      \n",
    "        #if target is mathched with middle element of the row\n",
    "        if matrix[row][middle] == target:\n",
    "            return True\n",
    "        \n",
    "        #if target is less than the middle element of the row than consider only right portion of array\n",
    "        if target < matrix[row][middle]:\n",
    "            end=middle-1\n",
    "            \n",
    "        #if target is greater than the middle element o the row than consider only left portion of array\n",
    "        if matrix[row][middle] < target:\n",
    "            beg=middle+1\n",
    "        \n",
    "    else:\n",
    "        return False      "
   ]
  },
  {
   "cell_type": "code",
   "execution_count": 5,
   "metadata": {},
   "outputs": [
    {
     "data": {
      "text/plain": [
       "False"
      ]
     },
     "execution_count": 5,
     "metadata": {},
     "output_type": "execute_result"
    }
   ],
   "source": [
    "matrix = [[1,3,5,7],[10,11,16,20],[23,30,34,60]]\n",
    "searchMatrix(matrix,2)"
   ]
  },
  {
   "cell_type": "markdown",
   "metadata": {},
   "source": [
    "## Approach 3\n",
    "- Use the row major element storage technique to map  2D matrix into one sorted array\n",
    "- Then apply the binary search on 1D array\n",
    "\n",
    "**T(n)=O(log(mn))**\n",
    "\n",
    "<img src=\"74.png\"  style=\"float: left;\" />\n"
   ]
  },
  {
   "cell_type": "code",
   "execution_count": 59,
   "metadata": {},
   "outputs": [],
   "source": [
    "def searchMatrix(matrix, target):\n",
    "    rows=len(matrix)\n",
    "    cols=len(matrix[0])\n",
    "    total_length=rows*cols\n",
    "    beg=0\n",
    "    end=total_length-1\n",
    "    while beg <= end:\n",
    "        middle=(beg+end)//2   \n",
    "        \n",
    "        #mapping the middle element of single dimension array to matrix row and col\n",
    "        row=middle//cols\n",
    "        col=middle%cols\n",
    "        \n",
    "        #if target is mathched with middle element of the row\n",
    "        if matrix[row][col] == target:\n",
    "            return True\n",
    "        \n",
    "        #if target is less than the middle element of the row than consider only right portion of array\n",
    "        if target < matrix[row][col]:\n",
    "            end=middle-1\n",
    "            \n",
    "        #if target is greater than the middle element o the row than consider only left portion of array\n",
    "        if matrix[row][col] < target:\n",
    "            beg=middle+1    \n",
    "    else:\n",
    "        return False\n",
    "    "
   ]
  },
  {
   "cell_type": "code",
   "execution_count": 61,
   "metadata": {},
   "outputs": [
    {
     "name": "stdout",
     "output_type": "stream",
     "text": [
      "0 5 11 1 1\n",
      "0 2 4 0 2\n",
      "0 0 1 0 0\n",
      "1 1 1 0 1\n"
     ]
    },
    {
     "data": {
      "text/plain": [
       "True"
      ]
     },
     "execution_count": 61,
     "metadata": {},
     "output_type": "execute_result"
    }
   ],
   "source": [
    "matrix = [[1,3,5,7],[10,11,16,20],[23,30,34,60]]\n",
    "searchMatrix(matrix,3)"
   ]
  }
 ],
 "metadata": {
  "kernelspec": {
   "display_name": "Python 3",
   "language": "python",
   "name": "python3"
  },
  "language_info": {
   "codemirror_mode": {
    "name": "ipython",
    "version": 3
   },
   "file_extension": ".py",
   "mimetype": "text/x-python",
   "name": "python",
   "nbconvert_exporter": "python",
   "pygments_lexer": "ipython3",
   "version": "3.8.5"
  }
 },
 "nbformat": 4,
 "nbformat_minor": 4
}
