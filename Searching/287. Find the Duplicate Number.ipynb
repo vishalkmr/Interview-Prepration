{
 "cells": [
  {
   "cell_type": "markdown",
   "metadata": {},
   "source": [
    "<h1>\n",
    "<a href=\"https://leetcode.com/problems/find-the-duplicate-number/\" style=\"color:orange;text-decoration: none\";>287. Find the Duplicate Number</a> \n",
    "</h1> \n",
    "\n",
    "```\n",
    "Given an array of integers nums containing n + 1 integers where each integer is in the range [1, n] inclusive.\n",
    "There is only one repeated number in nums, return this repeated number.\n",
    "You must solve the problem without modifying the array nums and uses only constant extra space.\n",
    "\n",
    "Example 1:\n",
    "Input: nums = [1,3,4,2,2]\n",
    "Output: 2\n",
    "\n",
    "Example 2:\n",
    "Input: nums = [3,1,3,4,2]\n",
    "Output: 3\n",
    " \n",
    "Constraints:\n",
    "1 <= n <= 105\n",
    "nums.length == n + 1\n",
    "1 <= nums[i] <= n\n",
    "All the integers in nums appear only once except for precisely one integer which appears two or more times.\n",
    "```"
   ]
  },
  {
   "cell_type": "markdown",
   "metadata": {},
   "source": [
    "## Approach 1\n",
    "- apply the binary serach on row \n",
    "- for each row apply binary search to find the target \n",
    "- the direction of search for row is determind by comparing the row elements with target\n",
    "\n",
    "**T(n)=O(logm*logn)**"
   ]
  },
  {
   "cell_type": "code",
   "execution_count": 12,
   "metadata": {},
   "outputs": [],
   "source": [
    "def findDuplicate(nums):\n",
    "    n=len(nums)-1\n",
    "    expected_sum=(n*(n+1))//2\n",
    "    actual_sum=sum(nums)\n",
    "    return actual_sum-expected_sum"
   ]
  },
  {
   "cell_type": "code",
   "execution_count": 13,
   "metadata": {},
   "outputs": [
    {
     "data": {
      "text/plain": [
       "2"
      ]
     },
     "execution_count": 13,
     "metadata": {},
     "output_type": "execute_result"
    }
   ],
   "source": [
    "nums = [1,3,4,2,2]\n",
    "findDuplicate(nums)"
   ]
  },
  {
   "cell_type": "markdown",
   "metadata": {},
   "source": [
    "## Approach 2\n",
    "- apply the binary serach on row to find the row where target might present\n",
    "- for that row apply binary search to find the target \n",
    "\n",
    "**T(n)=O(logm+logn)**"
   ]
  },
  {
   "cell_type": "code",
   "execution_count": 4,
   "metadata": {},
   "outputs": [],
   "source": [
    "def searchMatrix(matrix, target):\n",
    "    #binary search on rows of the matirx\n",
    "    beg_row=0\n",
    "    end_row=len(matrix)-1\n",
    "    while beg_row <= end_row:\n",
    "        middle_row=(beg_row+end_row)//2\n",
    "        \n",
    "        #if target is greater than all the elements in the row\n",
    "        if matrix[middle_row][-1] < target:\n",
    "            beg_row=middle_row+1\n",
    "        \n",
    "        #if target is lesser than all the elements in the row\n",
    "        elif target < matrix[middle_row][0] :\n",
    "            end_row=middle_row-1\n",
    "        \n",
    "        #the target lie in the current row\n",
    "        else:\n",
    "            break\n",
    "\n",
    "    #binary search on the selected row of the matirx where there is a chance of target being present\n",
    "    row=middle_row       \n",
    "    beg=0\n",
    "    end=len(matrix[row])-1\n",
    "    while beg <= end:\n",
    "        middle=(beg+end)//2      \n",
    "        #if target is mathched with middle element of the row\n",
    "        if matrix[row][middle] == target:\n",
    "            return True\n",
    "        \n",
    "        #if target is less than the middle element of the row than consider only right portion of array\n",
    "        if target < matrix[row][middle]:\n",
    "            end=middle-1\n",
    "            \n",
    "        #if target is greater than the middle element o the row than consider only left portion of array\n",
    "        if matrix[row][middle] < target:\n",
    "            beg=middle+1\n",
    "        \n",
    "    else:\n",
    "        return False      "
   ]
  },
  {
   "cell_type": "code",
   "execution_count": 5,
   "metadata": {},
   "outputs": [
    {
     "data": {
      "text/plain": [
       "False"
      ]
     },
     "execution_count": 5,
     "metadata": {},
     "output_type": "execute_result"
    }
   ],
   "source": [
    "matrix = [[1,3,5,7],[10,11,16,20],[23,30,34,60]]\n",
    "searchMatrix(matrix,2)"
   ]
  },
  {
   "cell_type": "markdown",
   "metadata": {},
   "source": [
    "## Approach 3\n",
    "- Use the row major element storage technique to map  2D matrix into one sorted array\n",
    "- Then apply the binary search on 1D array\n",
    "\n",
    "**T(n)=O(log(mn))**\n",
    "\n",
    "<img src=\"74.png\" width=900 height=500 style=\"float: left;\" />\n"
   ]
  },
  {
   "cell_type": "code",
   "execution_count": 6,
   "metadata": {},
   "outputs": [],
   "source": [
    "def searchMatrix(matrix, target):\n",
    "    rows=len(matrix)\n",
    "    cols=len(matrix[0])\n",
    "    total_length=rows*cols\n",
    "    beg=0\n",
    "    end=total_length-1\n",
    "    while beg <= end:\n",
    "        middle=(beg+end)//2   \n",
    "        \n",
    "        #mapping the middle element of single dimension array to matrix row and col\n",
    "        row=middle//cols\n",
    "        col=middle%cols\n",
    "        \n",
    "        #if target is mathched with middle element of the row\n",
    "        if matrix[row][col] == target:\n",
    "            return True\n",
    "        \n",
    "        #if target is less than the middle element of the row than consider only right portion of array\n",
    "        if target < matrix[row][col]:\n",
    "            end=middle-1\n",
    "            \n",
    "        #if target is greater than the middle element o the row than consider only left portion of array\n",
    "        if matrix[row][col] < target:\n",
    "            beg=middle+1    \n",
    "    else:\n",
    "        return False\n",
    "    "
   ]
  },
  {
   "cell_type": "code",
   "execution_count": 7,
   "metadata": {},
   "outputs": [
    {
     "data": {
      "text/plain": [
       "True"
      ]
     },
     "execution_count": 7,
     "metadata": {},
     "output_type": "execute_result"
    }
   ],
   "source": [
    "matrix = [[1,3,5,7],[10,11,16,20],[23,30,34,60]]\n",
    "searchMatrix(matrix,3)"
   ]
  }
 ],
 "metadata": {
  "kernelspec": {
   "display_name": "Python 3",
   "language": "python",
   "name": "python3"
  },
  "language_info": {
   "codemirror_mode": {
    "name": "ipython",
    "version": 3
   },
   "file_extension": ".py",
   "mimetype": "text/x-python",
   "name": "python",
   "nbconvert_exporter": "python",
   "pygments_lexer": "ipython3",
   "version": "3.8.5"
  }
 },
 "nbformat": 4,
 "nbformat_minor": 4
}
