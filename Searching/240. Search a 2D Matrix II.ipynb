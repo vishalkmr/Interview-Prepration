{
 "cells": [
  {
   "cell_type": "markdown",
   "metadata": {},
   "source": [
    "<h1>\n",
    "<a href=\"https://leetcode.com/problems/search-a-2d-matrix-ii/\" style=\"color:orange;text-decoration: none\";>240. Search a 2D Matrix II</a> \n",
    "</h1> \n",
    "\n",
    "```\n",
    "Write an efficient algorithm that searches for a value target in an m x n integer matrix matrix. This matrix has the following properties:\n",
    "Integers in each row are sorted in ascending from left to right.\n",
    "Integers in each column are sorted in ascending from top to bottom.\n",
    "\n",
    "Example 1:\n",
    "Input: matrix = [[1,4,7,11,15],[2,5,8,12,19],[3,6,9,16,22],[10,13,14,17,24],[18,21,23,26,30]], target = 5\n",
    "Output: true\n",
    "\n",
    "Example 2:\n",
    "Input: matrix = [[1,4,7,11,15],[2,5,8,12,19],[3,6,9,16,22],[10,13,14,17,24],[18,21,23,26,30]], target = 20\n",
    "Output: false\n",
    " \n",
    "Constraints:\n",
    "m == matrix.length\n",
    "n == matrix[i].length\n",
    "1 <= n, m <= 300\n",
    "-109 <= matrix[i][j] <= 109\n",
    "All the integers in each row are sorted in ascending order.\n",
    "All the integers in each column are sorted in ascending order.\n",
    "-109 <= target <= 109\n",
    "```"
   ]
  },
  {
   "cell_type": "markdown",
   "metadata": {},
   "source": [
    "## Approach 1\n",
    "- start from left bottom corner \n",
    "- if target is smaller than the selected element means we have to search is prevoius row usin \\g row--, since all the element in that current row aare bigger than the selceted element\n",
    "- if target is larger than the selected element means the target is in the current row so we move forward in that row using col++\n",
    "\n",
    "**T(n)=O(m+n)**\n",
    "\n",
    "<img src=\"240.png\" width=900 height=500  style=\"float: left;\" />\n"
   ]
  },
  {
   "cell_type": "code",
   "execution_count": 1,
   "metadata": {},
   "outputs": [],
   "source": [
    "def searchMatrix(matrix, target):\n",
    "    row=len(matrix)-1\n",
    "    col=0\n",
    "    while row >= 0 and col < len(matrix[0]):\n",
    "        if target == matrix[row][col]:\n",
    "            return True\n",
    "        elif target < matrix[row][col]:\n",
    "            row=row-1\n",
    "        else:\n",
    "            col=col+1\n",
    "    return False"
   ]
  },
  {
   "cell_type": "code",
   "execution_count": 2,
   "metadata": {},
   "outputs": [
    {
     "data": {
      "text/plain": [
       "True"
      ]
     },
     "execution_count": 2,
     "metadata": {},
     "output_type": "execute_result"
    }
   ],
   "source": [
    "matrix = [[1,4,7,11,15],[2,5,8,12,19],[3,6,9,16,22],[10,13,14,17,24],[18,21,23,26,30]]\n",
    "searchMatrix(matrix,5)"
   ]
  }
 ],
 "metadata": {
  "kernelspec": {
   "display_name": "Python 3",
   "language": "python",
   "name": "python3"
  },
  "language_info": {
   "codemirror_mode": {
    "name": "ipython",
    "version": 3
   },
   "file_extension": ".py",
   "mimetype": "text/x-python",
   "name": "python",
   "nbconvert_exporter": "python",
   "pygments_lexer": "ipython3",
   "version": "3.8.5"
  }
 },
 "nbformat": 4,
 "nbformat_minor": 4
}
