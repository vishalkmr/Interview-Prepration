{
 "cells": [
  {
   "cell_type": "markdown",
   "metadata": {},
   "source": [
    "<h1>\n",
    "<a href=\"https://leetcode.com/problems/median-of-two-sorted-arrays/\" style=\"color:red;text-decoration: none\";>4. Median of Two Sorted Arrays</a> \n",
    "</h1> \n",
    "\n",
    "```\n",
    "Given two sorted arrays nums1 and nums2 of size m and n respectively, return the median of the two sorted arrays.\n",
    "\n",
    "The overall run time complexity should be O(log (m+n)).\n",
    "\n",
    "Example 1:\n",
    "Input: nums1 = [1,3], nums2 = [2]\n",
    "Output: 2.00000\n",
    "Explanation: merged array = [1,2,3] and median is 2.\n",
    "\n",
    "Example 2:\n",
    "Input: nums1 = [1,2], nums2 = [3,4]\n",
    "Output: 2.50000\n",
    "Explanation: merged array = [1,2,3,4] and median is (2 + 3) / 2 = 2.5.\n",
    " \n",
    "Constraints:\n",
    "nums1.length == m\n",
    "nums2.length == n\n",
    "0 <= m <= 1000\n",
    "0 <= n <= 1000\n",
    "1 <= m + n <= 2000\n",
    "-106 <= nums1[i], nums2[i] <= 106\n",
    "```"
   ]
  },
  {
   "cell_type": "markdown",
   "metadata": {},
   "source": [
    "## Approach\n",
    "- first merge two sorted array  O(m+n)\n",
    "- find the midian in new merged list O(1)\n",
    "\n",
    "**T(n)=O(m+n)**\n",
    "\n",
    "**S(n)=O(m+n)**"
   ]
  },
  {
   "cell_type": "code",
   "execution_count": 3,
   "metadata": {},
   "outputs": [],
   "source": [
    "def mergeSortedArrays(nums1, nums2):\n",
    "    merged=[]\n",
    "    l=0 #left-list pointer\n",
    "    r=0 #right-list pointer\n",
    "\n",
    "    #while there are some elements in both the left_list and the right_list\n",
    "    while l < len(nums1) and r < len(nums2):\n",
    "        #compare there element and add the smaller element to the merged_list\n",
    "        if nums1[l]<nums2[r]:\n",
    "            merged.append(nums1[l])\n",
    "            l=l+1\n",
    "        else:\n",
    "            merged.append(nums2[r])\n",
    "            r=r+1\n",
    "    #if some element are remaining in the left_list then simply add them to the merged_list\t\n",
    "    while l < len(nums1):\n",
    "        merged.append(nums1[l])\n",
    "        l=l+1\n",
    "\n",
    "    #if some element are remaining in the right_list then simply add them to the merged_list\n",
    "    while r < len(nums2):\n",
    "        merged.append(nums2[r])\n",
    "        r=r+1\n",
    "\n",
    "    return merged  \n",
    "\n",
    "def findMedianSortedArrays(nums1, nums2):\n",
    "    #merge two sorted array\n",
    "    merged=mergeSortedArrays(nums1, nums2)\n",
    "    \n",
    "    #find the middle element in merged list\n",
    "    length=len(merged)\n",
    "    mid=length//2\n",
    "    \n",
    "    #for even length list add middle two element to find median\n",
    "    if length%2 == 0:\n",
    "        return (float(merged[mid])+float(merged[mid-1]))/2\n",
    "    #for odd length list the middle element is median\n",
    "    else:\n",
    "        return float(merged[mid])\n",
    "\n"
   ]
  },
  {
   "cell_type": "code",
   "execution_count": 6,
   "metadata": {},
   "outputs": [
    {
     "data": {
      "text/plain": [
       "4.0"
      ]
     },
     "execution_count": 6,
     "metadata": {},
     "output_type": "execute_result"
    }
   ],
   "source": [
    "findMedianSortedArrays([1,2,5,6],[2,4,7])"
   ]
  },
  {
   "cell_type": "markdown",
   "metadata": {},
   "source": [
    "## Approach\n",
    "- using binary search\n",
    "\n",
    "**T(n)=O(log(m+n))**\n",
    "\n",
    "**S(n)=O(1)**\n",
    "\n",
    "<img src=\"../images/4_1.PNG\"  width=550 height=550 style=\"float: left;\" />"
   ]
  },
  {
   "cell_type": "code",
   "execution_count": 1,
   "metadata": {},
   "outputs": [],
   "source": [
    "def findMedianSortedArrays(nums1, nums2):\n",
    "    length1,length2=len(nums1),len(nums2)\n",
    "    \n",
    "    if length1 > length2:\n",
    "        nums1,nums2=nums2,nums1\n",
    "        length1,length2=length2,length1\n",
    "    \n",
    "    middle_of_combined_lists=(length1+length2+1)//2\n",
    "    \n",
    "    #find the partition indexes by binary search for both the arrays\n",
    "    beg=0\n",
    "    end=len(nums1)\n",
    "    while beg <= end:\n",
    "        print()\n",
    "        print(\"beg,end\",beg,end)\n",
    "        \n",
    "        partition1=((beg+end)//2)\n",
    "        partition2=middle_of_combined_lists-partition1\n",
    "        \n",
    "        print(\"partition :  \",partition1,partition2)\n",
    "        \n",
    "        #no element on left side of 1st subaaray\n",
    "        if partition1 == 0:\n",
    "            l1=float('-inf')\n",
    "        else:\n",
    "            l1=nums1[partition1-1]\n",
    "\n",
    "        #no element on left side of 2nd subaaray\n",
    "        if partition2 == 0:\n",
    "            l2=float('-inf')\n",
    "        else:\n",
    "            l2=nums2[partition2-1]\n",
    "\n",
    "        #no element on right side of 1st subaaray\n",
    "        if partition1 == length2:\n",
    "            r1=float('inf')\n",
    "        else:\n",
    "            r1=nums1[partition1]\n",
    "\n",
    "        #no element on right side of 2nd subaaray\n",
    "        if partition2 == length2:\n",
    "            r2=float('inf')\n",
    "        else:\n",
    "            r2=nums2[partition2]\n",
    "        \n",
    "        print(l1,r1,l2,r2)\n",
    "        \n",
    "        #if constraint of partition is satisfied\n",
    "        if l1 <= r2 and  l2 <= r1:\n",
    "            #for even length combined array size\n",
    "            if (length1+length2)%2 == 0:\n",
    "                return (max(l1,l2)+min(r1,r2))/2\n",
    "            #for odd length combined array size\n",
    "            else:\n",
    "                return max(l1,l2)\n",
    "        else:\n",
    "            if l1 > r2:\n",
    "                print(\"l1 > r2\")\n",
    "                end=partition1-1\n",
    "                     \n",
    "            else:\n",
    "                print(\"l2 > r1\")\n",
    "                beg=partition1+1\n",
    "\n",
    "        \n",
    "        \n",
    "    "
   ]
  },
  {
   "cell_type": "code",
   "execution_count": 2,
   "metadata": {},
   "outputs": [
    {
     "name": "stdout",
     "output_type": "stream",
     "text": [
      "\n",
      "beg,end 0 4\n",
      "partition :   2 3\n",
      "3 6 8 10\n",
      "l2 > r1\n",
      "\n",
      "beg,end 3 4\n",
      "partition :   3 2\n",
      "6 7 5 8\n"
     ]
    },
    {
     "data": {
      "text/plain": [
       "6.5"
      ]
     },
     "execution_count": 2,
     "metadata": {},
     "output_type": "execute_result"
    }
   ],
   "source": [
    "nums1=[1,5,8,10,18,20]\n",
    "nums2=[2,3,6,7]\n",
    "findMedianSortedArrays(nums1,nums2)"
   ]
  },
  {
   "cell_type": "code",
   "execution_count": 3,
   "metadata": {},
   "outputs": [
    {
     "name": "stdout",
     "output_type": "stream",
     "text": [
      "\n",
      "beg,end 0 1\n",
      "partition :   0 2\n",
      "-inf 2 3 inf\n",
      "l2 > r1\n",
      "\n",
      "beg,end 1 1\n",
      "partition :   1 1\n"
     ]
    },
    {
     "ename": "IndexError",
     "evalue": "list index out of range",
     "output_type": "error",
     "traceback": [
      "\u001b[1;31m---------------------------------------------------------------------------\u001b[0m",
      "\u001b[1;31mIndexError\u001b[0m                                Traceback (most recent call last)",
      "\u001b[1;32m<ipython-input-3-7cfbc33ca8a8>\u001b[0m in \u001b[0;36m<module>\u001b[1;34m\u001b[0m\n\u001b[0;32m      1\u001b[0m \u001b[0mnums1\u001b[0m\u001b[1;33m=\u001b[0m\u001b[1;33m[\u001b[0m\u001b[1;36m1\u001b[0m\u001b[1;33m,\u001b[0m\u001b[1;36m3\u001b[0m\u001b[1;33m]\u001b[0m\u001b[1;33m\u001b[0m\u001b[1;33m\u001b[0m\u001b[0m\n\u001b[0;32m      2\u001b[0m \u001b[0mnums2\u001b[0m\u001b[1;33m=\u001b[0m\u001b[1;33m[\u001b[0m\u001b[1;36m2\u001b[0m\u001b[1;33m]\u001b[0m\u001b[1;33m\u001b[0m\u001b[1;33m\u001b[0m\u001b[0m\n\u001b[1;32m----> 3\u001b[1;33m \u001b[0mfindMedianSortedArrays\u001b[0m\u001b[1;33m(\u001b[0m\u001b[0mnums1\u001b[0m\u001b[1;33m,\u001b[0m\u001b[0mnums2\u001b[0m\u001b[1;33m)\u001b[0m\u001b[1;33m\u001b[0m\u001b[1;33m\u001b[0m\u001b[0m\n\u001b[0m",
      "\u001b[1;32m<ipython-input-1-336ce5ad572a>\u001b[0m in \u001b[0;36mfindMedianSortedArrays\u001b[1;34m(nums1, nums2)\u001b[0m\n\u001b[0;32m     36\u001b[0m             \u001b[0mr1\u001b[0m\u001b[1;33m=\u001b[0m\u001b[0mfloat\u001b[0m\u001b[1;33m(\u001b[0m\u001b[1;34m'inf'\u001b[0m\u001b[1;33m)\u001b[0m\u001b[1;33m\u001b[0m\u001b[1;33m\u001b[0m\u001b[0m\n\u001b[0;32m     37\u001b[0m         \u001b[1;32melse\u001b[0m\u001b[1;33m:\u001b[0m\u001b[1;33m\u001b[0m\u001b[1;33m\u001b[0m\u001b[0m\n\u001b[1;32m---> 38\u001b[1;33m             \u001b[0mr1\u001b[0m\u001b[1;33m=\u001b[0m\u001b[0mnums1\u001b[0m\u001b[1;33m[\u001b[0m\u001b[0mpartition1\u001b[0m\u001b[1;33m]\u001b[0m\u001b[1;33m\u001b[0m\u001b[1;33m\u001b[0m\u001b[0m\n\u001b[0m\u001b[0;32m     39\u001b[0m \u001b[1;33m\u001b[0m\u001b[0m\n\u001b[0;32m     40\u001b[0m         \u001b[1;31m#no element on right side of 2nd subaaray\u001b[0m\u001b[1;33m\u001b[0m\u001b[1;33m\u001b[0m\u001b[1;33m\u001b[0m\u001b[0m\n",
      "\u001b[1;31mIndexError\u001b[0m: list index out of range"
     ]
    }
   ],
   "source": [
    "nums1=[1,3]\n",
    "nums2=[2]\n",
    "findMedianSortedArrays(nums1,nums2)"
   ]
  },
  {
   "cell_type": "code",
   "execution_count": 49,
   "metadata": {
    "scrolled": true
   },
   "outputs": [
    {
     "ename": "IndexError",
     "evalue": "list index out of range",
     "output_type": "error",
     "traceback": [
      "\u001b[1;31m---------------------------------------------------------------------------\u001b[0m",
      "\u001b[1;31mIndexError\u001b[0m                                Traceback (most recent call last)",
      "\u001b[1;32m<ipython-input-49-48475f005183>\u001b[0m in \u001b[0;36m<module>\u001b[1;34m\u001b[0m\n\u001b[1;32m----> 1\u001b[1;33m \u001b[0mnums1\u001b[0m\u001b[1;33m[\u001b[0m\u001b[1;36m5\u001b[0m\u001b[1;33m]\u001b[0m\u001b[1;33m\u001b[0m\u001b[1;33m\u001b[0m\u001b[0m\n\u001b[0m",
      "\u001b[1;31mIndexError\u001b[0m: list index out of range"
     ]
    }
   ],
   "source": [
    "nums1[5]"
   ]
  },
  {
   "cell_type": "code",
   "execution_count": 50,
   "metadata": {},
   "outputs": [
    {
     "ename": "SyntaxError",
     "evalue": "invalid syntax (<ipython-input-50-25f8047e6f77>, line 1)",
     "output_type": "error",
     "traceback": [
      "\u001b[1;36m  File \u001b[1;32m\"<ipython-input-50-25f8047e6f77>\"\u001b[1;36m, line \u001b[1;32m1\u001b[0m\n\u001b[1;33m    2,3    6,7\u001b[0m\n\u001b[1;37m           ^\u001b[0m\n\u001b[1;31mSyntaxError\u001b[0m\u001b[1;31m:\u001b[0m invalid syntax\n"
     ]
    }
   ],
   "source": [
    "2,3    6,7\n",
    "1,5,8  10,18,20"
   ]
  },
  {
   "cell_type": "code",
   "execution_count": null,
   "metadata": {},
   "outputs": [],
   "source": [
    "2,3,6     7\n",
    "1,5   8,10,18,20"
   ]
  }
 ],
 "metadata": {
  "kernelspec": {
   "display_name": "Python 3",
   "language": "python",
   "name": "python3"
  },
  "language_info": {
   "codemirror_mode": {
    "name": "ipython",
    "version": 3
   },
   "file_extension": ".py",
   "mimetype": "text/x-python",
   "name": "python",
   "nbconvert_exporter": "python",
   "pygments_lexer": "ipython3",
   "version": "3.8.5"
  }
 },
 "nbformat": 4,
 "nbformat_minor": 4
}
