{
 "cells": [
  {
   "cell_type": "markdown",
   "metadata": {},
   "source": [
    "# 4. [Median of Two Sorted Arrays](https://leetcode.com/problems/median-of-two-sorted-arrays/)\n",
    "\n",
    "Given two sorted arrays nums1 and nums2 of size m and n respectively, return the median of the two sorted arrays.\n",
    "\n",
    "The overall run time complexity should be O(log (m+n)).\n",
    "\n",
    " \n",
    "\n",
    "Example 1:\n",
    "\n",
    "Input: nums1 = [1,3], nums2 = [2]\n",
    "Output: 2.00000\n",
    "Explanation: merged array = [1,2,3] and median is 2.\n",
    "Example 2:\n",
    "\n",
    "Input: nums1 = [1,2], nums2 = [3,4]\n",
    "Output: 2.50000\n",
    "Explanation: merged array = [1,2,3,4] and median is (2 + 3) / 2 = 2.5.\n",
    " \n",
    "\n",
    "Constraints:\n",
    "\n",
    "nums1.length == m\n",
    "nums2.length == n\n",
    "0 <= m <= 1000\n",
    "0 <= n <= 1000\n",
    "1 <= m + n <= 2000\n",
    "-106 <= nums1[i], nums2[i] <= 106"
   ]
  },
  {
   "cell_type": "markdown",
   "metadata": {},
   "source": [
    "## Solution 1 using merge sort concept\n",
    "T(n)=)(m+n) \n",
    "\n",
    "S(n)=O(m+n)"
   ]
  },
  {
   "cell_type": "code",
   "execution_count": 4,
   "metadata": {},
   "outputs": [],
   "source": [
    "def mergeSortedArrays(nums1, nums2):\n",
    "    merged=[]\n",
    "    i=0\n",
    "    j=0\n",
    "\n",
    "    while i<len(nums1) and j<len(nums2):\n",
    "        if nums1[i]<nums2[j]:\n",
    "            merged.append(nums1[i])\n",
    "            i=i+1\n",
    "        else:\n",
    "            merged.append(nums2[j])\n",
    "            j=j+1\n",
    "\n",
    "    while i<len(nums1):\n",
    "        merged.append(nums1[i])\n",
    "        i=i+1\n",
    "\n",
    "    while j<len(nums2):\n",
    "        merged.append(nums2[j])\n",
    "        j=j+1\n",
    "\n",
    "    return merged  \n",
    "\n",
    "def findMedianSortedArrays(nums1, nums2):\n",
    "    merged=mergeSortedArrays(nums1, nums2)\n",
    "    length=len(merged)\n",
    "    mid=length//2\n",
    "    if length%2==0:\n",
    "        return (float(merged[mid])+float(merged[mid-1]))/2\n",
    "    else:\n",
    "        return float(merged[mid])\n",
    "\n"
   ]
  },
  {
   "cell_type": "code",
   "execution_count": 5,
   "metadata": {},
   "outputs": [
    {
     "data": {
      "text/plain": [
       "4.0"
      ]
     },
     "execution_count": 5,
     "metadata": {},
     "output_type": "execute_result"
    }
   ],
   "source": [
    "findMedianSortedArrays([1,3,5,6],[2,4,7])"
   ]
  }
 ],
 "metadata": {
  "kernelspec": {
   "display_name": "Python 3",
   "language": "python",
   "name": "python3"
  },
  "language_info": {
   "codemirror_mode": {
    "name": "ipython",
    "version": 3
   },
   "file_extension": ".py",
   "mimetype": "text/x-python",
   "name": "python",
   "nbconvert_exporter": "python",
   "pygments_lexer": "ipython3",
   "version": "3.8.5"
  }
 },
 "nbformat": 4,
 "nbformat_minor": 4
}
