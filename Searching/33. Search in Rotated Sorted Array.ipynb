{
 "cells": [
  {
   "cell_type": "markdown",
   "metadata": {},
   "source": [
    "<h1>\n",
    "<a href=\"https://leetcode.com/problems/search-in-rotated-sorted-array/\" style=\"color:orange;text-decoration: none\";>33. Search in Rotated Sorted Array</a> \n",
    "</h1> \n",
    "\n",
    "```\n",
    "There is an integer array nums sorted in ascending order (with distinct values).\n",
    "\n",
    "Prior to being passed to your function, nums is possibly rotated at an unknown pivot index k (1 <= k < nums.length) such that the resulting array is [nums[k], nums[k+1], ..., nums[n-1], nums[0], nums[1], ..., nums[k-1]] (0-indexed). For example, [0,1,2,4,5,6,7] might be rotated at pivot index 3 and become [4,5,6,7,0,1,2].\n",
    "\n",
    "Given the array nums after the possible rotation and an integer target, return the index of target if it is in nums, or -1 if it is not in nums.\n",
    "\n",
    "You must write an algorithm with O(log n) runtime complexity.\n",
    "\n",
    "Example 1:\n",
    "Input: nums = [4,5,6,7,0,1,2], target = 0\n",
    "Output: 4\n",
    "\n",
    "Example 2:\n",
    "Input: nums = [4,5,6,7,0,1,2], target = 3\n",
    "Output: -1\n",
    "\n",
    "Example 3:\n",
    "Input: nums = [1], target = 0\n",
    "Output: -1\n",
    " \n",
    "Constraints:\n",
    "1 <= nums.length <= 5000\n",
    "-104 <= nums[i] <= 104\n",
    "All values of nums are unique.\n",
    "nums is an ascending array that is possibly rotated.\n",
    "-104 <= target <= 104\n",
    "```"
   ]
  },
  {
   "cell_type": "markdown",
   "metadata": {},
   "source": [
    "## Approach 1\n",
    "The solution is devided into\n",
    "- find roatated index\n",
    "- once the rotated index is known array can be devided into two sorted subarrays\n",
    "- apply binary search on two sorted subarray independently\n",
    "\n",
    "**T(n)=O(logn)**"
   ]
  },
  {
   "cell_type": "code",
   "execution_count": 1,
   "metadata": {},
   "outputs": [],
   "source": [
    "def find_rotate_index(nums,beg,end):\n",
    "    #if array contains only one element\n",
    "    #or array is n time roatated\n",
    "    if nums[beg] <= nums[end]:\n",
    "        return 0\n",
    "    \n",
    "    while beg <= end:\n",
    "        mid=(beg+end)//2\n",
    "        \n",
    "        #if middle element is not sorted\n",
    "        if nums[mid+1] <= nums[mid]:\n",
    "            return mid\n",
    "        \n",
    "        #if left half is sorted\n",
    "        elif nums[beg] <= nums[mid]:\n",
    "            beg=mid+1\n",
    "        \n",
    "        #if right half is sorted\n",
    "        else:\n",
    "            end=mid-1\n",
    "    else:\n",
    "        return beg"
   ]
  },
  {
   "cell_type": "code",
   "execution_count": 2,
   "metadata": {},
   "outputs": [
    {
     "data": {
      "text/plain": [
       "3"
      ]
     },
     "execution_count": 2,
     "metadata": {},
     "output_type": "execute_result"
    }
   ],
   "source": [
    "nums = [5,6,8,9,1,2,3,4]\n",
    "find_rotate_index(nums,0,len(nums)-1)"
   ]
  },
  {
   "cell_type": "code",
   "execution_count": 3,
   "metadata": {},
   "outputs": [],
   "source": [
    "def binary_search(nums,beg,end,target):\n",
    "    while beg <= end:\n",
    "        #finding middle element index\n",
    "        mid=(beg+end)//2\n",
    "        \n",
    "        #if target is mathched with middle element \n",
    "        if nums[mid] == target:\n",
    "            return mid\n",
    "        \n",
    "        #if target is less than the middle element than consider only left portion of array\n",
    "        if nums[mid] > target:\n",
    "            end=mid-1\n",
    "        \n",
    "        #if target is greater than the middle element than consider only right portion of array\n",
    "        if nums[mid] < target:\n",
    "            beg=mid+1  \n",
    "    else:\n",
    "        return -1"
   ]
  },
  {
   "cell_type": "code",
   "execution_count": 4,
   "metadata": {},
   "outputs": [],
   "source": [
    "def search(nums, target):\n",
    "    #find roatated index\n",
    "    idx=find_rotate_index(nums,0,len(nums)-1)\n",
    "    \n",
    "    #apply binary search on two sorted subarray independently\n",
    "    id1=binary_search(nums,0,idx,target)\n",
    "    id2=binary_search(nums,idx+1,len(nums)-1,target)\n",
    "    \n",
    "    if id1!=-1:\n",
    "        return id1\n",
    "    elif id2!=-1:\n",
    "        return id2\n",
    "    else:\n",
    "        return -1"
   ]
  },
  {
   "cell_type": "code",
   "execution_count": 5,
   "metadata": {},
   "outputs": [
    {
     "data": {
      "text/plain": [
       "1"
      ]
     },
     "execution_count": 5,
     "metadata": {},
     "output_type": "execute_result"
    }
   ],
   "source": [
    "nums = [8,9,2,3,4]\n",
    "search(nums, 9)"
   ]
  },
  {
   "cell_type": "markdown",
   "metadata": {},
   "source": [
    "## Approach 2\n",
    "*Observation: For any pivot/middle point in the rotated array atleast one of the two(left and right) half array is sorted* \n",
    "\n",
    "Binary search is applied only on that half array which is sorted to find the element is present in that array or not. If element is not present in the half sorted array then search the target in other half array or not present in the array.\n",
    "\n",
    "**T(n)=O(logn)**"
   ]
  },
  {
   "cell_type": "code",
   "execution_count": 6,
   "metadata": {},
   "outputs": [],
   "source": [
    "def search(nums, target):\n",
    "    beg=0\n",
    "    end=len(nums)-1\n",
    "    \n",
    "    #modified binary search the target in half sorted array\n",
    "    while beg <= end:\n",
    "        mid=(beg+end)//2\n",
    "\n",
    "        if nums[mid] == target:\n",
    "            return mid\n",
    "\n",
    "        #if left half array is sorted\n",
    "        elif  nums[beg] <= nums[mid]:\n",
    "            #if the target is present in left sorted array\n",
    "            if nums[beg] <= target < nums[mid]:\n",
    "                end=mid-1\n",
    "            #otherwise element is present in right half array\n",
    "            else:\n",
    "                beg=mid+1\n",
    "\n",
    "        #right half array is sorted\n",
    "        else:\n",
    "            #if the target is present in right sorted array\n",
    "            if nums[mid] < target <= nums[end]:\n",
    "                beg=mid+1\n",
    "            #otherwise element is present in left half array\n",
    "            else:\n",
    "                end=mid-1\n",
    "    \n",
    "    #element not found in array\n",
    "    else:\n",
    "        return -1"
   ]
  },
  {
   "cell_type": "code",
   "execution_count": 7,
   "metadata": {},
   "outputs": [
    {
     "data": {
      "text/plain": [
       "4"
      ]
     },
     "execution_count": 7,
     "metadata": {},
     "output_type": "execute_result"
    }
   ],
   "source": [
    "nums = [4,5,6,7,0,1,2]\n",
    "search(nums, 0)"
   ]
  }
 ],
 "metadata": {
  "kernelspec": {
   "display_name": "Python 3",
   "language": "python",
   "name": "python3"
  },
  "language_info": {
   "codemirror_mode": {
    "name": "ipython",
    "version": 3
   },
   "file_extension": ".py",
   "mimetype": "text/x-python",
   "name": "python",
   "nbconvert_exporter": "python",
   "pygments_lexer": "ipython3",
   "version": "3.8.5"
  }
 },
 "nbformat": 4,
 "nbformat_minor": 4
}
