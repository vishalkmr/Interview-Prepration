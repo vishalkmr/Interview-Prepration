{
 "cells": [
  {
   "cell_type": "markdown",
   "metadata": {},
   "source": [
    "<h1>\n",
    "<a href=\"https://leetcode.com/problems/\" style=\"color:orange;text-decoration: none\";>33. Search in Rotated Sorted Array </a> \n",
    "</h1> \n",
    "\n",
    "```\n",
    "There is an integer array nums sorted in ascending order (with distinct values).\n",
    "\n",
    "Prior to being passed to your function, nums is possibly rotated at an unknown pivot index k (1 <= k < nums.length) such that the resulting array is [nums[k], nums[k+1], ..., nums[n-1], nums[0], nums[1], ..., nums[k-1]] (0-indexed). For example, [0,1,2,4,5,6,7] might be rotated at pivot index 3 and become [4,5,6,7,0,1,2].\n",
    "\n",
    "Given the array nums after the possible rotation and an integer target, return the index of target if it is in nums, or -1 if it is not in nums.\n",
    "\n",
    "You must write an algorithm with O(log n) runtime complexity.\n",
    "\n",
    "Example 1:\n",
    "Input: nums = [4,5,6,7,0,1,2], target = 0\n",
    "Output: 4\n",
    "\n",
    "Example 2:\n",
    "Input: nums = [4,5,6,7,0,1,2], target = 3\n",
    "Output: -1\n",
    "\n",
    "Example 3:\n",
    "Input: nums = [1], target = 0\n",
    "Output: -1\n",
    " \n",
    "Constraints:\n",
    "1 <= nums.length <= 5000\n",
    "-104 <= nums[i] <= 104\n",
    "All values of nums are unique.\n",
    "nums is an ascending array that is possibly rotated.\n",
    "-104 <= target <= 104\n",
    "```"
   ]
  },
  {
   "cell_type": "markdown",
   "metadata": {},
   "source": [
    "## Approach 1\n",
    "find roatated index and then apply binary search on two sorted array independently"
   ]
  },
  {
   "cell_type": "code",
   "execution_count": 3,
   "metadata": {},
   "outputs": [],
   "source": [
    "nums = [4,5,6,7,0,1,2]\n",
    "target = 0"
   ]
  },
  {
   "cell_type": "code",
   "execution_count": 104,
   "metadata": {},
   "outputs": [],
   "source": [
    "def find_rotate_idx(nums,lb,ub):\n",
    "    while lb<ub:\n",
    "        mid=(lb+ub)//2        \n",
    "        if nums[mid]>nums[mid+1]:\n",
    "            return mid\n",
    "        \n",
    "        elif nums[mid]>=nums[lb]:\n",
    "            lb=mid+1\n",
    "        else:\n",
    "            ub=mid-1\n",
    "    \n",
    "    return lb"
   ]
  },
  {
   "cell_type": "code",
   "execution_count": 105,
   "metadata": {},
   "outputs": [
    {
     "data": {
      "text/plain": [
       "1"
      ]
     },
     "execution_count": 105,
     "metadata": {},
     "output_type": "execute_result"
    }
   ],
   "source": [
    "nums = [8,9,2,3,4]\n",
    "find_rotate_idx(nums,0,len(nums)-1)"
   ]
  },
  {
   "cell_type": "code",
   "execution_count": 94,
   "metadata": {},
   "outputs": [],
   "source": [
    "def binary_search(nums,lb,ub,target):\n",
    "    if lb<=ub:\n",
    "        mid=(lb+ub)//2\n",
    "        if nums[mid]==target:\n",
    "            return mid\n",
    "        \n",
    "        elif nums[mid]>target:\n",
    "            return binary_search(nums,lb,mid-1,target)\n",
    "        \n",
    "        else :\n",
    "            return binary_search(nums,mid+1,ub,target)\n",
    "    else:\n",
    "        return -1\n",
    "            "
   ]
  },
  {
   "cell_type": "code",
   "execution_count": 95,
   "metadata": {},
   "outputs": [],
   "source": [
    "def search(nums, target):\n",
    "    idx=find_rotate_idx(nums,0,len(nums)-1)\n",
    "    \n",
    "    id1=binary_search(nums,0,idx,target)\n",
    "    id2=binary_search(nums,idx+1,len(nums)-1,target)\n",
    "    if id1!=-1:\n",
    "        return id1\n",
    "    elif id2!=-1:\n",
    "        return id2\n",
    "    else:\n",
    "        return -1"
   ]
  },
  {
   "cell_type": "code",
   "execution_count": 98,
   "metadata": {},
   "outputs": [
    {
     "data": {
      "text/plain": [
       "-1"
      ]
     },
     "execution_count": 98,
     "metadata": {},
     "output_type": "execute_result"
    }
   ],
   "source": [
    "nums = [8,9,2,3,4]\n",
    "search(nums, 9)"
   ]
  },
  {
   "cell_type": "markdown",
   "metadata": {},
   "source": [
    "## Approach 2"
   ]
  },
  {
   "cell_type": "code",
   "execution_count": 113,
   "metadata": {},
   "outputs": [],
   "source": [
    "def search(nums, target):\n",
    "    lb=0\n",
    "    ub=len(nums)-1\n",
    "    while lb<=ub:\n",
    "        mid=(lb+ub)//2\n",
    "        print(lb,mid,ub)\n",
    "        if nums[mid]==target:\n",
    "            return mid\n",
    "        \n",
    "        elif nums[mid]>=nums[lb]:\n",
    "            if nums[mid]>target>=nums[lb]:\n",
    "                ub=mid-1\n",
    "            else:\n",
    "                lb=mid+1\n",
    "                \n",
    "        else:\n",
    "            if nums[mid]<target<=nums[ub]:\n",
    "                lb=mid+1\n",
    "            else:\n",
    "                ub=mid-1     \n",
    "    else:\n",
    "        return -1\n",
    "            "
   ]
  },
  {
   "cell_type": "code",
   "execution_count": 114,
   "metadata": {},
   "outputs": [
    {
     "name": "stdout",
     "output_type": "stream",
     "text": [
      "0 3 6\n",
      "4 5 6\n",
      "4 4 4\n"
     ]
    },
    {
     "data": {
      "text/plain": [
       "4"
      ]
     },
     "execution_count": 114,
     "metadata": {},
     "output_type": "execute_result"
    }
   ],
   "source": [
    "nums = [4,5,6,7,0,1,2]\n",
    "search(nums, 0)"
   ]
  },
  {
   "cell_type": "code",
   "execution_count": null,
   "metadata": {},
   "outputs": [],
   "source": []
  }
 ],
 "metadata": {
  "kernelspec": {
   "display_name": "Python 3",
   "language": "python",
   "name": "python3"
  },
  "language_info": {
   "codemirror_mode": {
    "name": "ipython",
    "version": 3
   },
   "file_extension": ".py",
   "mimetype": "text/x-python",
   "name": "python",
   "nbconvert_exporter": "python",
   "pygments_lexer": "ipython3",
   "version": "3.8.5"
  }
 },
 "nbformat": 4,
 "nbformat_minor": 4
}
