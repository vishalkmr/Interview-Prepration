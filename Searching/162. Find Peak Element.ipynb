{
 "cells": [
  {
   "cell_type": "markdown",
   "metadata": {},
   "source": [
    "<h1>\n",
    "<a href=\"https://leetcode.com/problems/find-peak-element/\" style=\"color:orange;text-decoration: none\";>162. Find Peak Element</a> \n",
    "</h1> \n",
    "\n",
    "```\n",
    "A peak element is an element that is strictly greater than its neighbors.\n",
    "\n",
    "Given an integer array nums, find a peak element, and return its index. If the array contains multiple peaks, return the index to any of the peaks.\n",
    "\n",
    "You may imagine that nums[-1] = nums[n] = -∞.\n",
    "\n",
    "You must write an algorithm that runs in O(log n) time.\n",
    "\n",
    "Example 1:\n",
    "Input: nums = [1,2,3,1]\n",
    "Output: 2\n",
    "Explanation: 3 is a peak element and your function should return the index number 2.\n",
    "\n",
    "Example 2:\n",
    "Input: nums = [1,2,1,3,5,6,4]\n",
    "Output: 5\n",
    "Explanation: Your function can return either index number 1 where the peak element is 2, or index number 5 where the peak element is 6.\n",
    "\n",
    "Constraints:\n",
    "1 <= nums.length <= 1000\n",
    "-231 <= nums[i] <= 231 - 1\n",
    "nums[i] != nums[i + 1] for all valid i.\n",
    "```"
   ]
  },
  {
   "cell_type": "code",
   "execution_count": 1,
   "metadata": {},
   "outputs": [],
   "source": [
    "def findPeakElement(nums):\n",
    "    beg=0\n",
    "    end=len(nums)-1\n",
    "    \n",
    "    while beg < end:\n",
    "        mid=(beg+end)//2\n",
    "        \n",
    "        #when peak element is found\n",
    "        if nums[mid-1] < nums[mid] and nums[mid] > nums[mid+1]:\n",
    "            return mid\n",
    "        \n",
    "        #go on the side of larger value adjencent element\n",
    "        elif nums[mid] < nums[mid+1]:\n",
    "            beg=mid+1\n",
    "            \n",
    "        else:\n",
    "            end=mid-1\n",
    "            \n",
    "    else:\n",
    "        return beg"
   ]
  },
  {
   "cell_type": "code",
   "execution_count": 2,
   "metadata": {},
   "outputs": [
    {
     "data": {
      "text/plain": [
       "5"
      ]
     },
     "execution_count": 2,
     "metadata": {},
     "output_type": "execute_result"
    }
   ],
   "source": [
    "nums = [1,2,1,3,5,6,4]\n",
    "findPeakElement(nums)"
   ]
  }
 ],
 "metadata": {
  "kernelspec": {
   "display_name": "Python 3",
   "language": "python",
   "name": "python3"
  },
  "language_info": {
   "codemirror_mode": {
    "name": "ipython",
    "version": 3
   },
   "file_extension": ".py",
   "mimetype": "text/x-python",
   "name": "python",
   "nbconvert_exporter": "python",
   "pygments_lexer": "ipython3",
   "version": "3.8.5"
  }
 },
 "nbformat": 4,
 "nbformat_minor": 4
}
