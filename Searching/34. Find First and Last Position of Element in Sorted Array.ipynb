{
 "cells": [
  {
   "cell_type": "markdown",
   "metadata": {},
   "source": [
    "<h1>\n",
    "<a href=\"https://leetcode.com/problems/find-first-and-last-position-of-element-in-sorted-array/\" style=\"color:orange;text-decoration: none\";>34. Find First and Last Position of Element in Sorted Array</a> \n",
    "</h1> \n",
    "\n",
    "```\n",
    "Given an array of integers nums sorted in non-decreasing order, find the starting and ending position of a given target value.\n",
    "If target is not found in the array, return [-1, -1].\n",
    "You must write an algorithm with O(log n) runtime complexity.\n",
    "\n",
    "Example 1:\n",
    "Input: nums = [5,7,7,8,8,10], target = 8\n",
    "Output: [3,4]\n",
    "\n",
    "Example 2:\n",
    "Input: nums = [5,7,7,8,8,10], target = 6\n",
    "Output: [-1,-1]\n",
    "\n",
    "Example 3:\n",
    "Input: nums = [], target = 0\n",
    "Output: [-1,-1]\n",
    "\n",
    "Constraints:\n",
    "0 <= nums.length <= 105\n",
    "-109 <= nums[i] <= 109\n",
    "nums is a non-decreasing array.\n",
    "-109 <= target <= 109\n",
    "```"
   ]
  },
  {
   "cell_type": "markdown",
   "metadata": {},
   "source": [
    "## Approach 1\n",
    "The solution is devided into\n",
    "- find 1st index of target using binary search\n",
    "- find last index of target using binary search\n",
    "\n",
    "**T(n)=O(logn)**"
   ]
  },
  {
   "cell_type": "code",
   "execution_count": 1,
   "metadata": {},
   "outputs": [],
   "source": [
    "def binary_search_range(nums,target,beg,end,direction):\n",
    "    if beg <= end:\n",
    "        middle=(beg+end)//2\n",
    "        \n",
    "        #if target is mathched with middle element \n",
    "        if (nums[middle] == target):\n",
    "            if direction == \"left\":            \n",
    "                #all the elements of left subaaray are target\n",
    "                if nums[beg] == target:\n",
    "                    return beg\n",
    "\n",
    "                #some target elements are in the left subarray\n",
    "                elif beg <= middle-1 and nums[middle-1] == target:\n",
    "                    return binary_search_range(nums,target,beg,middle-1,direction)\n",
    "\n",
    "                #no target elements are in the left subarray\n",
    "                else:\n",
    "                    return middle\n",
    "            else:\n",
    "                #all the elements of right subaaray are target\n",
    "                if nums[end] == target:\n",
    "                    return end\n",
    "\n",
    "                #some target elements are in the right subarray\n",
    "                elif middle+1 <= end and nums[middle+1] == target:\n",
    "                    return binary_search_range(nums,target,middle+1,end,direction)\n",
    "\n",
    "                #no target elements are in the right subarray\n",
    "                else:\n",
    "                    return middle  \n",
    "                \n",
    "        #if target is less than the middle element than consider only left subarray\n",
    "        elif (nums[middle] > target):\n",
    "            return binary_search_range(nums,target,beg,middle-1,direction)\n",
    "        \n",
    "        #if target is greater than the middle element than consider only right subarray\n",
    "        else:\n",
    "            return binary_search_range(nums,target,middle+1,end,direction)\n",
    "    else:\n",
    "        return -1"
   ]
  },
  {
   "cell_type": "code",
   "execution_count": 2,
   "metadata": {},
   "outputs": [],
   "source": [
    "def searchRange(nums, target):\n",
    "    left=binary_search_range(nums,target,0,len(nums)-1,\"left\")\n",
    "    right=binary_search_range(nums,target,0,len(nums)-1,\"right\")\n",
    "    return [left,right]"
   ]
  },
  {
   "cell_type": "code",
   "execution_count": 3,
   "metadata": {},
   "outputs": [
    {
     "data": {
      "text/plain": [
       "[2, 5]"
      ]
     },
     "execution_count": 3,
     "metadata": {},
     "output_type": "execute_result"
    }
   ],
   "source": [
    "nums = [1,2,3,3,3,3,4,5,9]\n",
    "searchRange(nums,3)"
   ]
  }
 ],
 "metadata": {
  "kernelspec": {
   "display_name": "Python 3",
   "language": "python",
   "name": "python3"
  },
  "language_info": {
   "codemirror_mode": {
    "name": "ipython",
    "version": 3
   },
   "file_extension": ".py",
   "mimetype": "text/x-python",
   "name": "python",
   "nbconvert_exporter": "python",
   "pygments_lexer": "ipython3",
   "version": "3.8.5"
  }
 },
 "nbformat": 4,
 "nbformat_minor": 4
}
