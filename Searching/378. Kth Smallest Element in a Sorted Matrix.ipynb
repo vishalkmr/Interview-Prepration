{
 "cells": [
  {
   "cell_type": "markdown",
   "metadata": {},
   "source": [
    "<h1>\n",
    "<a href=\"https://leetcode.com/problems/kth-smallest-element-in-a-sorted-matrix/\" style=\"color:orange;text-decoration: none\";>378. Kth Smallest Element in a Sorted Matrix</a> \n",
    "</h1> \n",
    "\n",
    "```\n",
    "Given an n x n matrix where each of the rows and columns is sorted in ascending order, return the kth smallest element in the matrix.\n",
    "\n",
    "Note that it is the kth smallest element in the sorted order, not the kth distinct element.\n",
    "\n",
    "You must find a solution with a memory complexity better than O(n2).\n",
    "\n",
    "Example 1:\n",
    "Input: matrix = [[1,5,9],[10,11,13],[12,13,15]], k = 8\n",
    "Output: 13\n",
    "Explanation: The elements in the matrix are [1,5,9,10,11,12,13,13,15], and the 8th smallest number is 13\n",
    "\n",
    "Example 2:\n",
    "Input: matrix = [[-5]], k = 1\n",
    "Output: -5\n",
    " \n",
    "Constraints:\n",
    "n == matrix.length == matrix[i].length\n",
    "1 <= n <= 300\n",
    "-109 <= matrix[i][j] <= 109\n",
    "All the rows and columns of matrix are guaranteed to be sorted in non-decreasing order.\n",
    "1 <= k <= n2\n",
    "```"
   ]
  },
  {
   "cell_type": "markdown",
   "metadata": {},
   "source": [
    "## Approach 1\n",
    "- Apply binary search on the range of the numbers present in the matrix\n",
    "- For each mid value in the matrix find the number of elements smaller then the mid value\n",
    "- For kth smallest element there has to be (k-1) elements before that in the list\n",
    "\n",
    "**T(n)=O(RANGE(matrix)nlogn)**"
   ]
  },
  {
   "cell_type": "code",
   "execution_count": 1,
   "metadata": {},
   "outputs": [],
   "source": [
    "def kthSmallest(matrix, k):\n",
    "    rows=len(matrix)\n",
    "    cols=len(matrix[0])\n",
    "    beg_val=matrix[0][0]\n",
    "    end_val=matrix[rows-1][cols-1]\n",
    "    \n",
    "    #binary search on the values of the matrix\n",
    "    while beg_val <= end_val:\n",
    "        mid_val=(beg_val+end_val)//2\n",
    "        \n",
    "        #counting the number of elements smaller than the mid_val\n",
    "        count=0\n",
    "        \n",
    "        #binary search on this mid value in the matrix row by row\n",
    "        for i in range(rows):\n",
    "            beg=0\n",
    "            end=cols-1\n",
    "            while beg <= end:\n",
    "                mid=(beg+end)//2\n",
    "                if matrix[i][mid] <= mid_val:\n",
    "                    beg=mid+1\n",
    "                else:\n",
    "                    end=mid-1\n",
    "            #storing the number of elements which are smaller than mid_val\n",
    "            count+=beg\n",
    "\n",
    "        if count < k:\n",
    "            beg_val=mid_val+1\n",
    "        else:\n",
    "            end_val=mid_val-1\n",
    "            \n",
    "    return beg_val\n",
    "                    "
   ]
  },
  {
   "cell_type": "code",
   "execution_count": 2,
   "metadata": {},
   "outputs": [
    {
     "data": {
      "text/plain": [
       "13"
      ]
     },
     "execution_count": 2,
     "metadata": {},
     "output_type": "execute_result"
    }
   ],
   "source": [
    "matrix = [[1,5,9],[10,11,13],[12,13,15]]\n",
    "kthSmallest(matrix,8)"
   ]
  }
 ],
 "metadata": {
  "kernelspec": {
   "display_name": "Python 3",
   "language": "python",
   "name": "python3"
  },
  "language_info": {
   "codemirror_mode": {
    "name": "ipython",
    "version": 3
   },
   "file_extension": ".py",
   "mimetype": "text/x-python",
   "name": "python",
   "nbconvert_exporter": "python",
   "pygments_lexer": "ipython3",
   "version": "3.8.5"
  }
 },
 "nbformat": 4,
 "nbformat_minor": 4
}
