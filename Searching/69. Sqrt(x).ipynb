{
 "cells": [
  {
   "cell_type": "markdown",
   "metadata": {},
   "source": [
    "<h1>\n",
    "<a href=\"https://leetcode.com/problems/sqrtx/\" style=\"color:green;text-decoration: none\";>69. Sqrt(x)</a> \n",
    "</h1> \n",
    "\n",
    "```\n",
    "Given a non-negative integer x, compute and return the square root of x.\n",
    "\n",
    "Since the return type is an integer, the decimal digits are truncated, and only the integer part of the result is       returned.\n",
    "\n",
    "Note: You are not allowed to use any built-in exponent function or operator, such as pow(x, 0.5) or x ** 0.5.\n",
    "\n",
    "Example 1:\n",
    "Input: x = 4\n",
    "Output: 2\n",
    "\n",
    "Example 2:\n",
    "Input: x = 8\n",
    "Output: 2\n",
    "\n",
    "Explanation: The square root of 8 is 2.82842..., and since the decimal part is truncated, 2 is returned.\n",
    "\n",
    "Constraints:\n",
    "0 <= x <= 231 - 1 \n",
    "```"
   ]
  },
  {
   "cell_type": "markdown",
   "metadata": {},
   "source": [
    "## Approach\n",
    "Loop through 1 to element whose square is equal to the required number\n",
    "\n",
    "**T(n)=O(n)**"
   ]
  },
  {
   "cell_type": "code",
   "execution_count": 1,
   "metadata": {},
   "outputs": [],
   "source": [
    "def mySqrt(x):\n",
    "    val=1\n",
    "    while(val*val<=x):\n",
    "        val=val+1\n",
    "    \n",
    "    return val-1"
   ]
  },
  {
   "cell_type": "markdown",
   "metadata": {},
   "source": [
    "## Approach\n",
    "Using binary search \n",
    "\n",
    "**T(n)=O(logn)**"
   ]
  },
  {
   "cell_type": "code",
   "execution_count": 2,
   "metadata": {},
   "outputs": [],
   "source": [
    "def mySqrt(x):\n",
    "    beg=1\n",
    "    end=x//2\n",
    "    \n",
    "    #base case\n",
    "    if x==1:\n",
    "        return 1\n",
    "    \n",
    "    #binary search unitl sqrt is not found \n",
    "    while beg <= end:\n",
    "        mid=(beg+end)//2\n",
    "        \n",
    "        if mid*mid == x:\n",
    "            return mid\n",
    "        \n",
    "        elif mid*mid < x:\n",
    "            beg=mid+1\n",
    "            \n",
    "        elif mid*mid > x:\n",
    "            end=mid-1\n",
    "    \n",
    "    return end"
   ]
  }
 ],
 "metadata": {
  "kernelspec": {
   "display_name": "Python 3",
   "language": "python",
   "name": "python3"
  },
  "language_info": {
   "codemirror_mode": {
    "name": "ipython",
    "version": 3
   },
   "file_extension": ".py",
   "mimetype": "text/x-python",
   "name": "python",
   "nbconvert_exporter": "python",
   "pygments_lexer": "ipython3",
   "version": "3.8.5"
  }
 },
 "nbformat": 4,
 "nbformat_minor": 4
}
