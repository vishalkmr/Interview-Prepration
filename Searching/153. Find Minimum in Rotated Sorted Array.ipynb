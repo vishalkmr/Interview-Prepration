{
 "cells": [
  {
   "cell_type": "markdown",
   "metadata": {},
   "source": [
    "<h1>\n",
    "<a href=\"https://leetcode.com/problems/find-minimum-in-rotated-sorted-array/\" style=\"color:orange;text-decoration: none\";>153. Find Minimum in Rotated Sorted Array</a> \n",
    "</h1> \n",
    "\n",
    "```\n",
    "Suppose an array of length n sorted in ascending order is rotated between 1 and n times. For example, the array nums = [0,1,2,4,5,6,7] might become:\n",
    "\n",
    "[4,5,6,7,0,1,2] if it was rotated 4 times.\n",
    "[0,1,2,4,5,6,7] if it was rotated 7 times.\n",
    "Notice that rotating an array [a[0], a[1], a[2], ..., a[n-1]] 1 time results in the array [a[n-1], a[0], a[1], a[2], ..., a[n-2]].\n",
    "\n",
    "Given the sorted rotated array nums of unique elements, return the minimum element of this array.\n",
    "\n",
    "You must write an algorithm that runs in O(log n) time.\n",
    "\n",
    "Input: nums = [3,4,5,1,2]\n",
    "Output: 1\n",
    "Explanation: The original array was [1,2,3,4,5] rotated 3 times.\n",
    "\n",
    "Example 2:\n",
    "Input: nums = [4,5,6,7,0,1,2]\n",
    "Output: 0\n",
    "Explanation: The original array was [0,1,2,4,5,6,7] and it was rotated 4 times.\n",
    "\n",
    "Constraints:\n",
    "n == nums.length\n",
    "1 <= n <= 5000\n",
    "-5000 <= nums[i] <= 5000\n",
    "All the integers of nums are unique.\n",
    "nums is sorted and rotated between 1 and n times.\n",
    "```"
   ]
  },
  {
   "cell_type": "markdown",
   "metadata": {},
   "source": [
    "## Approach 1\n",
    "- find roatated index\n",
    "- once the rotated index is known array can be devided into two sorted subarrays\n",
    "- return the 1st element from the 2nd subarray\n",
    "\n",
    "**T(n)=O(logn)**"
   ]
  },
  {
   "cell_type": "code",
   "execution_count": 1,
   "metadata": {},
   "outputs": [],
   "source": [
    "def findMin(nums):\n",
    "    beg=0\n",
    "    end=len(nums)-1\n",
    "    \n",
    "    #if array contains only one element\n",
    "    #or array is n time roatated\n",
    "    if nums[beg] <= nums[end]:\n",
    "        return nums[0]\n",
    "    \n",
    "    while beg <= end:\n",
    "        mid=(beg+end)//2\n",
    "        \n",
    "        #if middle element is not sorted\n",
    "        if nums[mid+1] <= nums[mid]:\n",
    "            rotated_index=mid\n",
    "            break\n",
    "        \n",
    "        #if left half is sorted\n",
    "        elif nums[beg] <= nums[mid]:\n",
    "            beg=mid+1\n",
    "        \n",
    "        #if right half is sorted\n",
    "        else:\n",
    "            end=mid-1\n",
    "    else:\n",
    "        rotated_index=beg\n",
    "          \n",
    "    return nums[rotated_index+1]"
   ]
  },
  {
   "cell_type": "code",
   "execution_count": 2,
   "metadata": {},
   "outputs": [
    {
     "data": {
      "text/plain": [
       "0"
      ]
     },
     "execution_count": 2,
     "metadata": {},
     "output_type": "execute_result"
    }
   ],
   "source": [
    "nums = [4,5,6,7,0,1,2]\n",
    "findMin(nums)"
   ]
  }
 ],
 "metadata": {
  "kernelspec": {
   "display_name": "Python 3",
   "language": "python",
   "name": "python3"
  },
  "language_info": {
   "codemirror_mode": {
    "name": "ipython",
    "version": 3
   },
   "file_extension": ".py",
   "mimetype": "text/x-python",
   "name": "python",
   "nbconvert_exporter": "python",
   "pygments_lexer": "ipython3",
   "version": "3.8.5"
  }
 },
 "nbformat": 4,
 "nbformat_minor": 4
}
