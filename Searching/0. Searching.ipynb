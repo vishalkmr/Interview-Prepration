{
 "cells": [
  {
   "cell_type": "markdown",
   "metadata": {},
   "source": [
    "## Linear Search\n",
    "Linear Search best suited for Unsorted lists"
   ]
  },
  {
   "cell_type": "code",
   "execution_count": 1,
   "metadata": {},
   "outputs": [],
   "source": [
    "def linear_search(array,item):\n",
    "    \"\"\"\n",
    "    Function for linear search of element in array\n",
    "    Syntax: linear_search(array,item)\n",
    "    Return index value where the item is found\n",
    "    Time Complexity: O(n) \n",
    "    \"\"\"\n",
    "    for i in range(len(array)):\n",
    "        if array[i] == item:\n",
    "            return i"
   ]
  },
  {
   "cell_type": "code",
   "execution_count": 2,
   "metadata": {},
   "outputs": [
    {
     "data": {
      "text/plain": [
       "3"
      ]
     },
     "execution_count": 2,
     "metadata": {},
     "output_type": "execute_result"
    }
   ],
   "source": [
    "array=[0,1,2,3,4,5,6,7]\n",
    "item=3\n",
    "linear_search(array,item)"
   ]
  },
  {
   "cell_type": "markdown",
   "metadata": {},
   "source": [
    "## Binary Search\n",
    "Assumption:\n",
    "- Array is sorted\n",
    "- Middle element is directly accessible"
   ]
  },
  {
   "cell_type": "markdown",
   "metadata": {},
   "source": [
    "<b> Recursive Binary Search </b>. Assume that array is already in Ascending order.\n",
    " \n",
    " Space Complexity of Recursive Binary Search is more than Iterative Binary Search \n",
    " Becuase it make use of Recursion Stack for each function call"
   ]
  },
  {
   "cell_type": "code",
   "execution_count": 3,
   "metadata": {},
   "outputs": [],
   "source": [
    "def binary_search(array,beg,end,item):\n",
    "    ''' \n",
    "    Function for binary search of element in array \n",
    "    Synatx: binary_search(array,beg,end,item)\n",
    "    Return index of element where the item is found\n",
    "    Time Complexity: O(logn) \n",
    "    Space Complexity: O(logn)\n",
    "    Recurence Relation : T(n)=T(n/2)+C  (C represents constant) \n",
    "    '''\n",
    "    if beg <= end:\n",
    "        #finding middle element index\n",
    "        middle=(beg+end)//2 \n",
    "\n",
    "        #if item is mathched with middle element then middle is the required index\n",
    "        if array[middle] == item:\n",
    "            return middle\n",
    "\n",
    "        #if item is greater than the middle element then apply Binary Search on right portion of array\n",
    "        elif array[middle] < item:\n",
    "            return  binary_search(array,middle+1,end,item)\n",
    "\n",
    "        #if item is greater than the middle element then apply Binary Search on left portion of array\n",
    "        else:\n",
    "            return binary_search(array,beg,middle-1,item)"
   ]
  },
  {
   "cell_type": "code",
   "execution_count": 4,
   "metadata": {},
   "outputs": [
    {
     "data": {
      "text/plain": [
       "5"
      ]
     },
     "execution_count": 4,
     "metadata": {},
     "output_type": "execute_result"
    }
   ],
   "source": [
    "array=[0,1,2,3,4,5,6,7]\n",
    "item=5\n",
    "binary_search(array,0,len(array)-1,item)"
   ]
  },
  {
   "cell_type": "markdown",
   "metadata": {},
   "source": [
    "<b> Iterative Binary Search </b>. Assume that array is already in Ascending order."
   ]
  },
  {
   "cell_type": "code",
   "execution_count": 5,
   "metadata": {},
   "outputs": [],
   "source": [
    "def binary_search(array,item):\n",
    "    ''' \n",
    "    Function for binary search of element in array\n",
    "    Synatx: binary_search(array,item)\n",
    "    Retrun index of element where the item is found\n",
    "    Return -1 when item is not found in array\n",
    "    Time Complexity: O(logn)\n",
    "    '''\n",
    "    beg=0\n",
    "    end=len(array)-1\n",
    "    \n",
    "    while beg <= end:\n",
    "        #finding middle element index\n",
    "        mid=(beg+end)//2\n",
    "        \n",
    "        #if item is mathched with middle element \n",
    "        if array[mid] == item:\n",
    "            return mid\n",
    "        \n",
    "        #if item is less than the middle element than consider only left portion of array\n",
    "        if array[mid] > item:\n",
    "            end=mid-1\n",
    "        \n",
    "        #if item is greater than the middle element than consider only right portion of array\n",
    "        if array[mid] < item:\n",
    "            beg=mid+1\n",
    "        \n",
    "    else:\n",
    "        return -1"
   ]
  },
  {
   "cell_type": "code",
   "execution_count": 6,
   "metadata": {},
   "outputs": [
    {
     "data": {
      "text/plain": [
       "6"
      ]
     },
     "execution_count": 6,
     "metadata": {},
     "output_type": "execute_result"
    }
   ],
   "source": [
    "array=[0,1,2,3,4,5,6,7]\n",
    "item=6\n",
    "binary_search(array,item)"
   ]
  },
  {
   "cell_type": "markdown",
   "metadata": {},
   "source": [
    "<b> Iterative Binary Search </b>. Assume that array is already in Decending order."
   ]
  },
  {
   "cell_type": "code",
   "execution_count": 7,
   "metadata": {},
   "outputs": [],
   "source": [
    "def binary_search(array,item):\n",
    "    ''' \n",
    "    Function for binary search of element in array\n",
    "    Synatx: binary_search(array,item)\n",
    "    Retrun index of element where the item is found\n",
    "    Return -1 when item is not found in array\n",
    "    Time Complexity: O(logn)\n",
    "    '''\n",
    "    beg=0\n",
    "    end=len(array)-1\n",
    "    \n",
    "    while beg <= end:\n",
    "        #finding middle element index\n",
    "        mid=(beg+end)//2\n",
    "        \n",
    "        #if item is mathched with middle element \n",
    "        if array[mid] == item:\n",
    "            return mid\n",
    "        \n",
    "        #if item is less than the middle element than consider only right portion of array\n",
    "        if array[mid] > item:\n",
    "            beg=mid+1\n",
    "        \n",
    "        #if item is greater than the middle element than consider only left portion of array\n",
    "        if array[mid] < item:\n",
    "            end=mid-1\n",
    "        \n",
    "    else:\n",
    "        return -1"
   ]
  },
  {
   "cell_type": "code",
   "execution_count": 8,
   "metadata": {},
   "outputs": [
    {
     "data": {
      "text/plain": [
       "6"
      ]
     },
     "execution_count": 8,
     "metadata": {},
     "output_type": "execute_result"
    }
   ],
   "source": [
    "array=[7, 6, 5, 4, 3, 2, 1]\n",
    "item=1\n",
    "binary_search(array,item)"
   ]
  },
  {
   "cell_type": "markdown",
   "metadata": {},
   "source": [
    "## Ternary Search \n",
    "Assume that list is already in Ascending order. \n",
    "\n",
    "The number of Recursive Calls and Recisrion Stack Depth is lesser for Ternary Search as compared to Binary Search"
   ]
  },
  {
   "cell_type": "code",
   "execution_count": 9,
   "metadata": {},
   "outputs": [],
   "source": [
    "def ternary_search(array,beg,end,item):\n",
    "    ''' \n",
    "    Function for binary search of element in array \n",
    "    Synatx: ternary_search(array,beg,end,item)\n",
    "    Return index of element where the item is found\n",
    "    Time Complexity: O(logn) \n",
    "    Space Complexity: O(logn) \n",
    "    Recurence Relation : T(n)=T(n/3)+C  (C represents constant)\n",
    "    '''\n",
    "    if beg <= end:\n",
    "        first_middle=beg+((end-beg)//3) #finding 1st middle element which is at (n/3)rd index of array\n",
    "        second_middle=beg+(((end-beg)*2)//3) #finding 2nd middle element which is at (2n/3)rd index of array\n",
    "\n",
    "        #if item is mathched with first_middle element then first_middle is the required index\n",
    "        if array[first_middle] == item:\n",
    "            return first_middle\n",
    "\n",
    "        #if item is mathched with second_middle element then second_middle is the required index\n",
    "        elif array[second_middle] == item:\n",
    "            return second_middle\n",
    "\n",
    "        #if item is less than the first_middle element then apply Ternary Search on Left portion of array\n",
    "        elif array[first_middle] > item:\n",
    "            return  ternary_search(array,beg,first_middle-1,item)\n",
    "\n",
    "        #if item is between than the first_middle and second_middle then apply Ternary Search on Middle portion of array\n",
    "        elif (array[first_middle] < item) and (item < array[second_middle]):\n",
    "            return  ternary_search(array,first_middle+1,second_middle-1,item)\n",
    "\n",
    "        #if item is greater than the second_middle then apply Ternary Search on Right portion of array\n",
    "        elif array[second_middle] < item :\n",
    "            return  ternary_search(array,second_middle+1,end,item)"
   ]
  },
  {
   "cell_type": "code",
   "execution_count": 10,
   "metadata": {},
   "outputs": [
    {
     "data": {
      "text/plain": [
       "5"
      ]
     },
     "execution_count": 10,
     "metadata": {},
     "output_type": "execute_result"
    }
   ],
   "source": [
    "array=[0,1,2,3,4,5,6,7]\n",
    "item=5\n",
    "ternary_search(array,0,len(array)-1,item)"
   ]
  }
 ],
 "metadata": {
  "kernelspec": {
   "display_name": "Python 3",
   "language": "python",
   "name": "python3"
  },
  "language_info": {
   "codemirror_mode": {
    "name": "ipython",
    "version": 3
   },
   "file_extension": ".py",
   "mimetype": "text/x-python",
   "name": "python",
   "nbconvert_exporter": "python",
   "pygments_lexer": "ipython3",
   "version": "3.8.5"
  }
 },
 "nbformat": 4,
 "nbformat_minor": 4
}
