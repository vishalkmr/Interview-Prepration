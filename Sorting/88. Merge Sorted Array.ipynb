{
 "cells": [
  {
   "cell_type": "markdown",
   "metadata": {},
   "source": [
    "<h1>\n",
    "<a href=https://leetcode.com/problems/merge-sorted-array/\" style=\"color:green;text-decoration: none\";>88. Merge Sorted Array</a> \n",
    "</h1> \n",
    "\n",
    "```\n",
    "You are given two integer arrays nums1 and nums2, sorted in non-decreasing order, and two integers m and n, representing the number of elements in nums1 and nums2 respectively.\n",
    "\n",
    "Merge nums1 and nums2 into a single array sorted in non-decreasing order.\n",
    "\n",
    "The final sorted array should not be returned by the function, but instead be stored inside the array nums1. To accommodate this, nums1 has a length of m + n, where the first m elements denote the elements that should be merged, and the last n elements are set to 0 and should be ignored. nums2 has a length of n.\n",
    "\n",
    "Example 1:\n",
    "Input: nums1 = [1,2,3,0,0,0], m = 3, nums2 = [2,5,6], n = 3\n",
    "Output: [1,2,2,3,5,6]\n",
    "Explanation: The arrays we are merging are [1,2,3] and [2,5,6].\n",
    "The result of the merge is [1,2,2,3,5,6] with the underlined elements coming from nums1      \n",
    "                                                                                                    \n",
    "Example 2:\n",
    "Input: nums1 = [0], m = 0, nums2 = [1], n = 1\n",
    "Output: [1]\n",
    "Explanation: The arrays we are merging are [] and [1].\n",
    "The result of the merge is [1].\n",
    "Note that because m = 0, there are no elements in nums1. The 0 is only there to ensure the merge result can fit in nums1.\n",
    " \n",
    "Constraints:\n",
    "nums1.length == m + n\n",
    "nums2.length == n\n",
    "0 <= m, n <= 200\n",
    "1 <= m + n <= 200\n",
    "-109 <= nums1[i], nums2[j] <= 109\n",
    "```"
   ]
  },
  {
   "cell_type": "markdown",
   "metadata": {},
   "source": [
    "## Approach 1\n",
    "- Modified merge routine\n",
    "- Use start comapring the elements of list from end and whichever is large add it to the newly sorted array nums1[:len(nums1)]\n",
    "\n",
    "**T(n)=O(n)**\n",
    "\n",
    "**S(n)=O(1)**"
   ]
  },
  {
   "cell_type": "code",
   "execution_count": 1,
   "metadata": {},
   "outputs": [],
   "source": [
    "def merge(nums1, m, nums2, n):\n",
    "    last=len(nums1)-1\n",
    "    m=m-1\n",
    "    n=n-1\n",
    "\n",
    "    #adding the largest element to nums1 end\n",
    "    while m>=0 and n>=0:\n",
    "        if nums1[m] > nums2[n]:\n",
    "            nums1[last]=nums1[m]\n",
    "            m-=1\n",
    "        else:\n",
    "            nums1[last]=nums2[n]\n",
    "            n-=1\n",
    "        last-=1\n",
    "\n",
    "    #if some elements are left in nums2 then add it to nums1 directly \n",
    "    while n>=0:\n",
    "        nums1[last]=nums2[n]\n",
    "        n-=1\n",
    "        last-=1"
   ]
  },
  {
   "cell_type": "code",
   "execution_count": 2,
   "metadata": {},
   "outputs": [
    {
     "data": {
      "text/plain": [
       "[1, 2, 3, 4, 5, 6]"
      ]
     },
     "execution_count": 2,
     "metadata": {},
     "output_type": "execute_result"
    }
   ],
   "source": [
    "nums1 = [4,0,0,0,0,0]\n",
    "m = 1\n",
    "nums2 = [1,2,3,5,6]\n",
    "n = 5\n",
    "merge(nums1,m,nums2,n)\n",
    "\n",
    "\n",
    "nums1"
   ]
  },
  {
   "cell_type": "markdown",
   "metadata": {},
   "source": [
    "## Approach 2\n",
    "- Modified merge routine\n",
    "-  copy the elements of nums1 to the end\n",
    "-  now start iterating elements from both list from the begining and whichever is samller put it in the starting of the nums1\n",
    "\n",
    "**T(n)=O(n)**\n",
    "\n",
    "**S(n)=O(1)**"
   ]
  },
  {
   "cell_type": "code",
   "execution_count": 3,
   "metadata": {},
   "outputs": [],
   "source": [
    "def merge(nums1, m, nums2, n):\n",
    "    #copy the elements of nums1 in the last\n",
    "    first=m-1\n",
    "    last=len(nums1)-1\n",
    "    while first >= 0 and n!=0:\n",
    "        nums1[last]=nums1[first]\n",
    "        first-=1\n",
    "        last-=1\n",
    "        \n",
    "    p1=len(nums1)-m\n",
    "    p2=0\n",
    "    p=0\n",
    "\n",
    "    #adding the smallest element to nums1 begining\n",
    "    while p1 != m+n and p2 != n and m:\n",
    "        if nums1[p1] < nums2[p2]:\n",
    "            nums1[p]=nums1[p1]\n",
    "            p1+=1\n",
    "        else:\n",
    "            nums1[p]=nums2[p2]\n",
    "            p2+=1\n",
    "        p+=1\n",
    "    \n",
    "    while p1 != m+n and m:\n",
    "        nums1[p]=nums1[p1]\n",
    "        p1+=1\n",
    "        p+=1\n",
    "\n",
    "    while p2 != n:\n",
    "        nums1[p]=nums2[p2]\n",
    "        p2+=1\n",
    "        p+=1"
   ]
  },
  {
   "cell_type": "code",
   "execution_count": 4,
   "metadata": {},
   "outputs": [
    {
     "data": {
      "text/plain": [
       "[1, 2, 3, 4, 5, 6]"
      ]
     },
     "execution_count": 4,
     "metadata": {},
     "output_type": "execute_result"
    }
   ],
   "source": [
    "nums1 = [4,0,0,0,0,0]\n",
    "m = 1\n",
    "nums2 = [1,2,3,5,6]\n",
    "n = 5\n",
    "merge(nums1,m,nums2,n)\n",
    "\n",
    "\n",
    "nums1"
   ]
  }
 ],
 "metadata": {
  "kernelspec": {
   "display_name": "Python 3",
   "language": "python",
   "name": "python3"
  },
  "language_info": {
   "codemirror_mode": {
    "name": "ipython",
    "version": 3
   },
   "file_extension": ".py",
   "mimetype": "text/x-python",
   "name": "python",
   "nbconvert_exporter": "python",
   "pygments_lexer": "ipython3",
   "version": "3.8.5"
  }
 },
 "nbformat": 4,
 "nbformat_minor": 4
}
