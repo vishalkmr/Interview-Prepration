{
 "cells": [
  {
   "cell_type": "markdown",
   "metadata": {},
   "source": [
    "<h1>\n",
    "<a href=https://leetcode.com/problems/global-and-local-inversions/\" style=\"color:orange;text-decoration: none\";>775. Global and Local Inversions</a> \n",
    "</h1> \n",
    "\n",
    "```\n",
    "You are given an integer array nums of length n which represents a permutation of all the integers in the range [0, n - 1].\n",
    "\n",
    "The number of global inversions is the number of the different pairs (i, j) where:\n",
    "0 <= i < j < n\n",
    "nums[i] > nums[j]\n",
    "                                                                                                              \n",
    "The number of local inversions is the number of indices i where:\n",
    "0 <= i < n - 1\n",
    "nums[i] > nums[i + 1]\n",
    "Return true if the number of global inversions is equal to the number of local inversions.\n",
    "\n",
    "Example 1:\n",
    "Input: nums = [1,0,2]\n",
    "Output: true\n",
    "Explanation: There is 1 global inversion and 1 local inversion.\n",
    "\n",
    "Example 2:\n",
    "Input: nums = [1,2,0]\n",
    "Output: false\n",
    "Explanation: There are 2 global inversions and 1 local inversion.\n",
    " \n",
    "Constraints:\n",
    "n == nums.length\n",
    "1 <= n <= 105\n",
    "0 <= nums[i] < n\n",
    "All the integers of nums are unique.\n",
    "nums is a permutation of all the numbers in the range [0, n - 1].\n",
    "```"
   ]
  },
  {
   "cell_type": "markdown",
   "metadata": {},
   "source": [
    "## Approach 1\n",
    "- Count the local inveresions in array\n",
    "- Count the global inveresions in array using insertion sort until it becomes equal to local inveresions\n",
    "- The moment when global inveresions exceeds the local inveresions we can stop counting the global inveresions and return False\n",
    " \n",
    "**T(n)=O(n)**"
   ]
  },
  {
   "cell_type": "code",
   "execution_count": 1,
   "metadata": {},
   "outputs": [],
   "source": [
    "def isIdealPermutation(nums):\n",
    "    local_inversion=0\n",
    "    #counting local inveresions\n",
    "    for i in range(len(nums)-1):\n",
    "        if nums[i] > nums[i+1]:\n",
    "            local_inversion+=1\n",
    "    \n",
    "    #start counting global inveresions until it exceeds the local inveresions\n",
    "    for i in range(1,len(nums)):\n",
    "        pos=i\n",
    "        temp=nums[pos]\n",
    "        while pos > 0 and temp < nums[pos-1]:\n",
    "            nums[pos]=nums[pos-1]\n",
    "            pos-=1\n",
    "            \n",
    "            local_inversion-=1\n",
    "            if local_inversion < 0:\n",
    "                return False\n",
    "\n",
    "        nums[pos]=temp\n",
    "        \n",
    "    if local_inversion == 0:\n",
    "        return True\n",
    "    else:\n",
    "        return False"
   ]
  },
  {
   "cell_type": "markdown",
   "metadata": {},
   "source": [
    "## Approach 2\n",
    "- Given that array contains disntinct elements beetwen 0..n-1\n",
    "- For the case when local inveresions equals to global inversions the value of ith elements can be places in range i-1 to i+1 \n",
    "- That means the element value can at max be +1 more than its index and at min -1 less than its index\n",
    "- If the difference beetwen element and its index is more than that means the global inversions are more than local inversions\n",
    " \n",
    "**T(n)=O(n)**"
   ]
  },
  {
   "cell_type": "code",
   "execution_count": 2,
   "metadata": {},
   "outputs": [],
   "source": [
    "def isIdealPermutation(nums):\n",
    "    for i in range(len(nums)):\n",
    "        if abs(nums[i]-i) > 1:\n",
    "            return False\n",
    "\n",
    "    return True"
   ]
  }
 ],
 "metadata": {
  "kernelspec": {
   "display_name": "Python 3",
   "language": "python",
   "name": "python3"
  },
  "language_info": {
   "codemirror_mode": {
    "name": "ipython",
    "version": 3
   },
   "file_extension": ".py",
   "mimetype": "text/x-python",
   "name": "python",
   "nbconvert_exporter": "python",
   "pygments_lexer": "ipython3",
   "version": "3.8.5"
  }
 },
 "nbformat": 4,
 "nbformat_minor": 4
}
