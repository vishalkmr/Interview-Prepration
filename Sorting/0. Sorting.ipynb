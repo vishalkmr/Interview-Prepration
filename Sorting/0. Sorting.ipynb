{
 "cells": [
  {
   "cell_type": "markdown",
   "metadata": {},
   "source": [
    "## Selection Sort\n",
    "- Assume that subarray `arrray[0:i-1]` is already sorted\n",
    "- Here we find the minimum element in the subarray `arrray[i:N-1]` at ith itreration and swap the minimum element value by ith element `array[i]`\n",
    "\n",
    "**Example:** Let us take the array of numbers [3, 6, 1, 8, 5, 2, 4, 7], and sort the array in ascending order using selection sort.\n",
    "``` \n",
    "First Pass\n",
    "[3, 6, 1, 8, 5, 2, 4, 7] -> [1, 6, 3, 8, 5, 2, 4, 7], select the mininmum and append it to the already sorted subarray (beggining of the array)\n",
    "\n",
    "Second Pass\n",
    "[1, 6, 3, 8, 5, 2, 4, 7] -> [1, 2, 3, 8, 5, 6, 4, 7], select the mininmum in the remaining array and append it to the already sorted subarray\n",
    "\n",
    "Third Pass\n",
    "[1, 2, 3, 8, 5, 6, 4, 7] -> [1, 2, 3, 8, 5, 6, 4, 7] select the mininmum in the remaining array and append it to the already sorted subarray. hence array =[1, 2, 3, 8, 5, 6, 4, 7]\n",
    "\n",
    "Fourth Pass\n",
    "[1, 2, 3, 8, 5, 6, 4, 7] ->[1, 2, 3, 4, 5, 6, 8, 7]  select the mininmum in the remaining array and append it to the already sorted subarray\n",
    "\n",
    "Simmilarly other Passes yields same Sorted Array\n",
    "```\n",
    "<br>\n",
    "\n",
    "**T(n)=O(n<sup>2</sup>)**\n",
    "\n",
    "**S(n)=O(1)**"
   ]
  },
  {
   "cell_type": "code",
   "execution_count": 1,
   "metadata": {},
   "outputs": [],
   "source": [
    "def selection_sort(array):\n",
    "    ''' \n",
    "    Funtion to sort the array using Selection Sort\n",
    "    Syntax: selection_sort(array)\n",
    "    Time Complexity:\n",
    "     Worst Case : O(n^2) \n",
    "     Best Case : O(n) \n",
    "    '''\n",
    "    for index in range(len(array)):\n",
    "        minimum=index\n",
    "        #find the minimum element index in array[index,(N-1)]\n",
    "        for position in range(index,len(array)):\n",
    "            if array[minimum]>array[position]:\n",
    "                minimum=position\n",
    "        #append the (index+1)th minimum indexed element on already sorted array\n",
    "        #here subarray array[0,index-1] is already sorted\n",
    "        array[index],array[minimum]=array[minimum],array[index]"
   ]
  },
  {
   "cell_type": "code",
   "execution_count": 2,
   "metadata": {},
   "outputs": [
    {
     "data": {
      "text/plain": [
       "[1, 2, 3, 4, 5, 6, 7, 8]"
      ]
     },
     "execution_count": 2,
     "metadata": {},
     "output_type": "execute_result"
    }
   ],
   "source": [
    "array=[3,6,1,8,5,2,4,7]\n",
    "selection_sort(array)\n",
    "array"
   ]
  },
  {
   "cell_type": "markdown",
   "metadata": {},
   "source": [
    "## Bubble Sort\n",
    "- Here we do pairwise swap between adjecent elements if the left element is larger than right element\n",
    "- 1st series of pairwise swaps through the array place the largest element at the end of array\n",
    "- Simillarly ith series of pairwise swaps through the array place the ith largest element to its correct position in array\n",
    "\n",
    "**Example:**  Let us take the array of numbers [5 1 4 2 8], and sort the array in ascending order using bubble sort. \n",
    "```\n",
    "First Pass\n",
    "[ 5 1 4 2 8 ] -> [ 1 5 4 2 8 ], Here, algorithm compares the first two elements, and swaps since 5 > 1.\n",
    "[ 1 5 4 2 8 ] -> [ 1 4 5 2 8 ], Swap since 5 > 4\n",
    "[ 1 4 5 2 8 ] -> [ 1 4 2 5 8 ], Swap since 5 > 2\n",
    "[ 1 4 2 5 8 ] -> [ 1 4 2 5 8 ], Now, since these elements are already in order [8 > 5], algorithm does not swap them.\n",
    "\n",
    "Second Pass\n",
    "[ 1 4 2 5 8 ] -> [ 1 4 2 5 8 ]\n",
    "[ 1 4 2 5 8 ] -> [ 1 2 4 5 8 ], Swap since 4 > 2\n",
    "[ 1 2 4 5 8 ] -> [ 1 2 4 5 8 ]\n",
    "[ 1 2 4 5 8 ] -> [ 1 2 4 5 8 ]\n",
    "Now, the array is already sorted, but the algorithm does not know if it is completed. The algorithm needs one whole pass without any swap to know it is sorted.\n",
    "\n",
    "Third Pass\n",
    "[ 1 2 4 5 8 ] -> [ 1 2 4 5 8 ]\n",
    "[ 1 2 4 5 8 ] -> [ 1 2 4 5 8 ]\n",
    "[ 1 2 4 5 8 ] -> [ 1 2 4 5 8 ]\n",
    "[ 1 2 4 5 8 ] -> [ 1 2 4 5 8 ]\n",
    "\n",
    "Simmilarly other Passes yields same Sorted Array\n",
    "```\n",
    "<br>\n",
    "\n",
    "**T(n)=O(n<sup>2</sup>)**\n",
    " \n",
    "**S(n)=O(1)**"
   ]
  },
  {
   "cell_type": "code",
   "execution_count": 3,
   "metadata": {},
   "outputs": [],
   "source": [
    "#Conventional Bubble Sort\n",
    "def bubble_sort(array):\n",
    "    ''' \n",
    "    Funtion to sort the array using Bubble Sort\n",
    "    Syntax: bubble_sort(array)\n",
    "    Time Complexity: O(n^2)   [Every Case]\n",
    "    '''\n",
    "    for i in range(len(array)-1):\n",
    "        for j in range(len(array)-1-i):\n",
    "            #check the adjecent elements are in increasing order or not\n",
    "            if array[j]>array[j+1]:\n",
    "                #if not then perform pairwise swaps\n",
    "                array[j],array[j+1]=array[j+1],array[j]\n",
    "\n",
    "# Efficient Bubble Sort\n",
    "def bubble_sort(array):\n",
    "    '''\n",
    "    Funtion to sort the array using Bubble Sort\n",
    "    Syntax: bubble_sort(array)\n",
    "    Time Complexity:\n",
    "     Worst Case : O(n^2) \n",
    "     Best Case : O(n)   \n",
    "    '''\n",
    "    #Flag to monitor that swaping ocuured or not\n",
    "    swapped = True\n",
    "    #if swapped is Flase that means no element is changed and array is sorted so we don't have to process anymore\n",
    "    while swapped:\n",
    "        swapped = False\n",
    "        for index in range(len(array)-1):\n",
    "            #check the adjecent elements are in increasing order or not\n",
    "            if array[index] > array[index+1]:\n",
    "                #if not then perform pairwise swaps\n",
    "                array[index],array[index+1]=array[index+1],array[index] \n",
    "                swapped = True"
   ]
  },
  {
   "cell_type": "code",
   "execution_count": 4,
   "metadata": {},
   "outputs": [
    {
     "data": {
      "text/plain": [
       "[1, 2, 3, 4, 5, 6, 7]"
      ]
     },
     "execution_count": 4,
     "metadata": {},
     "output_type": "execute_result"
    }
   ],
   "source": [
    "array=[7, 6, 5, 4, 3, 2, 1]\n",
    "bubble_sort(array)\n",
    "array"
   ]
  },
  {
   "cell_type": "markdown",
   "metadata": {},
   "source": [
    "## Insertion Sort\n",
    "- Assume that subarray `arrray[0:i-1]` is already sorted \n",
    "- Now Insert the element `array[i]` in the sorted subarray so that subarray `arrray[0:i]` is sorted\n",
    "- Element `array[i]` is placed to its appropriate position by using **pairwise swaps**\n",
    "- **Inplace** and **Stable** sorting algorithm\n",
    "\n",
    " \n",
    "**Example:**\n",
    "let the initial array is  `[3, 6, 1, 8, 5, 2, 4, 7]`\n",
    "\n",
    "Selection sort make the changes in the array in bellow sequence to sort it.\n",
    "\n",
    "<code>[3, 6, 1, 8, 5, 2, 4, 7]\n",
    " [3, 6, 1, 8, 5, 2, 4, 7]\n",
    " [1, 3, 6, 8, 5, 2, 4, 7]\n",
    " [1, 3, 6, 8, 5, 2, 4, 7]\n",
    " [1, 3, 5, 6, 8, 2, 4, 7]\n",
    " [1, 2, 3, 5, 6, 8, 4, 7]\n",
    " [1, 2, 3, 4, 5, 6, 8, 7]\n",
    " [1, 2, 3, 4, 5, 6, 7, 8]\n",
    " [1, 2, 3, 4, 5, 6, 7, 8]</code>\n",
    " <br><br>\n",
    " \n",
    " \n",
    " **T(n)=O(n<sup>2</sup>)**\n",
    " \n",
    " **S(n)=O(1)**"
   ]
  },
  {
   "cell_type": "code",
   "execution_count": 5,
   "metadata": {},
   "outputs": [],
   "source": [
    "def insertion_sort(array):\n",
    "    ''' \n",
    "    Funtion to sort the array using Insertion Sort\n",
    "    Syntax: insertion_sort(array)\n",
    "    Time Complexity:\n",
    "     Worst Case : O(n^2) \n",
    "     Best Case : O(n)   \n",
    "    '''   \n",
    "    for index in range(len(array)):\n",
    "        current_element=array[index]\n",
    "        position=index\n",
    "\n",
    "        #Assume subarray array[0,(index-1)] is already sorted\n",
    "        #Now we have to insert the current_element(array[index]) in the subarray(array[0,(index-1)]) \n",
    "        #such that subarray remains sorted\n",
    "        while position and current_element < array[position-1]:\n",
    "            array[position]=array[position-1]\n",
    "            position-=1 #update the position\n",
    "        \n",
    "        #place the current element to it sorted position in the array\n",
    "        array[position]=current_element"
   ]
  },
  {
   "cell_type": "code",
   "execution_count": 6,
   "metadata": {},
   "outputs": [
    {
     "data": {
      "text/plain": [
       "[1, 2, 3, 4, 5, 6, 7, 8]"
      ]
     },
     "execution_count": 6,
     "metadata": {},
     "output_type": "execute_result"
    }
   ],
   "source": [
    "array=[3,6,1,8,5,2,4,7]\n",
    "insertion_sort(array)\n",
    "array"
   ]
  },
  {
   "cell_type": "markdown",
   "metadata": {},
   "source": [
    "## Merge Sort\n",
    " \n",
    "- Divide the unsorted array into n subarrays, each containing 1 element (a array of 1 element is considered sorted).\n",
    "- Repeatedly merge subarrays to produce new sorted subarrays until there is only 1 subarray remaining. This will be the sorted array.\n",
    "- **Stable** but **Not Inplace** sorting algorithm\n",
    " \n",
    " \n",
    "**Recurence Relation** `T(n)=2T(n/2)+O(n)`\n",
    "\n",
    "**T(n)=O(nlogn)**\n",
    "\n",
    "**S(n)=O(n)**"
   ]
  },
  {
   "cell_type": "code",
   "execution_count": 7,
   "metadata": {},
   "outputs": [],
   "source": [
    "def merge(array,beg,mid,end):\n",
    "    ''' \n",
    "    Funtion to merge the sorted subarrays array[beg,mid] & array[mid+1,end] into merged array\n",
    "    Syntax:  merge(array,beg,mid,end)\n",
    "    Time Complexity: O(n)\n",
    "    '''\n",
    "    l=beg #left-array pointer\n",
    "    r=mid+1 #right-array pointer\n",
    "    k=beg #merged-array pointer\n",
    "    merged_array=[] #extra array to contain merged sorted array\n",
    "\n",
    "    #while there are some elements in both the left_array and the right_array\n",
    "    while l <= mid and r <= end:\n",
    "        #compare there element and add the smaller element to the merged_array\n",
    "        if array[l]<array[r]:\n",
    "            merged_array.append(array[l])\n",
    "            l+=1\n",
    "        else:\n",
    "            merged_array.append(array[r])\n",
    "            r+=1\n",
    "\n",
    "    #if some element are remaining in the left_array then simply add them to the merged_array\t\t\n",
    "    while l <= mid:\n",
    "        merged_array.append(array[l])\n",
    "        l+=1\n",
    "\n",
    "    #if some element are remaining in the right_array then simply add them to the merged_array\t\n",
    "    while r <= end:\n",
    "        merged_array.append(array[r])\n",
    "        r+=1\n",
    "    \n",
    "    #copy back the sorted element to the original array   \n",
    "    for element in merged_array:\n",
    "        array[k]=element\n",
    "        k+=1\n",
    "        \n",
    "def merge_sort(array,beg,end):\n",
    "    ''' \n",
    "    Funtion to sort the array using Merge Sort\n",
    "    Syntax: merge_sort(array,beg,end)\n",
    "    Time Complexity: O(nlogn)\n",
    "    Recurence Relation : T(n)=2T(n/2)+O(n) \n",
    "    '''\n",
    "    if beg < end:\n",
    "        #compute the middle element index\n",
    "        mid=(beg+end)//2 \n",
    "\n",
    "        #Recursively sort the remaining left and right subarrays\n",
    "        merge_sort(array,beg,mid)\n",
    "        merge_sort(array,mid+1,end)\n",
    "        \n",
    "        #Merge the sorted left_array and right_array into array\n",
    "        merge(array,beg,mid,end)"
   ]
  },
  {
   "cell_type": "code",
   "execution_count": 8,
   "metadata": {
    "scrolled": true
   },
   "outputs": [
    {
     "data": {
      "text/plain": [
       "[2, 3, 5, 6, 8, 10, 11, 13]"
      ]
     },
     "execution_count": 8,
     "metadata": {},
     "output_type": "execute_result"
    }
   ],
   "source": [
    "array=[6,10,13,5,8,3,2,11]\n",
    "merge_sort(array,0,len(array)-1)\n",
    "array"
   ]
  },
  {
   "cell_type": "markdown",
   "metadata": {},
   "source": [
    "## Quick Sort\n",
    " \n",
    "- Pick an element, called a pivot, from the array.\n",
    "- Partitioning: reorder the array so that all elements with values less than the pivot come before the pivot, while all elements with values greater than the pivot come after it. \n",
    "- After this partitioning, the place pivot is in its final position. This is called the partition operation.\n",
    "- Recursively apply the above steps to the sub-array of elements with smaller values and separately to the sub-array of elements with greater values.\n",
    " '''\n",
    "- **Stable** but **Inplace** sorting algorithm\n",
    "\n",
    "**Example:** let the initial array is  `[3, 6, 1, 8, 5, 2, 4, 7]`\n",
    "``` \n",
    "[1, 2, (3), 8, 5, 6, 4, 7] array after partition when 3 is choosen as pivot\n",
    "[(1), 2, 3, 8, 5, 6, 4, 7] array after partition when 1 is choosen as pivot\n",
    "[1, 2, 3, 7, 5, 6, 4, (8)] array after partition when 8 is choosen as pivot\n",
    "[1, 2, 3, 4, 5, 6, (7), 8] array after partition when 7 is choosen as pivot\n",
    "[1, 2, 3, (4), 5, 6, 7, 8] array after partition when 4 is choosen as pivot\n",
    "[1, 2, 3, 4, (5), 6, 7, 8] array after partition when 5 is choosen as pivot\n",
    "```\n",
    "\n",
    "**Recurence Relation** `T(n)=T(n-q)+T(n-p)+O(n)`\n",
    "\n",
    "**T(n)=O(nlog)**\n",
    "\n",
    "**S(n)=O(1)**"
   ]
  },
  {
   "cell_type": "code",
   "execution_count": 9,
   "metadata": {},
   "outputs": [],
   "source": [
    "def partition(array,lb,ub):\n",
    "    ''' \n",
    "    Funtion to partition the array so that all elements with values less than the pivot come before the pivot, while all elements with values greater than the pivot come after it \n",
    "    Finally Rerturn the index of pivot\n",
    "    Syntax: partition(array)\n",
    "    Time Complexity: O(n)   [Every Case]\n",
    "    '''\n",
    "    pivot=array[lb] # initialise pivot\n",
    "    i=lb #points to element smaller than pivot\n",
    "    j=ub #points to element larger than pivot\n",
    "\n",
    "    while(i<=j):\n",
    "        #from left side of the array find the index whose value is larger than pivot\n",
    "        while(i<=j and array[i]<=pivot):\n",
    "            i=i+1\n",
    "        #from right side of the array find the index whose value is smaller than pivot\n",
    "        while(i<=j and pivot<array[j]):\n",
    "            j=j-1\n",
    "        if(i<j):\n",
    "            #bring smaller element to the left and larger element to the right side of the array by swapping value pointed by i and j\n",
    "            array[i],array[j]=array[j],array[i]\n",
    "    #finally place the pivot at the appropriate position in the array so that left side element are smaller and right side element are larger than pivot value    \n",
    "    array[lb],array[j]=array[j],array[lb]\n",
    "    return j\n",
    "\n",
    "def quick_sort(array,lb,ub):\n",
    "    ''' \n",
    "    Funtion to sort the array using Quick Sort\n",
    "    Syntax: quick_sort(array,lb,ub)\n",
    "    Time Complexity: \n",
    "     Worst Case : O(n^2)\n",
    "     Best Case : O(nlogn)\n",
    "    Recurence Relation : T(n)=T(n-q)+T(n-p)+O(n) p & q are contants \n",
    "     Worst Case :  T(n)=T(c-1)+T(n-c)+O(n)      c is a contant\n",
    "     Best Case :   T(n)=T(x.n)+T((1/x).n)+O(n)    0<x<1\n",
    "    '''\n",
    "    if(lb<ub):\n",
    "        #Partitioning the array depending on pivot\n",
    "        pos=partition(array,lb,ub)\n",
    "        \n",
    "        #Recursively sort the remaining left and right subarrays    \n",
    "        quick_sort(array,lb,pos-1)\n",
    "        quick_sort(array,pos+1,ub)"
   ]
  },
  {
   "cell_type": "code",
   "execution_count": 10,
   "metadata": {
    "scrolled": true
   },
   "outputs": [
    {
     "data": {
      "text/plain": [
       "[1, 2, 3, 4, 5, 6, 7, 8]"
      ]
     },
     "execution_count": 10,
     "metadata": {},
     "output_type": "execute_result"
    }
   ],
   "source": [
    "array=[3, 6, 1, 8, 5, 2, 4, 7]\n",
    "quick_sort(array,0,len(array)-1)\n",
    "array"
   ]
  }
 ],
 "metadata": {
  "kernelspec": {
   "display_name": "Python 3",
   "language": "python",
   "name": "python3"
  },
  "language_info": {
   "codemirror_mode": {
    "name": "ipython",
    "version": 3
   },
   "file_extension": ".py",
   "mimetype": "text/x-python",
   "name": "python",
   "nbconvert_exporter": "python",
   "pygments_lexer": "ipython3",
   "version": "3.8.5"
  }
 },
 "nbformat": 4,
 "nbformat_minor": 4
}
