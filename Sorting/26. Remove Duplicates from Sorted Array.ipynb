{
 "cells": [
  {
   "cell_type": "markdown",
   "metadata": {},
   "source": [
    "<h1>\n",
    "<a href=https://leetcode.com/problems/remove-duplicates-from-sorted-array/\" style=\"color:green;text-decoration: none\";>26. Remove Duplicates from Sorted Array</a> \n",
    "</h1> \n",
    "\n",
    "```\n",
    "Given an integer array nums sorted in non-decreasing order, remove the duplicates in-place such that each unique element appears only once. The relative order of the elements should be kept the same.\n",
    "\n",
    "Since it is impossible to change the length of the array in some languages, you must instead have the result be placed in the first part of the array nums. More formally, if there are k elements after removing the duplicates, then the first k elements of nums should hold the final result. It does not matter what you leave beyond the first k elements.\n",
    "\n",
    "Return k after placing the final result in the first k slots of nums.\n",
    "\n",
    "Do not allocate extra space for another array. You must do this by modifying the input array in-place with O(1) extra memory.\n",
    "\n",
    "Example 1:\n",
    "Input: nums = [1,1,2]\n",
    "Output: 2, nums = [1,2,_]\n",
    "Explanation: Your function should return k = 2, with the first two elements of nums being 1 and 2 respectively.\n",
    "It does not matter what you leave beyond the returned k (hence they are underscores).\n",
    "                                                                                                              \n",
    "Example 2:\n",
    "Input: nums = [0,0,1,1,1,2,2,3,3,4]\n",
    "Output: 5, nums = [0,1,2,3,4,_,_,_,_,_]\n",
    "Explanation: Your function should return k = 5, with the first five elements of nums being 0, 1, 2, 3, and 4 respectively.\n",
    " \n",
    "Constraints:\n",
    "1 <= nums.length <= 3 * 104\n",
    "-100 <= nums[i] <= 100\n",
    "nums is sorted in non-decreasing order.\n",
    "```"
   ]
  },
  {
   "cell_type": "markdown",
   "metadata": {},
   "source": [
    "## Approach 1\n",
    "- We make use of two pointer approach to solve this problem\n",
    "- `unique_pointer` will always points to the end of unique element list\n",
    "- `current_pointer` points to the element which is to be checked\n",
    "- If current and unique pointer pointed values are same(means duplicate element occures) then we just skip that element\n",
    "- Otherwise we add that element into unique element list and update the `unique_pointer` accordingly\n",
    " \n",
    "**T(n)=O(n)**"
   ]
  },
  {
   "cell_type": "code",
   "execution_count": 1,
   "metadata": {},
   "outputs": [],
   "source": [
    "def removeDuplicates(nums):\n",
    "    unique_pointer=current_pointer=0\n",
    "\n",
    "    while current_pointer != len(nums):\n",
    "\n",
    "        if(nums[current_pointer]!=nums[unique_pointer]):\n",
    "            unique_pointer+=1\n",
    "            nums[unique_pointer]=nums[current_pointer]\n",
    "\n",
    "        current_pointer+=1\n",
    "\n",
    "    return  unique_pointer+1   "
   ]
  }
 ],
 "metadata": {
  "kernelspec": {
   "display_name": "Python 3",
   "language": "python",
   "name": "python3"
  },
  "language_info": {
   "codemirror_mode": {
    "name": "ipython",
    "version": 3
   },
   "file_extension": ".py",
   "mimetype": "text/x-python",
   "name": "python",
   "nbconvert_exporter": "python",
   "pygments_lexer": "ipython3",
   "version": "3.8.5"
  }
 },
 "nbformat": 4,
 "nbformat_minor": 4
}
