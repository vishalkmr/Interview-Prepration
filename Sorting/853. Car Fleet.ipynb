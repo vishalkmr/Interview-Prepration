{
 "cells": [
  {
   "cell_type": "markdown",
   "metadata": {},
   "source": [
    "<h1>\n",
    "<a href=\"https://leetcode.com/problems/car-fleet/description/\" style=\"color:orange;text-decoration: none\";>853. Car Fleet</a> \n",
    "</h1> \n",
    "\n",
    "```\n",
    "There are n cars going to the same destination along a one-lane road. The destination is target miles away.\n",
    "\n",
    "You are given two integer array position and speed, both of length n, where position[i] is the position of the ith car and speed[i] is the speed of the ith car (in miles per hour).\n",
    "\n",
    "A car can never pass another car ahead of it, but it can catch up to it and drive bumper to bumper at the same speed. The faster car will slow down to match the slower car's speed. The distance between these two cars is ignored (i.e., they are assumed to have the same position).\n",
    "\n",
    "A car fleet is some non-empty set of cars driving at the same position and same speed. Note that a single car is also a car fleet.\n",
    "\n",
    "If a car catches up to a car fleet right at the destination point, it will still be considered as one car fleet.\n",
    "\n",
    "Return the number of car fleets that will arrive at the destination.\n",
    "\n",
    "Example 1:\n",
    "Input: target = 12, position = [10,8,0,5,3], speed = [2,4,1,1,3]\n",
    "Output: 3\n",
    "Explanation:\n",
    "The cars starting at 10 (speed 2) and 8 (speed 4) become a fleet, meeting each other at 12.\n",
    "The car starting at 0 does not catch up to any other car, so it is a fleet by itself.\n",
    "The cars starting at 5 (speed 1) and 3 (speed 3) become a fleet, meeting each other at 6. The fleet moves at speed 1 until it reaches target.\n",
    "Note that no other cars meet these fleets before the destination, so the answer is 3.\n",
    "\n",
    "Example 2:\n",
    "Input: target = 100, position = [0,2,4], speed = [4,2,1]\n",
    "Output: 1\n",
    "Explanation:\n",
    "The cars starting at 0 (speed 4) and 2 (speed 2) become a fleet, meeting each other at 4. The fleet moves at speed 2.\n",
    "Then, the fleet (speed 2) and the car starting at 4 (speed 1) become one fleet, meeting each other at 6. The fleet moves at speed 1 until it reaches target.\n",
    " \n",
    "Constraints:\n",
    "n == position.length == speed.length\n",
    "1 <= n <= 105\n",
    "0 < target <= 106\n",
    "0 <= position[i] < target\n",
    "All the values of position are unique.\n",
    "0 < speed[i] <= 106\n",
    "```"
   ]
  },
  {
   "cell_type": "markdown",
   "metadata": {},
   "source": [
    "## Approach 1\n",
    "- Road is blocked last car until it reaches to the target,so we have to process the cars in reverse order of their sorted distance\n",
    "- Time taken by current car to reach target is euql to (target - car_position)/car_speed\n",
    "- If car takes larger time then current fleet time(means slower than the current fleet), that car makes new fleet\n",
    "- If car takes smaller time then current fleet time(means faster than the current fleet), due to single lane car has too slow down according to current fleet eventually\n",
    "\n",
    "**T(n)=O(nlog(n))**\n",
    "\n",
    "**S(n)=O(n)**\n"
   ]
  },
  {
   "cell_type": "code",
   "execution_count": 1,
   "metadata": {},
   "outputs": [],
   "source": [
    "def carFleet(target, position, speed):\n",
    "    pairs = [(position[i], speed[i]) for i in range(len(position))]\n",
    "    fleets = curtime_fleet_time = 0 \n",
    "\n",
    "    #the road is blocked last car until it reaches to the target\n",
    "    #so we have to sort the array in reverse order of thier distance\n",
    "    for car_position, car_speed in sorted(pairs, reverse=True):\n",
    "        total_time_taken_by_car_to_reach_target = (target - car_position)/car_speed\n",
    "        #if the current car takes larger time than the current fleet time \n",
    "        #means that car can be create a new fleet since it is slower than the current fleet\n",
    "        if curtime_fleet_time < total_time_taken_by_car_to_reach_target:\n",
    "            curtime_fleet_time = total_time_taken_by_car_to_reach_target\n",
    "            fleets += 1\n",
    "    return fleets"
   ]
  },
  {
   "cell_type": "code",
   "execution_count": 2,
   "metadata": {},
   "outputs": [
    {
     "data": {
      "text/plain": [
       "3"
      ]
     },
     "execution_count": 2,
     "metadata": {},
     "output_type": "execute_result"
    }
   ],
   "source": [
    "target = 12\n",
    "position = [10,8,0,5,3]\n",
    "speed = [2,4,1,1,3]\n",
    "carFleet(target, position, speed)"
   ]
  }
 ],
 "metadata": {
  "kernelspec": {
   "display_name": "Python 3",
   "language": "python",
   "name": "python3"
  },
  "language_info": {
   "codemirror_mode": {
    "name": "ipython",
    "version": 3
   },
   "file_extension": ".py",
   "mimetype": "text/x-python",
   "name": "python",
   "nbconvert_exporter": "python",
   "pygments_lexer": "ipython3",
   "version": "3.8.5"
  }
 },
 "nbformat": 4,
 "nbformat_minor": 4
}
