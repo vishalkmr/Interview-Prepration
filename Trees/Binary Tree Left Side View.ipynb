{
 "cells": [
  {
   "cell_type": "markdown",
   "metadata": {},
   "source": [
    "<h1>\n",
    "<a href=\"\" style=\"color:orange;text-decoration: none\";>Binary Tree Left Side View\n",
    "</a> \n",
    "</h1> \n",
    "\n",
    "```\n",
    "Given the root of a binary tree, imagine yourself standing on the left side of it, return the values of the nodes you can see ordered from top to bottom. \n",
    "\n",
    "Example 1:\n",
    "Input: root = [9,8,14,6,null,5,7,null,null,1]\n",
    "Output: [9,8,6,1]\n",
    "\n",
    "\n",
    "Example 2:\n",
    "Input: root = [1,2,3,null,5,null,4]\n",
    "Output: [1,2,5]\n",
    "\n",
    "\n",
    "Constraints:\n",
    "The number of nodes in the tree is in the range [0, 100].\n",
    "-100 <= Node.val <= 100\n",
    "```"
   ]
  },
  {
   "cell_type": "markdown",
   "metadata": {},
   "source": [
    "## Approach 1\n",
    "- Non-Recursive solution using **BFS** with Queue\n",
    "- At each level add the left most node from current level order into final left side view\n",
    "\n",
    " \n",
    "**T(n)=O(n)**\n",
    "\n",
    "**S(n)=O(n)**"
   ]
  },
  {
   "cell_type": "code",
   "execution_count": null,
   "metadata": {},
   "outputs": [],
   "source": [
    "# Definition for a binary tree node.\n",
    "# class TreeNode:\n",
    "#     def __init__(self, val=0, left=None, right=None):\n",
    "#         self.val = val\n",
    "#         self.left = left\n",
    "#         self.right = right\n",
    "class Solution:\n",
    "    def leftSideView(self, root: Optional[TreeNode]) -> List[int]:\n",
    "        queue=[root]\n",
    "        left_side_view=[]\n",
    "        \n",
    "        #empty tree\n",
    "        if not root:\n",
    "            return left_side_view\n",
    "        \n",
    "        while len(queue)>0:\n",
    "            left_most_node=None\n",
    "            #for nodes in each level\n",
    "            for i in range(len(queue)):\n",
    "                #remove from queue and update the left most element from current level\n",
    "                deleted_node=queue.pop(0)\n",
    "                if not left_most_node:\n",
    "                    left_most_node=deleted_node\n",
    "                \n",
    "                #if removed node has childrens add them to the queue\n",
    "                if deleted_node.left:\n",
    "                    queue.append(deleted_node.left)\n",
    "                if deleted_node.right:\n",
    "                    queue.append(deleted_node.right)\n",
    "            \n",
    "            #add the left most node from current level order into final left side view\n",
    "            left_side_view.append(left_most_node.val)\n",
    "\n",
    "        return  left_side_view  "
   ]
  }
 ],
 "metadata": {
  "kernelspec": {
   "display_name": "Python 3",
   "language": "python",
   "name": "python3"
  },
  "language_info": {
   "codemirror_mode": {
    "name": "ipython",
    "version": 3
   },
   "file_extension": ".py",
   "mimetype": "text/x-python",
   "name": "python",
   "nbconvert_exporter": "python",
   "pygments_lexer": "ipython3",
   "version": "3.8.5"
  }
 },
 "nbformat": 4,
 "nbformat_minor": 4
}
