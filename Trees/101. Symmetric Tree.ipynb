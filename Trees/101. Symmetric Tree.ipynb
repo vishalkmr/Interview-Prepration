{
 "cells": [
  {
   "cell_type": "markdown",
   "metadata": {},
   "source": [
    "<h1>\n",
    "<a href=\"https://leetcode.com/problems/symmetric-tree/\" style=\"color:green;text-decoration: none\";>101. Symmetric Tree\n",
    "</a> \n",
    "</h1> \n",
    "\n",
    "```\n",
    "Given the root of a binary tree, check whether it is a mirror of itself (i.e., symmetric around its center).\n",
    "\n",
    "Example 1:\n",
    "Input: root = [1,2,2,3,4,4,3]\n",
    "Output: true\n",
    "                                                                                                    \n",
    "Example 2:\n",
    "Input: root = [1,2,2,null,3,null,3]\n",
    "Output: false\n",
    " \n",
    "Constraints:\n",
    "The number of nodes in the tree is in the range [1, 1000].\n",
    "-100 <= Node.val <= 100\n",
    "```"
   ]
  },
  {
   "cell_type": "markdown",
   "metadata": {},
   "source": [
    "## Approach 1\n",
    "- Recursive solution \n",
    "- Comapre both node values and also recursivly check thier left_node.left== right_node.right and left_node.right==right_node.left\n",
    "\n",
    "**T(n)=O(n)**\n",
    "\n",
    "**S(n)=O(n)**"
   ]
  },
  {
   "cell_type": "code",
   "execution_count": null,
   "metadata": {},
   "outputs": [],
   "source": [
    "# Definition for a binary tree node.\n",
    "# class TreeNode:\n",
    "#     def __init__(self, val=0, left=None, right=None):\n",
    "#         self.val = val\n",
    "#         self.left = left\n",
    "#         self.right = right\n",
    "class Solution:\n",
    "    def isSymmetric(self, root: Optional[TreeNode]) -> bool:\n",
    "        #base case empty tree\n",
    "        if not root:\n",
    "            return True\n",
    "\n",
    "        def dfs(left_node,right_node):\n",
    "            #if both nodes are empty return true\n",
    "            if not left_node and not right_node:\n",
    "                return True\n",
    "            #if only one of the tree is empty return false since tree are not mirror image\n",
    "            elif  (left_node and not right_node) or (not left_node and right_node):\n",
    "                return False\n",
    "            else:\n",
    "                #comapre both node values and also recursivly check thier left_node.left== right_node.right and left_node.right==right_node.left\n",
    "                return  (left_node.val==right_node.val) and dfs(left_node.left,right_node.right) and dfs(left_node.right,right_node.left)\n",
    "\n",
    "        return dfs(root.left,root.right)"
   ]
  }
 ],
 "metadata": {
  "kernelspec": {
   "display_name": "Python 3",
   "language": "python",
   "name": "python3"
  },
  "language_info": {
   "codemirror_mode": {
    "name": "ipython",
    "version": 3
   },
   "file_extension": ".py",
   "mimetype": "text/x-python",
   "name": "python",
   "nbconvert_exporter": "python",
   "pygments_lexer": "ipython3",
   "version": "3.8.5"
  }
 },
 "nbformat": 4,
 "nbformat_minor": 4
}
