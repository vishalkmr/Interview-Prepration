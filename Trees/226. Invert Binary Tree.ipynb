{
 "cells": [
  {
   "cell_type": "markdown",
   "metadata": {},
   "source": [
    "<h1>\n",
    "<a href=\"https://leetcode.com/problems/invert-binary-tree/\" style=\"color:green;text-decoration: none\";>226. Invert Binary Tree\n",
    "</a> \n",
    "</h1> \n",
    "\n",
    "```\n",
    "Given the root of a binary tree, invert the tree, and return its root.\n",
    "\n",
    "Example 1:\n",
    "Input: root = [4,2,7,1,3,6,9]\n",
    "Output: [4,7,2,9,6,3,1]\n",
    "                                                                                                    \n",
    "Example 2:\n",
    "Input: root = [2,1,3]\n",
    "Output: [2,3,1]\n",
    " \n",
    "Constraints:\n",
    "The number of nodes in the tree is in the range [0, 100].\n",
    "-100 <= Node.val <= 100\n",
    "```"
   ]
  },
  {
   "cell_type": "markdown",
   "metadata": {},
   "source": [
    "## Approach 1\n",
    "- Recursive solution \n",
    "    \n",
    "**T(n)=O(n)**\n",
    "\n",
    "**S(n)=O(n)**"
   ]
  },
  {
   "cell_type": "code",
   "execution_count": null,
   "metadata": {},
   "outputs": [],
   "source": [
    "# Definition for a binary tree node.\n",
    "# class TreeNode:\n",
    "#     def __init__(self, val=0, left=None, right=None):\n",
    "#         self.val = val\n",
    "#         self.left = left\n",
    "#         self.right = right\n",
    "class Solution:\n",
    "    def invertTree(self, root: Optional[TreeNode]) -> Optional[TreeNode]:\n",
    "        \n",
    "        def dfs(root):\n",
    "            if root==None:\n",
    "                return \n",
    "            elif root.left and root.right:\n",
    "                dfs(root.left)\n",
    "                dfs(root.right)\n",
    "                temp=root.left\n",
    "                root.left=root.right\n",
    "                root.right=temp\n",
    "            elif root.left:\n",
    "                dfs(root.left)\n",
    "                root.right=root.left\n",
    "                root.left=None\n",
    "            else:\n",
    "                dfs(root.right)\n",
    "                root.left=root.right\n",
    "                root.right=None\n",
    "        dfs(root)\n",
    "        return root"
   ]
  },
  {
   "cell_type": "markdown",
   "metadata": {},
   "source": [
    "## Approach 2\n",
    "- Recursive solution \n",
    "    \n",
    "**T(n)=O(n)**\n",
    "\n",
    "**S(n)=O(n)**"
   ]
  },
  {
   "cell_type": "code",
   "execution_count": null,
   "metadata": {},
   "outputs": [],
   "source": [
    "# Definition for a binary tree node.\n",
    "# class TreeNode:\n",
    "#     def __init__(self, val=0, left=None, right=None):\n",
    "#         self.val = val\n",
    "#         self.left = left\n",
    "#         self.right = right\n",
    "class Solution:\n",
    "    def invertTree(self, root: Optional[TreeNode]) -> Optional[TreeNode]:\n",
    "        if not root:\n",
    "            return root\n",
    "        temp=root.left\n",
    "        root.left=root.right\n",
    "        root.right=temp\n",
    "        self.invertTree(root.left)\n",
    "        self.invertTree(root.right)\n",
    "        return root"
   ]
  }
 ],
 "metadata": {
  "kernelspec": {
   "display_name": "Python 3",
   "language": "python",
   "name": "python3"
  },
  "language_info": {
   "codemirror_mode": {
    "name": "ipython",
    "version": 3
   },
   "file_extension": ".py",
   "mimetype": "text/x-python",
   "name": "python",
   "nbconvert_exporter": "python",
   "pygments_lexer": "ipython3",
   "version": "3.8.5"
  }
 },
 "nbformat": 4,
 "nbformat_minor": 4
}
