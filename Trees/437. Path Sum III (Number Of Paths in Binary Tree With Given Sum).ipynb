{
 "cells": [
  {
   "cell_type": "markdown",
   "metadata": {},
   "source": [
    "<h1>\n",
    "<a href=\"https://leetcode.com/problems/path-sum-iii/\" style=\"color:orange;text-decoration: none\";>437. Path Sum III (Number Of Paths in Binary Tree With Given Sum)\n",
    "</a> \n",
    "</h1> \n",
    "\n",
    "```\n",
    "Given the root of a binary tree and an integer targetSum, return the number of paths where the sum of the values along the path equals targetSum.\n",
    "\n",
    "The path does not need to start or end at the root or a leaf, but it must go downwards (i.e., traveling only from parent nodes to child nodes).\n",
    "\n",
    "Example 1:\n",
    "Input: root = [10,5,-3,3,2,null,11,3,-2,null,1], targetSum = 8\n",
    "Output: 3\n",
    "Explanation: The paths that sum to 8 are shown.\n",
    "\n",
    "Example 2:\n",
    "Input: root = [5,4,8,11,null,13,4,7,2,null,null,5,1], targetSum = 22\n",
    "Output: 3                         \n",
    "\n",
    "Constraints:\n",
    "The number of nodes in the tree is in the range [0, 1000].\n",
    "-109 <= Node.val <= 109\n",
    "-1000 <= targetSum <= 1000\n",
    "```"
   ]
  },
  {
   "cell_type": "markdown",
   "metadata": {},
   "source": [
    "## Approach 1\n",
    "- Recursive solution \n",
    "    \n",
    "**T(n)=O(n*n)**\n",
    "\n",
    "**S(n)=O(n)**"
   ]
  },
  {
   "cell_type": "code",
   "execution_count": null,
   "metadata": {},
   "outputs": [],
   "source": [
    "# Definition for a binary tree node.\n",
    "# class TreeNode:\n",
    "#     def __init__(self, val=0, left=None, right=None):\n",
    "#         self.val = val\n",
    "#         self.left = left\n",
    "#         self.right = right\n",
    "class Solution:\n",
    "    def pathSum(self, root: Optional[TreeNode], targetSum: int) -> int:\n",
    "        def paths_for_given_sum_from_a_node(root,target):\n",
    "            #if root is none no path existed\n",
    "            if not root:\n",
    "                return 0\n",
    "            #root act as path or not\n",
    "            r=0\n",
    "            if target==root.val:\n",
    "                r=1\n",
    "            left=paths_for_given_sum_from_a_node(root.left,target-root.val)\n",
    "            right=paths_for_given_sum_from_a_node(root.right,target-root.val)\n",
    "            #adding the paths from root, left and right child\n",
    "            return left+right+r\n",
    "\n",
    "        count=0\n",
    "        if not root:\n",
    "            return count\n",
    "        #for each node find the number of ways in which target sum can be formed\n",
    "        stack=[root]\n",
    "        while stack:\n",
    "            node=stack.pop()\n",
    "            paths=paths_for_given_sum_from_a_node(node,targetSum)\n",
    "            if paths:\n",
    "                count+=paths\n",
    "            if node.left:\n",
    "                stack.append(node.left)\n",
    "            if node.right:\n",
    "                stack.append(node.right)\n",
    "        return count"
   ]
  }
 ],
 "metadata": {
  "kernelspec": {
   "display_name": "Python 3",
   "language": "python",
   "name": "python3"
  },
  "language_info": {
   "codemirror_mode": {
    "name": "ipython",
    "version": 3
   },
   "file_extension": ".py",
   "mimetype": "text/x-python",
   "name": "python",
   "nbconvert_exporter": "python",
   "pygments_lexer": "ipython3",
   "version": "3.8.5"
  }
 },
 "nbformat": 4,
 "nbformat_minor": 4
}
