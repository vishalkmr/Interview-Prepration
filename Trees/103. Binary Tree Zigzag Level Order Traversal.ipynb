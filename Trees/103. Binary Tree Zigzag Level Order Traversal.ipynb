{
 "cells": [
  {
   "cell_type": "markdown",
   "metadata": {},
   "source": [
    "<h1>\n",
    "<a href=\"https://leetcode.com/problems/binary-tree-zigzag-level-order-traversal/\" style=\"color:orange;text-decoration: none\";>103. Binary Tree Zigzag Level Order Traversal\n",
    "</a> \n",
    "</h1> \n",
    "\n",
    "```\n",
    "Given the root of a binary tree, return the zigzag level order traversal of its nodes' values. (i.e., from left to right, then right to left for the next level and alternate between).\n",
    " \n",
    "\n",
    "Example 1:\n",
    "Input: root = [3,9,20,null,null,15,7]\n",
    "Output: [[3],[20,9],[15,7]]\n",
    "                                                                                                    \n",
    "Example 2:\n",
    "Input: root = [1]\n",
    "Output: [[1]]\n",
    " \n",
    "Constraints:\n",
    "The number of nodes in the tree is in the range [0, 2000].\n",
    "-1000 <= Node.val <= 1000\n",
    "```"
   ]
  },
  {
   "cell_type": "markdown",
   "metadata": {},
   "source": [
    "## Approach 1\n",
    "- Non-Recursive solution using **BFS** with Queue\n",
    "\n",
    " \n",
    "**T(n)=O(n)**\n",
    "\n",
    "**S(n)=O(n)**"
   ]
  },
  {
   "cell_type": "code",
   "execution_count": null,
   "metadata": {},
   "outputs": [],
   "source": [
    "# Definition for a binary tree node.\n",
    "# class TreeNode:\n",
    "#     def __init__(self, val=0, left=None, right=None):\n",
    "#         self.val = val\n",
    "#         self.left = left\n",
    "#         self.right = right\n",
    "class Solution:\n",
    "    def zigzagLevelOrder(self, root: Optional[TreeNode]) -> List[List[int]]:\n",
    "        zig_zag_order_traversal=[]\n",
    "        queue=[root]\n",
    "        if not root:\n",
    "            return zig_zag_order_traversal\n",
    "        flag=True\n",
    "        while len(queue)>0:\n",
    "            level_order=[]\n",
    "            for i in range(len(queue)):\n",
    "                node=queue.pop(0)\n",
    "                level_order.append(node.val)\n",
    "                if node.left:\n",
    "                    queue.append(node.left)\n",
    "                if node.right:\n",
    "                    queue.append(node.right)\n",
    "            if flag:\n",
    "                zig_zag_order_traversal.append(level_order)\n",
    "                flag=False\n",
    "            else:\n",
    "                zig_zag_order_traversal.append(level_order[::-1])\n",
    "                flag=True\n",
    "        return zig_zag_order_traversal"
   ]
  }
 ],
 "metadata": {
  "kernelspec": {
   "display_name": "Python 3",
   "language": "python",
   "name": "python3"
  },
  "language_info": {
   "codemirror_mode": {
    "name": "ipython",
    "version": 3
   },
   "file_extension": ".py",
   "mimetype": "text/x-python",
   "name": "python",
   "nbconvert_exporter": "python",
   "pygments_lexer": "ipython3",
   "version": "3.8.5"
  }
 },
 "nbformat": 4,
 "nbformat_minor": 4
}
