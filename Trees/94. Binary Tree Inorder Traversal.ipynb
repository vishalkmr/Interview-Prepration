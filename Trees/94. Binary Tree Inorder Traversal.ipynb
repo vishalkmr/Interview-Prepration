{
 "cells": [
  {
   "cell_type": "markdown",
   "metadata": {},
   "source": [
    "<h1>\n",
    "<a href=\"https://leetcode.com/problems/binary-tree-inorder-traversal/\" style=\"color:green;text-decoration: none\";>94. Binary Tree Inorder Traversal\n",
    "</a> \n",
    "</h1> \n",
    "\n",
    "```\n",
    "Given the root of a binary tree, return the inorder traversal of its nodes' values.\n",
    "\n",
    "Example 1:\n",
    "Input: root = [1,null,2,3]\n",
    "Output: [1,3,2]\n",
    "                                                                                                    \n",
    "Example 2:\n",
    "Input: root = [1]\n",
    "Output: [1]\n",
    " \n",
    "Constraints:\n",
    "The number of nodes in the tree is in the range [0, 100].\n",
    "-100 <= Node.val <= 100\n",
    "```"
   ]
  },
  {
   "cell_type": "markdown",
   "metadata": {},
   "source": [
    "## Approach 1\n",
    "- Recursive solution \n",
    "    \n",
    "**Recurrence Relation :**<br>`\n",
    "Best Case : T(n)=2T(n/2)+C \n",
    "Worst Case : T(n)=T(n-1)+C\n",
    "`\n",
    " \n",
    "**T(n)=O(n)**\n",
    "\n",
    "**S(n)=O(n)**"
   ]
  },
  {
   "cell_type": "code",
   "execution_count": null,
   "metadata": {},
   "outputs": [],
   "source": [
    "# Definition for a binary tree node.\n",
    "# class TreeNode:\n",
    "#     def __init__(self, val=0, left=None, right=None):\n",
    "#         self.val = val\n",
    "#         self.left = left\n",
    "#         self.right = right\n",
    "class Solution:\n",
    "    def inorderTraversal(self, root: Optional[TreeNode]) -> List[int]:\n",
    "        output=[]\n",
    "        def recursion(root):\n",
    "            if root== None:\n",
    "                return\n",
    "\n",
    "            recursion(root.left)\n",
    "            output.append(root.val)\n",
    "            recursion(root.right)\n",
    "        recursion(root)\n",
    "        return output"
   ]
  }
 ],
 "metadata": {
  "kernelspec": {
   "display_name": "Python 3",
   "language": "python",
   "name": "python3"
  },
  "language_info": {
   "codemirror_mode": {
    "name": "ipython",
    "version": 3
   },
   "file_extension": ".py",
   "mimetype": "text/x-python",
   "name": "python",
   "nbconvert_exporter": "python",
   "pygments_lexer": "ipython3",
   "version": "3.8.5"
  }
 },
 "nbformat": 4,
 "nbformat_minor": 4
}
