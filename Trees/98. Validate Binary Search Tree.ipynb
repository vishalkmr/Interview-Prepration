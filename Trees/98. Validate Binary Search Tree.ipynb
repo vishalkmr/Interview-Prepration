{
 "cells": [
  {
   "cell_type": "markdown",
   "metadata": {},
   "source": [
    "<h1>\n",
    "<a href=\"https://leetcode.com/problems/validate-binary-search-tree/\" style=\"color:orange;text-decoration: none\";>98. Validate Binary Search Tree\n",
    "</a> \n",
    "</h1> \n",
    "\n",
    "```\n",
    "Given the root of a binary tree, determine if it is a valid binary search tree (BST).\n",
    "\n",
    "A valid BST is defined as follows:\n",
    "\n",
    "The left subtree of a node contains only nodes with keys less than the node's key.\n",
    "The right subtree of a node contains only nodes with keys greater than the node's key.\n",
    "Both the left and right subtrees must also be binary search trees.\n",
    "\n",
    "Example 1:\n",
    "Input: root = [2,1,3]\n",
    "Output: true\n",
    "                                                                                                    \n",
    "Example 2:\n",
    "Input: root = [5,1,4,null,null,3,6]\n",
    "Output: false\n",
    "Explanation: The root node's value is 5 but its right child's value is 4.\n",
    " \n",
    "Constraints:\n",
    "The number of nodes in the tree is in the range [1, 104].\n",
    "-231 <= Node.val <= 231 - 1\n",
    "```"
   ]
  },
  {
   "cell_type": "markdown",
   "metadata": {},
   "source": [
    "## Approach 1\n",
    "- Recursive solution \n",
    "- Inorder of BST should be increasing sequence\n",
    "\n",
    "**T(n)=O(n)**\n",
    "\n",
    "**S(n)=O(n)**"
   ]
  },
  {
   "cell_type": "code",
   "execution_count": null,
   "metadata": {},
   "outputs": [],
   "source": [
    "# Definition for a binary tree node.\n",
    "# class TreeNode:\n",
    "#     def __init__(self, val=0, left=None, right=None):\n",
    "#         self.val = val\n",
    "#         self.left = left\n",
    "#         self.right = right\n",
    "class Solution:\n",
    "    def isValidBST(self, root: Optional[TreeNode]) -> bool:\n",
    "        in_order=[]\n",
    "         \n",
    "        def in_order_traversal(root):\n",
    "            if not root:\n",
    "                return \n",
    "            in_order_traversal(root.left)\n",
    "            in_order.append(root.val)\n",
    "            in_order_traversal(root.right)\n",
    "        \n",
    "        #compute the inorder\n",
    "        in_order_traversal(root)\n",
    "        \n",
    "        #check for increasing sequence \n",
    "        for i in range(len(in_order)-1):\n",
    "            if in_order[i]>=in_order[i+1]:\n",
    "                return False\n",
    "\n",
    "        return True"
   ]
  },
  {
   "cell_type": "markdown",
   "metadata": {},
   "source": [
    "## Approach 2\n",
    "- Recursive solution \n",
    "- At each not check the min_val and max_val it can have\n",
    "\n",
    "**T(n)=O(n)**\n",
    "\n",
    "**S(n)=O(n)**"
   ]
  },
  {
   "cell_type": "code",
   "execution_count": null,
   "metadata": {},
   "outputs": [],
   "source": [
    "# Definition for a binary tree node.\n",
    "# class TreeNode:\n",
    "#     def __init__(self, val=0, left=None, right=None):\n",
    "#         self.val = val\n",
    "#         self.left = left\n",
    "#         self.right = right\n",
    "class Solution:\n",
    "    def isValidBST(self, root: Optional[TreeNode]) -> bool:  \n",
    "        def valid_bst(root,min_val,max_val):\n",
    "            if not root:\n",
    "                return True\n",
    "            #valid bst so far then check its subtree with update min max value\n",
    "            elif min_val<root.val and root.val<max_val:\n",
    "                return valid_bst(root.left,min_val,root.val) and valid_bst(root.right,root.val,max_val)\n",
    "            #invalid bst\n",
    "            else:\n",
    "                return False\n",
    "        \n",
    "        \n",
    "        return valid_bst(root,float(\"-inf\"),float(\"inf\"))"
   ]
  }
 ],
 "metadata": {
  "kernelspec": {
   "display_name": "Python 3",
   "language": "python",
   "name": "python3"
  },
  "language_info": {
   "codemirror_mode": {
    "name": "ipython",
    "version": 3
   },
   "file_extension": ".py",
   "mimetype": "text/x-python",
   "name": "python",
   "nbconvert_exporter": "python",
   "pygments_lexer": "ipython3",
   "version": "3.8.5"
  }
 },
 "nbformat": 4,
 "nbformat_minor": 4
}
