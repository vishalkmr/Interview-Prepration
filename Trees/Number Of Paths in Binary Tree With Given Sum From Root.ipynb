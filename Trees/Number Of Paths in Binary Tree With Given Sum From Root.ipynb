{
 "cells": [
  {
   "cell_type": "markdown",
   "metadata": {},
   "source": [
    "<h1>\n",
    "<a href=\"\" style=\"color:orange;text-decoration: none\";>Number Of Paths in Binary Tree With Given Sum From Root\n",
    "</a> \n",
    "</h1> \n",
    "\n",
    "```\n",
    "Given a binary tree and a sum, determine number of paths in binary tree with given sum From Root.\n",
    "\n",
    "Example 1:\n",
    "Input: root =  1  , target=4\n",
    "             /  \\\n",
    "            2    3\n",
    "           / \\ \n",
    "          1   4\n",
    "Output: 2\n",
    "Explanation: there exist 2 paths from root with sum 4: 1->3 and 1->2->1                \n",
    "\n",
    "Example 2:\n",
    "Input: root = 5  , target=5\n",
    "             / \\\n",
    "           -1  -2\n",
    "           /   / \\\n",
    "          1   1   1\n",
    "         /  \\      \\\n",
    "        7    2      1\n",
    "Output: True\n",
    "Explanation: there exist 3 paths from root  with sum 5: 5 , 5->-1->1 ,5->-2->1->1                                \n",
    "\n",
    "Constraints:\n",
    "The number of nodes in the tree is in the range [0, 1000].\n",
    "-109 <= Node.val <= 109\n",
    "-1000 <= targetSum <= 1000\n",
    "```"
   ]
  },
  {
   "cell_type": "markdown",
   "metadata": {},
   "source": [
    "## Approach 1\n",
    "- Recursive solution \n",
    "- total paths = left_subtree_paths+right_subtree_paths+root_has_targetSum\n",
    "    \n",
    "**T(n)=O(n)**\n",
    "\n",
    "**S(n)=O(logn)**"
   ]
  },
  {
   "cell_type": "code",
   "execution_count": null,
   "metadata": {},
   "outputs": [],
   "source": [
    "# Definition for a binary tree node.\n",
    "# class TreeNode:\n",
    "#     def __init__(self, val=0, left=None, right=None):\n",
    "#         self.val = val\n",
    "#         self.left = left\n",
    "#         self.right = right\n",
    "class Solution:\n",
    "    def paths_for_given_sum_from_a_node(root,targetSum):\n",
    "        #if root is none no path existed\n",
    "        if not root:\n",
    "            return 0\n",
    "       \n",
    "        #updating the target\n",
    "        targetSum = targetSum - root.val\n",
    "        \n",
    "        #root act as path or not\n",
    "        root_has_targetSum=0\n",
    "        if target==0:\n",
    "            root_has_targetSum=1\n",
    "    \n",
    "        #recursively compute left and right subtree paths\n",
    "        left_subtree_paths=paths_for_given_sum_from_a_node(root.left,targetSum)\n",
    "        right_subtree_paths=paths_for_given_sum_from_a_node(root.right,targetSum)\n",
    "        \n",
    "        #return the total paths\n",
    "        return left_subtree_paths+right_subtree_paths+root_has_targetSum"
   ]
  }
 ],
 "metadata": {
  "kernelspec": {
   "display_name": "Python 3",
   "language": "python",
   "name": "python3"
  },
  "language_info": {
   "codemirror_mode": {
    "name": "ipython",
    "version": 3
   },
   "file_extension": ".py",
   "mimetype": "text/x-python",
   "name": "python",
   "nbconvert_exporter": "python",
   "pygments_lexer": "ipython3",
   "version": "3.8.5"
  }
 },
 "nbformat": 4,
 "nbformat_minor": 4
}
