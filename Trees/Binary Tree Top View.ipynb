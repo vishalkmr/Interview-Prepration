{
 "cells": [
  {
   "cell_type": "markdown",
   "metadata": {},
   "source": [
    "<h1>\n",
    "<a href=\"\" style=\"color:orange;text-decoration: none\";>Binary Tree Top View\n",
    "</a> \n",
    "</h1> \n",
    "\n",
    "```\n",
    "Given the root of a binary tree, imagine yourself standing on the top of it, return the values of the nodes you can see ordered from left to right. \n",
    "\n",
    "Example 1:\n",
    "Input: root = [9,8,14,6,null,5,7,null,null,1]\n",
    "Output: [6,8,9,14,7]\n",
    "                                                                                                    \n",
    "Example 2:\n",
    "Input: root = [1,2,3,null,5,null,4]\n",
    "Output: [2,1,3,4]\n",
    "\n",
    "Constraints:\n",
    "The number of nodes in the tree is in the range [1, 100].\n",
    "-100 <= Node.val <= 100\n",
    "```"
   ]
  },
  {
   "cell_type": "markdown",
   "metadata": {},
   "source": [
    "## Approach 1\n",
    "- Recursive solution using **DFS** with dictionary\n",
    "\n",
    " \n",
    "**T(n)=O(n)**\n",
    "\n",
    "**S(n)=O(n)**"
   ]
  },
  {
   "cell_type": "code",
   "execution_count": null,
   "metadata": {},
   "outputs": [],
   "source": [
    "# Definition for a binary tree node.\n",
    "# class TreeNode:\n",
    "#     def __init__(self, val=0, left=None, right=None):\n",
    "#         self.val = val\n",
    "#         self.left = left\n",
    "#         self.right = right\n",
    "class Solution:\n",
    "    def topView(self, root: Optional[TreeNode]) -> List[int]:\n",
    "        top_view=[]\n",
    "        hd_val={}\n",
    "        \n",
    "        if not root:\n",
    "            return top_view\n",
    "       \n",
    "        #compute the horizontal distance of each node\n",
    "        def dfs(root,hd):\n",
    "            nonlocal hd_val\n",
    "\n",
    "            #base case of recursion\n",
    "            if not root:\n",
    "                return\n",
    "            \n",
    "            #add the 1st value seen at given horizontal distance \n",
    "            if hd not in hd_val:\n",
    "                hd_val[hd]=[root.val]\n",
    "            \n",
    "            #recursively solve for left and right subtree with their horizontal distance\n",
    "            dfs(root.left,hd-1)\n",
    "            dfs(root.right,hd+1)\n",
    "            \n",
    "        dfs(root,0)\n",
    "        \n",
    "        #node in increasing order of horizontal distance is left to right top view\n",
    "        for hd in sorted(hd_val.keys()):\n",
    "            top_view.append(hd_val[hd])\n",
    "\n",
    "        return top_view"
   ]
  },
  {
   "cell_type": "markdown",
   "metadata": {},
   "source": [
    "## Approach 2\n",
    "- Non-Recursive solution using **BFS** with Queue\n",
    "\n",
    " \n",
    "**T(n)=O(n)**\n",
    "\n",
    "**S(n)=O(n)**"
   ]
  },
  {
   "cell_type": "code",
   "execution_count": null,
   "metadata": {},
   "outputs": [],
   "source": [
    "# Definition for a binary tree node.\n",
    "# class TreeNode:\n",
    "#     def __init__(self, val=0, left=None, right=None):\n",
    "#         self.val = val\n",
    "#         self.left = left\n",
    "#         self.right = right\n",
    "from collections import deque\n",
    "class Solution:\n",
    "    def topView(self, root: Optional[TreeNode]) -> List[int]:\n",
    "        top_view=[]\n",
    "        hd_val={}\n",
    "        if not root:\n",
    "            return top_view\n",
    "        hd=0\n",
    "        stack=[(root,hd)]\n",
    "        \n",
    "        while 0 < len(stack):\n",
    "            node,hd=stack.pop()\n",
    "            \n",
    "            #add the 1st value seen at given horizontal distance \n",
    "            if hd not in hd_val:\n",
    "                hd_val[hd]=[root.val]\n",
    "            \n",
    "            #recursively solve for left and right subtree with their horizontal distance\n",
    "            if node.left:\n",
    "                stack.append((node.left,hd-1))\n",
    "            if node.right:\n",
    "                stack.append((node.right,hd+1))\n",
    "    \n",
    "        #node in increasing order of horizontal distance is left to right top view\n",
    "        for hd in sorted(hd_val.keys()):\n",
    "            top_view.append(hd_val[hd])\n",
    "        return top_view"
   ]
  }
 ],
 "metadata": {
  "kernelspec": {
   "display_name": "Python 3",
   "language": "python",
   "name": "python3"
  },
  "language_info": {
   "codemirror_mode": {
    "name": "ipython",
    "version": 3
   },
   "file_extension": ".py",
   "mimetype": "text/x-python",
   "name": "python",
   "nbconvert_exporter": "python",
   "pygments_lexer": "ipython3",
   "version": "3.8.5"
  }
 },
 "nbformat": 4,
 "nbformat_minor": 4
}
