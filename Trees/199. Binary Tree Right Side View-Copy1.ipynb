{
 "cells": [
  {
   "cell_type": "markdown",
   "metadata": {},
   "source": [
    "<h1>\n",
    "<a href=\"\" style=\"color:orange;text-decoration: none\";>199. Binary Tree Left Side View\n",
    "</a> \n",
    "</h1> \n",
    "\n",
    "```\n",
    "Given the root of a binary tree, imagine yourself standing on the left side of it, return the values of the nodes you can see ordered from top to bottom. \n",
    "\n",
    "Example 1:\n",
    "Output: [1,3,4]\n",
    "                                                                                                    \n",
    "Example 2:\n",
    "\n",
    "\n",
    "Constraints:\n",
    "The number of nodes in the tree is in the range [0, 100].\n",
    "-100 <= Node.val <= 100\n",
    "```"
   ]
  },
  {
   "cell_type": "markdown",
   "metadata": {},
   "source": [
    "## Approach 1\n",
    "- Non-Recursive solution using **BFS** with Queue\n",
    "\n",
    " \n",
    "**T(n)=O(n)**\n",
    "\n",
    "**S(n)=O(n)**"
   ]
  },
  {
   "cell_type": "code",
   "execution_count": null,
   "metadata": {},
   "outputs": [],
   "source": [
    "# Definition for a binary tree node.\n",
    "# class TreeNode:\n",
    "#     def __init__(self, val=0, left=None, right=None):\n",
    "#         self.val = val\n",
    "#         self.left = left\n",
    "#         self.right = right\n",
    "class Solution:\n",
    "    def leftSideView(self, root: Optional[TreeNode]) -> List[int]:\n",
    "        queue=[root]\n",
    "        output=[]\n",
    "        if not root:\n",
    "            return output\n",
    "        while 0 < len(queue):\n",
    "            level_nodes=[]\n",
    "            left_view_node=None\n",
    "            for i in range(len(queue)):\n",
    "                node=queue.pop(0)\n",
    "                if not left_view_node:\n",
    "                    left_view_node=node.val\n",
    "                if node.left:\n",
    "                    queue.append(node.left)\n",
    "                if node.right:\n",
    "                    queue.append(node.right)\n",
    "            output.append(left_view_node)\n",
    "        return output"
   ]
  }
 ],
 "metadata": {
  "kernelspec": {
   "display_name": "Python 3",
   "language": "python",
   "name": "python3"
  },
  "language_info": {
   "codemirror_mode": {
    "name": "ipython",
    "version": 3
   },
   "file_extension": ".py",
   "mimetype": "text/x-python",
   "name": "python",
   "nbconvert_exporter": "python",
   "pygments_lexer": "ipython3",
   "version": "3.8.5"
  }
 },
 "nbformat": 4,
 "nbformat_minor": 4
}
