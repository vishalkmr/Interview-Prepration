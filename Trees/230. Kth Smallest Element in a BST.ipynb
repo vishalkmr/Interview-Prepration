{
 "cells": [
  {
   "cell_type": "markdown",
   "metadata": {},
   "source": [
    "<h1>\n",
    "<a href=\"https://leetcode.com/problems/kth-smallest-element-in-a-bst/\" style=\"color:orange;text-decoration: none\";>230. Kth Smallest Element in a BST\n",
    "</a> \n",
    "</h1> \n",
    "\n",
    "```\n",
    "Given the root of a binary search tree, and an integer k, return the kth smallest value (1-indexed) of all the values of the nodes in the tree.\n",
    "\n",
    "Example 1:\n",
    "Input: root = [3,1,4,null,2], k = 1\n",
    "Output: 1\n",
    "                                                                                                    \n",
    "Example 2:\n",
    "Input: root = [5,3,6,2,4,null,null,1], k = 3\n",
    "Output: 3\n",
    " \n",
    "Constraints:\n",
    "The number of nodes in the tree is n.\n",
    "1 <= k <= n <= 104\n",
    "0 <= Node.val <= 104\n",
    "```"
   ]
  },
  {
   "cell_type": "markdown",
   "metadata": {},
   "source": [
    "## Approach 1\n",
    "- Recursive solution \n",
    "    \n",
    "**T(n)=O(n)**\n",
    "\n",
    "**S(n)=O(n)**"
   ]
  },
  {
   "cell_type": "code",
   "execution_count": null,
   "metadata": {},
   "outputs": [],
   "source": [
    "# Definition for a binary tree node.\n",
    "# class TreeNode:\n",
    "#     def __init__(self, val=0, left=None, right=None):\n",
    "#         self.val = val\n",
    "#         self.left = left\n",
    "#         self.right = right\n",
    "class Solution:\n",
    "    def kthSmallest(self, root: Optional[TreeNode], k: int) -> int:\n",
    "        #inorder of bst is sorted array\n",
    "        sorted_values=[]\n",
    "        def inorder(root):\n",
    "            if not root:\n",
    "                return \n",
    "            inorder(root.left)\n",
    "            sorted_values.append(root.val)\n",
    "            inorder(root.right)\n",
    "        inorder(root)\n",
    "        return sorted_values[k-1]"
   ]
  }
 ],
 "metadata": {
  "kernelspec": {
   "display_name": "Python 3",
   "language": "python",
   "name": "python3"
  },
  "language_info": {
   "codemirror_mode": {
    "name": "ipython",
    "version": 3
   },
   "file_extension": ".py",
   "mimetype": "text/x-python",
   "name": "python",
   "nbconvert_exporter": "python",
   "pygments_lexer": "ipython3",
   "version": "3.8.5"
  }
 },
 "nbformat": 4,
 "nbformat_minor": 4
}
