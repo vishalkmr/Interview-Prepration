{
 "cells": [
  {
   "cell_type": "markdown",
   "metadata": {},
   "source": [
    "<h1>\n",
    "<a href=\"https://leetcode.com/problems/convert-sorted-array-to-binary-search-tree/\" style=\"color:green;text-decoration: none\";>108. Convert Sorted Array to Binary Search Tree\n",
    "</a> \n",
    "</h1> \n",
    "\n",
    "```\n",
    "Given an integer array nums where the elements are sorted in ascending order, convert it to a height-balanced binary search tree.\n",
    "\n",
    "A height-balanced binary tree is a binary tree in which the depth of the two subtrees of every node never differs by more than one.\n",
    "\n",
    "Example 1:\n",
    "Input: nums = [-10,-3,0,5,9]\n",
    "Output: [0,-3,9,-10,null,5]\n",
    "Explanation: [0,-10,5,null,-3,null,9] is also accepted:\n",
    "                                                                                                    \n",
    "Example 2:\n",
    "Input: nums = [1,3]\n",
    "Output: [3,1]\n",
    "Explanation: [1,null,3] and [3,1] are both height-balanced BSTs.\n",
    " \n",
    "Constraints:\n",
    "1 <= nums.length <= 104\n",
    "-104 <= nums[i] <= 104\n",
    "nums is sorted in a strictly increasing order.\n",
    "```"
   ]
  },
  {
   "cell_type": "markdown",
   "metadata": {},
   "source": [
    "## Approach 1\n",
    "- Recursive solution \n",
    "    \n",
    "**T(n)=O(n)**\n",
    "\n",
    "**S(n)=O(n)**"
   ]
  },
  {
   "cell_type": "code",
   "execution_count": null,
   "metadata": {},
   "outputs": [],
   "source": [
    "# Definition for a binary tree node.\n",
    "# class TreeNode:\n",
    "#     def __init__(self, val=0, left=None, right=None):\n",
    "#         self.val = val\n",
    "#         self.left = left\n",
    "#         self.right = right\n",
    "class Solution:\n",
    "    def sortedArrayToBST(self, nums: List[int]) -> Optional[TreeNode]:\n",
    "        def recursion(left,right):\n",
    "            if left > right:\n",
    "                return None\n",
    "            \n",
    "            mid=(left+right)//2\n",
    "            root=TreeNode(nums[mid])\n",
    "            root.left=recursion(left,mid-1)\n",
    "            root.right=recursion(mid+1,right)\n",
    "            \n",
    "            return root\n",
    "        return recursion(0,len(nums)-1)"
   ]
  }
 ],
 "metadata": {
  "kernelspec": {
   "display_name": "Python 3",
   "language": "python",
   "name": "python3"
  },
  "language_info": {
   "codemirror_mode": {
    "name": "ipython",
    "version": 3
   },
   "file_extension": ".py",
   "mimetype": "text/x-python",
   "name": "python",
   "nbconvert_exporter": "python",
   "pygments_lexer": "ipython3",
   "version": "3.8.5"
  }
 },
 "nbformat": 4,
 "nbformat_minor": 4
}
