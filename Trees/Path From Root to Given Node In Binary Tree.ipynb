{
 "cells": [
  {
   "cell_type": "markdown",
   "metadata": {},
   "source": [
    "<h1>\n",
    "<a href=\"\" style=\"color:orange;text-decoration: none\";>Paths From Root to Given Node In Binary Tree\n",
    "</a> \n",
    "</h1> \n",
    "\n",
    "```\n",
    "Determine Path From Root to Given Node In Binary Tree.\n",
    "\n",
    "Example 1:\n",
    "Input: root = 1  , val=3\n",
    "             / \\\n",
    "            2   3\n",
    "Output: True\n",
    "Explanation: there exist a path from root 1->3                 \n",
    "\n",
    "Example 2:\n",
    "Input: root = 5  , val=11\n",
    "             / \\\n",
    "            4   8\n",
    "           /   / \\\n",
    "          11  13  4\n",
    "         /  \\      \\\n",
    "        7    2      1\n",
    "Output: True\n",
    "Explanation: there exist a path from root 5->4->11\n",
    "\n",
    "Constraints:\n",
    "The number of nodes in the tree is in the range [0, 1000].\n",
    "-109 <= Node.val <= 109\n",
    "-1000 <= targetSum <= 1000\n",
    "```"
   ]
  },
  {
   "cell_type": "markdown",
   "metadata": {},
   "source": [
    "## Approach 1\n",
    "- Recursive solution \n",
    "    \n",
    "**T(n)=O(n)**\n",
    "\n",
    "**S(n)=O(logn)**"
   ]
  },
  {
   "cell_type": "code",
   "execution_count": 1,
   "metadata": {},
   "outputs": [],
   "source": [
    "def find_node_path(root,val):\n",
    "    paths=[]\n",
    "\n",
    "    #find the path of a given value in tree\n",
    "    def find_paths(root,val,curr_path):\n",
    "        nonlocal paths\n",
    "        if not root:\n",
    "            return\n",
    "\n",
    "        #adding the node to the curr_path\n",
    "        curr_path.append(root)\n",
    "\n",
    "        #found the node with required val\n",
    "        if root.val==val:\n",
    "            #adding the curr_path to final paths\n",
    "            paths.append(curr_path.copy())\n",
    "            return\n",
    "\n",
    "        if root.left:\n",
    "            #find the path in left subtree recursively\n",
    "            find_node_path(root.left,val,curr_path)\n",
    "            #removing the left node just added to have actual curr_path for the root node (since path is passed by reference)\n",
    "            curr_path.remove(root.left)\n",
    "\n",
    "        if root.right:\n",
    "            #find the path in right subtree recursively\n",
    "            find_node_path(root.right,val,curr_path)\n",
    "            #removing the right node just added to have actual curr_path for the root node\n",
    "            curr_path.remove(root.right)\n",
    "\n",
    "    return paths"
   ]
  }
 ],
 "metadata": {
  "kernelspec": {
   "display_name": "Python 3",
   "language": "python",
   "name": "python3"
  },
  "language_info": {
   "codemirror_mode": {
    "name": "ipython",
    "version": 3
   },
   "file_extension": ".py",
   "mimetype": "text/x-python",
   "name": "python",
   "nbconvert_exporter": "python",
   "pygments_lexer": "ipython3",
   "version": "3.8.5"
  }
 },
 "nbformat": 4,
 "nbformat_minor": 4
}
