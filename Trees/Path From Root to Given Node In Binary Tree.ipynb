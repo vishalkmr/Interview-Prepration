{
 "cells": [
  {
   "cell_type": "markdown",
   "metadata": {},
   "source": [
    "<h1>\n",
    "<a href=\"\" style=\"color:orange;text-decoration: none\";>Path From Root to Given Node In Binary Tree\n",
    "</a> \n",
    "</h1> \n",
    "\n",
    "```\n",
    "Given a binary tree and a sum, determine Path From Root to Given Node In Binary Tree.\n",
    "\n",
    "Example 1:\n",
    "Input: root = 1  , val=3\n",
    "             / \\\n",
    "            2   3\n",
    "Output: True\n",
    "Explanation: there exist a path from root 1->3                 \n",
    "\n",
    "Example 2:\n",
    "Input: root = 5  , val=11\n",
    "             / \\\n",
    "            4   8\n",
    "           /   / \\\n",
    "          11  13  4\n",
    "         /  \\      \\\n",
    "        7    2      1\n",
    "Output: True\n",
    "Explanation: there exist a path from root 5->4->11\n",
    "\n",
    "Constraints:\n",
    "The number of nodes in the tree is in the range [0, 1000].\n",
    "-109 <= Node.val <= 109\n",
    "-1000 <= targetSum <= 1000\n",
    "```"
   ]
  },
  {
   "cell_type": "markdown",
   "metadata": {},
   "source": [
    "## Approach 1\n",
    "- Recursive solution \n",
    "    \n",
    "**T(n)=O(n)**\n",
    "\n",
    "**S(n)=O(logn)**"
   ]
  },
  {
   "cell_type": "code",
   "execution_count": null,
   "metadata": {},
   "outputs": [],
   "source": [
    "paths=[]\n",
    "def paths_for_given_node_from_root(root,val,path):\n",
    "    nonlocal paths\n",
    "    if not root:\n",
    "        return\n",
    "    #adding the element to the list\n",
    "    path.append(root.val)\n",
    "    #node value is found\n",
    "    if val==root.val:\n",
    "        paths.append(path.copy())\n",
    "        return \n",
    "    if root.left:\n",
    "        paths_for_given_node_from_root(root.left,val,path)\n",
    "        #removing the last occurance of the item\n",
    "        path.reverse()\n",
    "        path.remove(root.left.val)\n",
    "        path.reverse()\n",
    "    if root.right:                    \n",
    "        paths_for_given_node_from_root(root.right,val,path)\n",
    "        #removing the last occurance of the item\n",
    "        path.reverse()\n",
    "        path.remove(root.right.val)\n",
    "        path.reverse()"
   ]
  }
 ],
 "metadata": {
  "kernelspec": {
   "display_name": "Python 3",
   "language": "python",
   "name": "python3"
  },
  "language_info": {
   "codemirror_mode": {
    "name": "ipython",
    "version": 3
   },
   "file_extension": ".py",
   "mimetype": "text/x-python",
   "name": "python",
   "nbconvert_exporter": "python",
   "pygments_lexer": "ipython3",
   "version": "3.8.5"
  }
 },
 "nbformat": 4,
 "nbformat_minor": 4
}
