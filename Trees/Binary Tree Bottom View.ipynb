{
 "cells": [
  {
   "cell_type": "markdown",
   "metadata": {},
   "source": [
    "<h1>\n",
    "<a href=\"\" style=\"color:orange;text-decoration: none\";>199. Binary Tree Bottom View\n",
    "</a> \n",
    "</h1> \n",
    "\n",
    "```\n",
    "Given the root of a binary tree, imagine yourself standing on the Bottom of it, return the values of the nodes you can see ordered from left to right. \n",
    "\n",
    "Example 1:\n",
    "Input: root = [9,8,14,6,null,5,7,null,null,1]\n",
    "Output: [6,8,9,14,7]\n",
    "                                                                                                    \n",
    "Example 2:\n",
    "Input: root = [1,2,3,null,5,null,4]\n",
    "Output: [2,5,3,4]\n",
    "\n",
    "Constraints:\n",
    "The number of nodes in the tree is in the range [1, 100].\n",
    "-100 <= Node.val <= 100\n",
    "```"
   ]
  },
  {
   "cell_type": "markdown",
   "metadata": {},
   "source": [
    "## Approach 1\n",
    "- Recursive solution using **DFS** with dictionary\n",
    "\n",
    " \n",
    "**T(n)=O(n)**\n",
    "\n",
    "**S(n)=O(n)**"
   ]
  },
  {
   "cell_type": "code",
   "execution_count": null,
   "metadata": {},
   "outputs": [],
   "source": [
    "# Definition for a binary tree node.\n",
    "# class TreeNode:\n",
    "#     def __init__(self, val=0, left=None, right=None):\n",
    "#         self.val = val\n",
    "#         self.left = left\n",
    "#         self.right = right\n",
    "class Solution:\n",
    "    def bottomView(self, root: Optional[TreeNode]) -> List[int]:\n",
    "        bottom_view=[]\n",
    "        hd_val={}\n",
    "        if not root:\n",
    "            return bottom_view\n",
    "        #compute the horizontal distance of each node\n",
    "        def dfs(root,hd):\n",
    "            nonlocal hd_val\n",
    "            if not root:\n",
    "                return \n",
    "            if hd_val.get(hd,False):\n",
    "                hd_val[hd].append(root.val)\n",
    "            else:\n",
    "                hd_val[hd]=[root.val]\n",
    "            dfs(root.left,hd-1)\n",
    "            dfs(root.right,hd+1)\n",
    "            \n",
    "        dfs(root,0)\n",
    "        #print the node in increasing order of horizontal distance\n",
    "        for hd in sorted(hd_val.keys()):\n",
    "            bottom_view.append(hd_val[hd][-1])\n",
    "        return bottom_view"
   ]
  },
  {
   "cell_type": "markdown",
   "metadata": {},
   "source": [
    "## Approach 2\n",
    "- Non-Recursive solution using **BFS** with Queue\n",
    "\n",
    " \n",
    "**T(n)=O(n)**\n",
    "\n",
    "**S(n)=O(n)**"
   ]
  },
  {
   "cell_type": "code",
   "execution_count": null,
   "metadata": {},
   "outputs": [],
   "source": [
    "# Definition for a binary tree node.\n",
    "# class TreeNode:\n",
    "#     def __init__(self, val=0, left=None, right=None):\n",
    "#         self.val = val\n",
    "#         self.left = left\n",
    "#         self.right = right\n",
    "class Solution:\n",
    "    def bottomView(self, root: Optional[TreeNode]) -> List[int]:\n",
    "        bottom_view=[]\n",
    "        hd_val={}\n",
    "        if not root:\n",
    "            return bottom_view\n",
    "        hd=0\n",
    "        queue=[(root,0)]\n",
    "        while len(queue)>0:\n",
    "            for i in range(len(queue)):\n",
    "                node,hd=queue.pop(0)\n",
    "                if hd_val.get(hd,False):\n",
    "                    hd_val[hd].append(node.val)\n",
    "                else:\n",
    "                    hd_val[hd]=[node.val]       \n",
    "                if node.left:\n",
    "                    queue.append((node.left,hd-1))\n",
    "                if node.right:\n",
    "                    queue.append((node.right,hd+1))\n",
    "        for hd in sorted(hd_val.keys()):\n",
    "            bottom_view.append(hd_val[hd][-1])\n",
    "        return bottom_view"
   ]
  }
 ],
 "metadata": {
  "kernelspec": {
   "display_name": "Python 3",
   "language": "python",
   "name": "python3"
  },
  "language_info": {
   "codemirror_mode": {
    "name": "ipython",
    "version": 3
   },
   "file_extension": ".py",
   "mimetype": "text/x-python",
   "name": "python",
   "nbconvert_exporter": "python",
   "pygments_lexer": "ipython3",
   "version": "3.8.5"
  }
 },
 "nbformat": 4,
 "nbformat_minor": 4
}
