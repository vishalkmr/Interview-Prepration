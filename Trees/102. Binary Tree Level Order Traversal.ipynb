{
 "cells": [
  {
   "cell_type": "markdown",
   "metadata": {},
   "source": [
    "<h1>\n",
    "<a href=\"https://leetcode.com/problems/binary-tree-level-order-traversal/\" style=\"color:orange;text-decoration: none\";>102. Binary Tree Level Order Traversal\n",
    "</a> \n",
    "</h1> \n",
    "\n",
    "```\n",
    "Given the root of a binary tree, return the level order traversal of its nodes' values. (i.e., from left to right, level by level).\n",
    " \n",
    "\n",
    "Example 1:\n",
    "Input: root = [3,9,20,null,null,15,7]\n",
    "Output: [[3],[9,20],[15,7]]\n",
    "                                                                                                    \n",
    "Example 2:\n",
    "Input: root = [1]\n",
    "Output: [[1]]\n",
    " \n",
    "Constraints:\n",
    "The number of nodes in the tree is in the range [0, 2000].\n",
    "-1000 <= Node.val <= 1000\n",
    "```"
   ]
  },
  {
   "cell_type": "markdown",
   "metadata": {},
   "source": [
    "## Approach 1\n",
    "- Non-Recursive solution using **BFS** with Queue\n",
    "- At each level add all the nodes of current level into final level order traversal\n",
    "\n",
    " \n",
    "**T(n)=O(n)**\n",
    "\n",
    "**S(n)=O(n)**"
   ]
  },
  {
   "cell_type": "code",
   "execution_count": null,
   "metadata": {},
   "outputs": [],
   "source": [
    "# Definition for a binary tree node.\n",
    "# class TreeNode:\n",
    "#     def __init__(self, val=0, left=None, right=None):\n",
    "#         self.val = val\n",
    "#         self.left = left\n",
    "#         self.right = right\n",
    "class Solution:\n",
    "    def levelOrder(self, root: Optional[TreeNode]) -> List[List[int]]:\n",
    "        queue=[root]\n",
    "        level_order_traversal=[]\n",
    "        \n",
    "        #empty tree\n",
    "        if not root:\n",
    "            return level_order_traversal\n",
    "        \n",
    "        while len(queue)>0:\n",
    "            curr_level_nodes=[]\n",
    "            #for nodes in each level\n",
    "            for i in range(len(queue)):\n",
    "                #remove from queue and add to the level traversal\n",
    "                deleted_node=queue.pop(0)\n",
    "                curr_level_nodes.append(deleted_node.val)\n",
    "                \n",
    "                #if removed node has childrens add them to the queue\n",
    "                if deleted_node.left:\n",
    "                    queue.append(deleted_node.left)\n",
    "                if deleted_node.right:\n",
    "                    queue.append(deleted_node.right)\n",
    "            \n",
    "            #add the current level order into final level order traversal\n",
    "            level_order_traversal.append(curr_level_nodes)\n",
    "\n",
    "        return  level_order_traversal  "
   ]
  }
 ],
 "metadata": {
  "kernelspec": {
   "display_name": "Python 3",
   "language": "python",
   "name": "python3"
  },
  "language_info": {
   "codemirror_mode": {
    "name": "ipython",
    "version": 3
   },
   "file_extension": ".py",
   "mimetype": "text/x-python",
   "name": "python",
   "nbconvert_exporter": "python",
   "pygments_lexer": "ipython3",
   "version": "3.8.5"
  }
 },
 "nbformat": 4,
 "nbformat_minor": 4
}
