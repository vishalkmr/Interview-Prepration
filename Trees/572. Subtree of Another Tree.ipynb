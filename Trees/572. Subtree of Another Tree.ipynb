{
 "cells": [
  {
   "cell_type": "markdown",
   "metadata": {},
   "source": [
    "<h1>\n",
    "<a href=\"https://leetcode.com/problems/subtree-of-another-tree/\" style=\"color:green;text-decoration: none\";>572. Subtree of Another Tree\n",
    "</a> \n",
    "</h1> \n",
    "\n",
    "```\n",
    "Given the roots of two binary trees root and subRoot, return true if there is a subtree of root with the same structure and node values of subRoot and false otherwise.\n",
    "\n",
    "A subtree of a binary tree tree is a tree that consists of a node in tree and all of this node's descendants. The tree tree could also be considered as a subtree of itself.\n",
    "\n",
    "Example 1:\n",
    "Input: root = [3,4,5,1,2], subRoot = [4,1,2]\n",
    "Output: true\n",
    "                                                                                                    \n",
    "Example 2:\n",
    "Input: root = [3,4,5,1,2,null,null,null,null,0], subRoot = [4,1,2]\n",
    "Output: false\n",
    " \n",
    "Constraints:\n",
    "The number of nodes in the root tree is in the range [1, 2000].\n",
    "The number of nodes in the subRoot tree is in the range [1, 1000].\n",
    "-104 <= root.val <= 104\n",
    "-104 <= subRoot.val <= 104\n",
    "```"
   ]
  },
  {
   "cell_type": "markdown",
   "metadata": {},
   "source": [
    "## Approach 1\n",
    "- Recursive solution \n",
    "- Recursively check that the root/left-subtree/right-subtree is same as given subtree\n",
    "    \n",
    "**T(n)=O(n)**\n",
    "\n",
    "**S(n)=O(n)**"
   ]
  },
  {
   "cell_type": "code",
   "execution_count": null,
   "metadata": {},
   "outputs": [],
   "source": [
    "# Definition for a binary tree node.\n",
    "# class TreeNode:\n",
    "#     def __init__(self, val=0, left=None, right=None):\n",
    "#         self.val = val\n",
    "#         self.left = left\n",
    "#         self.right = right\n",
    "class Solution:\n",
    "    def isSameTree(self, p: Optional[TreeNode], q: Optional[TreeNode]) -> bool:\n",
    "        #if both trees are empty return true\n",
    "        if not p and not q:\n",
    "            return True\n",
    "        #if only one of the tree is empty return false since tree are not same\n",
    "        elif (not p and q) or (p and not q):\n",
    "            return False\n",
    "        else:\n",
    "            #comapre both tree root values and also recursivly check thier left and right subtree are same or not\n",
    "            return (p.val==q.val) and self.isSameTree(p.left,q.left) and self.isSameTree(p.right,q.right)\n",
    "        \n",
    "    def isSubtree(self, root: Optional[TreeNode], subRoot: Optional[TreeNode]) -> bool:\n",
    "        #if both trees are empty return true\n",
    "        if not root and not subRoot:\n",
    "            return True\n",
    "        #if only one of the tree is empty return false since tree are not same\n",
    "        elif (not root and subRoot) or (root and not subRoot):\n",
    "            return False\n",
    "        else:\n",
    "            #recursively check that the root/left-subtree/right-subtree is same as given subtree\n",
    "            return self.isSameTree(root,subRoot) or self.isSubtree(root.left,subRoot) or self.isSubtree(root.right,subRoot)"
   ]
  }
 ],
 "metadata": {
  "kernelspec": {
   "display_name": "Python 3",
   "language": "python",
   "name": "python3"
  },
  "language_info": {
   "codemirror_mode": {
    "name": "ipython",
    "version": 3
   },
   "file_extension": ".py",
   "mimetype": "text/x-python",
   "name": "python",
   "nbconvert_exporter": "python",
   "pygments_lexer": "ipython3",
   "version": "3.8.5"
  }
 },
 "nbformat": 4,
 "nbformat_minor": 4
}
