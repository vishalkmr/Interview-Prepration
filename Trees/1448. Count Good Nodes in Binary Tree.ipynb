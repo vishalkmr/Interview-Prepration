{
 "cells": [
  {
   "cell_type": "markdown",
   "metadata": {},
   "source": [
    "<h1>\n",
    "<a href=\"https://leetcode.com/problems/count-good-nodes-in-binary-tree/\" style=\"color:orange;text-decoration: none\";>1448. Count Good Nodes in Binary Tree\n",
    "</a> \n",
    "</h1> \n",
    "\n",
    "```\n",
    "Given a binary tree root, a node X in the tree is named good if in the path from root to X there are no nodes with a value greater than X.\n",
    "\n",
    "Return the number of good nodes in the binary tree.\n",
    "\n",
    "Example 1:\n",
    "Input: root = [3,1,4,3,null,1,5]\n",
    "Output: 4\n",
    "Explanation: Nodes in blue are good.\n",
    "Root Node (3) is always a good node.\n",
    "Node 4 -> (3,4) is the maximum value in the path starting from the root.\n",
    "Node 5 -> (3,4,5) is the maximum value in the path\n",
    "Node 3 -> (3,1,3) is the maximum value in the path.\n",
    "                                                                                                    \n",
    "Example 2:\n",
    "Input: root = [3,3,null,4,2]\n",
    "Output: 3\n",
    "Explanation: Node 2 -> (3, 3, 2) is not good, because \"3\" is higher than it.\n",
    " \n",
    "Constraints:\n",
    "The number of nodes in the binary tree is in the range [1, 10^5].\n",
    "Each node's value is between [-10^4, 10^4].\n",
    "```"
   ]
  },
  {
   "cell_type": "markdown",
   "metadata": {},
   "source": [
    "## Approach 1\n",
    "- Recursive solution \n",
    "    \n",
    "**T(n)=O(n)**\n",
    "\n",
    "**S(n)=O(n)**"
   ]
  },
  {
   "cell_type": "code",
   "execution_count": null,
   "metadata": {},
   "outputs": [],
   "source": [
    "# Definition for a binary tree node.\n",
    "# class TreeNode:\n",
    "#     def __init__(self, val=0, left=None, right=None):\n",
    "#         self.val = val\n",
    "#         self.left = left\n",
    "#         self.right = right\n",
    "class Solution:\n",
    "    def goodNodes(self, root: TreeNode) -> int:\n",
    "        \n",
    "        def dfs(root,max_val):\n",
    "            if not root:\n",
    "                return 0\n",
    "            #if root is new max that means it is good node\n",
    "            if root.val >= max_val:\n",
    "                res=1\n",
    "            else:\n",
    "                res=0\n",
    "            #updating the max val\n",
    "            max_val=max(max_val,root.val)\n",
    "            #passing the max val seen so far downwards\n",
    "            res+=dfs(root.left,max_val)\n",
    "            res+=dfs(root.right,max_val)\n",
    "            return res\n",
    "        return  dfs(root,root.val)        "
   ]
  }
 ],
 "metadata": {
  "kernelspec": {
   "display_name": "Python 3",
   "language": "python",
   "name": "python3"
  },
  "language_info": {
   "codemirror_mode": {
    "name": "ipython",
    "version": 3
   },
   "file_extension": ".py",
   "mimetype": "text/x-python",
   "name": "python",
   "nbconvert_exporter": "python",
   "pygments_lexer": "ipython3",
   "version": "3.8.5"
  }
 },
 "nbformat": 4,
 "nbformat_minor": 4
}
