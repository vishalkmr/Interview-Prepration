{
 "cells": [
  {
   "cell_type": "markdown",
   "metadata": {},
   "source": [
    "<h1>\n",
    "<a href=\"https://leetcode.com/problems/path-sum-ii/\" style=\"color:orange;text-decoration: none\";>113. Path Sum II\n",
    "</a> \n",
    "</h1> \n",
    "\n",
    "```\n",
    "Given the root of a binary tree and an integer targetSum, return all root-to-leaf paths where the sum of the node values in the path equals targetSum. Each path should be returned as a list of the node values, not node references.\n",
    "\n",
    "A root-to-leaf path is a path starting from the root and ending at any leaf node. A leaf is a node with no children.\n",
    "\n",
    "Example 1:\n",
    "Input: root = [5,4,8,11,null,13,4,7,2,null,null,5,1], targetSum = 22\n",
    "Output: [[5,4,11,2],[5,8,4,5]]\n",
    "Explanation: There are two paths whose sum equals targetSum:\n",
    "5 + 4 + 11 + 2 = 22\n",
    "5 + 8 + 4 + 5 = 22\n",
    "                                                                                                    \n",
    "Example 2:\n",
    "Input: root = [1,2,3], targetSum = 5\n",
    "Output: []\n",
    "\n",
    "Constraints:\n",
    "The number of nodes in the tree is in the range [2, 105].\n",
    "-109 <= Node.val <= 109\n",
    "All Node.val are unique.\n",
    "p != q\n",
    "p and q will exist in the tree.\n",
    "```"
   ]
  },
  {
   "cell_type": "markdown",
   "metadata": {},
   "source": [
    "## Approach 1\n",
    "- Recursive solution \n",
    "    \n",
    "**T(n)=O(n)**\n",
    "\n",
    "**S(n)=O(n)**"
   ]
  },
  {
   "cell_type": "code",
   "execution_count": null,
   "metadata": {},
   "outputs": [],
   "source": [
    "# Definition for a binary tree node.\n",
    "# class TreeNode:\n",
    "#     def __init__(self, val=0, left=None, right=None):\n",
    "#         self.val = val\n",
    "#         self.left = left\n",
    "#         self.right = right\n",
    "class Solution:\n",
    "    def pathSum(self, root: Optional[TreeNode], targetSum: int) -> List[List[int]]:\n",
    "        paths = []\n",
    "        def find_path_sum(root,targetSum,curr_path):\n",
    "            nonlocal paths\n",
    "            \n",
    "            if root == None:\n",
    "                return \n",
    "            \n",
    "            #updating the target and curr_path\n",
    "            curr_path.append(root.val)\n",
    "            targetSum = targetSum - root.val\n",
    "            \n",
    "            \n",
    "            #if target is found and node is leaf \n",
    "            if targetSum == 0 and root.right == None and root.left == None:\n",
    "                paths.append(curr_path.copy())\n",
    "                return\n",
    "    \n",
    "            #recursively solve for left and right subtree\n",
    "            if root.left:\n",
    "                find_path_sum(root.left,targetSum,curr_path)\n",
    "                # when duplicate values are allowed in node value\n",
    "                #make sure removing the last occurance of the item value\n",
    "                curr_path.reverse()\n",
    "                curr_path.remove(root.left.val)\n",
    "                curr_path.reverse()\n",
    "\n",
    "            if root.right:\n",
    "                find_path_sum(root.right,targetSum,curr_path)\n",
    "                # when duplicate values are allowed in node value\n",
    "                #make sure removing the last occurance of the item value\n",
    "                curr_path.reverse()\n",
    "                curr_path.remove(root.right.val)\n",
    "                curr_path.reverse()\n",
    "        \n",
    "        find_path_sum(root,targetSum,[])\n",
    "        return paths"
   ]
  }
 ],
 "metadata": {
  "kernelspec": {
   "display_name": "Python 3",
   "language": "python",
   "name": "python3"
  },
  "language_info": {
   "codemirror_mode": {
    "name": "ipython",
    "version": 3
   },
   "file_extension": ".py",
   "mimetype": "text/x-python",
   "name": "python",
   "nbconvert_exporter": "python",
   "pygments_lexer": "ipython3",
   "version": "3.8.5"
  }
 },
 "nbformat": 4,
 "nbformat_minor": 4
}
