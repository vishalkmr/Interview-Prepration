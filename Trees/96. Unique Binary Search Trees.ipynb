{
 "cells": [
  {
   "cell_type": "markdown",
   "metadata": {},
   "source": [
    "<h1>\n",
    "<a href=\"https://leetcode.com/problems/unique-binary-search-trees/\" style=\"color:orange;text-decoration: none\";>96. Unique Binary Search Trees\n",
    "</a> \n",
    "</h1> \n",
    "\n",
    "```\n",
    "Given an integer n, return the number of structurally unique BST's (binary search trees) which has exactly n nodes of unique values from 1 to n.\n",
    "\n",
    "Example 1:\n",
    "Input: n = 3\n",
    "Output: 5\n",
    "                                                                                                    \n",
    "Example 2:\n",
    "Input: n = 1\n",
    "Output: 1\n",
    "\n",
    "Constraints:\n",
    "1 <= n <= 19\n",
    "```"
   ]
  },
  {
   "cell_type": "markdown",
   "metadata": {},
   "source": [
    "## Approach 1\n",
    "- Recursive solution \n",
    "\n",
    " \n",
    "**T(n)=O(n*n)**\n",
    "\n",
    "**S(n)=O(n)**"
   ]
  },
  {
   "cell_type": "code",
   "execution_count": 1,
   "metadata": {},
   "outputs": [],
   "source": [
    "def numTrees(n):\n",
    "    if n==0 or n==1:\n",
    "        return 1\n",
    "    count=0\n",
    "    #find all posible split of nodes for given n\n",
    "    for i in range(1,n+1):\n",
    "        count+=numTrees(i-1)*numTrees(n-i)\n",
    "    return count"
   ]
  },
  {
   "cell_type": "code",
   "execution_count": 2,
   "metadata": {},
   "outputs": [
    {
     "data": {
      "text/plain": [
       "42"
      ]
     },
     "execution_count": 2,
     "metadata": {},
     "output_type": "execute_result"
    }
   ],
   "source": [
    "numTrees(5)"
   ]
  },
  {
   "cell_type": "markdown",
   "metadata": {},
   "source": [
    "## Approach 2\n",
    "- Non-Recursive solution \n",
    "\n",
    " \n",
    "**T(n)=O(n*n)**\n",
    "\n",
    "**S(n)=O(n)**"
   ]
  },
  {
   "cell_type": "code",
   "execution_count": 3,
   "metadata": {},
   "outputs": [],
   "source": [
    "def numTrees(n):\n",
    "    table=[0 for i in range(n+1)]\n",
    "    #base condition\n",
    "    table[0]=1\n",
    "    table[1]=1\n",
    "    #j represents nth number\n",
    "    for j in range(2,n+1):\n",
    "        #find all posible split of nodes for given j\n",
    "        for i in range(1,n+1):\n",
    "            table[j]+=table[i-1]*table[j-i]\n",
    "    print(table)\n",
    "    return table[n]"
   ]
  },
  {
   "cell_type": "code",
   "execution_count": 4,
   "metadata": {},
   "outputs": [
    {
     "name": "stdout",
     "output_type": "stream",
     "text": [
      "[1, 1, 2, 5, 14, 42, 132, 429]\n"
     ]
    },
    {
     "data": {
      "text/plain": [
       "429"
      ]
     },
     "execution_count": 4,
     "metadata": {},
     "output_type": "execute_result"
    }
   ],
   "source": [
    "numTrees(7)"
   ]
  }
 ],
 "metadata": {
  "kernelspec": {
   "display_name": "Python 3",
   "language": "python",
   "name": "python3"
  },
  "language_info": {
   "codemirror_mode": {
    "name": "ipython",
    "version": 3
   },
   "file_extension": ".py",
   "mimetype": "text/x-python",
   "name": "python",
   "nbconvert_exporter": "python",
   "pygments_lexer": "ipython3",
   "version": "3.8.5"
  }
 },
 "nbformat": 4,
 "nbformat_minor": 4
}
