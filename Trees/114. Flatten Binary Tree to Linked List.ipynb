{
 "cells": [
  {
   "cell_type": "markdown",
   "metadata": {},
   "source": [
    "<h1>\n",
    "<a href=\"https://leetcode.com/problems/flatten-binary-tree-to-linked-list/\" style=\"color:orange;text-decoration: none\";>114. Flatten Binary Tree to Linked List\n",
    "</a> \n",
    "</h1> \n",
    "\n",
    "```\n",
    "Given the root of a binary tree, flatten the tree into a \"linked list\":\n",
    "\n",
    "The \"linked list\" should use the same TreeNode class where the right child pointer points to the next node in the list and the left child pointer is always null.\n",
    "The \"linked list\" should be in the same order as a pre-order traversal of the binary tree.\n",
    " \n",
    "\n",
    "Example 1:\n",
    "Input: root = [1,2,5,3,4,null,6]\n",
    "Output: [1,null,2,null,3,null,4,null,5,null,6]\n",
    "                                                                                                    \n",
    "Example 2:\n",
    "Input: root = [0]\n",
    "Output: [0]\n",
    " \n",
    "Constraints:\n",
    "The number of nodes in the tree is in the range [0, 2000].\n",
    "-1000 <= Node.val <= 1000\n",
    "```"
   ]
  },
  {
   "cell_type": "markdown",
   "metadata": {},
   "source": [
    "## Approach 1\n",
    "- Non-Recursive solution using preorder traversal\n",
    "\n",
    " \n",
    "**T(n)=O(n)**\n",
    "\n",
    "**S(n)=O(n)**"
   ]
  },
  {
   "cell_type": "code",
   "execution_count": null,
   "metadata": {},
   "outputs": [],
   "source": [
    "# Definition for a binary tree node.\n",
    "# class TreeNode:\n",
    "#     def __init__(self, val=0, left=None, right=None):\n",
    "#         self.val = val\n",
    "#         self.left = left\n",
    "#         self.right = right\n",
    "class Solution:\n",
    "    def flatten(self, root: Optional[TreeNode]) -> None:\n",
    "        \"\"\"\n",
    "        Do not return anything, modify root in-place instead.\n",
    "        \"\"\"\n",
    "        stack=[root]\n",
    "        preorder=[]\n",
    "        if not root:\n",
    "            return root\n",
    "        while len(stack)>0:\n",
    "            for i in range(len(stack)):\n",
    "                node=stack.pop()\n",
    "                preorder.append(node)\n",
    "                if node.right:\n",
    "                    stack.append(node.right)\n",
    "                if node.left:\n",
    "                    stack.append(node.left)\n",
    "\n",
    "        n=len(preorder)\n",
    "        for i in range(n-1):\n",
    "            preorder[i].left=None\n",
    "            preorder[i].right=preorder[i+1]\n",
    "        \n",
    "        preorder[n-1].left=None\n",
    "        preorder[n-1].right=None\n",
    "        return preorder[0]"
   ]
  },
  {
   "cell_type": "markdown",
   "metadata": {},
   "source": [
    "## Approach 2\n",
    "- Non-Recursive solution\n",
    "- Attaching right subtree to the rightmost node in left subtree, doesn't change preorder traversal\n",
    "\n",
    " \n",
    "**T(n)=O(n)**\n",
    "\n",
    "**S(n)=O(1)**"
   ]
  },
  {
   "cell_type": "code",
   "execution_count": null,
   "metadata": {},
   "outputs": [],
   "source": [
    "# Definition for a binary tree node.\n",
    "# class TreeNode:\n",
    "#     def __init__(self, val=0, left=None, right=None):\n",
    "#         self.val = val\n",
    "#         self.left = left\n",
    "#         self.right = right\n",
    "class Solution:\n",
    "    def flatten(self, root: Optional[TreeNode]) -> None:\n",
    "        curr=root\n",
    "        if not root:\n",
    "            return curr\n",
    "        while curr:\n",
    "            if curr.left:\n",
    "                left_subtree_rightmost_node=curr.left\n",
    "                while left_subtree_rightmost_node.right:\n",
    "                    left_subtree_rightmost_node=left_subtree_rightmost_node.right\n",
    "                #attaching right subtree to the rightmost node in left subtree\n",
    "                left_subtree_rightmost_node.right=curr.right\n",
    "                #adding the whole left tree(at this poin whole tree) on right\n",
    "                curr.right=curr.left\n",
    "                #making left node None\n",
    "                curr.left=None\n",
    "            #move to the next node\n",
    "            curr=curr.right   "
   ]
  }
 ],
 "metadata": {
  "kernelspec": {
   "display_name": "Python 3",
   "language": "python",
   "name": "python3"
  },
  "language_info": {
   "codemirror_mode": {
    "name": "ipython",
    "version": 3
   },
   "file_extension": ".py",
   "mimetype": "text/x-python",
   "name": "python",
   "nbconvert_exporter": "python",
   "pygments_lexer": "ipython3",
   "version": "3.8.5"
  }
 },
 "nbformat": 4,
 "nbformat_minor": 4
}
