{
 "cells": [
  {
   "cell_type": "markdown",
   "metadata": {},
   "source": [
    "<h1>\n",
    "<a href=\"\" style=\"color:orange;text-decoration: none\";>Binary Tree With Given Sum From Root\n",
    "</a> \n",
    "</h1> \n",
    "\n",
    "```\n",
    "Given a binary tree and a sum, determine if the tree has a root-to-node path such that adding up all the values along the path equals the given sum.\n",
    "\n",
    "Example 1:\n",
    "Input: root = 1  , target=4\n",
    "             / \\\n",
    "            2   3\n",
    "Output: True\n",
    "Explanation: there exist a path from root 1->3                 \n",
    "\n",
    "Example 2:\n",
    "Input: root = 5  , target=22\n",
    "             / \\\n",
    "            4   8\n",
    "           /   / \\\n",
    "          11  13  4\n",
    "         /  \\      \\\n",
    "        7    2      1\n",
    "Output: True\n",
    "Explanation: there exist a path from root 5->4->11->2\n",
    "\n",
    "Constraints:\n",
    "The number of nodes in the tree is in the range [0, 1000].\n",
    "-109 <= Node.val <= 109\n",
    "-1000 <= targetSum <= 1000\n",
    "```"
   ]
  },
  {
   "cell_type": "markdown",
   "metadata": {},
   "source": [
    "## Approach 1\n",
    "- Recursive solution \n",
    "    \n",
    "**T(n)=O(n)**\n",
    "\n",
    "**S(n)=O(logn)**"
   ]
  },
  {
   "cell_type": "code",
   "execution_count": null,
   "metadata": {},
   "outputs": [],
   "source": [
    "# Definition for a binary tree node.\n",
    "# class TreeNode:\n",
    "#     def __init__(self, val=0, left=None, right=None):\n",
    "#         self.val = val\n",
    "#         self.left = left\n",
    "#         self.right = right\n",
    "class Solution:\n",
    "    def TargetSum(root,target):\n",
    "            if not root:\n",
    "                return False\n",
    "            if target==0:\n",
    "                return True\n",
    "            if not root.left and not root.right:\n",
    "                return root.val==target\n",
    "            return self.TargetSum(root.left,target-root.val) or self.TargetSum(root.right,target-root.val)"
   ]
  },
  {
   "cell_type": "code",
   "execution_count": null,
   "metadata": {},
   "outputs": [],
   "source": []
  }
 ],
 "metadata": {
  "kernelspec": {
   "display_name": "Python 3",
   "language": "python",
   "name": "python3"
  },
  "language_info": {
   "codemirror_mode": {
    "name": "ipython",
    "version": 3
   },
   "file_extension": ".py",
   "mimetype": "text/x-python",
   "name": "python",
   "nbconvert_exporter": "python",
   "pygments_lexer": "ipython3",
   "version": "3.8.5"
  }
 },
 "nbformat": 4,
 "nbformat_minor": 4
}
