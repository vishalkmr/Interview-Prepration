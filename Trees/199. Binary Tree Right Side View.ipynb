{
 "cells": [
  {
   "cell_type": "markdown",
   "metadata": {},
   "source": [
    "<h1>\n",
    "<a href=\"https://leetcode.com/problems/binary-tree-right-side-view/\" style=\"color:orange;text-decoration: none\";>199. Binary Tree Right Side View\n",
    "</a> \n",
    "</h1> \n",
    "\n",
    "```\n",
    "Given the root of a binary tree, imagine yourself standing on the right side of it, return the values of the nodes you can see ordered from top to bottom. \n",
    "\n",
    "Example 1:\n",
    "Input: root = [1,2,3,null,5,null,4]\n",
    "Output: [1,3,4]\n",
    "                                                                                                    \n",
    "Example 2:\n",
    "Input: root = [1,null,3]\n",
    "Output: [1,3]\n",
    "\n",
    "Constraints:\n",
    "The number of nodes in the tree is in the range [0, 100].\n",
    "-100 <= Node.val <= 100\n",
    "```"
   ]
  },
  {
   "cell_type": "markdown",
   "metadata": {},
   "source": [
    "## Approach 1\n",
    "- Non-Recursive solution using **BFS** with Queue\n",
    "- At each level add the right most node into final right side view\n",
    "\n",
    " \n",
    "**T(n)=O(n)**\n",
    "\n",
    "**S(n)=O(n)**"
   ]
  },
  {
   "cell_type": "code",
   "execution_count": null,
   "metadata": {},
   "outputs": [],
   "source": [
    "# Definition for a binary tree node.\n",
    "# class TreeNode:\n",
    "#     def __init__(self, val=0, left=None, right=None):\n",
    "#         self.val = val\n",
    "#         self.left = left\n",
    "#         self.right = right\n",
    "from collections import deque\n",
    "class Solution:\n",
    "    def rightSideView(self, root: Optional[TreeNode]) -> List[int]:\n",
    "        #initial right side view\n",
    "        right_side_view=[]\n",
    "        \n",
    "        #empty tree\n",
    "        if not root:\n",
    "            return right_side_view\n",
    "\n",
    "        #queue -> (node)\n",
    "        queue=deque([root])\n",
    "        \n",
    "        while queue:\n",
    "            #initialize the right most node at the current level\n",
    "            right_most_node=None\n",
    "\n",
    "            #for nodes at each level\n",
    "            for i in range(len(queue)):\n",
    "                #remove the node from queue\n",
    "                deleted_node=queue.popleft()\n",
    "                \n",
    "                #update the right most element at current level\n",
    "                right_most_node=deleted_node\n",
    "                \n",
    "                #if removed node has childrens add them to the queue\n",
    "                if deleted_node.left:\n",
    "                    queue.append(deleted_node.left)\n",
    "                if deleted_node.right:\n",
    "                    queue.append(deleted_node.right)\n",
    "            \n",
    "            #add the right most node at current level into final right side view\n",
    "            right_side_view.append(right_most_node.val)\n",
    "\n",
    "        return  right_side_view  "
   ]
  }
 ],
 "metadata": {
  "kernelspec": {
   "display_name": "Python 3",
   "language": "python",
   "name": "python3"
  },
  "language_info": {
   "codemirror_mode": {
    "name": "ipython",
    "version": 3
   },
   "file_extension": ".py",
   "mimetype": "text/x-python",
   "name": "python",
   "nbconvert_exporter": "python",
   "pygments_lexer": "ipython3",
   "version": "3.8.5"
  }
 },
 "nbformat": 4,
 "nbformat_minor": 4
}
