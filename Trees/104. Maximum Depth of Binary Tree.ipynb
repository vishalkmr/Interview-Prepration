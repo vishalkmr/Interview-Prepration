{
 "cells": [
  {
   "cell_type": "markdown",
   "metadata": {},
   "source": [
    "<h1>\n",
    "<a href=\"https://leetcode.com/problems/maximum-depth-of-binary-tree/\" style=\"color:green;text-decoration: none\";>104. Maximum Depth of Binary Tree\n",
    "</a> \n",
    "</h1> \n",
    "\n",
    "```\n",
    "Given the root of a binary tree, return its maximum depth.\n",
    "\n",
    "A binary tree's maximum depth is the number of nodes along the longest path from the root node down to the farthest leaf node.\n",
    "\n",
    "Example 1:\n",
    "Input: root = [3,9,20,null,null,15,7]\n",
    "Output: 3\n",
    "                                                                                                    \n",
    "Example 2:\n",
    "Input: root = [1,null,2]\n",
    "Output: 2\n",
    " \n",
    "Constraints:\n",
    "The number of nodes in the tree is in the range [0, 104].\n",
    "-100 <= Node.val <= 100\n",
    "```"
   ]
  },
  {
   "cell_type": "markdown",
   "metadata": {},
   "source": [
    "## Approach 1\n",
    "- Recursive solution using **DFS**\n",
    "\n",
    " \n",
    "**T(n)=O(n)**\n",
    "\n",
    "**S(n)=O(n)**"
   ]
  },
  {
   "cell_type": "code",
   "execution_count": null,
   "metadata": {},
   "outputs": [],
   "source": [
    "# Definition for a binary tree node.\n",
    "# class TreeNode:\n",
    "#     def __init__(self, val=0, left=None, right=None):\n",
    "#         self.val = val\n",
    "#         self.left = left\n",
    "#         self.right = right\n",
    "class Solution:\n",
    "    def maxDepth(self, root: Optional[TreeNode]) -> int:\n",
    "        #base case when root is empty depth=0\n",
    "        if root == None:\n",
    "            return 0\n",
    "        \n",
    "        #recursively computing depth of subtree\n",
    "        left=dfs(root.left)\n",
    "        right=dfs(root.right)\n",
    "\n",
    "        #returning the final depth for the root\n",
    "        return max(left,right)+1"
   ]
  },
  {
   "cell_type": "markdown",
   "metadata": {},
   "source": [
    "## Approach 2\n",
    "- Non-Recursive solution using **BFS** with Queue\n",
    "\n",
    " \n",
    "**T(n)=O(n)**\n",
    "\n",
    "**S(n)=O(n)**"
   ]
  },
  {
   "cell_type": "code",
   "execution_count": null,
   "metadata": {},
   "outputs": [],
   "source": [
    "# Definition for a binary tree node.\n",
    "# class TreeNode:\n",
    "#     def __init__(self, val=0, left=None, right=None):\n",
    "#         self.val = val\n",
    "#         self.left = left\n",
    "#         self.right = right\n",
    "from collections import deque\n",
    "class Solution:\n",
    "    def maxDepth(self, root: Optional[TreeNode]) -> int:        \n",
    "        depth=0\n",
    "\n",
    "        #empty tree\n",
    "        if root == None:\n",
    "            return depth\n",
    "        \n",
    "        #queue -> (node)\n",
    "        queue=deque([root]) \n",
    "\n",
    "        while queue:\n",
    "            #for nodes at each level\n",
    "            for i in range(len(queue)):    \n",
    "                #remove the node from queue\n",
    "                node=queue.popleft()\n",
    "                \n",
    "                #if removed node has childrens add them to the queue\n",
    "                if node.left:\n",
    "                    queue.append(node.left)\n",
    "                if node.right:\n",
    "                    queue.append(node.right)\n",
    "\n",
    "            #updating the depth\n",
    "            depth+=1\n",
    "        \n",
    "        return depth"
   ]
  },
  {
   "cell_type": "markdown",
   "metadata": {},
   "source": [
    "## Approach 3\n",
    "- Iterative solution using **DFS** with Stack\n",
    "\n",
    " \n",
    "**T(n)=O(n)**\n",
    "\n",
    "**S(n)=O(n)**"
   ]
  },
  {
   "cell_type": "code",
   "execution_count": null,
   "metadata": {},
   "outputs": [],
   "source": [
    "# Definition for a binary tree node.\n",
    "# class TreeNode:\n",
    "#     def __init__(self, val=0, left=None, right=None):\n",
    "#         self.val = val\n",
    "#         self.left = left\n",
    "#         self.right = right\n",
    "class Solution:\n",
    "    def maxDepth(self, root: Optional[TreeNode]) -> int:\n",
    "        if root == None:\n",
    "            return 0\n",
    "        stack=[[root,1]]\n",
    "        depth=0\n",
    "        while 0 < len(stack):\n",
    "            node,level=stack.pop()\n",
    "            if node.left:\n",
    "                stack.append([node.left,level+1])\n",
    "            if node.right:\n",
    "                stack.append([node.right,level+1])\n",
    "            depth=max(depth,level)\n",
    "        return depth"
   ]
  }
 ],
 "metadata": {
  "kernelspec": {
   "display_name": "Python 3",
   "language": "python",
   "name": "python3"
  },
  "language_info": {
   "codemirror_mode": {
    "name": "ipython",
    "version": 3
   },
   "file_extension": ".py",
   "mimetype": "text/x-python",
   "name": "python",
   "nbconvert_exporter": "python",
   "pygments_lexer": "ipython3",
   "version": "3.8.5"
  }
 },
 "nbformat": 4,
 "nbformat_minor": 4
}
