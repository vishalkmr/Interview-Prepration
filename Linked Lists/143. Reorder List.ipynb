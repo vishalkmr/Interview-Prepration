{
 "cells": [
  {
   "cell_type": "markdown",
   "metadata": {},
   "source": [
    "<h1>\n",
    "<a href=\"https://leetcode.com/problems/reorder-list\" style=\"color:orange;text-decoration: none\";>143. Reorder List</a> \n",
    "</h1> \n",
    "\n",
    "```\n",
    "You are given the head of a singly linked-list. The list can be represented as:\n",
    "\n",
    "L0 → L1 → … → Ln - 1 → Ln\n",
    "Reorder the list to be on the following form:\n",
    "\n",
    "L0 → Ln → L1 → Ln - 1 → L2 → Ln - 2 → …\n",
    "You may not modify the values in the list's nodes. Only nodes themselves may be changed.\n",
    "```"
   ]
  },
  {
   "cell_type": "markdown",
   "metadata": {},
   "source": [
    "## Approach 1\n",
    "- Find the middle element\n",
    "- Reverse the list after mid element\n",
    "- Add element from straight list and revesed list\n",
    "\n",
    "**T(n)=O(n)**\n",
    "\n",
    "**S(n)=O(1)**"
   ]
  },
  {
   "cell_type": "code",
   "execution_count": null,
   "metadata": {},
   "outputs": [],
   "source": [
    "# Definition for singly-linked list.\n",
    "# class ListNode:\n",
    "#     def __init__(self, val=0, next=None):\n",
    "#         self.val = val\n",
    "#         self.next = next\n",
    "class Solution:\n",
    "    def reverseList(self, head: Optional[ListNode]) -> Optional[ListNode]:\n",
    "        \n",
    "        if head == None or head.next == None:\n",
    "            return head\n",
    "        \n",
    "        prev = curr = head\n",
    "        ahead = head.next\n",
    "        prev.next = None\n",
    "            \n",
    "        while ahead:\n",
    "            curr=ahead\n",
    "            ahead=ahead.next\n",
    "            curr.next=prev\n",
    "            prev=curr\n",
    "\n",
    "        return curr\n",
    "\n",
    "    def reorderList(self, head: Optional[ListNode]) -> None:\n",
    "        \"\"\"\n",
    "        Do not return anything, modify head in-place instead.\n",
    "        \"\"\"\n",
    "        number_of_nodes=0\n",
    "        curr=head\n",
    "        while curr:\n",
    "            number_of_nodes+=1\n",
    "            curr=curr.next\n",
    "        n=0\n",
    "        curr=head\n",
    "        while n < number_of_nodes/2:\n",
    "            curr=curr.next\n",
    "            n+=1\n",
    "        \n",
    "        #two list we have straight and reversed\n",
    "        straight_list=head\n",
    "        reversed_list=self.reverseList(curr)\n",
    "\n",
    "        n=0\n",
    "        reorder_list=curr=ListNode()\n",
    "        \n",
    "        #adding one element from each list\n",
    "        while straight_list and  reversed_list:\n",
    "            curr.next=straight_list\n",
    "            curr=straight_list\n",
    "            straight_list=straight_list.next\n",
    "\n",
    "            curr.next=reversed_list\n",
    "            curr=reversed_list\n",
    "            reversed_list=reversed_list.next\n",
    "\n",
    "        #if element still left in staright list make it last element in the reorder list\n",
    "        if straight_list:\n",
    "            curr.next=straight_list\n",
    "            curr=straight_list\n",
    "            curr.next=None\n",
    "\n",
    "        return reorder_list.next  "
   ]
  }
 ],
 "metadata": {
  "kernelspec": {
   "display_name": "Python 3",
   "language": "python",
   "name": "python3"
  },
  "language_info": {
   "codemirror_mode": {
    "name": "ipython",
    "version": 3
   },
   "file_extension": ".py",
   "mimetype": "text/x-python",
   "name": "python",
   "nbconvert_exporter": "python",
   "pygments_lexer": "ipython3",
   "version": "3.8.5"
  }
 },
 "nbformat": 4,
 "nbformat_minor": 4
}
