{
 "cells": [
  {
   "cell_type": "markdown",
   "metadata": {},
   "source": [
    "<h1>\n",
    "<a href=\"https://leetcode.com/problems/palindrome-linked-list/\" style=\"color:green;text-decoration: none\";>234. Palindrome Linked List</a> \n",
    "</h1> \n",
    "\n",
    "```\n",
    "Given the head of a singly linked list, return true if it is a palindrome.\n",
    "\n",
    "Example 1:\n",
    "Input: head = [1,2,2,1]\n",
    "Output: true\n",
    "\n",
    "Example 2:\n",
    "Input: head = [1,2]\n",
    "Output: false\n",
    " \n",
    "Constraints:\n",
    "The number of nodes in the list is in the range [1, 105].\n",
    "0 <= Node.val <= 9\n",
    "```"
   ]
  },
  {
   "cell_type": "markdown",
   "metadata": {},
   "source": [
    "## Approach 1\n",
    "- Find the mid of the list\n",
    "- Reverse the 1st half of the list\n",
    "- Compare the 1st half reverse with 2nd half\n",
    "\n",
    "**T(n)=O(n)**\n",
    "\n",
    "**S(n)=O(1)**"
   ]
  },
  {
   "cell_type": "code",
   "execution_count": null,
   "metadata": {},
   "outputs": [],
   "source": [
    "# Definition for singly-linked list.\n",
    "# class ListNode:\n",
    "#     def __init__(self, val=0, next=None):\n",
    "#         self.val = val\n",
    "#         self.next = next\n",
    "class Solution:\n",
    "    def isPalindrome(self, head: Optional[ListNode]) -> bool:\n",
    "        #count the number of nodes\n",
    "        curr=head\n",
    "        num_nodes=0\n",
    "        while curr:\n",
    "            curr=curr.next\n",
    "            num_nodes+=1\n",
    "        \n",
    "        \n",
    "        if num_nodes <= 1:\n",
    "            return True\n",
    "\n",
    "        #reverse the 1st half of the linked list\n",
    "        curr=head\n",
    "        prev=head\n",
    "        ahead=head.next\n",
    "        \n",
    "        prev.next=None\n",
    "        n=1\n",
    "        while curr :\n",
    "            if num_nodes%2 ==0 and n == num_nodes//2:\n",
    "                break\n",
    "            \n",
    "            #for odd number linked list skip the middle element\n",
    "            if num_nodes%2 != 0 and n == num_nodes//2:\n",
    "                ahead=ahead.next\n",
    "                break\n",
    "            \n",
    "            curr=ahead\n",
    "            ahead=ahead.next\n",
    "            curr.next=prev\n",
    "            prev=curr\n",
    "            n+=1\n",
    "                \n",
    "        #compare the 1st reverse linked list with second half linked list\n",
    "        first=curr\n",
    "        second=ahead\n",
    "        \n",
    "        while first and second:\n",
    "            if first.val != second.val:\n",
    "                return False\n",
    "            first=first.next\n",
    "            second=second.next\n",
    "        \n",
    "        return True"
   ]
  }
 ],
 "metadata": {
  "kernelspec": {
   "display_name": "Python 3",
   "language": "python",
   "name": "python3"
  },
  "language_info": {
   "codemirror_mode": {
    "name": "ipython",
    "version": 3
   },
   "file_extension": ".py",
   "mimetype": "text/x-python",
   "name": "python",
   "nbconvert_exporter": "python",
   "pygments_lexer": "ipython3",
   "version": "3.8.5"
  }
 },
 "nbformat": 4,
 "nbformat_minor": 4
}
