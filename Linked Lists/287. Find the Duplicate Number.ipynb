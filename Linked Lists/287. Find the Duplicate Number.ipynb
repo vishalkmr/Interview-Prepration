{
 "cells": [
  {
   "cell_type": "markdown",
   "metadata": {},
   "source": [
    "<h1>\n",
    "<a href=\"https://leetcode.com/problems/find-the-duplicate-number/\" style=\"color:orange;text-decoration: none\";>287. Find the Duplicate Number</a> \n",
    "</h1> \n",
    "\n",
    "```\n",
    "Given an array of integers nums containing n + 1 integers where each integer is in the range [1, n] inclusive.\n",
    "There is only one repeated number in nums, return this repeated number.\n",
    "You must solve the problem without modifying the array nums and uses only constant extra space.\n",
    "\n",
    "Example 1:\n",
    "Input: nums = [1,3,4,2,2]\n",
    "Output: 2\n",
    "\n",
    "Example 2:\n",
    "Input: nums = [3,1,3,4,2]\n",
    "Output: 3\n",
    " \n",
    "Constraints:\n",
    "1 <= n <= 105\n",
    "nums.length == n + 1\n",
    "1 <= nums[i] <= n\n",
    "All the integers in nums appear only once except for precisely one integer which appears two or more times.\n",
    "```"
   ]
  },
  {
   "cell_type": "markdown",
   "metadata": {},
   "source": [
    "## Approach 1\n",
    "- applicable if list is <b>mutable</b>\n",
    "- the array can be viewed as linked list containing a cycle due to the property that it contains n + 1 integers where each integer is in the range [1, n]\n",
    "- we accessed the linked list element one by one and mark it negative\n",
    "- we we came accross any negative node which means that node is already traversed hence duplicate can be found\n",
    "\n",
    "**T(n)=O(n)**\n",
    "\n",
    "<img src=\"../images/287.png\" width=900 height=500 style=\"float: left;\" />"
   ]
  },
  {
   "cell_type": "code",
   "execution_count": 1,
   "metadata": {},
   "outputs": [],
   "source": [
    "def findDuplicate(nums):\n",
    "    for i in range(len(nums)):\n",
    "        #nums[i] represent the current node in link list\n",
    "        #nums[abs(nums[i])] represent the next node list\n",
    "        idx=abs(nums[i])\n",
    "        \n",
    "        #if next node data is negative means node is already taversed via current node hence dupicate is found\n",
    "        if nums[idx] <= 0:\n",
    "            return idx\n",
    "        #update the next node data to negative to mark that this node is traversed via current node\n",
    "        else:\n",
    "            nums[idx]*=-1"
   ]
  },
  {
   "cell_type": "code",
   "execution_count": 2,
   "metadata": {},
   "outputs": [
    {
     "data": {
      "text/plain": [
       "2"
      ]
     },
     "execution_count": 2,
     "metadata": {},
     "output_type": "execute_result"
    }
   ],
   "source": [
    "nums = [1,3,4,2,2]\n",
    "findDuplicate(nums)"
   ]
  },
  {
   "cell_type": "markdown",
   "metadata": {},
   "source": [
    "## Approach 2\n",
    "- applicable if list is <b>immutable</b>\n",
    "- we can use Floyd’s Cycle Intersaction Algorithm\n",
    "- a) use slow and fast pointer to find cycle in linked list. The point where the these pointers intersact the distance between slow pointer and the begning of the linked list same\n",
    "- b) so after finding there intersaction we use second slow pointer from start and update both the slow pointers until they meet at the beging of the cycle\n",
    "- c) we are sure that in this case the begining of the cycle is the duplicate element (since two nodes are pointing to that begining node of the cycle. Which are node before the cycle and node from inside the cycle)\n",
    "\n",
    "\n",
    "\n",
    "**T(n)=O(n)**"
   ]
  },
  {
   "cell_type": "code",
   "execution_count": 3,
   "metadata": {},
   "outputs": [],
   "source": [
    "def findDuplicate(nums):\n",
    "    slow,fast=0,0\n",
    "    #finding intersaction of the slow and fast pointer\n",
    "    while True:\n",
    "        #jumping one position in linked list\n",
    "        slow=nums[slow]\n",
    "        #jumping two position in linked list\n",
    "        fast=nums[nums[fast]]\n",
    "        \n",
    "        if slow == fast:\n",
    "            break\n",
    "    #finding the node(cycle b) where the both the slow pointer meets\n",
    "    slow2=0\n",
    "    while True:\n",
    "        #jumping one position in linked list\n",
    "        slow=nums[slow]\n",
    "        #jumping one position in linked list\n",
    "        slow2=nums[slow2]\n",
    "        if slow == slow2:\n",
    "            return slow    "
   ]
  },
  {
   "cell_type": "code",
   "execution_count": 4,
   "metadata": {},
   "outputs": [
    {
     "data": {
      "text/plain": [
       "2"
      ]
     },
     "execution_count": 4,
     "metadata": {},
     "output_type": "execute_result"
    }
   ],
   "source": [
    "nums = [1,3,4,2,2]\n",
    "findDuplicate(nums)"
   ]
  }
 ],
 "metadata": {
  "kernelspec": {
   "display_name": "Python 3",
   "language": "python",
   "name": "python3"
  },
  "language_info": {
   "codemirror_mode": {
    "name": "ipython",
    "version": 3
   },
   "file_extension": ".py",
   "mimetype": "text/x-python",
   "name": "python",
   "nbconvert_exporter": "python",
   "pygments_lexer": "ipython3",
   "version": "3.8.5"
  }
 },
 "nbformat": 4,
 "nbformat_minor": 4
}
