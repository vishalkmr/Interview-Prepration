{
 "cells": [
  {
   "cell_type": "markdown",
   "metadata": {},
   "source": [
    "<h1>\n",
    "<a href=\"https://leetcode.com/problems/remove-nth-node-from-end-of-list/description/\" style=\"color:orange;text-decoration: none\";>19. Remove Nth Node From End of List</a> \n",
    "</h1> \n",
    "\n",
    "```\n",
    "Given the head of a linked list, remove the nth node from the end of the list and return its head.\n",
    "\n",
    "Example 1:\n",
    "Input: head = [1,2,3,4,5], n = 2\n",
    "Output: [1,2,3,5]\n",
    "\n",
    "Example 2:\n",
    "Input: head = [1,2], n = 1\n",
    "Output: [1]\n",
    "\n",
    "Constraints:\n",
    "The number of nodes in the list is sz.\n",
    "1 <= sz <= 30\n",
    "0 <= Node.val <= 100\n",
    "1 <= n <= sz\n",
    "```"
   ]
  },
  {
   "cell_type": "markdown",
   "metadata": {},
   "source": [
    "## Approach 1\n",
    "- Find the intermediate node which is n steps from 1st node\n",
    "- Increment boht the start and intermediate node pointer \n",
    "- Intermediate node hits the end of list and the curr node represents the node to be deleted\n",
    "- Use extra pointer prev to track the previus node of curr node\n",
    "\n",
    "**T(n)=O(n)**\n",
    "\n",
    "**S(n)=O(1)**"
   ]
  },
  {
   "cell_type": "code",
   "execution_count": null,
   "metadata": {},
   "outputs": [],
   "source": [
    "# Definition for singly-linked list.\n",
    "# class ListNode:\n",
    "#     def __init__(self, val=0, next=None):\n",
    "#         self.val = val\n",
    "#         self.next = next\n",
    "class Solution:\n",
    "    def removeNthFromEnd(self, head: Optional[ListNode], n: int) -> Optional[ListNode]:\n",
    "        #find the intermediate node which is at n step from 1st node\n",
    "        intermedeiate_node=head\n",
    "        while n>0:\n",
    "            intermedeiate_node=intermedeiate_node.next\n",
    "            n-=1\n",
    "    \n",
    "        curr=prev=head\n",
    "\n",
    "        #when intermediate/last node to be deleted\n",
    "        if intermedeiate_node:\n",
    "            #traverse until we get to end \n",
    "            while intermedeiate_node:\n",
    "                prev=curr\n",
    "                curr=curr.next\n",
    "                intermedeiate_node=intermedeiate_node.next\n",
    "            \n",
    "            #delete the curr node\n",
    "            prev.next=curr.next\n",
    "\n",
    "            return head\n",
    "        #when 1st node to be deleted \n",
    "        else:\n",
    "            return head.next"
   ]
  }
 ],
 "metadata": {
  "kernelspec": {
   "display_name": "Python 3",
   "language": "python",
   "name": "python3"
  },
  "language_info": {
   "codemirror_mode": {
    "name": "ipython",
    "version": 3
   },
   "file_extension": ".py",
   "mimetype": "text/x-python",
   "name": "python",
   "nbconvert_exporter": "python",
   "pygments_lexer": "ipython3",
   "version": "3.8.5"
  }
 },
 "nbformat": 4,
 "nbformat_minor": 4
}
