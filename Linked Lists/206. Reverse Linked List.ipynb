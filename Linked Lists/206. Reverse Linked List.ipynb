{
 "cells": [
  {
   "cell_type": "markdown",
   "metadata": {},
   "source": [
    "<h1>\n",
    "<a href=\"https://leetcode.com/problems/reverse-linked-list/\" style=\"color:green;text-decoration: none\";>206. Reverse Linked List</a> \n",
    "</h1> \n",
    "\n",
    "```\n",
    "Given the head of a singly linked list, reverse the list, and return the reversed list.\n",
    "\n",
    "Example 1:\n",
    "Input: head = [1,2,3,4,5]\n",
    "Output: [5,4,3,2,1]\n",
    "\n",
    "Example 2:\n",
    "Input: head = [1,2]\n",
    "Output: [2,1]\n",
    " \n",
    "Constraints:\n",
    "The number of nodes in the list is the range [0, 5000].\n",
    "-5000 <= Node.val <= 5000\n",
    "```"
   ]
  },
  {
   "cell_type": "markdown",
   "metadata": {},
   "source": [
    "## Approach 1\n",
    "- Use 3 pointers \n",
    "- curr -> points to the current element of the list\n",
    "- ahead -> points to the next element to the curr element\n",
    "- prev -> point to the element appears before curr\n",
    "\n",
    "**T(n)=O(n)**\n",
    "\n",
    "**S(n)=O(1)**"
   ]
  },
  {
   "cell_type": "code",
   "execution_count": null,
   "metadata": {},
   "outputs": [],
   "source": [
    "# Definition for singly-linked list.\n",
    "# class ListNode:\n",
    "#     def __init__(self, val=0, next=None):\n",
    "#         self.val = val\n",
    "#         self.next = next\n",
    "class Solution:\n",
    "    def reverseList(self, head: Optional[ListNode]) -> Optional[ListNode]:\n",
    "        \n",
    "        if head == None or head.next == None:\n",
    "            return head\n",
    "        \n",
    "        prev = curr = head\n",
    "        ahead = head.next\n",
    "        prev.next = None\n",
    "            \n",
    "        while ahead:\n",
    "            curr=ahead\n",
    "            ahead=ahead.next\n",
    "            curr.next=prev\n",
    "            prev=curr\n",
    "\n",
    "        return curr"
   ]
  }
 ],
 "metadata": {
  "kernelspec": {
   "display_name": "Python 3",
   "language": "python",
   "name": "python3"
  },
  "language_info": {
   "codemirror_mode": {
    "name": "ipython",
    "version": 3
   },
   "file_extension": ".py",
   "mimetype": "text/x-python",
   "name": "python",
   "nbconvert_exporter": "python",
   "pygments_lexer": "ipython3",
   "version": "3.8.5"
  }
 },
 "nbformat": 4,
 "nbformat_minor": 4
}
