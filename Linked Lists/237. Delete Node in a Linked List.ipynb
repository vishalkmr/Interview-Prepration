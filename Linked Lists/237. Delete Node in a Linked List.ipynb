{
 "cells": [
  {
   "cell_type": "markdown",
   "metadata": {},
   "source": [
    "<h1>\n",
    "<a href=\"https://leetcode.com/problems/delete-node-in-a-linked-list/\" style=\"color:green;text-decoration: none\";>237. Delete Node in a Linked List</a> \n",
    "</h1> \n",
    "\n",
    "```\n",
    "Write a function to delete a node in a singly-linked list. You will not be given access to the head of the list, instead you will be given access to the node to be deleted directly.\n",
    "\n",
    "It is guaranteed that the node to be deleted is not a tail node in the list.\n",
    "\n",
    "Example 1:\n",
    "Input: head = [4,5,1,9], node = 5\n",
    "Output: [4,1,9]\n",
    "Explanation: You are given the second node with value 5, the linked list should become 4 -> 1 -> 9 after calling your function.\n",
    "\n",
    "Example 2:\n",
    "Input: head = [4,5,1,9], node = 1\n",
    "Output: [4,5,9]\n",
    "Explanation: You are given the third node with value 1, the linked list should become 4 -> 5 -> 9 after calling your function.\n",
    " \n",
    "Constraints:\n",
    "The number of the nodes in the given list is in the range [2, 1000].\n",
    "-1000 <= Node.val <= 1000\n",
    "The value of each node in the list is unique.\n",
    "The node to be deleted is in the list and is not a tail node\n",
    "```"
   ]
  },
  {
   "cell_type": "code",
   "execution_count": 1,
   "metadata": {},
   "outputs": [],
   "source": [
    "# Definition for singly-linked list.\n",
    "# class ListNode:\n",
    "#     def __init__(self, x):\n",
    "#         self.val = x\n",
    "#         self.next = None\n",
    "\n",
    "class Solution:\n",
    "    def deleteNode(self, node):\n",
    "        \"\"\"\n",
    "        :type node: ListNode\n",
    "        :rtype: void Do not return anything, modify node in-place instead.\n",
    "        \"\"\"\n",
    "        while node and node.next:\n",
    "            #copy back the value of next node to the current node\n",
    "            node.val=node.next.val\n",
    "            \n",
    "            #if the next node is not the last node just link the current node to the next node\n",
    "            if node.next.next:\n",
    "                node=node.next\n",
    "            \n",
    "            #if the next node is last node then delete the node link\n",
    "            else:\n",
    "                node.next=None"
   ]
  }
 ],
 "metadata": {
  "kernelspec": {
   "display_name": "Python 3",
   "language": "python",
   "name": "python3"
  },
  "language_info": {
   "codemirror_mode": {
    "name": "ipython",
    "version": 3
   },
   "file_extension": ".py",
   "mimetype": "text/x-python",
   "name": "python",
   "nbconvert_exporter": "python",
   "pygments_lexer": "ipython3",
   "version": "3.8.5"
  }
 },
 "nbformat": 4,
 "nbformat_minor": 4
}
