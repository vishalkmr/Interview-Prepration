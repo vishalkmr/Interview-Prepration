{
 "cells": [
  {
   "cell_type": "markdown",
   "metadata": {},
   "source": [
    "<h1>\n",
    "<a href=\"https://leetcode.com/problems/copy-list-with-random-pointer/description/\" style=\"color:orange;text-decoration: none\";>138. Copy List with Random Pointer</a> \n",
    "</h1> \n",
    "\n",
    "```\n",
    "A linked list of length n is given such that each node contains an additional random pointer, which could point to any node in the list, or null.\n",
    "\n",
    "Construct a deep copy of the list. The deep copy should consist of exactly n brand new nodes, where each new node has its value set to the value of its corresponding original node. Both the next and random pointer of the new nodes should point to new nodes in the copied list such that the pointers in the original list and copied list represent the same list state. None of the pointers in the new list should point to nodes in the original list.\n",
    "\n",
    "For example, if there are two nodes X and Y in the original list, where X.random --> Y, then for the corresponding two nodes x and y in the copied list, x.random --> y.\n",
    "\n",
    "Return the head of the copied linked list.\n",
    "\n",
    "The linked list is represented in the input/output as a list of n nodes. Each node is represented as a pair of [val, random_index] where:\n",
    "\n",
    "val: an integer representing Node.val\n",
    "random_index: the index of the node (range from 0 to n-1) that the random pointer points to, or null if it does not point to any node.\n",
    "Your code will only be given the head of the original linked list.\n",
    "\n",
    "Example 1:\n",
    "Input: head = [[7,null],[13,0],[11,4],[10,2],[1,0]]\n",
    "Output: [[7,null],[13,0],[11,4],[10,2],[1,0]]\n",
    "\n",
    "Example 2:\n",
    "Input: head = [[1,1],[2,1]]\n",
    "Output: [[1,1],[2,1]]\n",
    "\n",
    "Constraints:\n",
    "0 <= n <= 1000\n",
    "-104 <= Node.val <= 104\n",
    "Node.random is null or is pointing to some node in the linked list.\n",
    "```"
   ]
  },
  {
   "cell_type": "markdown",
   "metadata": {},
   "source": [
    "## Approach 1\n",
    "- Use hash-map to store old to new nodes\n",
    "- 1st copy the newly created copy nodes into hash-map with thier corresponding old nodes\n",
    "- Then in next iteration update the pointer of the copy nodes using hash-map data \n",
    "\n",
    "**T(n)=O(n)**\n",
    "\n",
    "**S(n)=O(n)**"
   ]
  },
  {
   "cell_type": "code",
   "execution_count": null,
   "metadata": {},
   "outputs": [],
   "source": [
    "\"\"\"\n",
    "# Definition for a Node.\n",
    "class Node:\n",
    "    def __init__(self, x: int, next: 'Node' = None, random: 'Node' = None):\n",
    "        self.val = int(x)\n",
    "        self.next = next\n",
    "        self.random = random\n",
    "\"\"\"\n",
    "\n",
    "class Solution:\n",
    "    def copyRandomList(self, head: 'Optional[Node]') -> 'Optional[Node]':\n",
    "        #use hash-map to store old to new nodes\n",
    "        old_to_copy_hash_map={None:None}\n",
    "        \n",
    "        #copy the new nodes into hash-map\n",
    "        curr=head\n",
    "        while curr:\n",
    "            old_to_copy_hash_map[curr]=Node(curr.val)\n",
    "            curr=curr.next\n",
    "\n",
    "        #update the new copy nodes pointers using hash-map\n",
    "        curr=head\n",
    "        while curr:\n",
    "            copy=old_to_copy_hash_map[curr]\n",
    "            copy.next=old_to_copy_hash_map[curr.next]\n",
    "            copy.random=old_to_copy_hash_map[curr.random]\n",
    "            curr=curr.next\n",
    "\n",
    "        #return the new copy node head\n",
    "        return old_to_copy_hash_map[head]"
   ]
  }
 ],
 "metadata": {
  "kernelspec": {
   "display_name": "Python 3",
   "language": "python",
   "name": "python3"
  },
  "language_info": {
   "codemirror_mode": {
    "name": "ipython",
    "version": 3
   },
   "file_extension": ".py",
   "mimetype": "text/x-python",
   "name": "python",
   "nbconvert_exporter": "python",
   "pygments_lexer": "ipython3",
   "version": "3.8.5"
  }
 },
 "nbformat": 4,
 "nbformat_minor": 4
}
