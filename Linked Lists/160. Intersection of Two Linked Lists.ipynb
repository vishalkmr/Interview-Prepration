{
 "cells": [
  {
   "cell_type": "markdown",
   "metadata": {},
   "source": [
    "<h1>\n",
    "<a href=\"https://leetcode.com/problems/intersection-of-two-linked-lists/\" style=\"color:green;text-decoration: none\";>160. Intersection of Two Linked Lists</a> \n",
    "</h1> \n",
    "\n",
    "```\n",
    "Given the heads of two singly linked-lists headA and headB, return the node at which the two lists intersect. If the two linked lists have no intersection at all, return null.\n",
    "\n",
    "Example 1:\n",
    "Input: intersectVal = 8, listA = [4,1,8,4,5], listB = [5,6,1,8,4,5], skipA = 2, skipB = 3\n",
    "Output: Intersected at '8'\n",
    "\n",
    "Example 2:\n",
    "Input: intersectVal = 2, listA = [1,9,1,2,4], listB = [3,2,4], skipA = 3, skipB = 1\n",
    "Output: Intersected at '2'\n",
    " \n",
    "Constraints:\n",
    "The number of nodes of listA is in the m.\n",
    "The number of nodes of listB is in the n.\n",
    "1 <= m, n <= 3 * 104\n",
    "1 <= Node.val <= 105\n",
    "0 <= skipA < m\n",
    "0 <= skipB < n\n",
    "intersectVal is 0 if listA and listB do not intersect.\n",
    "intersectVal == listA[skipA] == listB[skipB] if listA and listB intersect.\n",
    "```"
   ]
  },
  {
   "cell_type": "code",
   "execution_count": null,
   "metadata": {},
   "outputs": [],
   "source": [
    "# Definition for singly-linked list.\n",
    "# class ListNode:\n",
    "#     def __init__(self, x):\n",
    "#         self.val = x\n",
    "#         self.next = None\n",
    "\n",
    "class Solution:\n",
    "    def getIntersectionNode(self, headA: ListNode, headB: ListNode) -> Optional[ListNode]:\n",
    "        #get the length of both list\n",
    "        length1=0\n",
    "        curr=headA\n",
    "        while curr:\n",
    "            curr=curr.next\n",
    "            length1+=1\n",
    "\n",
    "        length2=0\n",
    "        curr=headB\n",
    "        while curr:\n",
    "            curr=curr.next\n",
    "            length2+=1\n",
    "\n",
    "        steps=abs(length1-length2)\n",
    "\n",
    "        curr1=headA\n",
    "        curr2=headB\n",
    "        \n",
    "        #move steps distance from the head of the list having larger nodes\n",
    "        if length1 > length2:\n",
    "            while curr1 and steps:\n",
    "                curr1=curr1.next\n",
    "                steps-=1\n",
    "        else:\n",
    "            while curr2 and steps:\n",
    "                curr2=curr2.next\n",
    "                steps-=1\n",
    "    \n",
    "        #checking if they intersact at any node\n",
    "        while curr1 and curr2 :\n",
    "            if curr1 == curr2:\n",
    "                return curr1\n",
    "            curr1=curr1.next\n",
    "            curr2=curr2.next\n",
    "        \n",
    "        return None"
   ]
  }
 ],
 "metadata": {
  "kernelspec": {
   "display_name": "Python 3",
   "language": "python",
   "name": "python3"
  },
  "language_info": {
   "codemirror_mode": {
    "name": "ipython",
    "version": 3
   },
   "file_extension": ".py",
   "mimetype": "text/x-python",
   "name": "python",
   "nbconvert_exporter": "python",
   "pygments_lexer": "ipython3",
   "version": "3.8.5"
  }
 },
 "nbformat": 4,
 "nbformat_minor": 4
}
