{
 "cells": [
  {
   "cell_type": "markdown",
   "metadata": {},
   "source": [
    "<h1>\n",
    "<a href=\"https://leetcode.com/problems/merge-k-sorted-lists/description/\" style=\"color:red;text-decoration: none\";>23. Merge k Sorted Lists</a> \n",
    "</h1> \n",
    "\n",
    "```\n",
    "You are given an array of k linked-lists lists, each linked-list is sorted in ascending order.\n",
    "\n",
    "Merge all the linked-lists into one sorted linked-list and return it.\n",
    "\n",
    "Example 1:\n",
    "Input: lists = [[1,4,5],[1,3,4],[2,6]]\n",
    "Output: [1,1,2,3,4,4,5,6]\n",
    "Explanation: The linked-lists are:\n",
    "[\n",
    "  1->4->5,\n",
    "  1->3->4,\n",
    "  2->6\n",
    "]\n",
    "merging them into one sorted list:\n",
    "1->1->2->3->4->4->5->6\n",
    "\n",
    "Example 2:\n",
    "Input: lists = [[]]\n",
    "Output: []\n",
    "\n",
    "Constraints:\n",
    "k == lists.length\n",
    "0 <= k <= 104\n",
    "0 <= lists[i].length <= 500\n",
    "-104 <= lists[i][j] <= 104\n",
    "lists[i] is sorted in ascending order.\n",
    "The sum of lists[i].length will not exceed 104.\n",
    "```"
   ]
  },
  {
   "cell_type": "markdown",
   "metadata": {},
   "source": [
    "## Approach 1\n",
    "- Merge each consecutive list to form a final sorted linked list\n",
    "\n",
    "**T(n)=O(n)**\n",
    "\n",
    "**S(n)=O(1)**"
   ]
  },
  {
   "cell_type": "code",
   "execution_count": null,
   "metadata": {},
   "outputs": [],
   "source": [
    "# Definition for singly-linked list.\n",
    "# class ListNode:\n",
    "#     def __init__(self, val=0, next=None):\n",
    "#         self.val = val\n",
    "#         self.next = next\n",
    "class Solution:\n",
    "    def mergeTwoLists(self, list1: Optional[ListNode], list2: Optional[ListNode]) -> Optional[ListNode]:\n",
    "        head=curr=ListNode()\n",
    "        \n",
    "        #smalller element is linked to curr  \n",
    "        #update the curr pointer\n",
    "        #update the linked list pointer\n",
    "        while list1 and list2:\n",
    "            if list1.val < list2.val:\n",
    "                curr.next=list1\n",
    "                curr=list1\n",
    "                list1=list1.next\n",
    "                \n",
    "            else:\n",
    "                curr.next=list2\n",
    "                curr=list2\n",
    "                list2=list2.next\n",
    "\n",
    "        #if any of the list is remanining just link it directly to resultant linked list\n",
    "        if list1:\n",
    "            curr.next=list1\n",
    "\n",
    "        if list2:\n",
    "            curr.next=list2\n",
    "\n",
    "        return head.next\n",
    "    def mergeKLists(self, lists: List[Optional[ListNode]]) -> Optional[ListNode]:\n",
    "        merged_list=None\n",
    "        for i in range(len(lists)):\n",
    "            merged_list=self.mergeTwoLists(lists[i],merged_list)\n",
    "        \n",
    "        return merged_list"
   ]
  }
 ],
 "metadata": {
  "kernelspec": {
   "display_name": "Python 3",
   "language": "python",
   "name": "python3"
  },
  "language_info": {
   "codemirror_mode": {
    "name": "ipython",
    "version": 3
   },
   "file_extension": ".py",
   "mimetype": "text/x-python",
   "name": "python",
   "nbconvert_exporter": "python",
   "pygments_lexer": "ipython3",
   "version": "3.8.5"
  }
 },
 "nbformat": 4,
 "nbformat_minor": 4
}
