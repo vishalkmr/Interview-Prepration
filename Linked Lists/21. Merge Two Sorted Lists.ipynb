{
 "cells": [
  {
   "cell_type": "markdown",
   "metadata": {},
   "source": [
    "<h1>\n",
    "<a href=https://leetcode.com/problems/merge-two-sorted-lists/submissions/\" style=\"color:green;text-decoration: none\";>21. Merge Two Sorted Lists</a> \n",
    "</h1> \n",
    "\n",
    "```\n",
    "You are given the heads of two sorted linked lists list1 and list2.\n",
    "\n",
    "Merge the two lists in a one sorted list. The list should be made by splicing together the nodes of the first two lists.\n",
    "\n",
    "Return the head of the merged linked list.\n",
    "```"
   ]
  },
  {
   "cell_type": "code",
   "execution_count": null,
   "metadata": {},
   "outputs": [],
   "source": [
    "# Definition for singly-linked list.\n",
    "# class ListNode:\n",
    "#     def __init__(self, val=0, next=None):\n",
    "#         self.val = val\n",
    "#         self.next = next\n",
    "class Solution:\n",
    "    def mergeTwoLists(self, list1: Optional[ListNode], list2: Optional[ListNode]) -> Optional[ListNode]:\n",
    "        head=tail=ListNode()\n",
    "        \n",
    "        #smalller element is linked to tail \n",
    "        #then increment the tail\n",
    "        #finally increment the linked list\n",
    "        while list1 and list2:\n",
    "            if list1.val < list2.val:\n",
    "                tail.next=list1\n",
    "                tail=list1\n",
    "                list1=list1.next\n",
    "                \n",
    "            else:\n",
    "                tail.next=list2\n",
    "                tail=list2\n",
    "                list2=list2.next\n",
    "\n",
    "        #if any of the list is remanining just link it directly to resultant linked list\n",
    "        if list1:\n",
    "            tail.next=list1\n",
    "\n",
    "        if list2:\n",
    "            tail.next=list2\n",
    "\n",
    "        return head.next"
   ]
  }
 ],
 "metadata": {
  "kernelspec": {
   "display_name": "Python 3",
   "language": "python",
   "name": "python3"
  },
  "language_info": {
   "codemirror_mode": {
    "name": "ipython",
    "version": 3
   },
   "file_extension": ".py",
   "mimetype": "text/x-python",
   "name": "python",
   "nbconvert_exporter": "python",
   "pygments_lexer": "ipython3",
   "version": "3.8.5"
  }
 },
 "nbformat": 4,
 "nbformat_minor": 4
}
