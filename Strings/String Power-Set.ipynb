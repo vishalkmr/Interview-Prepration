{
 "cells": [
  {
   "cell_type": "markdown",
   "metadata": {},
   "source": [
    "<h1>\n",
    "<a href=\"/\" style=\"color:orange;text-decoration: none\";>String Power-Set\n",
    "</a> \n",
    "</h1> \n",
    "\n",
    "```\n",
    "Genrate the power set for a given string.\n",
    "\n",
    "Example 1:\n",
    "Input: string = \"abc\"\n",
    "Output: ['abc', 'ab', 'ac', 'a', 'bc', 'b', 'c', '']\n",
    "                                                                                                    \n",
    "Example 2:\n",
    "Input: string = 'ab'\n",
    "Output: ['ab', 'a', 'b', '']\n",
    " \n",
    "Constraints:\n",
    "1 <= string.length <= 10\n",
    "All the chars of string are unique.\n",
    "```"
   ]
  },
  {
   "cell_type": "markdown",
   "metadata": {},
   "source": [
    "## Approach 1\n",
    "- For each element we have to make a decision weather to add it to the substring or not\n",
    "- Accordngly we update the subset by adding the element to substring if element is taken otherwise we remove the element from subset \n",
    "\n",
    "**T(n)=O(n2<sup>n</sup>)**\n",
    "\n",
    "**S(n)=O(n)**"
   ]
  },
  {
   "cell_type": "code",
   "execution_count": 1,
   "metadata": {},
   "outputs": [],
   "source": [
    "def powerset(string):\n",
    "    power_set=[]\n",
    "\n",
    "    def backtrack(idx,substring):\n",
    "        #base case\n",
    "        if idx == len(string):\n",
    "            power_set.append(substring)\n",
    "            return\n",
    "                \n",
    "        #pick the idx element in subset\n",
    "        backtrack(idx+1,substring+string[idx])\n",
    "        \n",
    "        #not to pick the idx element in subset\n",
    "        backtrack(idx+1,substring)\n",
    "        \n",
    "    backtrack(0,'')\n",
    "    return power_set"
   ]
  },
  {
   "cell_type": "code",
   "execution_count": 2,
   "metadata": {},
   "outputs": [
    {
     "data": {
      "text/plain": [
       "['ab', 'a', 'b', '']"
      ]
     },
     "execution_count": 2,
     "metadata": {},
     "output_type": "execute_result"
    }
   ],
   "source": [
    "string='ab'\n",
    "powerset(string)"
   ]
  }
 ],
 "metadata": {
  "kernelspec": {
   "display_name": "Python 3",
   "language": "python",
   "name": "python3"
  },
  "language_info": {
   "codemirror_mode": {
    "name": "ipython",
    "version": 3
   },
   "file_extension": ".py",
   "mimetype": "text/x-python",
   "name": "python",
   "nbconvert_exporter": "python",
   "pygments_lexer": "ipython3",
   "version": "3.8.5"
  }
 },
 "nbformat": 4,
 "nbformat_minor": 4
}
