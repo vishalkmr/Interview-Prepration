{
 "cells": [
  {
   "cell_type": "markdown",
   "metadata": {},
   "source": [
    "<h1>\n",
    "<a href=\"https://leetcode.com/problems/longest-repeating-character-replacement/\" style=\"color:orange;text-decoration: none\";>424. Longest Repeating Character Replacement</a> \n",
    "</h1> \n",
    "\n",
    "```\n",
    "You are given a string s and an integer k. You can choose any character of the string and change it to any other uppercase English character. You can perform this operation at most k times.\n",
    "\n",
    "Return the length of the longest substring containing the same letter you can get after performing the above operations.\n",
    "\n",
    "Example 1:\n",
    "Input: s = \"ABAB\", k = 2\n",
    "Output: 4\n",
    "Explanation: Replace the two 'A's with two 'B's or vice versa.\n",
    "                                                                                                    \n",
    "Example 2:\n",
    "Input: s = \"AABABBA\", k = 1\n",
    "Output: 4\n",
    "Explanation: Replace the one 'A' in the middle with 'B' and form \"AABBBBA\".\n",
    "The substring \"BBBB\" has the longest repeating letters, which is 4.\n",
    " \n",
    "Constraints:\n",
    "1 <= s.length <= 105\n",
    "s consists of only uppercase English letters.\n",
    "0 <= k <= s.length\n",
    "```"
   ]
  },
  {
   "cell_type": "markdown",
   "metadata": {},
   "source": [
    "## Approach 1\n",
    "- Use the sliding window approach alongwith dictionary \n",
    " \n",
    "**T(n)=O(n)**\n",
    "\n",
    "**S(n)=O(n)**"
   ]
  },
  {
   "cell_type": "code",
   "execution_count": 1,
   "metadata": {},
   "outputs": [],
   "source": [
    "def characterReplacement(s,k):\n",
    "    start=0\n",
    "    end=0\n",
    "    longest_substring_length=0\n",
    "    max_char_count=0\n",
    "    char_count={}\n",
    "    while end < len(s):\n",
    "        #updating the current char count in dictionary\n",
    "        char_count[s[end]]=1+char_count.get(s[end],0)\n",
    "        #maintaining the maximum element frequency count\n",
    "        max_char_count=max(max_char_count,char_count[s[end]])\n",
    "\n",
    "        #if we have used all the replacements\n",
    "        while ((end-start+1) - max_char_count) > k:\n",
    "            #keep on removing the elements from left \n",
    "            #until there are valid number of replacements\n",
    "            char_count[s[start]]-=1\n",
    "            start+=1\n",
    "\n",
    "        longest_substring_length=max(longest_substring_length,end-start+1)\n",
    "        end+=1\n",
    "    return longest_substring_length                "
   ]
  },
  {
   "cell_type": "code",
   "execution_count": 2,
   "metadata": {},
   "outputs": [
    {
     "data": {
      "text/plain": [
       "4"
      ]
     },
     "execution_count": 2,
     "metadata": {},
     "output_type": "execute_result"
    }
   ],
   "source": [
    "s = \"AABABBA\"\n",
    "k = 1\n",
    "characterReplacement(s,k)"
   ]
  }
 ],
 "metadata": {
  "kernelspec": {
   "display_name": "Python 3",
   "language": "python",
   "name": "python3"
  },
  "language_info": {
   "codemirror_mode": {
    "name": "ipython",
    "version": 3
   },
   "file_extension": ".py",
   "mimetype": "text/x-python",
   "name": "python",
   "nbconvert_exporter": "python",
   "pygments_lexer": "ipython3",
   "version": "3.8.5"
  }
 },
 "nbformat": 4,
 "nbformat_minor": 4
}
