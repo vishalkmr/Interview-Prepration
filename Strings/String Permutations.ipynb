{
 "cells": [
  {
   "cell_type": "markdown",
   "metadata": {},
   "source": [
    "<h1>\n",
    "<a href=\"/\" style=\"color:orange;text-decoration: none\";>String Permutations\n",
    "</a> \n",
    "</h1> \n",
    "\n",
    "```\n",
    "Generate all the permutation of a given string.\n",
    "\n",
    "Example 1:\n",
    "Input: string = \"abc\"\n",
    "Output: ['abc', 'acb', 'bac', 'bca', 'cab', 'cba']\n",
    "                                                                                                    \n",
    "Example 2:\n",
    "Input: string = 'ab'\n",
    "Output: ['ab', 'ba']\n",
    " \n",
    "Constraints:\n",
    "1 <= string.length <= 10\n",
    "All the chars of string are unique.\n",
    "```"
   ]
  },
  {
   "cell_type": "markdown",
   "metadata": {},
   "source": [
    "## Approach 1\n",
    "- Base case when size of current permutaion is same as the size of nums list\n",
    "- For each element we 1st check wether that element is used already or not \n",
    "- If element is not already used, then used that element for permutation gerneration recursively\n",
    "- Once the recursive permutation is found, mark the element as unused and delete the element from permutation list\n",
    "\n",
    "**T(n)=O(n*n!)**\n",
    "\n",
    "**S(n)=O(n)**"
   ]
  },
  {
   "cell_type": "code",
   "execution_count": 2,
   "metadata": {},
   "outputs": [],
   "source": [
    "def string_permutation(string):\n",
    "    def backtrack(permutation,used):\n",
    "        #base case\n",
    "        if len(string)==len(permutation):\n",
    "            permutations.append(permutation)\n",
    "\n",
    "        for i in range(len(string)):\n",
    "            #if element is not used in recursive path so far than use it\n",
    "            if not used[i]:\n",
    "                used[i]=True #marking the element as used\n",
    "                #adding the element to permutation and computing the permutation recursively\n",
    "                backtrack(permutation+string[i],used) \n",
    "                used[i]=False #marking the element as unused for further permutation in same function call\n",
    "    \n",
    "    permutations=[]\n",
    "    \n",
    "    #variable to check element is used in the recursive path or not\n",
    "    used=[False]*len(string)\n",
    "    \n",
    "    backtrack('',used)\n",
    "\n",
    "    return permutations"
   ]
  },
  {
   "cell_type": "code",
   "execution_count": 4,
   "metadata": {},
   "outputs": [
    {
     "data": {
      "text/plain": [
       "['abc', 'acb', 'bac', 'bca', 'cab', 'cba']"
      ]
     },
     "execution_count": 4,
     "metadata": {},
     "output_type": "execute_result"
    }
   ],
   "source": [
    "string='abc'\n",
    "string_permutation(string)"
   ]
  }
 ],
 "metadata": {
  "kernelspec": {
   "display_name": "Python 3",
   "language": "python",
   "name": "python3"
  },
  "language_info": {
   "codemirror_mode": {
    "name": "ipython",
    "version": 3
   },
   "file_extension": ".py",
   "mimetype": "text/x-python",
   "name": "python",
   "nbconvert_exporter": "python",
   "pygments_lexer": "ipython3",
   "version": "3.8.5"
  }
 },
 "nbformat": 4,
 "nbformat_minor": 4
}
