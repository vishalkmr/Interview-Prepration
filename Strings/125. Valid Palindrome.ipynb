{
 "cells": [
  {
   "cell_type": "markdown",
   "metadata": {},
   "source": [
    "<h1>\n",
    "<a href=\"https://leetcode.com/problems/valid-palindrome/\" style=\"color:green;text-decoration: none\";>125. Valid Palindrome\n",
    "</a> \n",
    "</h1> \n",
    "\n",
    "```\n",
    "A phrase is a palindrome if, after converting all uppercase letters into lowercase letters and removing all non-alphanumeric characters, it reads the same forward and backward. Alphanumeric characters include letters and numbers.\n",
    "\n",
    "Given a string s, return true if it is a palindrome, or false otherwise.\n",
    "\n",
    "Example 1:\n",
    "Input: s = \"A man, a plan, a canal: Panama\"\n",
    "Output: true\n",
    "Explanation: \"amanaplanacanalpanama\" is a palindrome.\n",
    "                                                                                                    \n",
    "Example 2:\n",
    "Input: s = \"race a car\"\n",
    "Output: false\n",
    "Explanation: \"raceacar\" is not a palindrome.\n",
    " \n",
    "Constraints:\n",
    "1 <= s.length <= 2 * 105\n",
    "s consists only of printable ASCII characters.\n",
    "```"
   ]
  },
  {
   "cell_type": "markdown",
   "metadata": {},
   "source": [
    "## Approach 1\n",
    "- Process the alpha-numeric chars string out of given string\n",
    "- Use two pointer to check the beg and end are same or not \n",
    "- When beg and end element is not same then it is not a palindrome\n",
    "\n",
    "**T(n)=O(n)**\n",
    "\n",
    "**S(n)=O(n)**\n"
   ]
  },
  {
   "cell_type": "code",
   "execution_count": 1,
   "metadata": {},
   "outputs": [],
   "source": [
    "def isPalindrome(s):\n",
    "        s=s.lower()\n",
    "        string=\"\"\n",
    "        \n",
    "        #form a string of alph-num chars\n",
    "        for char in s:\n",
    "            if char.isalnum():\n",
    "                string+=char\n",
    "        \n",
    "        beg=0 #points to start of the string\n",
    "        end=len(string)-1 #points to end of the string\n",
    "        \n",
    "        #repeat until the pointer meets\n",
    "        while beg < end:\n",
    "            #when beg and end element is not same then it is not a palindrome\n",
    "            if string[beg] != string[end]:\n",
    "                return False\n",
    "            \n",
    "            #update the pointers\n",
    "            beg+=1\n",
    "            end-=1\n",
    "\n",
    "        return True"
   ]
  },
  {
   "cell_type": "code",
   "execution_count": 2,
   "metadata": {},
   "outputs": [
    {
     "data": {
      "text/plain": [
       "True"
      ]
     },
     "execution_count": 2,
     "metadata": {},
     "output_type": "execute_result"
    }
   ],
   "source": [
    "s = \"A man, a plan, a canal: Panama\"\n",
    "isPalindrome(s)"
   ]
  }
 ],
 "metadata": {
  "kernelspec": {
   "display_name": "Python 3",
   "language": "python",
   "name": "python3"
  },
  "language_info": {
   "codemirror_mode": {
    "name": "ipython",
    "version": 3
   },
   "file_extension": ".py",
   "mimetype": "text/x-python",
   "name": "python",
   "nbconvert_exporter": "python",
   "pygments_lexer": "ipython3",
   "version": "3.8.5"
  }
 },
 "nbformat": 4,
 "nbformat_minor": 4
}
