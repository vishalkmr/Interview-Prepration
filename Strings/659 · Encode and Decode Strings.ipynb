{
 "cells": [
  {
   "cell_type": "markdown",
   "metadata": {},
   "source": [
    "<h1>\n",
    "<a href=\"https://www.lintcode.com/problem/659/\" style=\"color:orange;text-decoration: none\";>659 · Encode and Decode Strings</a> \n",
    "</h1> \n",
    "\n",
    "```\n",
    "Design an algorithm to encode a list of strings to a string. The encoded string is then sent over the network and is decoded back to the original list of strings.\n",
    "\n",
    "Please implement encode and decode.\n",
    "\n",
    "Example 1:\n",
    "Input: [\"lint\",\"code\",\"love\",\"you\"]\n",
    "Output: [\"lint\",\"code\",\"love\",\"you\"]\n",
    "Explanation:\n",
    "One possible encode method is: \"lint:;code:;love:;you\"\n",
    "\n",
    "Example 2:\n",
    "Input: [\"we\", \"say\", \":\", \"yes\"]\n",
    "Output: [\"we\", \"say\", \":\", \"yes\"]\n",
    "Explanation:\n",
    "One possible encode method is: \"we:;say:;:::;yes\"\n",
    " \n",
    "```"
   ]
  },
  {
   "cell_type": "markdown",
   "metadata": {},
   "source": [
    "## Approach 1\n",
    "- Encode the string with string_len+delimeter+string\n",
    "- Delimeter can be anything except digits\n",
    "\n",
    "**T(n)=O(n)**\n",
    "\n",
    "**S(n)=O(n)**\n"
   ]
  },
  {
   "cell_type": "code",
   "execution_count": 1,
   "metadata": {},
   "outputs": [],
   "source": [
    "class Solution:\n",
    "    \"\"\"\n",
    "    @param: strings: a list of strings\n",
    "    @return: encodes a list of strings to a single string.\n",
    "    \"\"\"\n",
    "    def encode(self, strings):\n",
    "        #defining the delimeter\n",
    "        self.delimiter=\"@\"\n",
    "        encoded_string=\"\"\n",
    "        \n",
    "        #encoding the string vishal as 6@vishal e.i. string_len-delimeter-string\n",
    "        for string in strings:\n",
    "            encoded_string+=str(len(string))+self.delimiter+string\n",
    "        \n",
    "        return encoded_string\n",
    "\n",
    "\n",
    "    \"\"\"\n",
    "    @param: string: An encoded string\n",
    "    @return: dcodes a single string to a list of strings\n",
    "    \"\"\"\n",
    "    def decode(self, encoded_string):\n",
    "        decoded_strings=[]\n",
    "        \n",
    "        while True:\n",
    "            delemeter_idx=encoded_string.find(self.delimiter)\n",
    "            \n",
    "            #get the string length from encoded_string\n",
    "            string_len=int(encoded_string[:delemeter_idx])\n",
    "            \n",
    "            #getting the string from encoded_string and adding to decoded_strings\n",
    "            string=encoded_string[delemeter_idx+1:delemeter_idx+1+string_len]\n",
    "            decoded_strings.append(string)\n",
    "            \n",
    "            #delete the processed string from encoded_string\n",
    "            encoded_string=encoded_string[delemeter_idx+string_len+1:]\n",
    "            \n",
    "            #if new string len is 0 means string is processed\n",
    "            if len(encoded_string)==0:\n",
    "                break\n",
    "\n",
    "        return decoded_strings"
   ]
  },
  {
   "cell_type": "code",
   "execution_count": 2,
   "metadata": {},
   "outputs": [],
   "source": [
    "strings = [\"4lint\",\"@code\",\"l@ve\",\"you@\",\"\"]\n",
    "obj=Solution()"
   ]
  },
  {
   "cell_type": "code",
   "execution_count": 3,
   "metadata": {},
   "outputs": [
    {
     "data": {
      "text/plain": [
       "'5@4lint5@@code4@l@ve4@you@0@'"
      ]
     },
     "execution_count": 3,
     "metadata": {},
     "output_type": "execute_result"
    }
   ],
   "source": [
    "encoded_string=obj.encode(strings)\n",
    "encoded_string"
   ]
  },
  {
   "cell_type": "code",
   "execution_count": 4,
   "metadata": {},
   "outputs": [
    {
     "data": {
      "text/plain": [
       "['4lint', '@code', 'l@ve', 'you@', '']"
      ]
     },
     "execution_count": 4,
     "metadata": {},
     "output_type": "execute_result"
    }
   ],
   "source": [
    "obj.decode(encoded_string)"
   ]
  }
 ],
 "metadata": {
  "kernelspec": {
   "display_name": "Python 3",
   "language": "python",
   "name": "python3"
  },
  "language_info": {
   "codemirror_mode": {
    "name": "ipython",
    "version": 3
   },
   "file_extension": ".py",
   "mimetype": "text/x-python",
   "name": "python",
   "nbconvert_exporter": "python",
   "pygments_lexer": "ipython3",
   "version": "3.8.5"
  }
 },
 "nbformat": 4,
 "nbformat_minor": 4
}
