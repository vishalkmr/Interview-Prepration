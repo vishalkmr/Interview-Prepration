{
 "cells": [
  {
   "cell_type": "markdown",
   "metadata": {},
   "source": [
    "<h1>\n",
    "<a href=\"https://leetcode.com/problems/longest-substring-without-repeating-characters/\" style=\"color:orange;text-decoration: none\";>3. Longest Substring Without Repeating Characters</a> \n",
    "</h1> \n",
    "\n",
    "```\n",
    "Given a string s, find the length of the longest substring without repeating characters.\n",
    "\n",
    "Example 1:\n",
    "Input: s = \"abcabcbb\"\n",
    "Output: 3\n",
    "Explanation: The answer is \"abc\", with the length of 3.\n",
    "                                                                                                    \n",
    "Example 2:\n",
    "Input: s = \"pwwkew\"\n",
    "Output: 3\n",
    "Explanation: The answer is \"wke\", with the length of 3.\n",
    "Notice that the answer must be a substring, \"pwke\" is a subsequence and not a substring.\n",
    " \n",
    "Constraints:\n",
    "0 <= s.length <= 5 * 104\n",
    "s consists of English letters, digits, symbols and spaces.\n",
    "```"
   ]
  },
  {
   "cell_type": "markdown",
   "metadata": {},
   "source": [
    "## Approach 1\n",
    "- Iterate through each character in the string\n",
    "- Add the current char in sub string\n",
    "- local_max and global_max to count maximum size substring\n",
    "- When duplicate char is found then delete the prefix in substring uptil duplicate element is persent in the substring\n",
    "- Update the local_max with new modified substring\n",
    " \n",
    "**T(n)=O(n<sup>2</sup>)**\n",
    "\n",
    "**S(n)=O(n)**"
   ]
  },
  {
   "cell_type": "code",
   "execution_count": 1,
   "metadata": {},
   "outputs": [],
   "source": [
    "def lengthOfLongestSubstring(s):\n",
    "    sub_string=\"\"\n",
    "    local_max=0\n",
    "    global_max=0\n",
    "    for char in s:\n",
    "        #when duplicate char is found then delete the part in substring \n",
    "        #uptil duplicate element is persent in the substring\n",
    "        #update the local_max with new modified substring\n",
    "        if char in sub_string:\n",
    "            sub_string=sub_string[sub_string.find(char)+1:]\n",
    "            local_max=max(0,len(sub_string))\n",
    "\n",
    "        #add the current char in sub string \n",
    "        #update the local and global max accordingly\n",
    "        sub_string+=char\n",
    "        local_max+=1\n",
    "        global_max=max(global_max,local_max)        \n",
    "    return global_max"
   ]
  },
  {
   "cell_type": "code",
   "execution_count": 2,
   "metadata": {},
   "outputs": [
    {
     "data": {
      "text/plain": [
       "3"
      ]
     },
     "execution_count": 2,
     "metadata": {},
     "output_type": "execute_result"
    }
   ],
   "source": [
    "s = \"pwwkew\"\n",
    "lengthOfLongestSubstring(s)"
   ]
  },
  {
   "cell_type": "markdown",
   "metadata": {},
   "source": [
    "## Approach 2\n",
    "- Use the sliding window approach alongwith set \n",
    "- Window represents the string with unique chars\n",
    "- Set is used so that membership operation is O(1)\n",
    "\n",
    "**T(n)=O(n)**\n",
    "\n",
    "**S(n)=O(n)**"
   ]
  },
  {
   "cell_type": "code",
   "execution_count": 3,
   "metadata": {},
   "outputs": [],
   "source": [
    "def lengthOfLongestSubstring(s):\n",
    "    unique_items=set()\n",
    "    left=0 #points to the begining of the substring with no duplicate\n",
    "    right=0 #points to the end of the substring with no duplicate\n",
    "    max_size=0\n",
    "\n",
    "    for char in s:\n",
    "        #if duplicate is found\n",
    "        if char in unique_items:\n",
    "            #keep on deleteing the elements from left \n",
    "            #until the duplicate element is removed from the set\n",
    "            while char in unique_items:\n",
    "                unique_items.remove(s[left])\n",
    "                left+=1\n",
    "        #adding the current char to the set\n",
    "        unique_items.add(char)\n",
    "        max_size=max(max_size,right-left+1) \n",
    "        right+=1\n",
    "\n",
    "    return max_size"
   ]
  },
  {
   "cell_type": "code",
   "execution_count": 4,
   "metadata": {},
   "outputs": [
    {
     "data": {
      "text/plain": [
       "3"
      ]
     },
     "execution_count": 4,
     "metadata": {},
     "output_type": "execute_result"
    }
   ],
   "source": [
    "s = \"pwwkew\"\n",
    "lengthOfLongestSubstring(s)"
   ]
  }
 ],
 "metadata": {
  "kernelspec": {
   "display_name": "Python 3",
   "language": "python",
   "name": "python3"
  },
  "language_info": {
   "codemirror_mode": {
    "name": "ipython",
    "version": 3
   },
   "file_extension": ".py",
   "mimetype": "text/x-python",
   "name": "python",
   "nbconvert_exporter": "python",
   "pygments_lexer": "ipython3",
   "version": "3.8.5"
  }
 },
 "nbformat": 4,
 "nbformat_minor": 4
}
