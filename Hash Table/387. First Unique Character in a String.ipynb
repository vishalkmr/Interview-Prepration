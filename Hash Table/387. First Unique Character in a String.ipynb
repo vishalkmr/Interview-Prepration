{
 "cells": [
  {
   "cell_type": "markdown",
   "metadata": {},
   "source": [
    "<h1>\n",
    "<a href=\"https://leetcode.com/problems/two-sum/\" style=\"color:green;text-decoration: none\";>387. First Unique Character in a String</a> \n",
    "</h1> \n",
    "\n",
    "```\n",
    "Given a string s, find the first non-repeating character in it and return its index. If it does not exist, return -1\n",
    "\n",
    "Example 1:\n",
    "Input: s = \"leetcode\"\n",
    "Output: 0\n",
    "\n",
    "Example 2:\n",
    "Input: s = \"loveleetcode\"\n",
    "Output: 2\n",
    " \n",
    "Constraints:\n",
    "1 <= s.length <= 105\n",
    "s consists of only lowercase English letters.\n",
    "```"
   ]
  },
  {
   "cell_type": "markdown",
   "metadata": {},
   "source": [
    "## Approach 1\n",
    "- Using hash map store the char and its count as key pair\n",
    "- Find the char in hash map which appears only once\n",
    "\n",
    "**T(n)=O(n)**\n",
    "\n",
    "**S(n)=O(n)**\n"
   ]
  },
  {
   "cell_type": "code",
   "execution_count": 1,
   "metadata": {},
   "outputs": [],
   "source": [
    "def firstUniqChar(s):\n",
    "    hash_map={}\n",
    "\n",
    "    for char in s:\n",
    "        if hash_map.get(char,0):\n",
    "            hash_map[char]+=1\n",
    "        else:\n",
    "            hash_map[char]=1\n",
    "\n",
    "    for i in range(len(s)):\n",
    "        if hash_map[s[i]] == 1:\n",
    "            return i\n",
    "\n",
    "    return -1 "
   ]
  },
  {
   "cell_type": "code",
   "execution_count": 2,
   "metadata": {},
   "outputs": [
    {
     "data": {
      "text/plain": [
       "2"
      ]
     },
     "execution_count": 2,
     "metadata": {},
     "output_type": "execute_result"
    }
   ],
   "source": [
    "s = \"loveleetcode\"\n",
    "firstUniqChar(s)"
   ]
  }
 ],
 "metadata": {
  "kernelspec": {
   "display_name": "Python 3",
   "language": "python",
   "name": "python3"
  },
  "language_info": {
   "codemirror_mode": {
    "name": "ipython",
    "version": 3
   },
   "file_extension": ".py",
   "mimetype": "text/x-python",
   "name": "python",
   "nbconvert_exporter": "python",
   "pygments_lexer": "ipython3",
   "version": "3.8.5"
  }
 },
 "nbformat": 4,
 "nbformat_minor": 4
}
