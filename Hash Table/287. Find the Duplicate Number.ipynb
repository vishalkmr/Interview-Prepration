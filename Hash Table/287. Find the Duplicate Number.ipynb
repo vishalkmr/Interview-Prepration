{
 "cells": [
  {
   "cell_type": "markdown",
   "metadata": {},
   "source": [
    "<h1>\n",
    "<a href=\"https://leetcode.com/problems/intersection-of-two-arrays-ii/\" style=\"color:orange;text-decoration: none\";>350. Intersection of Two Arrays II</a> \n",
    "</h1> \n",
    "\n",
    "```\n",
    "Given two integer arrays nums1 and nums2, return an array of their intersection. Each element in the result must appear as many times as it shows in both arrays and you may return the result in any order.\n",
    "\n",
    "Example 1:\n",
    "Input: nums1 = [1,2,2,1], nums2 = [2,2]\n",
    "Output: [2,2]\n",
    "\n",
    "Example 2:\n",
    "Input: nums1 = [4,9,5], nums2 = [9,4,9,8,4]\n",
    "Output: [4,9]\n",
    " \n",
    "Constraints:\n",
    "1 <= nums1.length, nums2.length <= 1000\n",
    "0 <= nums1[i], nums2[i] <= 1000\n",
    "```"
   ]
  },
  {
   "cell_type": "markdown",
   "metadata": {},
   "source": [
    "## Approach 1\n",
    "- using hash map/ frequency counter of elements of one array\n",
    "\n",
    "**T(n)=O(m+n)**\n",
    "\n",
    "**S(n)=O(min(m,n))**\n"
   ]
  },
  {
   "cell_type": "code",
   "execution_count": 1,
   "metadata": {},
   "outputs": [],
   "source": [
    "def intersect(nums1, nums2):\n",
    "    if len(nums2) < len(nums1):\n",
    "        nums1,nums2=nums2,nums1\n",
    "    \n",
    "    frequency={}\n",
    "    output=[]\n",
    "    \n",
    "    #fill the frequency of each element from nums1\n",
    "    for element in nums1:\n",
    "        frequency[element]=frequency.get(element,0)+1\n",
    "    \n",
    "    #if element from nums2 is present in frequency then append it to ouput and update the freuency of that element\n",
    "    for element in nums2:\n",
    "        if(frequency.get(element,0)):\n",
    "            output.append(element)\n",
    "            frequency[element]=frequency.get(element,0)-1\n",
    "            \n",
    "    return output\n",
    "    "
   ]
  },
  {
   "cell_type": "code",
   "execution_count": 2,
   "metadata": {},
   "outputs": [
    {
     "data": {
      "text/plain": [
       "[9, 4]"
      ]
     },
     "execution_count": 2,
     "metadata": {},
     "output_type": "execute_result"
    }
   ],
   "source": [
    "nums1 = [4,9,5]\n",
    "nums2 = [9,4,9,8,4]\n",
    "intersect(nums1, nums2)"
   ]
  },
  {
   "cell_type": "markdown",
   "metadata": {},
   "source": [
    "## Approach 2\n",
    "- 1st sorth both the arrays\n",
    "- use two pointer like in merge routine to find the common elements\n",
    "\n",
    "**T(n)=O(nlogn + mlogm)**\n",
    "\n",
    "**S(n)=O(1)**"
   ]
  },
  {
   "cell_type": "code",
   "execution_count": 3,
   "metadata": {},
   "outputs": [],
   "source": [
    "def intersect(nums1, nums2):\n",
    "    #apply sorting\n",
    "    nums1.sort()\n",
    "    nums2.sort()\n",
    "    output=[]   \n",
    "    i,j=0,0\n",
    "    \n",
    "    while i <= len(nums1)-1 and j <= len(nums2)-1:\n",
    "        #if both the pointer value is same then append it to output\n",
    "        if nums1[i] == nums2[j]:\n",
    "            output.append(nums1[i])\n",
    "            i+=1\n",
    "            j+=1\n",
    "        elif nums1[i] < nums2[j]:\n",
    "            i+=1\n",
    "        else:\n",
    "            j+=1\n",
    "            \n",
    "    return output\n",
    "    "
   ]
  },
  {
   "cell_type": "code",
   "execution_count": 4,
   "metadata": {},
   "outputs": [
    {
     "data": {
      "text/plain": [
       "[4, 9]"
      ]
     },
     "execution_count": 4,
     "metadata": {},
     "output_type": "execute_result"
    }
   ],
   "source": [
    "nums1 = [4,9,5]\n",
    "nums2 = [9,4,9,8,4]\n",
    "intersect(nums1, nums2)"
   ]
  }
 ],
 "metadata": {
  "kernelspec": {
   "display_name": "Python 3",
   "language": "python",
   "name": "python3"
  },
  "language_info": {
   "codemirror_mode": {
    "name": "ipython",
    "version": 3
   },
   "file_extension": ".py",
   "mimetype": "text/x-python",
   "name": "python",
   "nbconvert_exporter": "python",
   "pygments_lexer": "ipython3",
   "version": "3.8.5"
  }
 },
 "nbformat": 4,
 "nbformat_minor": 4
}
