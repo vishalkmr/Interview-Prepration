{
 "cells": [
  {
   "cell_type": "markdown",
   "metadata": {},
   "source": [
    "<h1>\n",
    "<a href=\"https://leetcode.com/problems/majority-element/\" style=\"color:green;text-decoration: none\";>169. Majority Element\n",
    "</a> \n",
    "</h1> \n",
    "\n",
    "```\n",
    "Given an array nums of size n, return the majority element.\n",
    "\n",
    "The majority element is the element that appears more than ⌊n / 2⌋ times. You may assume that the majority element always exists in the array.\n",
    "\n",
    "Example 1:\n",
    "Input: nums = [3,2,3]\n",
    "Output: 3\n",
    "                                                                                                    \n",
    "Example 2:\n",
    "Input: nums = [2,2,1,1,1,2,2]\n",
    "Output: 2\n",
    " \n",
    "Constraints:\n",
    "n == nums.length\n",
    "1 <= n <= 5 * 104\n",
    "-109 <= nums[i] <= 109\n",
    "```"
   ]
  },
  {
   "cell_type": "code",
   "execution_count": 1,
   "metadata": {},
   "outputs": [],
   "source": [
    "def majorityElement(nums):\n",
    "    #Moore voting algorithm\n",
    "    vote=1\n",
    "    candidate=nums[0]\n",
    "\n",
    "    for i in range(1,len(nums)):\n",
    "        if candidate == nums[i]:\n",
    "            vote+=1\n",
    "        else:\n",
    "            vote-=1\n",
    "            #change the candidate when vote is 0\n",
    "            if vote == 0:\n",
    "                candidate=nums[i]\n",
    "                vote+=1\n",
    "    \n",
    "    return candidate\n",
    "\n",
    "#         #verify (here this step is not needed since it is gauranteed that majority element is present in nums)\n",
    "#         count=0\n",
    "#         for num in nums:\n",
    "#             if num == candidate:\n",
    "#                 count+=1\n",
    "\n",
    "#         if count >= len(nums)//2:\n",
    "#             return candidate\n",
    "#         else:\n",
    "#             return -1\n",
    "#"
   ]
  },
  {
   "cell_type": "code",
   "execution_count": 2,
   "metadata": {},
   "outputs": [
    {
     "data": {
      "text/plain": [
       "2"
      ]
     },
     "execution_count": 2,
     "metadata": {},
     "output_type": "execute_result"
    }
   ],
   "source": [
    "nums = [2,2,1,1,1,2,2]\n",
    "majorityElement(nums)"
   ]
  }
 ],
 "metadata": {
  "kernelspec": {
   "display_name": "Python 3",
   "language": "python",
   "name": "python3"
  },
  "language_info": {
   "codemirror_mode": {
    "name": "ipython",
    "version": 3
   },
   "file_extension": ".py",
   "mimetype": "text/x-python",
   "name": "python",
   "nbconvert_exporter": "python",
   "pygments_lexer": "ipython3",
   "version": "3.8.5"
  }
 },
 "nbformat": 4,
 "nbformat_minor": 4
}
