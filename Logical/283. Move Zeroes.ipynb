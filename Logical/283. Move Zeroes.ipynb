{
 "cells": [
  {
   "cell_type": "markdown",
   "metadata": {},
   "source": [
    "<h1>\n",
    "<a href=\"https://leetcode.com/problems/move-zeroes/\" style=\"color:green;text-decoration: none\";>283. Move Zeroes\n",
    "</a> \n",
    "</h1> \n",
    "\n",
    "```\n",
    "Given an integer array nums, move all 0's to the end of it while maintaining the relative order of the non-zero elements.\n",
    "\n",
    "Note that you must do this in-place without making a copy of the array.\n",
    "\n",
    "Example 1:\n",
    "Input: nums = [0,1,0,3,12]\n",
    "Output: [1,3,12,0,0]\n",
    "                                                                                                    \n",
    "Example 2:\n",
    "Input: nums = [0]\n",
    "Output: [0]\n",
    "\n",
    "Constraints:\n",
    "1 <= nums.length <= 104\n",
    "-231 <= nums[i] <= 231 - 1\n",
    "```"
   ]
  },
  {
   "cell_type": "markdown",
   "metadata": {},
   "source": [
    "## Approach 1\n",
    "- Use two pointer approach one for the current element and another for the next no-zero element\n",
    "- If current element is zero we swap the zero element with next non-zero element\n",
    " \n",
    "**T(n)=O(n)**"
   ]
  },
  {
   "cell_type": "code",
   "execution_count": 1,
   "metadata": {},
   "outputs": [],
   "source": [
    "def moveZeroes(nums):\n",
    "    next_non_zero=0\n",
    "\n",
    "    for i in range(len(nums)):      \n",
    "        #finding the next non-zero element in the list\n",
    "        while next_non_zero < len(nums) and nums[next_non_zero] == 0:\n",
    "            next_non_zero+=1\n",
    "\n",
    "        if next_non_zero >= len(nums):\n",
    "                break\n",
    "        \n",
    "        #if current element is zero swap it by the next non-zero element\n",
    "        if  nums[i] == 0:\n",
    "            nums[i],nums[next_non_zero]=nums[next_non_zero],nums[i]\n",
    "\n",
    "        next_non_zero+=1"
   ]
  },
  {
   "cell_type": "code",
   "execution_count": 2,
   "metadata": {},
   "outputs": [
    {
     "data": {
      "text/plain": [
       "[1, 3, 12, 0, 0]"
      ]
     },
     "execution_count": 2,
     "metadata": {},
     "output_type": "execute_result"
    }
   ],
   "source": [
    "nums = [0,1,0,3,12]\n",
    "moveZeroes(nums)\n",
    "nums"
   ]
  },
  {
   "cell_type": "markdown",
   "metadata": {},
   "source": [
    "## Approach 2\n",
    "- Fill all the non-zero in the begining of the list in the order in which they appears\n",
    "- Fill all the remaining place with the zero\n",
    "\n",
    "**T(n)=O(n)**"
   ]
  },
  {
   "cell_type": "code",
   "execution_count": 3,
   "metadata": {},
   "outputs": [],
   "source": [
    "def moveZeroes(nums):\n",
    "    nonzero=0\n",
    "    #fill all the non-zero in the begining of the list\n",
    "    for i in range(len(nums)):\n",
    "        if nums[i]!=0:\n",
    "            nums[nonzero]=nums[i]\n",
    "            nonzero+=1\n",
    "            \n",
    "    #fill all the remaining place with the zero\n",
    "    for i in range(nonzero, len(nums)):\n",
    "        nums[i]=0"
   ]
  },
  {
   "cell_type": "code",
   "execution_count": 4,
   "metadata": {},
   "outputs": [
    {
     "data": {
      "text/plain": [
       "[1, 3, 12, 0, 0]"
      ]
     },
     "execution_count": 4,
     "metadata": {},
     "output_type": "execute_result"
    }
   ],
   "source": [
    "nums = [0,1,0,3,12]\n",
    "moveZeroes(nums)\n",
    "nums"
   ]
  }
 ],
 "metadata": {
  "kernelspec": {
   "display_name": "Python 3",
   "language": "python",
   "name": "python3"
  },
  "language_info": {
   "codemirror_mode": {
    "name": "ipython",
    "version": 3
   },
   "file_extension": ".py",
   "mimetype": "text/x-python",
   "name": "python",
   "nbconvert_exporter": "python",
   "pygments_lexer": "ipython3",
   "version": "3.8.5"
  }
 },
 "nbformat": 4,
 "nbformat_minor": 4
}
