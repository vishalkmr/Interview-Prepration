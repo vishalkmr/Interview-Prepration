{
 "cells": [
  {
   "cell_type": "markdown",
   "metadata": {},
   "source": [
    "<h1>\n",
    "<a href=\"https://leetcode.com/problems/powx-n/\" style=\"color:orange;text-decoration: none\";>50. Pow(x, n)\n",
    "</a> \n",
    "</h1> \n",
    "\n",
    "```\n",
    "Implement pow(x, n), which calculates x raised to the power n (i.e., xn).\n",
    "\n",
    "Example 1:\n",
    "Input: x = 2.00000, n = 10\n",
    "Output: 1024.00000\n",
    "                                                                                                    \n",
    "Example 2:\n",
    "Input: x = 2.00000, n = -2\n",
    "Output: 0.25000\n",
    "Explanation: 2-2 = 1/22 = 1/4 = 0.25\n",
    " \n",
    "Constraints:\n",
    "-100.0 < x < 100.0\n",
    "-231 <= n <= 231-1\n",
    "-104 <= xn <= 104\n",
    "```"
   ]
  },
  {
   "cell_type": "markdown",
   "metadata": {},
   "source": [
    "## Approach 1\n",
    "- Compute half value each time \n"
   ]
  },
  {
   "cell_type": "code",
   "execution_count": 1,
   "metadata": {},
   "outputs": [],
   "source": [
    "def pos_pow(x,n):\n",
    "    if n==1:\n",
    "        return x\n",
    "    a=pos_pow(x,n//2)\n",
    "    if n%2==0:\n",
    "        return a*a\n",
    "    else:\n",
    "        return a*a*x\n",
    "\n",
    "def neg_pow(x,n):\n",
    "    if n==1:\n",
    "        return (1/x)\n",
    "    a=neg_pow(x,n//2)\n",
    "    if n%2==0:\n",
    "        return a*a\n",
    "    else:\n",
    "        return a*a*(1/x)\n",
    "def myPow(x,n):\n",
    "    if n==0:\n",
    "        return 1\n",
    "    elif n>0:\n",
    "        return pos_pow(x,n)\n",
    "    else:\n",
    "        return neg_pow(x,abs(n))"
   ]
  },
  {
   "cell_type": "code",
   "execution_count": 2,
   "metadata": {},
   "outputs": [
    {
     "data": {
      "text/plain": [
       "32"
      ]
     },
     "execution_count": 2,
     "metadata": {},
     "output_type": "execute_result"
    }
   ],
   "source": [
    "myPow(2,5)"
   ]
  }
 ],
 "metadata": {
  "kernelspec": {
   "display_name": "Python 3",
   "language": "python",
   "name": "python3"
  },
  "language_info": {
   "codemirror_mode": {
    "name": "ipython",
    "version": 3
   },
   "file_extension": ".py",
   "mimetype": "text/x-python",
   "name": "python",
   "nbconvert_exporter": "python",
   "pygments_lexer": "ipython3",
   "version": "3.8.5"
  }
 },
 "nbformat": 4,
 "nbformat_minor": 4
}
