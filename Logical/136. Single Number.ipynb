{
 "cells": [
  {
   "cell_type": "markdown",
   "metadata": {},
   "source": [
    "<h1>\n",
    "<a href=\"https://leetcode.com/problems/single-number/\" style=\"color:green;text-decoration: none\";>136. Single Number\n",
    "</a> \n",
    "</h1> \n",
    "\n",
    "```\n",
    "Given a non-empty array of integers nums, every element appears twice except for one. Find that single one.\n",
    "\n",
    "You must implement a solution with a linear runtime complexity and use only constant extra space.\n",
    "\n",
    "Example 1:\n",
    "Input: nums = [2,2,1]\n",
    "Output: 1\n",
    "                                                                                                    \n",
    "Example 2:\n",
    "Input: nums = [4,1,2,1,2]\n",
    "Output: 4\n",
    " \n",
    "Constraints:\n",
    "1 <= nums.length <= 3 * 104\n",
    "-3 * 104 <= nums[i] <= 3 * 104\n",
    "Each element in the array appears twice except for one element which appears only once.\n",
    "```"
   ]
  },
  {
   "cell_type": "markdown",
   "metadata": {},
   "source": [
    "## Approach 1\n",
    "- Using hash map to store the element on its 1st occurnace and delete it when it occurs again\n",
    "- In the end there is only one element remains in the hash map which is not occurs more than one\n",
    " \n",
    "**T(n)=O(n)**\n",
    "\n",
    "**S(n)=O(n)**"
   ]
  },
  {
   "cell_type": "code",
   "execution_count": 1,
   "metadata": {},
   "outputs": [],
   "source": [
    "def singleNumber(nums):\n",
    "    hash_map={}\n",
    "    for item in nums:\n",
    "        if hash_map.get(item,None):\n",
    "            hash_map.pop(item)\n",
    "        else:\n",
    "            hash_map[item]=1\n",
    "\n",
    "    return list(hash_map.keys())[0]"
   ]
  },
  {
   "cell_type": "code",
   "execution_count": 2,
   "metadata": {},
   "outputs": [
    {
     "data": {
      "text/plain": [
       "4"
      ]
     },
     "execution_count": 2,
     "metadata": {},
     "output_type": "execute_result"
    }
   ],
   "source": [
    "nums = [4,1,2,1,2]\n",
    "singleNumber(nums)"
   ]
  },
  {
   "cell_type": "markdown",
   "metadata": {},
   "source": [
    "## Approach 2\n",
    "- Using bit manipulation\n",
    "- Since the duplicate elements occures only twice and we know that XOR of simmilar number is 0\n",
    "- So if we XOR all the numbers at last we would be having only the non repeating element\n",
    " \n",
    "**T(n)=O(n)**\n",
    "\n",
    "**S(n)=O(1)**"
   ]
  },
  {
   "cell_type": "code",
   "execution_count": 3,
   "metadata": {},
   "outputs": [],
   "source": [
    "def singleNumber(nums):\n",
    "    result=0\n",
    "    for item in nums:\n",
    "        result^=item\n",
    "        \n",
    "    return result"
   ]
  },
  {
   "cell_type": "code",
   "execution_count": 4,
   "metadata": {},
   "outputs": [
    {
     "data": {
      "text/plain": [
       "4"
      ]
     },
     "execution_count": 4,
     "metadata": {},
     "output_type": "execute_result"
    }
   ],
   "source": [
    "nums = [4,1,2,1,2]\n",
    "singleNumber(nums)"
   ]
  }
 ],
 "metadata": {
  "kernelspec": {
   "display_name": "Python 3",
   "language": "python",
   "name": "python3"
  },
  "language_info": {
   "codemirror_mode": {
    "name": "ipython",
    "version": 3
   },
   "file_extension": ".py",
   "mimetype": "text/x-python",
   "name": "python",
   "nbconvert_exporter": "python",
   "pygments_lexer": "ipython3",
   "version": "3.8.5"
  }
 },
 "nbformat": 4,
 "nbformat_minor": 4
}
