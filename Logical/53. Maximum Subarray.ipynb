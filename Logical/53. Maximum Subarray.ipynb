{
 "cells": [
  {
   "cell_type": "markdown",
   "metadata": {},
   "source": [
    "<h1>\n",
    "<a href=https://leetcode.com/problems/maximum-subarray/\" style=\"color:green;text-decoration: none\";>53. Maximum Subarray\n",
    "</a> \n",
    "</h1> \n",
    "\n",
    "```\n",
    "Given an integer array nums, find the contiguous subarray (containing at least one number) which has the largest sum and return its sum.\n",
    "\n",
    "A subarray is a contiguous part of an array.\n",
    "\n",
    "Example 1:\n",
    "Input: nums = [-2,1,-3,4,-1,2,1,-5,4]\n",
    "Output: 6\n",
    "Explanation: [4,-1,2,1] has the largest sum = 6.                                                                                 \n",
    "                                                                                                  \n",
    "Example 2:\n",
    "Input: nums = [5,4,-1,7,8]\n",
    "Output: 23\n",
    " \n",
    "Constraints:\n",
    "1 <= nums.length <= 105\n",
    "-104 <= nums[i] <= 104\n",
    "```"
   ]
  },
  {
   "cell_type": "code",
   "execution_count": 1,
   "metadata": {},
   "outputs": [],
   "source": [
    "def maxSubArray(nums):\n",
    "    local_sum=nums[0]\n",
    "    global_sum=nums[0]\n",
    "    \n",
    "    for i in range(1,len(nums)):\n",
    "        local_sum=max(local_sum+nums[i],nums[i])\n",
    "        \n",
    "        global_sum=max(local_sum,global_sum)\n",
    "    return global_sum"
   ]
  },
  {
   "cell_type": "code",
   "execution_count": 2,
   "metadata": {},
   "outputs": [],
   "source": [
    "nums = [-2,1,-3,4,-1,2,1,-5,4]\n",
    "maxSubArray(nums)"
   ]
  },
  {
   "cell_type": "markdown",
   "metadata": {},
   "source": [
    "## Varient of this problem \n",
    "```\n",
    "Given an array of integers (positive and negative), find the Largest Continuous Sum, along with starting and end point  of largest continuous sum\n",
    "\n",
    "Example\n",
    "Input: nums = [1,-3,6,-2,4,-2,9,-10,5]\n",
    "Output: (15, 2, 6)\n",
    "Explanation: the subrange [6,-2,4,-2,9] gives the largest sum, which is equal to 15 and it starts from index 2 and ends at index 6\n",
    "```"
   ]
  },
  {
   "cell_type": "code",
   "execution_count": 3,
   "metadata": {},
   "outputs": [],
   "source": [
    "def largest_continuous_sum(arr):\n",
    "    ''' \n",
    "    Funtion return the largest continuous sum of array\n",
    "    Syntax: largest_continuous_sum(arr)\n",
    "    Time Complexity: O(n)\n",
    "    '''\n",
    "    # Check to see if array is length 0\n",
    "    if len(arr)==0: \n",
    "        return 0\n",
    "\n",
    "    # max_sum contains overall maximum sum\n",
    "    # current_sum contains max sum upto the current element\n",
    "    max_sum=current_sum=arr[0] \n",
    "\n",
    "    start=0 #start points to starting point of largest continuous sum\n",
    "    end=0 #end points to end point of largest continuous sum\n",
    "    index=0 #index points to current index of array\n",
    "\n",
    "    # For every element in array from 1st index\n",
    "    for num in arr[1:]:\n",
    "\n",
    "        #incrementing the index\n",
    "        index+=1 \n",
    "\n",
    "        # Set current_sum as the higher of the two\n",
    "        current_sum=max(current_sum+num, num)\n",
    "\n",
    "        #if current_sum is equal to num means new sum sequence is started\n",
    "        if current_sum==num:\n",
    "            start=index\n",
    "\n",
    "        # Set max_sum as the higher between the current_sum and the max_sum\n",
    "        max_sum=max(current_sum, max_sum) \n",
    "\n",
    "        #if max_sum is equal to current_sum means the sum sequence is stoped\n",
    "        if max_sum==current_sum:\n",
    "            end=index\n",
    "\n",
    "    return max_sum,start,end"
   ]
  },
  {
   "cell_type": "code",
   "execution_count": 4,
   "metadata": {},
   "outputs": [],
   "source": [
    "nums = [-2,1,-3,4,-1,2,1,-5,4]\n",
    "result=largest_continuous_sum(nums)\n",
    "\n",
    "print(f\"Largest Continuous Sum {result[0]} comming from the subarray {nums[result[1]:result[2]+1]}\")"
   ]
  }
 ],
 "metadata": {
  "kernelspec": {
   "display_name": "Python 3",
   "language": "python",
   "name": "python3"
  },
  "language_info": {
   "codemirror_mode": {
    "name": "ipython",
    "version": 3
   },
   "file_extension": ".py",
   "mimetype": "text/x-python",
   "name": "python",
   "nbconvert_exporter": "python",
   "pygments_lexer": "ipython3",
   "version": "3.8.5"
  }
 },
 "nbformat": 4,
 "nbformat_minor": 4
}
