{
 "cells": [
  {
   "cell_type": "markdown",
   "metadata": {},
   "source": [
    "<h1>\n",
    "<a href=\"https://leetcode.com/problems/happy-number/\" style=\"color:green;text-decoration: none\";>202. Happy Number\n",
    "</a> \n",
    "</h1> \n",
    "\n",
    "```\n",
    "Write an algorithm to determine if a number n is happy.\n",
    "\n",
    "A happy number is a number defined by the following process:\n",
    "\n",
    "Starting with any positive integer, replace the number by the sum of the squares of its digits.\n",
    "Repeat the process until the number equals 1 (where it will stay), or it loops endlessly in a cycle which does not include 1.\n",
    "Those numbers for which this process ends in 1 are happy.\n",
    "Return true if n is a happy number, and false if not.\n",
    "\n",
    "Example 1:\n",
    "Input: n = 19\n",
    "Output: true\n",
    "Explanation:\n",
    "12 + 92 = 82\n",
    "82 + 22 = 68\n",
    "62 + 82 = 100\n",
    "12 + 02 + 02 = 1\n",
    "                                                                                                    \n",
    "Example 2:\n",
    "Input: n = 2\n",
    "Output: false\n",
    "\n",
    "Constraints:\n",
    "1 <= n <= 231 - 1\n",
    "```"
   ]
  },
  {
   "cell_type": "code",
   "execution_count": 1,
   "metadata": {},
   "outputs": [],
   "source": [
    "def generate_next_number(n):\n",
    "    sum_of_sqaured_digit=0\n",
    "    while n > 0:\n",
    "        remainder=n%10\n",
    "        n=n//10\n",
    "        sum_of_sqaured_digit+=remainder*remainder\n",
    "    return sum_of_sqaured_digit\n",
    "\n",
    "\n",
    "def isHappy(n):\n",
    "    visited=set()\n",
    "\n",
    "    while n not in visited:\n",
    "        visited.add(n)\n",
    "        n=generate_next_number(n)\n",
    "\n",
    "        if n==1:\n",
    "            return True\n",
    "\n",
    "    return False"
   ]
  },
  {
   "cell_type": "code",
   "execution_count": 2,
   "metadata": {},
   "outputs": [
    {
     "data": {
      "text/plain": [
       "True"
      ]
     },
     "execution_count": 2,
     "metadata": {},
     "output_type": "execute_result"
    }
   ],
   "source": [
    "n = 19\n",
    "isHappy(n)"
   ]
  }
 ],
 "metadata": {
  "kernelspec": {
   "display_name": "Python 3",
   "language": "python",
   "name": "python3"
  },
  "language_info": {
   "codemirror_mode": {
    "name": "ipython",
    "version": 3
   },
   "file_extension": ".py",
   "mimetype": "text/x-python",
   "name": "python",
   "nbconvert_exporter": "python",
   "pygments_lexer": "ipython3",
   "version": "3.8.5"
  }
 },
 "nbformat": 4,
 "nbformat_minor": 4
}
