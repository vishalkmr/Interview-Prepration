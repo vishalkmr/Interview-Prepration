{
 "cells": [
  {
   "cell_type": "markdown",
   "metadata": {},
   "source": [
    "<h1>\n",
    "<a href=\"https://leetcode.com/problems/excel-sheet-column-number/\" style=\"color:green;text-decoration: none\";>171. Excel Sheet Column Number\n",
    "</a> \n",
    "</h1> \n",
    "\n",
    "```\n",
    "Given a string columnTitle that represents the column title as appears in an Excel sheet, return its corresponding column number.\n",
    "\n",
    "For example:\n",
    "\n",
    "A -> 1\n",
    "B -> 2\n",
    "C -> 3\n",
    "...\n",
    "Z -> 26\n",
    "AA -> 27\n",
    "AB -> 28 \n",
    "...\n",
    "\n",
    "Example 1:\n",
    "Input: columnTitle = \"A\"\n",
    "Output: 1\n",
    "                                                                                                    \n",
    "Example 2:\n",
    "Input: columnTitle = \"AB\"\n",
    "Output: 28\n",
    " \n",
    "Constraints:\n",
    "1 <= columnTitle.length <= 7\n",
    "columnTitle consists only of uppercase English letters.\n",
    "columnTitle is in the range [\"A\", \"FXSHRXW\"].\n",
    "```"
   ]
  },
  {
   "cell_type": "code",
   "execution_count": 1,
   "metadata": {},
   "outputs": [],
   "source": [
    "def titleToNumber(columnTitle):\n",
    "    total=0\n",
    "    power=0\n",
    "    for idx in range(len(columnTitle)-1,-1,-1):            \n",
    "        total+=(ord(columnTitle[idx])-64)*26**power\n",
    "        power+=1\n",
    "\n",
    "    return total"
   ]
  },
  {
   "cell_type": "code",
   "execution_count": 2,
   "metadata": {},
   "outputs": [
    {
     "data": {
      "text/plain": [
       "28"
      ]
     },
     "execution_count": 2,
     "metadata": {},
     "output_type": "execute_result"
    }
   ],
   "source": [
    "columnTitle = \"AB\"\n",
    "titleToNumber(columnTitle)"
   ]
  }
 ],
 "metadata": {
  "kernelspec": {
   "display_name": "Python 3",
   "language": "python",
   "name": "python3"
  },
  "language_info": {
   "codemirror_mode": {
    "name": "ipython",
    "version": 3
   },
   "file_extension": ".py",
   "mimetype": "text/x-python",
   "name": "python",
   "nbconvert_exporter": "python",
   "pygments_lexer": "ipython3",
   "version": "3.8.5"
  }
 },
 "nbformat": 4,
 "nbformat_minor": 4
}
