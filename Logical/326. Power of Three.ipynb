{
 "cells": [
  {
   "cell_type": "markdown",
   "metadata": {},
   "source": [
    "<h1>\n",
    "<a href=\"https://leetcode.com/problems/power-of-three/\" style=\"color:green;text-decoration: none\";>326. Power of Three\n",
    "</a> \n",
    "</h1> \n",
    "\n",
    "```\n",
    "Given an integer n, return true if it is a power of three. Otherwise, return false.\n",
    "\n",
    "An integer n is a power of three, if there exists an integer x such that n == 3x.\n",
    "\n",
    "Example 1:\n",
    "Input: n = 27\n",
    "Output: true\n",
    "                                                                                                    \n",
    "Example 2:\n",
    "Input: n = 0\n",
    "Output: false\n",
    " \n",
    "Constraints:\n",
    "-231 <= n <= 231 - 1\n",
    "```"
   ]
  },
  {
   "cell_type": "markdown",
   "metadata": {},
   "source": [
    "## Approach 1\n",
    "- Divide the num by 3 each time and check the remainder is 0 or not\n"
   ]
  },
  {
   "cell_type": "code",
   "execution_count": 1,
   "metadata": {},
   "outputs": [],
   "source": [
    "def isPowerOfThree(n):\n",
    "    if (n == 0):\n",
    "        return False\n",
    "\n",
    "    while (n != 1):\n",
    "        if (n % 3 != 0):\n",
    "            return False\n",
    "        n = n // 3\n",
    "\n",
    "    return True"
   ]
  },
  {
   "cell_type": "code",
   "execution_count": 2,
   "metadata": {},
   "outputs": [
    {
     "data": {
      "text/plain": [
       "True"
      ]
     },
     "execution_count": 2,
     "metadata": {},
     "output_type": "execute_result"
    }
   ],
   "source": [
    "n=81\n",
    "isPowerOfThree(n)"
   ]
  },
  {
   "cell_type": "markdown",
   "metadata": {},
   "source": [
    "## Approach 2\n",
    "- varify that 3<sup>log(n)</sup> is same as n"
   ]
  },
  {
   "cell_type": "code",
   "execution_count": 3,
   "metadata": {},
   "outputs": [],
   "source": [
    "import math\n",
    "def isPowerOfThree(n):\n",
    "    if n <= 0:\n",
    "        return False\n",
    "\n",
    "    return 3**round(math.log(n, 3)) == n"
   ]
  },
  {
   "cell_type": "code",
   "execution_count": 4,
   "metadata": {},
   "outputs": [
    {
     "data": {
      "text/plain": [
       "True"
      ]
     },
     "execution_count": 4,
     "metadata": {},
     "output_type": "execute_result"
    }
   ],
   "source": [
    "n=81\n",
    "isPowerOfThree(n)"
   ]
  }
 ],
 "metadata": {
  "kernelspec": {
   "display_name": "Python 3",
   "language": "python",
   "name": "python3"
  },
  "language_info": {
   "codemirror_mode": {
    "name": "ipython",
    "version": 3
   },
   "file_extension": ".py",
   "mimetype": "text/x-python",
   "name": "python",
   "nbconvert_exporter": "python",
   "pygments_lexer": "ipython3",
   "version": "3.8.5"
  }
 },
 "nbformat": 4,
 "nbformat_minor": 4
}
