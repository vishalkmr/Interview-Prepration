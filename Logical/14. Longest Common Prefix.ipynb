{
 "cells": [
  {
   "cell_type": "markdown",
   "metadata": {},
   "source": [
    "<h1>\n",
    "<a href=https://leetcode.com/problems/plus-one/\" style=\"color:green;text-decoration: none\";>14. Longest Common Prefix\n",
    "</a> \n",
    "</h1> \n",
    "\n",
    "```\n",
    "Write a function to find the longest common prefix string amongst an array of strings.\n",
    "\n",
    "If there is no common prefix, return an empty string \"\".\n",
    "\n",
    "Example 1:\n",
    "Input: strs = [\"flower\",\"flow\",\"flight\"]\n",
    "Output: \"fl\" \n",
    "                                                                                                    \n",
    "Example 2:\n",
    "Input: strs = [\"dog\",\"racecar\",\"car\"]\n",
    "Output: \"\"\n",
    " \n",
    "Constraints:\n",
    "1 <= strs.length <= 200\n",
    "0 <= strs[i].length <= 200\n",
    "strs[i] consists of only lower-case English letters.\n",
    "```"
   ]
  },
  {
   "cell_type": "code",
   "execution_count": 1,
   "metadata": {},
   "outputs": [],
   "source": [
    "def longestCommonPrefix(strs):\n",
    "    if len(strs)==0:\n",
    "        return \"\"\n",
    "    prefix=\"\"\n",
    "\n",
    "    for i in range(len(strs[0])):\n",
    "        prefix+=strs[0][i]\n",
    "\n",
    "        for string in strs:\n",
    "            if i >= len(string) or string[i] != prefix[i]:\n",
    "                return prefix[:i]\n",
    "\n",
    "    return prefix"
   ]
  },
  {
   "cell_type": "code",
   "execution_count": 2,
   "metadata": {},
   "outputs": [
    {
     "data": {
      "text/plain": [
       "'fl'"
      ]
     },
     "execution_count": 2,
     "metadata": {},
     "output_type": "execute_result"
    }
   ],
   "source": [
    "strs = [\"flower\",\"flow\",\"flight\"]\n",
    "longestCommonPrefix(strs)"
   ]
  }
 ],
 "metadata": {
  "kernelspec": {
   "display_name": "Python 3",
   "language": "python",
   "name": "python3"
  },
  "language_info": {
   "codemirror_mode": {
    "name": "ipython",
    "version": 3
   },
   "file_extension": ".py",
   "mimetype": "text/x-python",
   "name": "python",
   "nbconvert_exporter": "python",
   "pygments_lexer": "ipython3",
   "version": "3.8.5"
  }
 },
 "nbformat": 4,
 "nbformat_minor": 4
}
