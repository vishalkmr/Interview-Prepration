{
 "cells": [
  {
   "cell_type": "markdown",
   "metadata": {},
   "source": [
    "<h1>\n",
    "<a href=\"https://leetcode.com/problems/largest-rectangle-in-histogram\" style=\"color:orange;text-decoration: none\";>84. Largest Rectangle in Histogram</a> \n",
    "</h1> \n",
    "\n",
    "```\n",
    "Given an array of integers heights representing the histogram's bar height where the width of each bar is 1, return the area of the largest rectangle in the histogram.\n",
    "\n",
    "Example 1:\n",
    "Input: heights = [2,1,5,6,2,3]\n",
    "Output: 10\n",
    "Explanation: The above is a histogram where width of each bar is 1.\n",
    "The largest rectangle is shown in the red area, which has an area = 10 units.\n",
    "\n",
    "Output\n",
    "Input: heights = [2,4]\n",
    "Output: 4\n",
    " \n",
    "Constraints:\n",
    "1 <= heights.length <= 105\n",
    "0 <= heights[i] <= 104\n",
    "```"
   ]
  },
  {
   "cell_type": "markdown",
   "metadata": {},
   "source": [
    "## Approach 1\n",
    "- Use stacks to store the starting index of height and height value\n",
    "- Stack can store the hieghts in increasing order ensuring the from current element to top that height can be extended\n",
    "- If stack top height is larger than current element height then pop the items from stack and update the max_area and starting index\n",
    "- current_area has width uptil index to start_index\n",
    "- start_index for current height is the index uptil we find height which is samller than current height\n",
    "- If after iterating each element some element left in stack which means these height can be extended to till the end\n",
    "\n",
    "**T(n)=O(n)**\n",
    "\n",
    "**S(n)=O(n)**"
   ]
  },
  {
   "cell_type": "code",
   "execution_count": 1,
   "metadata": {},
   "outputs": [],
   "source": [
    "def largestRectangleArea(heights):\n",
    "    max_area=0\n",
    "    stack=[]\n",
    "\n",
    "    for index,height in enumerate(heights):\n",
    "        start_index=index\n",
    "        #if stack top height is larger than current element height\n",
    "        #pop the items from stack and update the max_area and starting index\n",
    "        #since height can be stored in incresing height in stack\n",
    "        #current_area has width uptil index to start_index\n",
    "        #start_index for current height is the index uptil we find height which is samller than current height\n",
    "        while stack and height < stack[-1][1]:\n",
    "            start_index,top_height= stack.pop()\n",
    "            current_area=top_height * (index - start_index)\n",
    "            max_area=max(max_area,current_area)\n",
    "        stack.append((start_index,height))\n",
    "\n",
    "    #remaining height in stack extends uptil the last index from thier start_index\n",
    "    for start_index,height in stack:\n",
    "        max_area = max(max_area, height * (len(heights) - start_index))\n",
    "\n",
    "    return max_area"
   ]
  },
  {
   "cell_type": "code",
   "execution_count": 2,
   "metadata": {},
   "outputs": [
    {
     "data": {
      "text/plain": [
       "10"
      ]
     },
     "execution_count": 2,
     "metadata": {},
     "output_type": "execute_result"
    }
   ],
   "source": [
    "heights = [2,1,5,6,2,3]\n",
    "largestRectangleArea(heights)"
   ]
  }
 ],
 "metadata": {
  "kernelspec": {
   "display_name": "Python 3",
   "language": "python",
   "name": "python3"
  },
  "language_info": {
   "codemirror_mode": {
    "name": "ipython",
    "version": 3
   },
   "file_extension": ".py",
   "mimetype": "text/x-python",
   "name": "python",
   "nbconvert_exporter": "python",
   "pygments_lexer": "ipython3",
   "version": "3.8.5"
  }
 },
 "nbformat": 4,
 "nbformat_minor": 4
}
