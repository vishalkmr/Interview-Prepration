{
 "cells": [
  {
   "cell_type": "markdown",
   "metadata": {},
   "source": [
    "<h1>\n",
    "<a href=https://leetcode.com/problems/valid-parentheses/\" style=\"color:orange;text-decoration: none\";>20. Valid Parentheses</a> \n",
    "</h1> \n",
    "\n",
    "```\n",
    "Given a string s containing just the characters '(', ')', '{', '}', '[' and ']', determine if the input string is valid.\n",
    "\n",
    "An input string is valid if:\n",
    "\n",
    "- Open brackets must be closed by the same type of brackets.\n",
    "- Open brackets must be closed in the correct order.\n",
    "\n",
    "Example 1:\n",
    "Input: s = \"()\"\n",
    "Output: true\n",
    "\n",
    "Example 2:\n",
    "Input: s = \"()[]{}\"\n",
    "Output: true\n",
    " \n",
    "Constraints:\n",
    "1 <= s.length <= 104\n",
    "s consists of parentheses only '()[]{}'\n",
    "```"
   ]
  },
  {
   "cell_type": "markdown",
   "metadata": {},
   "source": [
    "## Approach 1\n",
    "- Count the local inveresions in array\n",
    "- Count the global inveresions in array using insertion sort until it becomes equal to local inveresions\n",
    "- The moment when global inveresions exceeds the local inveresions we can stop counting the global inveresions and return False\n",
    " \n",
    "**T(n)=O(n)**"
   ]
  },
  {
   "cell_type": "code",
   "execution_count": 1,
   "metadata": {},
   "outputs": [],
   "source": [
    "def isValid(s):\n",
    "    stack=[]\n",
    "    pairs={ \")\":\"(\" ,\"}\":\"{\" ,\"]\":\"[\" }\n",
    "\n",
    "    for element in s:\n",
    "        if element == '(' or element == '[' or element == '{':\n",
    "            stack.append(element)\n",
    "        else:\n",
    "            if len(stack) > 0:\n",
    "                top_element=stack.pop()\n",
    "                #if order of parenthesis closed is not maintained \n",
    "                if pairs[element] != top_element:\n",
    "                    return False\n",
    "            #if string starts with closing parenthesis\n",
    "            else:\n",
    "                return False\n",
    "\n",
    "    #if there are opening parenthesis with no closing pair\n",
    "    if len(stack) > 0:\n",
    "        return False\n",
    "    else:\n",
    "        return True"
   ]
  },
  {
   "cell_type": "code",
   "execution_count": 2,
   "metadata": {},
   "outputs": [
    {
     "data": {
      "text/plain": [
       "False"
      ]
     },
     "execution_count": 2,
     "metadata": {},
     "output_type": "execute_result"
    }
   ],
   "source": [
    "s = \"()[]{}{\"\n",
    "isValid(s)"
   ]
  }
 ],
 "metadata": {
  "kernelspec": {
   "display_name": "Python 3",
   "language": "python",
   "name": "python3"
  },
  "language_info": {
   "codemirror_mode": {
    "name": "ipython",
    "version": 3
   },
   "file_extension": ".py",
   "mimetype": "text/x-python",
   "name": "python",
   "nbconvert_exporter": "python",
   "pygments_lexer": "ipython3",
   "version": "3.8.5"
  }
 },
 "nbformat": 4,
 "nbformat_minor": 4
}
