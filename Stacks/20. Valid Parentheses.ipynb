{
 "cells": [
  {
   "cell_type": "markdown",
   "metadata": {},
   "source": [
    "<h1>\n",
    "<a href=\"https://leetcode.com/problems/valid-parentheses/\" style=\"color:green;text-decoration: none\";>20. Valid Parentheses</a> \n",
    "</h1> \n",
    "\n",
    "```\n",
    "Given a string s containing just the characters '(', ')', '{', '}', '[' and ']', determine if the input string is valid.\n",
    "\n",
    "An input string is valid if:\n",
    "\n",
    "- Open brackets must be closed by the same type of brackets.\n",
    "- Open brackets must be closed in the correct order.\n",
    "\n",
    "Example 1:\n",
    "Input: s = \"()\"\n",
    "Output: true\n",
    "\n",
    "Example 2:\n",
    "Input: s = \"()[]{}\"\n",
    "Output: true\n",
    " \n",
    "Constraints:\n",
    "1 <= s.length <= 104\n",
    "s consists of parentheses only '()[]{}'\n",
    "```"
   ]
  },
  {
   "cell_type": "markdown",
   "metadata": {},
   "source": [
    "## Approach 1\n",
    "- Use stacks data structure\n",
    "- Push the open parentheses items onto stack\n",
    "- Compare the close parentheses items with the already present open parentheses in stack e.i. pop the top element and compare it with current closed parentheses for matching\n",
    " \n",
    "**T(n)=O(n)**\n",
    "**S(n)=O(n)**"
   ]
  },
  {
   "cell_type": "code",
   "execution_count": 1,
   "metadata": {},
   "outputs": [],
   "source": [
    "def isValid(s):\n",
    "    stack=[]\n",
    "    pairs={ \")\":\"(\" ,\"}\":\"{\" ,\"]\":\"[\" }\n",
    "\n",
    "    for item in s:\n",
    "        #push the open parentheses items onto stack\n",
    "        if item == '(' or item == '[' or item == '{':\n",
    "            stack.append(item)\n",
    "\n",
    "        #compare the close parentheses items with the already present open parentheses in stack\n",
    "        else:\n",
    "            #if string starts with closing parenthesis\n",
    "            if len(stack)==0:\n",
    "                return False\n",
    "\n",
    "            #compare the order of the parentheses \n",
    "            poped_item=stack.pop()\n",
    "            if pairs[item] != poped_item:\n",
    "                return False\n",
    "\n",
    "    #if there are opening parenthesis with no closing pair\n",
    "    if len(stack) > 0:\n",
    "        return False\n",
    "    \n",
    "    return True"
   ]
  },
  {
   "cell_type": "code",
   "execution_count": 2,
   "metadata": {},
   "outputs": [
    {
     "data": {
      "text/plain": [
       "False"
      ]
     },
     "execution_count": 2,
     "metadata": {},
     "output_type": "execute_result"
    }
   ],
   "source": [
    "s = \"()[]{}{\"\n",
    "isValid(s)"
   ]
  }
 ],
 "metadata": {
  "kernelspec": {
   "display_name": "Python 3",
   "language": "python",
   "name": "python3"
  },
  "language_info": {
   "codemirror_mode": {
    "name": "ipython",
    "version": 3
   },
   "file_extension": ".py",
   "mimetype": "text/x-python",
   "name": "python",
   "nbconvert_exporter": "python",
   "pygments_lexer": "ipython3",
   "version": "3.8.5"
  }
 },
 "nbformat": 4,
 "nbformat_minor": 4
}
