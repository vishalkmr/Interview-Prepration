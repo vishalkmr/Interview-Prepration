{
 "cells": [
  {
   "cell_type": "markdown",
   "metadata": {},
   "source": [
    "<h1>\n",
    "<a href=\"https://leetcode.com/problems/daily-temperatures/\" style=\"color:orange;text-decoration: none\";>739. Daily Temperatures</a> \n",
    "</h1> \n",
    "\n",
    "```\n",
    "Given an array of integers temperatures represents the daily temperatures, return an array answer such that answer[i] is the number of days you have to wait after the ith day to get a warmer temperature. If there is no future day for which this is possible, keep answer[i] == 0 instead.\n",
    "\n",
    "Example 1:\n",
    "Input: temperatures = [73,74,75,71,69,72,76,73]\n",
    "Output: [1,1,4,2,1,1,0,0]\n",
    "\n",
    "Output\n",
    "Input: temperatures = [30,40,50,60]\n",
    "Output: [1,1,1,0]\n",
    " \n",
    "Constraints:\n",
    "1 <= temperatures.length <= 105\n",
    "30 <= temperatures[i] <= 100\n",
    "```"
   ]
  },
  {
   "cell_type": "markdown",
   "metadata": {},
   "source": [
    "## Approach 1\n",
    "- Use stacks to store the temperatures value and index\n",
    "- Traverse the temperatures list from last\n",
    "- If current temperatures value is smaller than stack top then directly push temperatures value on stack\n",
    "- If current temperatures value is larger than stack top then pop until value stack top have larger value than current temperatures value or stack becomes empty.\n",
    "- output[i] would be stack top temperatures value index minus current index\n",
    " \n",
    "**T(n)=O(n)**\n",
    "\n",
    "**S(n)=O(n)**"
   ]
  },
  {
   "cell_type": "code",
   "execution_count": 1,
   "metadata": {},
   "outputs": [],
   "source": [
    "def dailyTemperatures(temperatures):\n",
    "    stack=[]\n",
    "    output=[0]*len(temperatures)\n",
    "    for i in range(len(temperatures)-1,-1,-1):\n",
    "        #empty stack\n",
    "        if len(stack)==0:\n",
    "            stack.append((temperatures[i],i))\n",
    "        else:\n",
    "            #if temperatures value is smaller than stack top \n",
    "            #-> directly push temperatures value on stack\n",
    "            if temperatures[i] < stack[-1][0]:\n",
    "                output[i]=stack[-1][1]-i\n",
    "                stack.append((temperatures[i],i))\n",
    "            #if temperatures value is larger than stack top \n",
    "            #-> pop until value stack top have larger value than temperatures value or stack becomes empty\n",
    "            else:\n",
    "                while(temperatures[i] >= stack[-1][0]):\n",
    "                    stack.pop()\n",
    "                    if len(stack)==0:\n",
    "                        break\n",
    "                if len(stack)!=0:\n",
    "                    output[i]=stack[-1][1]-i\n",
    "                stack.append((temperatures[i],i))\n",
    "    return output"
   ]
  },
  {
   "cell_type": "code",
   "execution_count": 2,
   "metadata": {},
   "outputs": [
    {
     "data": {
      "text/plain": [
       "[1, 1, 4, 2, 1, 1, 0, 0]"
      ]
     },
     "execution_count": 2,
     "metadata": {},
     "output_type": "execute_result"
    }
   ],
   "source": [
    "temperatures = [73,74,75,71,69,72,76,73]\n",
    "dailyTemperatures(temperatures)"
   ]
  },
  {
   "cell_type": "markdown",
   "metadata": {},
   "source": [
    "## Approach 2\n",
    "- Smilliar to approach 1 with lesser code\n",
    " \n",
    "**T(n)=O(n)**\n",
    "\n",
    "**S(n)=O(n)**"
   ]
  },
  {
   "cell_type": "code",
   "execution_count": 3,
   "metadata": {},
   "outputs": [],
   "source": [
    "def dailyTemperatures(temperatures):\n",
    "    stack=[]\n",
    "    output=[0]*len(temperatures)\n",
    "    for i in range(len(temperatures)-1,-1,-1):\n",
    "        #if temperatures value is larger than stack top \n",
    "        #-> pop until value stack top have larger value than temperatures value or stack becomes empty\n",
    "        while(stack and temperatures[i] >= stack[-1][0]):\n",
    "            stack.pop()\n",
    "        #ouput wbuld be difference of stack top and current index\n",
    "        if stack:\n",
    "            output[i]=stack[-1][1]-i\n",
    "        #push the current temperatue to stack\n",
    "        stack.append((temperatures[i],i))\n",
    "    return output"
   ]
  },
  {
   "cell_type": "code",
   "execution_count": 4,
   "metadata": {},
   "outputs": [
    {
     "data": {
      "text/plain": [
       "[1, 1, 4, 2, 1, 1, 0, 0]"
      ]
     },
     "execution_count": 4,
     "metadata": {},
     "output_type": "execute_result"
    }
   ],
   "source": [
    "temperatures = [73,74,75,71,69,72,76,73]\n",
    "dailyTemperatures(temperatures)"
   ]
  }
 ],
 "metadata": {
  "kernelspec": {
   "display_name": "Python 3",
   "language": "python",
   "name": "python3"
  },
  "language_info": {
   "codemirror_mode": {
    "name": "ipython",
    "version": 3
   },
   "file_extension": ".py",
   "mimetype": "text/x-python",
   "name": "python",
   "nbconvert_exporter": "python",
   "pygments_lexer": "ipython3",
   "version": "3.8.5"
  }
 },
 "nbformat": 4,
 "nbformat_minor": 4
}
