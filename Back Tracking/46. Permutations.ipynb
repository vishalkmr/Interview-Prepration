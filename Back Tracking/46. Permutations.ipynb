{
 "cells": [
  {
   "cell_type": "markdown",
   "metadata": {},
   "source": [
    "<h1>\n",
    "<a href=\"https://leetcode.com/problems/permutations/\" style=\"color:orange;text-decoration: none\";>46. Permutations</a> \n",
    "</h1> \n",
    "\n",
    "```\n",
    "Given an array nums of distinct integers, return all the possible permutations. You can return the answer in any order.\n",
    "\n",
    "Example 1:\n",
    "Input: nums = [1,2,3]\n",
    "Output: [[1,2,3],[1,3,2],[2,1,3],[2,3,1],[3,1,2],[3,2,1]].\n",
    "\n",
    "Example 2:\n",
    "Input: nums = [0,1]\n",
    "Output: [[0,1],[1,0]]\n",
    " \n",
    "Constraints:\n",
    "1 <= nums.length <= 6\n",
    "-10 <= nums[i] <= 10\n",
    "All the integers of nums are unique.\n",
    "```"
   ]
  },
  {
   "cell_type": "markdown",
   "metadata": {},
   "source": [
    "## Approach 1\n",
    "- Base case when size of current permutaion is same as the size of nums list\n",
    "- For each element we 1st check wether that element is used already or not \n",
    "- If element is not already used, then used that element for permutation gerneration recursively\n",
    "- Once the recursive permutation is found, mark the element as unused and delete the element from permutation list\n",
    "\n",
    "**T(n)=O(n*n!)**\n",
    "\n",
    "**S(n)=O(n)**"
   ]
  },
  {
   "cell_type": "code",
   "execution_count": 1,
   "metadata": {},
   "outputs": [],
   "source": [
    "def permute(nums):\n",
    "    def backtrack(permutation,used):\n",
    "        #base case\n",
    "        if len(nums)==len(permutation):\n",
    "            permutations.append(permutation[:])\n",
    "\n",
    "        for i in range(len(nums)):\n",
    "            #if element is not used in recursive path so far than use it\n",
    "            if not used[i]:\n",
    "                used[i]=True #marking the element as used\n",
    "                permutation.append(nums[i]) #adding the element to permutation\n",
    "                backtrack(permutation,used) #computing the permutation\n",
    "                used[i]=False #marking the element as unused for further permutation in same function call\n",
    "                permutation.pop() #deleting the element from permutation list \n",
    "    \n",
    "    permutations=[]\n",
    "    \n",
    "    #variable to check element is used in the recursive path or not\n",
    "    used=[False]*len(nums)\n",
    "    \n",
    "    backtrack([],used)\n",
    "\n",
    "    return permutations"
   ]
  },
  {
   "cell_type": "code",
   "execution_count": 2,
   "metadata": {},
   "outputs": [
    {
     "data": {
      "text/plain": [
       "[[1, 2, 3], [1, 3, 2], [2, 1, 3], [2, 3, 1], [3, 1, 2], [3, 2, 1]]"
      ]
     },
     "execution_count": 2,
     "metadata": {},
     "output_type": "execute_result"
    }
   ],
   "source": [
    "nums = [1,2,3]\n",
    "permute(nums)"
   ]
  },
  {
   "cell_type": "markdown",
   "metadata": {},
   "source": [
    "## Approach 2\n",
    "- For each element find the permutation required when element is deleted from list\n",
    "- Once the recursive permutation is found then add the element to each permutation to output\n",
    "\n",
    "**T(n)=O(n*n!)**\n",
    "\n",
    "**S(n)=O(n)**"
   ]
  },
  {
   "cell_type": "code",
   "execution_count": 3,
   "metadata": {},
   "outputs": [],
   "source": [
    "def permute(nums):\n",
    "    permutations=[]\n",
    "    \n",
    "    #base case \n",
    "    if len(nums)==1:\n",
    "        return [nums[:]]\n",
    "\n",
    "    for i in range(len(nums)):\n",
    "        #delete the element from nums \n",
    "        num=nums.pop(0)\n",
    "        \n",
    "        #compute the recursive solution for sublist\n",
    "        recursive_output=permute(nums)\n",
    "\n",
    "        #add the element to each permutation of its peers\n",
    "        for permutation in recursive_output:\n",
    "            permutation.insert(0,num)\n",
    "            permutations.append(permutation)\n",
    "        \n",
    "        #add the element back to nums\n",
    "        nums.append(num)\n",
    "        \n",
    "    return permutations"
   ]
  },
  {
   "cell_type": "code",
   "execution_count": 4,
   "metadata": {},
   "outputs": [
    {
     "data": {
      "text/plain": [
       "[[1, 2, 3], [1, 3, 2], [2, 3, 1], [2, 1, 3], [3, 1, 2], [3, 2, 1]]"
      ]
     },
     "execution_count": 4,
     "metadata": {},
     "output_type": "execute_result"
    }
   ],
   "source": [
    "nums = [1,2,3]\n",
    "permute(nums)"
   ]
  }
 ],
 "metadata": {
  "kernelspec": {
   "display_name": "Python 3",
   "language": "python",
   "name": "python3"
  },
  "language_info": {
   "codemirror_mode": {
    "name": "ipython",
    "version": 3
   },
   "file_extension": ".py",
   "mimetype": "text/x-python",
   "name": "python",
   "nbconvert_exporter": "python",
   "pygments_lexer": "ipython3",
   "version": "3.8.5"
  }
 },
 "nbformat": 4,
 "nbformat_minor": 4
}
