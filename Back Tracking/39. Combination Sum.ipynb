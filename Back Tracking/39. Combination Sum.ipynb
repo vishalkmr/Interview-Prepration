{
 "cells": [
  {
   "cell_type": "markdown",
   "metadata": {},
   "source": [
    "<h1>\n",
    "<a href=\"https://leetcode.com/problems/combination-sum/\" style=\"color:orange;text-decoration: none\";>39. Combination Sum</a> \n",
    "</h1> \n",
    "\n",
    "```\n",
    "Given an array of distinct integers candidates and a target integer target, return a list of all unique combinations of candidates where the chosen numbers sum to target. You may return the combinations in any order.\n",
    "\n",
    "The same number may be chosen from candidates an unlimited number of times. Two combinations are unique if the frequency of at least one of the chosen numbers is different.\n",
    "\n",
    "The test cases are generated such that the number of unique combinations that sum up to target is less than 150 combinations for the given input.\n",
    "\n",
    "Example 1:\n",
    "Input: candidates = [2,3,6,7], target = 7\n",
    "Output: [[2,2,3],[7]]\n",
    "Explanation:\n",
    "2 and 3 are candidates, and 2 + 2 + 3 = 7. Note that 2 can be used multiple times.\n",
    "7 is a candidate, and 7 = 7.\n",
    "These are the only two combinations.\n",
    "\n",
    "Example 2:\n",
    "Input: candidates = [2,3,6,7], target = 7\n",
    "Output: [[2,2,3],[7]]\n",
    "Explanation:\n",
    "2 and 3 are candidates, and 2 + 2 + 3 = 7. Note that 2 can be used multiple times.\n",
    "7 is a candidate, and 7 = 7.\n",
    "These are the only two combinations.\n",
    " \n",
    "Constraints:\n",
    "1 <= candidates.length <= 30\n",
    "2 <= candidates[i] <= 40\n",
    "All elements of candidates are distinct.\n",
    "1 <= target <= 500\n",
    "```"
   ]
  },
  {
   "cell_type": "markdown",
   "metadata": {},
   "source": [
    "## Approach 1\n",
    "- For each element we have to make a decision weather to add it to the curr_candidates list  or not\n",
    "- Accordngly we update the subset by adding the element to subset if element is taken otherwise we remove the element from curr_candidates list \n",
    "\n",
    "**T(n)=O(n2<sup>n</sup>)**\n",
    "\n",
    "**S(n)=O(n)**"
   ]
  },
  {
   "cell_type": "code",
   "execution_count": 1,
   "metadata": {},
   "outputs": [],
   "source": [
    "def combinationSum(candidates,target):\n",
    "    output=[]\n",
    "    def backtrack (idx,curr_sum,curr_candidates):\n",
    "        #base case\n",
    "        if curr_sum >target or idx>=len(candidates):\n",
    "            return\n",
    "        \n",
    "        #if target sum is found add to output\n",
    "        if curr_sum == target:\n",
    "            output.append(curr_candidates.copy())\n",
    "            return\n",
    "\n",
    "        #pick the idx element in curr_candidates list\n",
    "        curr_candidates.append(candidates[idx])\n",
    "        backtrack(idx,curr_sum+candidates[idx],curr_candidates)\n",
    "\n",
    "        #not to pick the idx element in curr_candidates list\n",
    "        curr_candidates.pop()\n",
    "        backtrack(idx+1,curr_sum,curr_candidates)\n",
    "\n",
    "    backtrack(0,0,[])\n",
    "    return output"
   ]
  },
  {
   "cell_type": "code",
   "execution_count": 2,
   "metadata": {},
   "outputs": [
    {
     "data": {
      "text/plain": [
       "[[2, 2, 3], [7]]"
      ]
     },
     "execution_count": 2,
     "metadata": {},
     "output_type": "execute_result"
    }
   ],
   "source": [
    "candidates = [2,3,6,7]\n",
    "target = 7\n",
    "combinationSum(candidates,target)"
   ]
  }
 ],
 "metadata": {
  "kernelspec": {
   "display_name": "Python 3",
   "language": "python",
   "name": "python3"
  },
  "language_info": {
   "codemirror_mode": {
    "name": "ipython",
    "version": 3
   },
   "file_extension": ".py",
   "mimetype": "text/x-python",
   "name": "python",
   "nbconvert_exporter": "python",
   "pygments_lexer": "ipython3",
   "version": "3.8.5"
  }
 },
 "nbformat": 4,
 "nbformat_minor": 4
}
