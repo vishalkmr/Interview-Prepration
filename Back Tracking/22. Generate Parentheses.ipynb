{
 "cells": [
  {
   "cell_type": "markdown",
   "metadata": {},
   "source": [
    "<h1>\n",
    "<a href=\"https://leetcode.com/problems/generate-parentheses/\" style=\"color:orange;text-decoration: none\";>22. Generate Parentheses</a> \n",
    "</h1> \n",
    "\n",
    "```\n",
    "Given n pairs of parentheses, write a function to generate all combinations of well-formed parentheses.\n",
    "\n",
    "Example 1:\n",
    "Input: n = 3\n",
    "Output: [\"((()))\",\"(()())\",\"(())()\",\"()(())\",\"()()()\"]\n",
    "\n",
    "Example 2:\n",
    "Input: n = 1\n",
    "Output: [\"()\"]\n",
    "\n",
    "Constraints:\n",
    "1 <= n <= 8\n",
    "```"
   ]
  },
  {
   "cell_type": "markdown",
   "metadata": {},
   "source": [
    "## Approach 1\n",
    "- Use backtrack with two variable open and close to track the number of parantheses \n",
    "- Base case would be when open and close count is n and the expression containes a valid expression with n close and open parantheses\n",
    "- If open=n we can add only close parentheses in experssion\n",
    "- If open>close and open!= we can add any of the parantheses in experssion\n",
    "- If open and close count is same then we can add only oen parantheses to current expression\n",
    "\n",
    "**T(n)=O(2<sup>n</sup>)**\n",
    "\n",
    "**S(n)=O(2<sup>n</sup>)**"
   ]
  },
  {
   "cell_type": "code",
   "execution_count": 1,
   "metadata": {},
   "outputs": [],
   "source": [
    "def generateParenthesis(n):\n",
    "    output=[]\n",
    "    def backtrack(open,close,expression):\n",
    "        #base case when both parentheses equals to n\n",
    "        if open==n and close==n:\n",
    "            output.append(expression)\n",
    "            return \n",
    "        #when open=n, only close parentheses can be added in experssion\n",
    "        elif open == n:\n",
    "            backtrack(open,close+1,expression+')')\n",
    "        #when open count > close count, any of the parentheses can be added in experssion\n",
    "        elif open > close :\n",
    "            backtrack(open+1,close,expression+'(')\n",
    "            backtrack(open,close+1,expression+')')\n",
    "        #if we have balanced parentheses, always starts with open parentheses\n",
    "        elif open == close:\n",
    "            backtrack(open+1,close,expression+'(')\n",
    "\n",
    "    backtrack(0,0,\"\")\n",
    "    return output"
   ]
  },
  {
   "cell_type": "code",
   "execution_count": 2,
   "metadata": {},
   "outputs": [
    {
     "data": {
      "text/plain": [
       "['((()))', '(()())', '(())()', '()(())', '()()()']"
      ]
     },
     "execution_count": 2,
     "metadata": {},
     "output_type": "execute_result"
    }
   ],
   "source": [
    "generateParenthesis(3)"
   ]
  }
 ],
 "metadata": {
  "kernelspec": {
   "display_name": "Python 3",
   "language": "python",
   "name": "python3"
  },
  "language_info": {
   "codemirror_mode": {
    "name": "ipython",
    "version": 3
   },
   "file_extension": ".py",
   "mimetype": "text/x-python",
   "name": "python",
   "nbconvert_exporter": "python",
   "pygments_lexer": "ipython3",
   "version": "3.8.5"
  }
 },
 "nbformat": 4,
 "nbformat_minor": 4
}
