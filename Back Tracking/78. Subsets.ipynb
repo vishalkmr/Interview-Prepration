{
 "cells": [
  {
   "cell_type": "markdown",
   "metadata": {},
   "source": [
    "<h1>\n",
    "<a href=\"https://leetcode.com/problems/subsets/\" style=\"color:orange;text-decoration: none\";>78. Subsets</a> \n",
    "</h1> \n",
    "\n",
    "```\n",
    "Given an integer array nums of unique elements, return all possible subsets (the power set).\n",
    "\n",
    "The solution set must not contain duplicate subsets. Return the solution in any order.\n",
    "\n",
    "Example 1:\n",
    "Input: nums = [1,2,3]\n",
    "Output: [[],[1],[2],[1,2],[3],[1,3],[2,3],[1,2,3]]\n",
    "\n",
    "Example 2:\n",
    "Input: nums = [0]\n",
    "Output: [[],[0]]\n",
    " \n",
    "Constraints:\n",
    "1 <= nums.length <= 10\n",
    "-10 <= nums[i] <= 10\n",
    "All the numbers of nums are unique.\n",
    "```"
   ]
  },
  {
   "cell_type": "markdown",
   "metadata": {},
   "source": [
    "## Approach 1\n",
    "- backtrack till the last element\n",
    "- last element is empty subset\n",
    "- output contains the subset of numbers at given point of time\n",
    "- for given element subset is computed by adding the new subset to the ouput which is cross product of the given element with already existing subset\n",
    "\n",
    "**T(n)=O(n2<sup>n</sup>)**"
   ]
  },
  {
   "cell_type": "code",
   "execution_count": 64,
   "metadata": {},
   "outputs": [],
   "source": [
    "def subsets(nums):\n",
    "    output=[]\n",
    "\n",
    "    def backtrack(idx):\n",
    "        if idx == len(nums):\n",
    "            output.append([])\n",
    "            return\n",
    "        \n",
    "        backtrack(idx+1)\n",
    "        \n",
    "        #appending the current element to the susbset list element on by one\n",
    "        subset=[]\n",
    "        for element in output:\n",
    "            temp=element[:]\n",
    "            temp.append(nums[idx])\n",
    "            subset.append(temp)\n",
    "        \n",
    "        output.extend(subset)\n",
    "    \n",
    "    backtrack(0)\n",
    "    return output"
   ]
  },
  {
   "cell_type": "code",
   "execution_count": 65,
   "metadata": {},
   "outputs": [
    {
     "data": {
      "text/plain": [
       "[[], [3], [2], [3, 2], [1], [3, 1], [2, 1], [3, 2, 1]]"
      ]
     },
     "execution_count": 65,
     "metadata": {},
     "output_type": "execute_result"
    }
   ],
   "source": [
    "nums = [1,2,3]\n",
    "subsets(nums)"
   ]
  },
  {
   "cell_type": "markdown",
   "metadata": {},
   "source": [
    "## Approach 2\n",
    "- for an element we have to make a decision weather to add it to the subset or not\n",
    "- accordngly we update the subset by adding the element to subset if element is taken otherwise we remove the element from subset \n",
    "\n",
    "**T(n)=O(n2<sup>n</sup>)**"
   ]
  },
  {
   "cell_type": "code",
   "execution_count": 68,
   "metadata": {},
   "outputs": [],
   "source": [
    "def subsets(nums):\n",
    "    output=[]\n",
    "    subset=[]\n",
    "    \n",
    "    def backtrack(idx):\n",
    "        if idx == len(nums):\n",
    "            output.append(subset.copy())\n",
    "            return\n",
    "            \n",
    "        #pick the idx element in subset\n",
    "        subset.append(nums[idx])\n",
    "        backtrack(idx+1)\n",
    "        \n",
    "        #not to pick the idx element in subset\n",
    "        subset.pop()\n",
    "        backtrack(idx+1)\n",
    "        \n",
    "    backtrack(0)\n",
    "    return output"
   ]
  },
  {
   "cell_type": "code",
   "execution_count": 69,
   "metadata": {
    "scrolled": false
   },
   "outputs": [
    {
     "data": {
      "text/plain": [
       "[[1, 2, 3], [1, 2], [1, 3], [1], [2, 3], [2], [3], []]"
      ]
     },
     "execution_count": 69,
     "metadata": {},
     "output_type": "execute_result"
    }
   ],
   "source": [
    "nums = [1,2,3]\n",
    "subsets(nums)"
   ]
  }
 ],
 "metadata": {
  "kernelspec": {
   "display_name": "Python 3",
   "language": "python",
   "name": "python3"
  },
  "language_info": {
   "codemirror_mode": {
    "name": "ipython",
    "version": 3
   },
   "file_extension": ".py",
   "mimetype": "text/x-python",
   "name": "python",
   "nbconvert_exporter": "python",
   "pygments_lexer": "ipython3",
   "version": "3.8.5"
  }
 },
 "nbformat": 4,
 "nbformat_minor": 4
}
