{
 "cells": [
  {
   "cell_type": "markdown",
   "metadata": {},
   "source": [
    "<h1>\n",
    "<a href=\"https://leetcode.com/problems/combination-sum-ii/\" style=\"color:orange;text-decoration: none\";>40. Combination Sum II</a> \n",
    "</h1> \n",
    "\n",
    "```\n",
    "Given a collection of candidate numbers (candidates) and a target number (target), find all unique combinations in candidates where the candidate numbers sum to target.\n",
    "\n",
    "Each number in candidates may only be used once in the combination.\n",
    "\n",
    "Note: The solution set must not contain duplicate combinations.\n",
    "\n",
    "Example 1:\n",
    "Input: candidates = [2,5,2,1,2], target = 5\n",
    "Output: \n",
    "[\n",
    "[1,2,2],\n",
    "[5]\n",
    "]\n",
    "\n",
    "Example 2:\n",
    "Input: candidates = [10,1,2,7,6,1,5], target = 8\n",
    "Output: \n",
    "[\n",
    "[1,1,6],\n",
    "[1,2,5],\n",
    "[1,7],\n",
    "[2,6]\n",
    "]\n",
    " \n",
    "Constraints:\n",
    "1 <= candidates.length <= 100\n",
    "1 <= candidates[i] <= 50\n",
    "1 <= target <= 30\n",
    "```"
   ]
  },
  {
   "cell_type": "markdown",
   "metadata": {},
   "source": [
    "## Approach 1\n",
    "- Permutaion on all the sum until the traget sum is found\n",
    "- Skip the duplicate element by sorting the candidates list \n",
    "\n",
    "**T(n)=O(n2<sup>n</sup>)**\n",
    "\n",
    "**S(n)=O(n)**"
   ]
  },
  {
   "cell_type": "code",
   "execution_count": 1,
   "metadata": {},
   "outputs": [],
   "source": [
    "def combinationSum2(candidates,target):\n",
    "    def backtrack(pos,curr_sum,combination,used):\n",
    "        #base case\n",
    "        if curr_sum >target:\n",
    "            return\n",
    "        if curr_sum==target:\n",
    "            combinations.append(combination[:])\n",
    "\n",
    "        for i in range(pos,len(candidates)):\n",
    "            #skip the duplicate element\n",
    "            if i>0 and candidates[i]==candidates[i-1] and not used[i-1]:\n",
    "                continue\n",
    "            #if element is not used in recursive path so far than use it\n",
    "            if not used[i]:\n",
    "                used[i]=True #marking the element as used\n",
    "                combination.append(candidates[i]) #adding the element to combination\n",
    "                backtrack(i+1,curr_sum+candidates[i],combination,used) #computing the combination\n",
    "                used[i]=False #marking the element as unused for further combination in same function call\n",
    "                combination.pop() #deleting the element from combination list \n",
    "\n",
    "    combinations=[]\n",
    "\n",
    "    #variable to check element is used in the recursive path or not\n",
    "    used=[False]*len(candidates)\n",
    "\n",
    "    candidates.sort()\n",
    "\n",
    "    backtrack(0,0,[],used)\n",
    "\n",
    "    return combinations"
   ]
  },
  {
   "cell_type": "code",
   "execution_count": 2,
   "metadata": {},
   "outputs": [
    {
     "data": {
      "text/plain": [
       "[[1, 1, 6], [1, 2, 5], [1, 7], [2, 6]]"
      ]
     },
     "execution_count": 2,
     "metadata": {},
     "output_type": "execute_result"
    }
   ],
   "source": [
    "candidates = [10,1,2,7,6,1,5]\n",
    "target = 8\n",
    "combinationSum2(candidates,target)"
   ]
  }
 ],
 "metadata": {
  "kernelspec": {
   "display_name": "Python 3",
   "language": "python",
   "name": "python3"
  },
  "language_info": {
   "codemirror_mode": {
    "name": "ipython",
    "version": 3
   },
   "file_extension": ".py",
   "mimetype": "text/x-python",
   "name": "python",
   "nbconvert_exporter": "python",
   "pygments_lexer": "ipython3",
   "version": "3.8.5"
  }
 },
 "nbformat": 4,
 "nbformat_minor": 4
}
