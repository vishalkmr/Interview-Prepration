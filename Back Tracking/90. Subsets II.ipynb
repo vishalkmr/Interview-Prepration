{
 "cells": [
  {
   "cell_type": "markdown",
   "metadata": {},
   "source": [
    "<h1>\n",
    "<a href=\"https://leetcode.com/problems/subsets-ii/\" style=\"color:orange;text-decoration: none\";>90. Subsets II</a> \n",
    "</h1> \n",
    "\n",
    "```\n",
    "Input: nums = [1,2,2]\n",
    "Output: [[],[1],[1,2],[1,2,2],[2],[2,2]]\n",
    "\n",
    "Example 1:\n",
    "Input: nums = [0]\n",
    "Output: [[],[0]]\n",
    "\n",
    "Example 2:\n",
    "Input: nums = [0,1]\n",
    "Output: [[0,1],[1,0]]\n",
    " \n",
    "Constraints:\n",
    "1 <= nums.length <= 10\n",
    "-10 <= nums[i] <= 10\n",
    "```"
   ]
  },
  {
   "cell_type": "markdown",
   "metadata": {},
   "source": [
    "## Approach 1\n",
    "- For each element we have to make a decision weather to add it to the subset or not\n",
    "- Accordngly we update the subset by adding the element to subset if element is taken otherwise we remove the element from subset \n",
    "- To handle duplicate while adding the solution to output set convert the list of subset to tuple\n",
    "\n",
    "**T(n)=O(n2<sup>n</sup>)**\n",
    "\n",
    "**S(n)=O(n)**"
   ]
  },
  {
   "cell_type": "code",
   "execution_count": 1,
   "metadata": {},
   "outputs": [],
   "source": [
    "def subsetsWithDup(nums):\n",
    "    output=set()\n",
    "\n",
    "    def backtrack(idx,subset):\n",
    "        #base case\n",
    "        if idx == len(nums):\n",
    "            output.add(tuple(subset.copy()))\n",
    "            return\n",
    "                \n",
    "        #pick the idx element in subset\n",
    "        subset.append(nums[idx])\n",
    "        backtrack(idx+1,subset)\n",
    "        \n",
    "        #not to pick the idx element in subset\n",
    "        subset.pop()\n",
    "        backtrack(idx+1,subset)\n",
    "        \n",
    "    backtrack(0,[])\n",
    "    return output"
   ]
  },
  {
   "cell_type": "code",
   "execution_count": 2,
   "metadata": {},
   "outputs": [
    {
     "data": {
      "text/plain": [
       "{(), (1,), (1, 2), (1, 2, 2), (2,), (2, 2)}"
      ]
     },
     "execution_count": 2,
     "metadata": {},
     "output_type": "execute_result"
    }
   ],
   "source": [
    "nums = [1,2,2]\n",
    "subsetsWithDup(nums)"
   ]
  },
  {
   "cell_type": "markdown",
   "metadata": {},
   "source": [
    "## Approach 2\n",
    "- Sort the nums so that elements with same value can be skipped\n",
    "- For each element we have to make a decision weather to add it to the subset or remove all the occurence of that number\n",
    "- Accordngly we update the subset by adding the element to subset if element is taken otherwise we remove the element from subset \n",
    "\n",
    "**T(n)=O(n2<sup>n</sup>)**\n",
    "\n",
    "**S(n)=O(n)**"
   ]
  },
  {
   "cell_type": "code",
   "execution_count": 3,
   "metadata": {},
   "outputs": [],
   "source": [
    "def subsetsWithDup(nums):\n",
    "    output=[]\n",
    "    nums.sort()\n",
    "\n",
    "    def backtrack(idx,subset):\n",
    "        #base case\n",
    "        if idx == len(nums):\n",
    "            # if subset not in output:\n",
    "            output.append(subset[:])\n",
    "            return\n",
    "\n",
    "        #pick the idx element in subset\n",
    "        subset.append(nums[idx])\n",
    "        backtrack(idx+1,subset)\n",
    "        \n",
    "        #not to pick the idx and all the elements with simmilar value in subset\n",
    "        subset.pop()\n",
    "        while(idx+1 <len(nums) and nums[idx]==nums[idx+1]):\n",
    "            idx+=1  \n",
    "        backtrack(idx+1,subset)\n",
    "\n",
    "    backtrack(0,[])\n",
    "    return output"
   ]
  },
  {
   "cell_type": "code",
   "execution_count": 4,
   "metadata": {},
   "outputs": [
    {
     "data": {
      "text/plain": [
       "[[1, 2, 2], [1, 2], [1], [2, 2], [2], []]"
      ]
     },
     "execution_count": 4,
     "metadata": {},
     "output_type": "execute_result"
    }
   ],
   "source": [
    "nums = [1,2,2]\n",
    "subsetsWithDup(nums)"
   ]
  }
 ],
 "metadata": {
  "kernelspec": {
   "display_name": "Python 3",
   "language": "python",
   "name": "python3"
  },
  "language_info": {
   "codemirror_mode": {
    "name": "ipython",
    "version": 3
   },
   "file_extension": ".py",
   "mimetype": "text/x-python",
   "name": "python",
   "nbconvert_exporter": "python",
   "pygments_lexer": "ipython3",
   "version": "3.8.5"
  }
 },
 "nbformat": 4,
 "nbformat_minor": 4
}
