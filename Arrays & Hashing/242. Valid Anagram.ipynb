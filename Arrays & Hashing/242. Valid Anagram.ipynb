{
 "cells": [
  {
   "cell_type": "markdown",
   "metadata": {},
   "source": [
    "<h1>\n",
    "<a href=\"https://leetcode.com/problems/valid-anagram/\" style=\"color:green;text-decoration: none\";>242. Valid Anagram\n",
    "</a> \n",
    "</h1> \n",
    "\n",
    "```\n",
    "Given two strings s and t, return true if t is an anagram of s, and false otherwise.\n",
    "\n",
    "An Anagram is a word or phrase formed by rearranging the letters of a different word or phrase, typically using all the original letters exactly once.\n",
    "\n",
    "Example 1:\n",
    "Input: s = \"anagram\", t = \"nagaram\"\n",
    "Output: true\n",
    "\n",
    "Example 2:\n",
    "Input: s = \"rat\", t = \"car\"\n",
    "Output: false\n",
    " \n",
    "Constraints:\n",
    "1 <= s.length, t.length <= 5 * 104\n",
    "s and t consist of lowercase English letters.\n",
    "```"
   ]
  },
  {
   "cell_type": "markdown",
   "metadata": {},
   "source": [
    "## Approach 1\n",
    "- Using hash-map store the element counts of letter of 1st string(s)\n",
    "- Reduce the letter count when letter of t is seen in t hash-map\n",
    "- Delete the hash-map key of letter where count becomes 0\n",
    "- If we found any element in 2nd string(t) which is not present in hash-map then it is not an anagram\n",
    "- If we found that after processing the length of hash-map>0 means some extra elements present in 1st string(s) so not an anagram\n",
    "\n",
    "**T(n)=O(n)**\n",
    "\n",
    "**S(n)=O(n)**"
   ]
  },
  {
   "cell_type": "code",
   "execution_count": 1,
   "metadata": {},
   "outputs": [],
   "source": [
    "def isAnagram(s,t):\n",
    "    hash_map={}\n",
    "    \n",
    "    #storing the counts of letters of s into hash_map\n",
    "    for letter in s:\n",
    "        if hash_map.get(letter,None):\n",
    "            hash_map[letter]+=1\n",
    "        else:\n",
    "            hash_map[letter]=1\n",
    "\n",
    "    #removing the letter count from hash_map if letter is present in the in t\n",
    "    for letter in t:\n",
    "        if hash_map.get(letter,None):\n",
    "            hash_map[letter]-=1\n",
    "            #deleting the key letter from hash_map when letter count is 0\n",
    "            if hash_map[letter]==0:\n",
    "                del hash_map[letter]\n",
    "        else:\n",
    "            return False\n",
    "    \n",
    "    #if there are some elemetns left in hash_map means not an anagram\n",
    "    if len(hash_map)>0:\n",
    "        return False\n",
    "    else:\n",
    "        return True"
   ]
  },
  {
   "cell_type": "code",
   "execution_count": 2,
   "metadata": {},
   "outputs": [
    {
     "data": {
      "text/plain": [
       "True"
      ]
     },
     "execution_count": 2,
     "metadata": {},
     "output_type": "execute_result"
    }
   ],
   "source": [
    "s = \"anagram\"\n",
    "t = \"nagaram\"\n",
    "isAnagram(s,t)"
   ]
  }
 ],
 "metadata": {
  "kernelspec": {
   "display_name": "Python 3",
   "language": "python",
   "name": "python3"
  },
  "language_info": {
   "codemirror_mode": {
    "name": "ipython",
    "version": 3
   },
   "file_extension": ".py",
   "mimetype": "text/x-python",
   "name": "python",
   "nbconvert_exporter": "python",
   "pygments_lexer": "ipython3",
   "version": "3.8.5"
  }
 },
 "nbformat": 4,
 "nbformat_minor": 4
}
