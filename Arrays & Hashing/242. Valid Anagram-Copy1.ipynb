{
 "cells": [
  {
   "cell_type": "markdown",
   "metadata": {},
   "source": [
    "<h1>\n",
    "<a href=\"https://leetcode.com/problems/find-resultant-array-after-removing-anagrams/\" style=\"color:green;text-decoration: none\";>2273. Find Resultant Array After Removing Anagrams</a> \n",
    "</h1> \n",
    "\n",
    "```\n",
    "You are given a 0-indexed string array words, where words[i] consists of lowercase English letters.\n",
    "\n",
    "In one operation, select any index i such that 0 < i < words.length and words[i - 1] and words[i] are anagrams, and delete words[i] from words. Keep performing this operation as long as you can select an index that satisfies the conditions.\n",
    "\n",
    "Return words after performing all operations. It can be shown that selecting the indices for each operation in any arbitrary order will lead to the same result.\n",
    "\n",
    "An Anagram is a word or phrase formed by rearranging the letters of a different word or phrase using all the original letters exactly once. For example, \"dacb\" is an anagram of \"abdc\".\n",
    "\n",
    "Example 1:\n",
    "Input: words = [\"abba\",\"baba\",\"bbaa\",\"cd\",\"cd\"]\n",
    "Output: [\"abba\",\"cd\"]\n",
    "Explanation:\n",
    "One of the ways we can obtain the resultant array is by using the following operations:\n",
    "- Since words[2] = \"bbaa\" and words[1] = \"baba\" are anagrams, we choose index 2 and delete words[2].\n",
    "  Now words = [\"abba\",\"baba\",\"cd\",\"cd\"].\n",
    "- Since words[1] = \"baba\" and words[0] = \"abba\" are anagrams, we choose index 1 and delete words[1].\n",
    "  Now words = [\"abba\",\"cd\",\"cd\"].\n",
    "- Since words[2] = \"cd\" and words[1] = \"cd\" are anagrams, we choose index 2 and delete words[2].\n",
    "  Now words = [\"abba\",\"cd\"].\n",
    "We can no longer perform any operations, so [\"abba\",\"cd\"] is the final answer.\n",
    "\n",
    "Example 2:\n",
    "Input: words = [\"a\",\"b\",\"c\",\"d\",\"e\"]\n",
    "Output: [\"a\",\"b\",\"c\",\"d\",\"e\"]\n",
    "Explanation:\n",
    "No two adjacent strings in words are anagrams of each other, so no operations are performed.\n",
    " \n",
    "Constraints:\n",
    "1 <= words.length <= 100\n",
    "1 <= words[i].length <= 10\n",
    "words[i] consists of lowercase English letters.\n",
    "```"
   ]
  },
  {
   "cell_type": "markdown",
   "metadata": {},
   "source": [
    "## Approach 1\n",
    "- For two adjecent word if they are not anagram then add the word to output\n",
    "\n",
    "**T(n)=O(n)**\n",
    "\n",
    "**S(n)=O(n)**"
   ]
  },
  {
   "cell_type": "code",
   "execution_count": 1,
   "metadata": {},
   "outputs": [],
   "source": [
    "def removeAnagrams(words):\n",
    "        def isAnagram(s,t):\n",
    "            hash_map={}\n",
    "\n",
    "            #storing the counts of letters of s into hash_map\n",
    "            for letter in s:\n",
    "                if hash_map.get(letter,None):\n",
    "                    hash_map[letter]+=1\n",
    "                else:\n",
    "                    hash_map[letter]=1\n",
    "\n",
    "            #removing the letter count from hash_map if letter is present in the in t\n",
    "            for letter in t:\n",
    "                if hash_map.get(letter,None):\n",
    "                    hash_map[letter]-=1\n",
    "                    #deleting the key letter from hash_map when letter count is 0\n",
    "                    if hash_map[letter]==0:\n",
    "                        del hash_map[letter]\n",
    "                else:\n",
    "                    return False\n",
    "\n",
    "            #if there are some elemetns left in hash_map means not an anagram\n",
    "            if len(hash_map)>0:\n",
    "                return False\n",
    "            else:\n",
    "                return True\n",
    "        \n",
    "        #append the 1st element in output list\n",
    "        output=[words[0]]\n",
    "        for i in range(1,len(words)):\n",
    "            #is conjecutive words are not anagram add the word to output list\n",
    "            if not isAnagram(words[i-1],words[i]):\n",
    "                output.append(words[i])\n",
    "        return output"
   ]
  },
  {
   "cell_type": "code",
   "execution_count": 2,
   "metadata": {},
   "outputs": [
    {
     "data": {
      "text/plain": [
       "['abba', 'cd']"
      ]
     },
     "execution_count": 2,
     "metadata": {},
     "output_type": "execute_result"
    }
   ],
   "source": [
    "words = [\"abba\",\"baba\",\"bbaa\",\"cd\",\"cd\"]\n",
    "removeAnagrams(words)"
   ]
  }
 ],
 "metadata": {
  "kernelspec": {
   "display_name": "Python 3",
   "language": "python",
   "name": "python3"
  },
  "language_info": {
   "codemirror_mode": {
    "name": "ipython",
    "version": 3
   },
   "file_extension": ".py",
   "mimetype": "text/x-python",
   "name": "python",
   "nbconvert_exporter": "python",
   "pygments_lexer": "ipython3",
   "version": "3.8.5"
  }
 },
 "nbformat": 4,
 "nbformat_minor": 4
}
