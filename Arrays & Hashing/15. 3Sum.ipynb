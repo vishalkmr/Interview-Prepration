{
 "cells": [
  {
   "cell_type": "markdown",
   "metadata": {},
   "source": [
    "<h1>\n",
    "<a href=\"https://leetcode.com/problems/3sum/\" style=\"color:orange;text-decoration: none\";>15. 3Sum\n",
    "</a> \n",
    "</h1> \n",
    "\n",
    "```\n",
    "Given an integer array nums, return all the triplets [nums[i], nums[j], nums[k]] such that i != j, i != k, and j != k, and nums[i] + nums[j] + nums[k] == 0.\n",
    "\n",
    "Notice that the solution set must not contain duplicate triplets.\n",
    "\n",
    "Example 1:\n",
    "Input: nums = [-1,0,1,2,-1,-4]\n",
    "Output: [[-1,-1,2],[-1,0,1]]\n",
    "                                                                                                    \n",
    "Example 2:\n",
    "Input: nums = []\n",
    "Output: []\n",
    " \n",
    "Constraints:\n",
    "0 <= nums.length <= 3000\n",
    "-105 <= nums[i] <= 105\n",
    "```"
   ]
  },
  {
   "cell_type": "markdown",
   "metadata": {},
   "source": [
    "## Approach 1\n",
    "- First sort the array\n",
    "- Use double pointer along with array current index to check the sum is 0\n",
    "- If sum duplicate number is there then skip it\n",
    " \n",
    "**T(n)=O(n<sup>2</sup>)**\n",
    "\n",
    "**S(n)=O(1)**"
   ]
  },
  {
   "cell_type": "code",
   "execution_count": 1,
   "metadata": {},
   "outputs": [],
   "source": [
    "def threeSum(nums):\n",
    "    nums.sort()\n",
    "    output=[]\n",
    "    n=len(nums)-1\n",
    "\n",
    "    idx=0\n",
    "\n",
    "    while idx < n:\n",
    "        #if current element is same as the previous element then skip it\n",
    "        while idx>0 and idx<n and nums[idx]==nums[idx-1]:\n",
    "            idx+=1\n",
    "\n",
    "        left=idx+1\n",
    "        right=n\n",
    "\n",
    "        while left < right:\n",
    "            #if sum=0 then add the elements to output\n",
    "            if nums[idx]+nums[left]+nums[right]==0:\n",
    "                output.append([nums[idx],nums[left],nums[right]])\n",
    "                left+=1\n",
    "                right-=1\n",
    "            #if sum>0 then decrease the total sum\n",
    "            elif nums[idx]+nums[left]+nums[right]>0:\n",
    "                right-=1\n",
    "            #if sum<0 then increase the total sum\n",
    "            else:\n",
    "                left+=1\n",
    "\n",
    "            #if next left is same as previous left then skip it\n",
    "            while left<0 and left<n and nums[left]==nums[left-1]:\n",
    "                left+=1\n",
    "\n",
    "            #if next right is same as previous right then skip it\n",
    "            while right>0 and right<n and nums[right]==nums[right+1]:\n",
    "                right-=1\n",
    "\n",
    "        idx+=1\n",
    "\n",
    "    return output"
   ]
  },
  {
   "cell_type": "code",
   "execution_count": 2,
   "metadata": {
    "scrolled": true
   },
   "outputs": [
    {
     "data": {
      "text/plain": [
       "[[-4, 0, 4],\n",
       " [-4, 1, 3],\n",
       " [-3, -1, 4],\n",
       " [-3, 0, 3],\n",
       " [-3, 1, 2],\n",
       " [-2, -1, 3],\n",
       " [-2, 0, 2],\n",
       " [-1, -1, 2],\n",
       " [-1, 0, 1]]"
      ]
     },
     "execution_count": 2,
     "metadata": {},
     "output_type": "execute_result"
    }
   ],
   "source": [
    "nums = [-1,0,1,2,-1,-4,-2,-3,3,0,4]\n",
    "threeSum(nums)"
   ]
  }
 ],
 "metadata": {
  "kernelspec": {
   "display_name": "Python 3",
   "language": "python",
   "name": "python3"
  },
  "language_info": {
   "codemirror_mode": {
    "name": "ipython",
    "version": 3
   },
   "file_extension": ".py",
   "mimetype": "text/x-python",
   "name": "python",
   "nbconvert_exporter": "python",
   "pygments_lexer": "ipython3",
   "version": "3.8.5"
  }
 },
 "nbformat": 4,
 "nbformat_minor": 4
}
