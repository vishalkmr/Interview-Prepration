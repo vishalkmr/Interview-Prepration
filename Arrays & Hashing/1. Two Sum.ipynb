{
 "cells": [
  {
   "cell_type": "markdown",
   "metadata": {},
   "source": [
    "<h1>\n",
    "<a href=\"https://leetcode.com/problems/two-sum/\" style=\"color:green;text-decoration: none\";>1. Two Sum</a> \n",
    "</h1> \n",
    "\n",
    "```\n",
    "Given an array of integers nums and an integer target, return indices of the two numbers such that they add up to target.\n",
    "\n",
    "You may assume that each input would have exactly one solution, and you may not use the same element twice.\n",
    "\n",
    "You can return the answer in any order.\n",
    "\n",
    "Example 1:\n",
    "Input: nums = [2,7,11,15], target = 9\n",
    "Output: [0,1]\n",
    "Explanation: Because nums[0] + nums[1] == 9, we return [0, 1].\n",
    "\n",
    "Example 2:\n",
    "Input: nums = [3,2,4], target = 6\n",
    "Output: [1,2]\n",
    " \n",
    "Constraints:\n",
    "2 <= nums.length <= 104\n",
    "-109 <= nums[i] <= 109\n",
    "-109 <= target <= 109\n",
    "Only one valid answer exists.\n",
    "```"
   ]
  },
  {
   "cell_type": "markdown",
   "metadata": {},
   "source": [
    "## Approach 1\n",
    "- Using hash-map store the number and its index\n",
    "- For a given number the required number is a number which when added becomes equal to the target\n",
    "- For each element find the required number is present in the hash-map or not\n",
    "- If the required is already there in hash map which means our target sum numbers are found \n",
    "- Otherwise add the number with index in the hash map\n",
    "\n",
    "**T(n)=O(n)**\n",
    "\n",
    "**S(n)=O(n)**\n"
   ]
  },
  {
   "cell_type": "code",
   "execution_count": 1,
   "metadata": {},
   "outputs": [],
   "source": [
    "def twoSum(nums,target):\n",
    "        hash_map={} \n",
    "        for i in range(len(nums)):\n",
    "            required=target-nums[i]\n",
    "\n",
    "            if  hash_map.get(required,-1) >= 0:\n",
    "                return [i,hash_map[required]]\n",
    "            else:\n",
    "                hash_map[nums[i]]=i"
   ]
  },
  {
   "cell_type": "code",
   "execution_count": 2,
   "metadata": {},
   "outputs": [
    {
     "data": {
      "text/plain": [
       "[1, 0]"
      ]
     },
     "execution_count": 2,
     "metadata": {},
     "output_type": "execute_result"
    }
   ],
   "source": [
    "nums = [2,7,11,15]\n",
    "target = 9\n",
    "twoSum(nums,target)"
   ]
  }
 ],
 "metadata": {
  "kernelspec": {
   "display_name": "Python 3",
   "language": "python",
   "name": "python3"
  },
  "language_info": {
   "codemirror_mode": {
    "name": "ipython",
    "version": 3
   },
   "file_extension": ".py",
   "mimetype": "text/x-python",
   "name": "python",
   "nbconvert_exporter": "python",
   "pygments_lexer": "ipython3",
   "version": "3.8.5"
  }
 },
 "nbformat": 4,
 "nbformat_minor": 4
}
