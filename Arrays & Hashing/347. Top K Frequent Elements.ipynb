{
 "cells": [
  {
   "cell_type": "markdown",
   "metadata": {},
   "source": [
    "<h1>\n",
    "<a href=\"https://leetcode.com/problems/top-k-frequent-elements/\" style=\"color:orange;text-decoration: none\";>347. Top K Frequent Elements</a> \n",
    "</h1> \n",
    "\n",
    "```\n",
    "Given an integer array nums and an integer k, return the k most frequent elements. You may return the answer in any order.\n",
    "\n",
    "Example 1:\n",
    "Input: nums = [1,1,1,2,2,3], k = 2\n",
    "Output: [1,2]\n",
    "\n",
    "Example 2:\n",
    "Input: nums = [1], k = 1\n",
    "Output: [1]\n",
    " \n",
    "Constraints:\n",
    "1 <= nums.length <= 105\n",
    "-104 <= nums[i] <= 104\n",
    "k is in the range [1, the number of unique elements in the array].\n",
    "It is guaranteed that the answer is unique.\n",
    "```"
   ]
  },
  {
   "cell_type": "markdown",
   "metadata": {},
   "source": [
    "## Approach 1\n",
    "- Store the frequency of each number in a hash-map(val_count)\n",
    "- Sort the frequencies in descending order to get the kth most frequent frequency \n",
    "- Check in the hash-map(val_count) if the element frequency is larger/equal to the kth most frequent frequency then element is included in output\n",
    "\n",
    "**T(n)=O(n*logn)**\n",
    "\n",
    "**S(n)=O(n)**"
   ]
  },
  {
   "cell_type": "code",
   "execution_count": 2,
   "metadata": {},
   "outputs": [],
   "source": [
    "def topKFrequent(nums,k):\n",
    "    #store the frequency of each number in a hash-map\n",
    "    val_count={}\n",
    "    for num in nums:\n",
    "        if val_count.get(num,None):\n",
    "            val_count[num]+=1\n",
    "        else:\n",
    "            val_count[num]=1\n",
    "    \n",
    "    #sort the frequencies to get the kth most frequent frequency\n",
    "    freqs=list(val_count.values())\n",
    "    freqs.sort(reverse=True)\n",
    "    min_freq=freqs[k-1]\n",
    "   \n",
    "    #if element frequency is large/equal to kth most frequent frequency add it to output\n",
    "    output=[]\n",
    "    for num in val_count:\n",
    "        if val_count[num]>=min_freq:\n",
    "            output.append(num)\n",
    "    \n",
    "    return output"
   ]
  },
  {
   "cell_type": "code",
   "execution_count": 3,
   "metadata": {},
   "outputs": [
    {
     "data": {
      "text/plain": [
       "[1, 2]"
      ]
     },
     "execution_count": 3,
     "metadata": {},
     "output_type": "execute_result"
    }
   ],
   "source": [
    "nums = [1,1,1,2,2,3]\n",
    "k = 2\n",
    "topKFrequent(nums,k)"
   ]
  },
  {
   "cell_type": "markdown",
   "metadata": {},
   "source": [
    "## Approach 2\n",
    "- Store the frequency of each number in a hash-map(val_count)\n",
    "- Use bucket-sort like technique to create a array such that index:->frequency of element value:->list of nums which are having frequency equal to index\n",
    "- Add the last k elements from the bucket-sort array in output\n",
    "\n",
    "**T(n)=O(n)**\n",
    "\n",
    "**S(n)=O(n)**"
   ]
  },
  {
   "cell_type": "code",
   "execution_count": 5,
   "metadata": {},
   "outputs": [],
   "source": [
    "def topKFrequent(nums,k):\n",
    "    #store the frequency of each number in a hash-map\n",
    "    val_count={}\n",
    "    for num in nums:\n",
    "        if val_count.get(num,None):\n",
    "            val_count[num]+=1\n",
    "        else:\n",
    "            val_count[num]=1\n",
    "    \n",
    "    #create a bucket-sort array where \n",
    "    #index:frequency of element\n",
    "    #value:list of nums which are having frequency equal to index\n",
    "    count_val_array=[[] for i in range(len(nums)+1)]\n",
    "    for num in val_count:\n",
    "        count_val_array[val_count[num]].append(num)\n",
    "\n",
    "    output=[]\n",
    "    idx=len(nums)\n",
    "    \n",
    "    #add the last k elements from the bucket-sort array in output\n",
    "    while k>0:\n",
    "        if len(count_val_array[idx])>0:\n",
    "            output.extend(count_val_array[idx])\n",
    "            k-=len(count_val_array[idx])\n",
    "        idx-=1\n",
    "    return output"
   ]
  },
  {
   "cell_type": "code",
   "execution_count": 6,
   "metadata": {},
   "outputs": [
    {
     "data": {
      "text/plain": [
       "[1, 2]"
      ]
     },
     "execution_count": 6,
     "metadata": {},
     "output_type": "execute_result"
    }
   ],
   "source": [
    "nums = [1,1,1,2,2,3]\n",
    "k = 2\n",
    "topKFrequent(nums,k)"
   ]
  }
 ],
 "metadata": {
  "kernelspec": {
   "display_name": "Python 3",
   "language": "python",
   "name": "python3"
  },
  "language_info": {
   "codemirror_mode": {
    "name": "ipython",
    "version": 3
   },
   "file_extension": ".py",
   "mimetype": "text/x-python",
   "name": "python",
   "nbconvert_exporter": "python",
   "pygments_lexer": "ipython3",
   "version": "3.8.5"
  }
 },
 "nbformat": 4,
 "nbformat_minor": 4
}
