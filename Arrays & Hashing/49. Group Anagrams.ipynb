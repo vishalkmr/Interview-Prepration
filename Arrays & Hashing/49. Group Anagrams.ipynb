{
 "cells": [
  {
   "cell_type": "markdown",
   "metadata": {},
   "source": [
    "<h1>\n",
    "<a href=\"https://leetcode.com/problems/group-anagrams/\" style=\"color:orange;text-decoration: none\";>49. Group Anagrams</a> \n",
    "</h1> \n",
    "\n",
    "```\n",
    "Given an array of strings strs, group the anagrams together. You can return the answer in any order.\n",
    "\n",
    "An Anagram is a word or phrase formed by rearranging the letters of a different word or phrase, typically using all the original letters exactly once.\n",
    "\n",
    "Example 1:\n",
    "Input: strs = [\"eat\",\"tea\",\"tan\",\"ate\",\"nat\",\"bat\"]\n",
    "Output: [[\"bat\"],[\"nat\",\"tan\"],[\"ate\",\"eat\",\"tea\"]]\n",
    "\n",
    "Example 2:\n",
    "Input: strs = [\"a\"]\n",
    "Output: [[\"a\"]]\n",
    " \n",
    "Constraints:\n",
    "1 <= strs.length <= 104\n",
    "0 <= strs[i].length <= 100\n",
    "strs[i] consists of lowercase English letters.\n",
    "```"
   ]
  },
  {
   "cell_type": "markdown",
   "metadata": {},
   "source": [
    "## Approach 1\n",
    "- Sort each word in the string \n",
    "- Create hash-map such that key:sorted word, value:orignal word list for the sorted key\n",
    "- Add all the values of hash-map into ouput list\n",
    "\n",
    "**T(n)=O(n*wlogw)**\n",
    "\n",
    "**S(n)=O(n*w)**"
   ]
  },
  {
   "cell_type": "code",
   "execution_count": 1,
   "metadata": {},
   "outputs": [],
   "source": [
    "def groupAnagrams(strs):\n",
    "    hash_map={}\n",
    "    output=[]\n",
    "    for word in strs:\n",
    "        \n",
    "        letters=[letter for letter in word] #create the letters list\n",
    "        letters.sort() #sort the letters list\n",
    "        sorted_word=\"\".join(letters) #create sorted word from sorted letters\n",
    "        \n",
    "        #if sorted_word is found in hash-map, append the word to the values list\n",
    "        if hash_map.get(sorted_word,None):\n",
    "            hash_map[sorted_word].append(word)\n",
    "        #if sorted_word is not found in hash-map, create new key:value such that sorted_word:[word]\n",
    "        else:\n",
    "            hash_map[sorted_word]=[word]\n",
    "    #append all the sorted value to output list\n",
    "    for key in hash_map:\n",
    "        output.append(hash_map[key])\n",
    "    return output"
   ]
  },
  {
   "cell_type": "code",
   "execution_count": 2,
   "metadata": {},
   "outputs": [
    {
     "data": {
      "text/plain": [
       "[['eat', 'tea', 'ate'], ['tan', 'nat'], ['bat']]"
      ]
     },
     "execution_count": 2,
     "metadata": {},
     "output_type": "execute_result"
    }
   ],
   "source": [
    "strs = [\"eat\",\"tea\",\"tan\",\"ate\",\"nat\",\"bat\"]\n",
    "groupAnagrams(strs)"
   ]
  }
 ],
 "metadata": {
  "kernelspec": {
   "display_name": "Python 3",
   "language": "python",
   "name": "python3"
  },
  "language_info": {
   "codemirror_mode": {
    "name": "ipython",
    "version": 3
   },
   "file_extension": ".py",
   "mimetype": "text/x-python",
   "name": "python",
   "nbconvert_exporter": "python",
   "pygments_lexer": "ipython3",
   "version": "3.8.5"
  }
 },
 "nbformat": 4,
 "nbformat_minor": 4
}
