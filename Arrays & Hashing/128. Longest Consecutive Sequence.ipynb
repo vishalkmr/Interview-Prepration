{
 "cells": [
  {
   "cell_type": "markdown",
   "metadata": {},
   "source": [
    "<h1>\n",
    "<a href=\"https://leetcode.com/problems/longest-consecutive-sequence/\" style=\"color:orange;text-decoration: none\";>128. Longest Consecutive Sequence</a> \n",
    "</h1> \n",
    "\n",
    "```\n",
    "Given an unsorted array of integers nums, return the length of the longest consecutive elements sequence.\n",
    "\n",
    "You must write an algorithm that runs in O(n) time.\n",
    "\n",
    "Example 1:\n",
    "Input: nums = [100,4,200,1,3,2]\n",
    "Output: 4\n",
    "Explanation: The longest consecutive elements sequence is [1, 2, 3, 4]. Therefore its length is 4.\n",
    "\n",
    "Example 2:\n",
    "Input: nums = [0,3,7,2,5,8,4,6,0,1]\n",
    "Output: 9\n",
    " \n",
    "Constraints:\n",
    "0 <= nums.length <= 105\n",
    "-109 <= nums[i] <= 109\n",
    "```"
   ]
  },
  {
   "cell_type": "markdown",
   "metadata": {},
   "source": [
    "## Approach 1\n",
    "- Use set to store element so that membership operation takes O(1) time\n",
    "- If num-1 element is not present means this is the begining of the new sequence\n",
    "- Compute the length of that sequence from the starting num\n",
    "\n",
    "**T(n)=O(n)**\n",
    "\n",
    "**S(n)=O(n)**\n"
   ]
  },
  {
   "cell_type": "code",
   "execution_count": 1,
   "metadata": {},
   "outputs": [],
   "source": [
    "def longestConsecutive(nums):\n",
    "    s=set(nums)\n",
    "    longest_len=0\n",
    "    for num in s:\n",
    "        #starting element of sequence\n",
    "        if num-1 not in s:\n",
    "            curr_len=1\n",
    "            #find the length of current sequence\n",
    "            while num+curr_len in s:\n",
    "                curr_len+=1\n",
    "            #update the longest length seen so far\n",
    "            longest_len=max(longest_len,curr_len)\n",
    "\n",
    "    return longest_len"
   ]
  },
  {
   "cell_type": "code",
   "execution_count": 2,
   "metadata": {},
   "outputs": [
    {
     "data": {
      "text/plain": [
       "4"
      ]
     },
     "execution_count": 2,
     "metadata": {},
     "output_type": "execute_result"
    }
   ],
   "source": [
    "nums = [100,4,200,1,3,2]\n",
    "longestConsecutive(nums)"
   ]
  }
 ],
 "metadata": {
  "kernelspec": {
   "display_name": "Python 3",
   "language": "python",
   "name": "python3"
  },
  "language_info": {
   "codemirror_mode": {
    "name": "ipython",
    "version": 3
   },
   "file_extension": ".py",
   "mimetype": "text/x-python",
   "name": "python",
   "nbconvert_exporter": "python",
   "pygments_lexer": "ipython3",
   "version": "3.8.5"
  }
 },
 "nbformat": 4,
 "nbformat_minor": 4
}
