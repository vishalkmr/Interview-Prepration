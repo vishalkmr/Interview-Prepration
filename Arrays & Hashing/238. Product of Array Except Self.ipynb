{
 "cells": [
  {
   "cell_type": "markdown",
   "metadata": {},
   "source": [
    "<h1>\n",
    "<a href=\"https://leetcode.com/problems/product-of-array-except-self/\" style=\"color:orange;text-decoration: none\";>238. Product of Array Except Self</a> \n",
    "</h1> \n",
    "\n",
    "```\n",
    "Given an integer array nums, return an array answer such that answer[i] is equal to the product of all the elements of nums except nums[i].\n",
    "\n",
    "The product of any prefix or suffix of nums is guaranteed to fit in a 32-bit integer.\n",
    "\n",
    "You must write an algorithm that runs in O(n) time and without using the division operation.\n",
    "\n",
    "Example 1:\n",
    "Input: nums = [1,2,3,4]\n",
    "Output: [24,12,8,6]\n",
    "\n",
    "Example 2:\n",
    "Input: nums = [-1,1,0,-3,3]\n",
    "Output: [0,0,9,0,0]\n",
    " \n",
    "Constraints:\n",
    "2 <= nums.length <= 105\n",
    "-30 <= nums[i] <= 30\n",
    "The product of any prefix or suffix of nums is guaranteed to fit in a 32-bit integer.\n",
    "```"
   ]
  },
  {
   "cell_type": "markdown",
   "metadata": {},
   "source": [
    "## Approach 1\n",
    "- Use the array to store the postfix product of each element by traversing array from end\n",
    "- Then maintain a current prefix product variable alongwith which postfix product is multiplied to get the desired output\n",
    "- Simmilar to <a href=\"https://leetcode.com/problems/trapping-rain-water/\">Trapping Rain Water</a> problem\n",
    "\n",
    "**T(n)=O(n)**\n",
    "\n",
    "**S(n)=O(1)**"
   ]
  },
  {
   "cell_type": "code",
   "execution_count": 1,
   "metadata": {},
   "outputs": [],
   "source": [
    "def productExceptSelf(nums):\n",
    "    n=len(nums)\n",
    "    output=[1]*n\n",
    "\n",
    "    #storing the postfix product in the array for each element\n",
    "    for idx in range(n-2,-1,-1):\n",
    "        output[idx]=output[idx+1]*nums[idx+1]\n",
    "\n",
    "    #stores the current prefix product seen so far for an element\n",
    "    prefix_product=1\n",
    "\n",
    "    #product except self is product of prefix and sufix fo the element\n",
    "    for idx in range(n):\n",
    "        output[idx]=prefix_product*output[idx]\n",
    "\n",
    "        #updating the prefix product by including current element\n",
    "        prefix_product*=nums[idx]\n",
    "\n",
    "    return output"
   ]
  },
  {
   "cell_type": "code",
   "execution_count": 2,
   "metadata": {},
   "outputs": [
    {
     "data": {
      "text/plain": [
       "[24, 12, 8, 6]"
      ]
     },
     "execution_count": 2,
     "metadata": {},
     "output_type": "execute_result"
    }
   ],
   "source": [
    "nums = [1,2,3,4]\n",
    "productExceptSelf(nums)"
   ]
  }
 ],
 "metadata": {
  "kernelspec": {
   "display_name": "Python 3",
   "language": "python",
   "name": "python3"
  },
  "language_info": {
   "codemirror_mode": {
    "name": "ipython",
    "version": 3
   },
   "file_extension": ".py",
   "mimetype": "text/x-python",
   "name": "python",
   "nbconvert_exporter": "python",
   "pygments_lexer": "ipython3",
   "version": "3.8.5"
  }
 },
 "nbformat": 4,
 "nbformat_minor": 4
}
