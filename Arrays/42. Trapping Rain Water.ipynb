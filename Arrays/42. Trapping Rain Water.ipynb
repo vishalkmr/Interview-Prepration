{
 "cells": [
  {
   "cell_type": "markdown",
   "metadata": {},
   "source": [
    "<h1>\n",
    "<a href=\"https://leetcode.com/problems/trapping-rain-water/\" style=\"color:red; text-decoration: none\";>42. Trapping Rain Water</a> \n",
    "</h1> \n",
    "\n",
    "```\n",
    "Given n non-negative integers representing an elevation map where the width of each bar is 1, compute how much water it can trap after raining.\n",
    "```\n",
    "<img src=\"../images/42.png\"  width=350 height=400 style=\"float:right ;\" />\n",
    "\n",
    "```\n",
    "Example 1:\n",
    "Input: height = [0,1,0,2,1,0,1,3,2,1,2,1]\n",
    "Output: 6\n",
    "Explanation: The above elevation map (black section) is represented by array [0,1,0,2,1,0,1,3,2,1,2,1]. In this case, 6 units of rain water (blue section) are being trapped.\n",
    "\n",
    "Example 2:\n",
    "Input: height = [4,2,0,3,2,5]\n",
    "Output: 9\n",
    " \n",
    "Constraints:\n",
    "n == height.length\n",
    "1 <= n <= 2 * 104\n",
    "0 <= height[i] <= 105\n",
    "```"
   ]
  },
  {
   "cell_type": "markdown",
   "metadata": {},
   "source": [
    "## Approach 1\n",
    "- Use prefix-suffix approach\n",
    "- Water contained at given index idx is `min(suffix[idx],prefix[idx])-height[idx]`\n",
    "\n",
    "**T(n)=O(n)**\n",
    "\n",
    "**S(n)=O(n)**"
   ]
  },
  {
   "cell_type": "code",
   "execution_count": 1,
   "metadata": {},
   "outputs": [],
   "source": [
    "def trap(height):\n",
    "    n=len(height)\n",
    "    prefix=[0]*n\n",
    "    suffix=[0]*n\n",
    "    \n",
    "    #compute the prefix and suffix\n",
    "    for i in range(n):\n",
    "        if i==0:\n",
    "            prefix[i]=height[i]\n",
    "        else:\n",
    "            prefix[i]=max(height[i],prefix[i-1])\n",
    "    for i in range(n-1,0-1,-1):\n",
    "        if i==n-1:\n",
    "            suffix[i]=height[i]\n",
    "        else:\n",
    "            suffix[i]=max(height[i],suffix[i+1])\n",
    "    \n",
    "    trapped_water=0\n",
    "    for i in range(n):\n",
    "        if height[i]==0 and prefix[i]==0:\n",
    "            trapped_water+=0\n",
    "        else:\n",
    "            trapped_water+=min(suffix[i],prefix[i])-height[i]\n",
    "\n",
    "    return trapped_water"
   ]
  },
  {
   "cell_type": "code",
   "execution_count": 2,
   "metadata": {},
   "outputs": [
    {
     "data": {
      "text/plain": [
       "6"
      ]
     },
     "execution_count": 2,
     "metadata": {},
     "output_type": "execute_result"
    }
   ],
   "source": [
    "height = [0,1,0,2,1,0,1,3,2,1,2,1]\n",
    "trap(height)"
   ]
  },
  {
   "cell_type": "markdown",
   "metadata": {},
   "source": [
    "## Approach 2\n",
    "- Use prefix-suffix approach\n",
    "- Use a variable to maintain prefix and update it accordingly at each step `prefix=max(prefix,height[i])`\n",
    "- Water contained at given index idx is `min(suffix[idx])-height[idx]`\n",
    "\n",
    "**T(n)=O(n)**\n",
    "\n",
    "**S(n)=O(n)**"
   ]
  },
  {
   "cell_type": "code",
   "execution_count": 3,
   "metadata": {},
   "outputs": [],
   "source": [
    "def trap(height):\n",
    "    n=len(height)\n",
    "    prefix=height[0]\n",
    "    suffix=[0]*n\n",
    "\n",
    "    for i in range(n-1,0-1,-1):\n",
    "        if i==n-1:\n",
    "            suffix[i]=height[i]\n",
    "        else:\n",
    "            suffix[i]=max(height[i],suffix[i+1])\n",
    "\n",
    "    trapped_water=0\n",
    "    for i in range(n):\n",
    "        prefix=max(prefix,height[i])\n",
    "        if height[i]==0 and prefix==0:\n",
    "            trapped_water+=0\n",
    "        else:             \n",
    "            trapped_water+=min(suffix[i],prefix)-height[i]  \n",
    "\n",
    "    return trapped_water"
   ]
  },
  {
   "cell_type": "code",
   "execution_count": 4,
   "metadata": {},
   "outputs": [
    {
     "data": {
      "text/plain": [
       "6"
      ]
     },
     "execution_count": 4,
     "metadata": {},
     "output_type": "execute_result"
    }
   ],
   "source": [
    "height = [0,1,0,2,1,0,1,3,2,1,2,1]\n",
    "trap(height)"
   ]
  },
  {
   "cell_type": "markdown",
   "metadata": {},
   "source": [
    "## Approach 3\n",
    "- Use two-pointer approach\n",
    "- Use two pointers left and right to track curernt left and right hieght\n",
    "- Use two variable max_left,max_right to store maximum value seen in by lleft and right pointer so far\n",
    "- Move to the direction of pointer having lesser maximum value\n",
    "- Update the pointer and its max value\n",
    "- Compute the water store at that height by max value of pointer subtracted by current hieght \n",
    "\n",
    "**T(n)=O(n)**\n",
    "\n",
    "**S(n)=O(1)**"
   ]
  },
  {
   "cell_type": "code",
   "execution_count": 5,
   "metadata": {},
   "outputs": [],
   "source": [
    "def trap(height):\n",
    "    left,right=0,len(height)-1\n",
    "    max_left=height[left]\n",
    "    max_right=height[right]\n",
    "\n",
    "    trapped_water=0\n",
    "    while left < right:\n",
    "        if max_left < max_right:\n",
    "            left+=1\n",
    "            max_left=max(max_left,height[left])\n",
    "            trapped_water+=max_left-height[left]\n",
    "\n",
    "        else:\n",
    "            right-=1\n",
    "            max_right=max(max_right,height[right])\n",
    "            trapped_water+=max_right-height[right]\n",
    "\n",
    "    return trapped_water"
   ]
  },
  {
   "cell_type": "code",
   "execution_count": 6,
   "metadata": {},
   "outputs": [
    {
     "data": {
      "text/plain": [
       "6"
      ]
     },
     "execution_count": 6,
     "metadata": {},
     "output_type": "execute_result"
    }
   ],
   "source": [
    "height = [0,1,0,2,1,0,1,3,2,1,2,1]\n",
    "trap(height)"
   ]
  }
 ],
 "metadata": {
  "kernelspec": {
   "display_name": "Python 3",
   "language": "python",
   "name": "python3"
  },
  "language_info": {
   "codemirror_mode": {
    "name": "ipython",
    "version": 3
   },
   "file_extension": ".py",
   "mimetype": "text/x-python",
   "name": "python",
   "nbconvert_exporter": "python",
   "pygments_lexer": "ipython3",
   "version": "3.8.5"
  }
 },
 "nbformat": 4,
 "nbformat_minor": 4
}
