{
 "cells": [
  {
   "cell_type": "markdown",
   "metadata": {},
   "source": [
    "<h1>\n",
    "<a href=\"https://leetcode.com/problems/check-if-every-row-and-column-contains-all-numbers/\" style=\"color:green;text-decoration: none\";>2133. Check if Every Row and Column Contains All Numbers</a> \n",
    "</h1> \n",
    "\n",
    "```\n",
    "An n x n matrix is valid if every row and every column contains all the integers from 1 to n (inclusive).\n",
    "\n",
    "Given an n x n integer matrix matrix, return true if the matrix is valid. Otherwise, return false.\n",
    "\n",
    "Example 1:\n",
    "Input: matrix = [[1,2,3],[3,1,2],[2,3,1]]\n",
    "Output: true\n",
    "Explanation: In this case, n = 3, and every row and column contains the numbers 1, 2, and 3.\n",
    "Hence, we return true.\n",
    "\n",
    "Example 2:\n",
    "Input: matrix = [[1,1,1],[1,2,3],[1,2,3]]\n",
    "Output: false\n",
    "Explanation: In this case, n = 3, but the first row and the first column do not contain the numbers 2 or 3.\n",
    "Hence, we return false.\n",
    " \n",
    "Constraints:\n",
    "n == matrix.length == matrix[i].length\n",
    "1 <= n <= 100\n",
    "1 <= matrix[i][j] <= n\n",
    "```"
   ]
  },
  {
   "cell_type": "markdown",
   "metadata": {},
   "source": [
    "## Approach 1\n",
    "- Use hash-set of collection module for each row/cols duplicate check\n",
    "\n",
    "**T(n)=O(n*n)**\n",
    "\n",
    "**S(n)=O(n*n)**\n"
   ]
  },
  {
   "cell_type": "code",
   "execution_count": 1,
   "metadata": {},
   "outputs": [],
   "source": [
    "import collections\n",
    "def checkValid(matrix):\n",
    "    rows=collections.defaultdict(set)\n",
    "    cols=collections.defaultdict(set)\n",
    "    for r in range(len(matrix)):\n",
    "        for c in range(len(matrix[0])):\n",
    "            #duplicate element found\n",
    "            if matrix[r][c] in rows[r] or matrix[r][c] in cols[c]:\n",
    "                return False\n",
    "            #add element to the hash-set\n",
    "            rows[r].add(matrix[r][c])\n",
    "            cols[c].add(matrix[r][c])\n",
    "    return True"
   ]
  },
  {
   "cell_type": "code",
   "execution_count": 2,
   "metadata": {},
   "outputs": [],
   "source": [
    "matrix = [[2,2,2],[2,2,2],[2,2,2]]\n",
    "checkValid(matrix)"
   ]
  }
 ],
 "metadata": {
  "kernelspec": {
   "display_name": "Python 3",
   "language": "python",
   "name": "python3"
  },
  "language_info": {
   "codemirror_mode": {
    "name": "ipython",
    "version": 3
   },
   "file_extension": ".py",
   "mimetype": "text/x-python",
   "name": "python",
   "nbconvert_exporter": "python",
   "pygments_lexer": "ipython3",
   "version": "3.8.5"
  }
 },
 "nbformat": 4,
 "nbformat_minor": 4
}
