{
 "cells": [
  {
   "cell_type": "markdown",
   "metadata": {},
   "source": [
    "<h1>\n",
    "<a href=\"https://leetcode.com/problems/number-of-islands/\" style=\"color:orange;text-decoration: none\";>200. Number of Islands\n",
    "</a> \n",
    "</h1> \n",
    "\n",
    "```\n",
    "Given an m x n 2D binary grid grid which represents a map of '1's (land) and '0's (water), return the number of islands.\n",
    "\n",
    "An island is surrounded by water and is formed by connecting adjacent lands horizontally or vertically. You may assume all four edges of the grid are all surrounded by water. \n",
    "\n",
    "Example 1:\n",
    "Input: grid = [\n",
    "  [\"1\",\"1\",\"1\",\"1\",\"0\"],\n",
    "  [\"1\",\"1\",\"0\",\"1\",\"0\"],\n",
    "  [\"1\",\"1\",\"0\",\"0\",\"0\"],\n",
    "  [\"0\",\"0\",\"0\",\"0\",\"0\"]\n",
    "]\n",
    "Output: 1\n",
    "                                                                                                    \n",
    "Example 2:\n",
    "Input: grid = [\n",
    "  [\"1\",\"1\",\"0\",\"0\",\"0\"],\n",
    "  [\"1\",\"1\",\"0\",\"0\",\"0\"],\n",
    "  [\"0\",\"0\",\"1\",\"0\",\"0\"],\n",
    "  [\"0\",\"0\",\"0\",\"1\",\"1\"]\n",
    "]\n",
    "Output: 3\n",
    "\n",
    "Constraints:\n",
    "The number of nodes in the tree is in the range [0, 100].\n",
    "m == grid.length\n",
    "n == grid[i].length\n",
    "1 <= m, n <= 300\n",
    "grid[i][j] is '0' or '1'.\n",
    "```"
   ]
  },
  {
   "cell_type": "markdown",
   "metadata": {},
   "source": [
    "## Approach 1\n",
    "- Apply **DFS** for x(number of connected coponents) times\n",
    "\n",
    " \n",
    "**T(n)=O(m*n)**\n",
    "\n",
    "**S(n)=O(m*n)**"
   ]
  },
  {
   "cell_type": "code",
   "execution_count": 1,
   "metadata": {},
   "outputs": [],
   "source": [
    "def numIslands(grid):\n",
    "    #here land<=>node(1)  water<=>node(0)\n",
    "    m=len(grid)\n",
    "    n=len(grid[0])\n",
    "    visited=[[False for i in range(n)] for j in range(m)]\n",
    "\n",
    "    #dfs on all adjecent nodes to expand the search of islands size\n",
    "    def dfs(i,j):\n",
    "        nonlocal visited\n",
    "        if 0<=i<m and 0<=j<n and grid[i][j]==\"1\" and not visited[i][j]:\n",
    "            #if not visited land is found, find the adjecent lands\n",
    "                visited[i][j]=True\n",
    "                dfs(i-1,j) #top land\n",
    "                dfs(i,j-1) #left land\n",
    "                dfs(i+1,j) #bottom land\n",
    "                dfs(i,j+1) #right land\n",
    "        else:\n",
    "            return\n",
    "\n",
    "    islands=0\n",
    "    for i in range(m):\n",
    "        for j in range(n):\n",
    "            #if land is not visited then expand the search of islands\n",
    "            if  grid[i][j]==\"1\" and not visited[i][j]:\n",
    "                dfs(i,j)\n",
    "                islands+=1\n",
    "    return islands"
   ]
  },
  {
   "cell_type": "code",
   "execution_count": 2,
   "metadata": {},
   "outputs": [
    {
     "data": {
      "text/plain": [
       "3"
      ]
     },
     "execution_count": 2,
     "metadata": {},
     "output_type": "execute_result"
    }
   ],
   "source": [
    "grid = [\n",
    "  [\"1\",\"1\",\"0\",\"0\",\"0\"],\n",
    "  [\"1\",\"1\",\"0\",\"0\",\"0\"],\n",
    "  [\"0\",\"0\",\"1\",\"0\",\"0\"],\n",
    "  [\"0\",\"0\",\"0\",\"1\",\"1\"]\n",
    "]\n",
    "numIslands(grid)"
   ]
  }
 ],
 "metadata": {
  "kernelspec": {
   "display_name": "Python 3",
   "language": "python",
   "name": "python3"
  },
  "language_info": {
   "codemirror_mode": {
    "name": "ipython",
    "version": 3
   },
   "file_extension": ".py",
   "mimetype": "text/x-python",
   "name": "python",
   "nbconvert_exporter": "python",
   "pygments_lexer": "ipython3",
   "version": "3.8.5"
  }
 },
 "nbformat": 4,
 "nbformat_minor": 4
}
