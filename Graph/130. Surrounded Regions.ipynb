{
 "cells": [
  {
   "cell_type": "markdown",
   "metadata": {},
   "source": [
    "<h1>\n",
    "<a href=\"https://leetcode.com/problems/surrounded-regions/\" style=\"color:orange;text-decoration: none\";>130. Surrounded Regions\n",
    "</a> \n",
    "</h1> \n",
    "\n",
    "```\n",
    "Given an m x n matrix board containing 'X' and 'O', capture all regions that are 4-directionally surrounded by 'X'.\n",
    "\n",
    "A region is captured by flipping all 'O's into 'X's in that surrounded region.\n",
    "\n",
    "Example 1:\n",
    "Input: board = [[\"X\",\"X\",\"X\",\"X\"],[\"X\",\"O\",\"O\",\"X\"],[\"X\",\"X\",\"O\",\"X\"],[\"X\",\"O\",\"X\",\"X\"]]\n",
    "Output: [[\"X\",\"X\",\"X\",\"X\"],[\"X\",\"X\",\"X\",\"X\"],[\"X\",\"X\",\"X\",\"X\"],[\"X\",\"O\",\"X\",\"X\"]]\n",
    "Explanation: Surrounded regions should not be on the border, which means that any 'O' on the border of the board are not flipped to 'X'. Any 'O' that is not on the border and it is not connected to an 'O' on the border will be flipped to 'X'. Two cells are connected if they are adjacent cells connected horizontally or vertically.\n",
    "                                                                                                    \n",
    "Example 2:\n",
    "Input: board = [[\"X\"]]\n",
    "Output: [[\"X\"]]\n",
    "\n",
    "Constraints:\n",
    "m == board.length\n",
    "n == board[i].length\n",
    "1 <= m, n <= 200\n",
    "board[i][j] is 'X' or 'O'.\n",
    "```"
   ]
  },
  {
   "cell_type": "markdown",
   "metadata": {},
   "source": [
    "## Approach 1\n",
    "- Apply **DFS** for number of connected coponents/islands present\n",
    "- If island is surrounded then apply flipping operation\n",
    "\n",
    " \n",
    "**T(n)=O(m*n)**\n",
    "\n",
    "**S(n)=O(m*n)**"
   ]
  },
  {
   "cell_type": "code",
   "execution_count": 4,
   "metadata": {},
   "outputs": [],
   "source": [
    "def solve(board):\n",
    "    #here land<=>node(1)  water<=>node(0)\n",
    "    m=len(board)\n",
    "    n=len(board[0])\n",
    "    visited=[[False for i in range(n)] for j in range(m)]\n",
    "    island=set()\n",
    "\n",
    "    #dfs on all adjecent nodes to check the surrounded region.\n",
    "    def dfs(i,j):\n",
    "        nonlocal visited\n",
    "        nonlocal island\n",
    "        # print(i,j)\n",
    "        if 0<i<m-1 and 0<j<n-1 and board[i][j]==\"O\" and not visited[i][j]:\n",
    "            #if not visited land is found, find the adjecent lands\n",
    "                visited[i][j]=True\n",
    "                island.add((i,j))\n",
    "                top=dfs(i-1,j) #top land\n",
    "                left=dfs(i,j-1) #left land\n",
    "                bottom=dfs(i+1,j) #bottom land\n",
    "                right=dfs(i,j+1) #right land\n",
    "                return top and left and bottom and right\n",
    "        elif (i==m-1 or j==n-1 or i==0 or j==0) and board[i][j]==\"O\":\n",
    "            return False\n",
    "        else:\n",
    "            return True\n",
    "\n",
    "    #sink the island if it is surrounded\n",
    "    def capture(island):\n",
    "        nonlocal board\n",
    "        for i,j in island:\n",
    "            board[i][j]=\"X\"\n",
    "\n",
    "    for i in range(m-1):\n",
    "        for j in range(n-1):\n",
    "            island=set()\n",
    "            #if land is not visited then expand the search of islands\n",
    "            if  board[i][j]==\"O\" and not visited[i][j]:\n",
    "                if dfs(i,j):\n",
    "                    capture(island)"
   ]
  },
  {
   "cell_type": "code",
   "execution_count": 5,
   "metadata": {},
   "outputs": [
    {
     "data": {
      "text/plain": [
       "[['X', 'X', 'X', 'X'],\n",
       " ['X', 'X', 'X', 'X'],\n",
       " ['X', 'X', 'X', 'X'],\n",
       " ['X', 'O', 'X', 'X']]"
      ]
     },
     "execution_count": 5,
     "metadata": {},
     "output_type": "execute_result"
    }
   ],
   "source": [
    "board = [[\"X\",\"X\",\"X\",\"X\"],[\"X\",\"O\",\"O\",\"X\"],[\"X\",\"X\",\"O\",\"X\"],[\"X\",\"O\",\"X\",\"X\"]]\n",
    "solve(board)\n",
    "board"
   ]
  },
  {
   "cell_type": "code",
   "execution_count": 3,
   "metadata": {},
   "outputs": [],
   "source": [
    "def solve(board):\n",
    "    #here land<=>node(1)  water<=>node(0)\n",
    "    m=len(board)\n",
    "    n=len(board[0])\n",
    "    visited=set()\n",
    "\n",
    "    #dfs on all adjecent nodes to check the surrounded region.\n",
    "    def dfs(i,j):\n",
    "        nonlocal visited\n",
    "        # print(i,j)\n",
    "        if 0<i<m-1 and 0<j<n-1 and board[i][j]==\"O\" and (i,j) not in visited:\n",
    "            #if not visited land is found, find the adjecent lands\n",
    "                visited.add((i,j))\n",
    "                top=dfs(i-1,j) #top land\n",
    "                left=dfs(i,j-1) #left land\n",
    "                bottom=dfs(i+1,j) #bottom land\n",
    "                right=dfs(i,j+1) #right land\n",
    "                return top and left and bottom and right\n",
    "        elif (i==m-1 or j==n-1 or i==0 or j==0) and board[i][j]==\"O\":\n",
    "            return False\n",
    "        else:\n",
    "            return True\n",
    "\n",
    "    #sink the island if it is surrounded\n",
    "    def capture(visited):\n",
    "        nonlocal board\n",
    "        for i,j in visited:\n",
    "            board[i][j]=\"X\"\n",
    "\n",
    "    for i in range(m-1):\n",
    "        for j in range(n-1):\n",
    "            visited=set()\n",
    "            #if land is not visited then expand the search of islands\n",
    "            if  board[i][j]==\"O\":\n",
    "                if dfs(i,j):\n",
    "                    capture(visited)"
   ]
  },
  {
   "cell_type": "code",
   "execution_count": 6,
   "metadata": {},
   "outputs": [
    {
     "data": {
      "text/plain": [
       "[['X', 'X', 'X', 'X'],\n",
       " ['X', 'X', 'X', 'X'],\n",
       " ['X', 'X', 'X', 'X'],\n",
       " ['X', 'O', 'X', 'X']]"
      ]
     },
     "execution_count": 6,
     "metadata": {},
     "output_type": "execute_result"
    }
   ],
   "source": [
    "board = [[\"X\",\"X\",\"X\",\"X\"],[\"X\",\"O\",\"O\",\"X\"],[\"X\",\"X\",\"O\",\"X\"],[\"X\",\"O\",\"X\",\"X\"]]\n",
    "solve(board)\n",
    "board"
   ]
  }
 ],
 "metadata": {
  "kernelspec": {
   "display_name": "Python 3",
   "language": "python",
   "name": "python3"
  },
  "language_info": {
   "codemirror_mode": {
    "name": "ipython",
    "version": 3
   },
   "file_extension": ".py",
   "mimetype": "text/x-python",
   "name": "python",
   "nbconvert_exporter": "python",
   "pygments_lexer": "ipython3",
   "version": "3.8.5"
  }
 },
 "nbformat": 4,
 "nbformat_minor": 4
}
