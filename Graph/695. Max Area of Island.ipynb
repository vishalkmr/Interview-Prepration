{
 "cells": [
  {
   "cell_type": "markdown",
   "metadata": {},
   "source": [
    "<h1>\n",
    "<a href=\"https://leetcode.com/problems/max-area-of-island/\" style=\"color:orange;text-decoration: none\";>695. Max Area of Island\n",
    "</a> \n",
    "</h1> \n",
    "\n",
    "```\n",
    "You are given an m x n binary matrix grid. An island is a group of 1's (representing land) connected 4-directionally (horizontal or vertical.) You may assume all four edges of the grid are surrounded by water.\n",
    "\n",
    "The area of an island is the number of cells with a value 1 in the island.\n",
    "\n",
    "Return the maximum area of an island in grid. If there is no island, return 0\n",
    "\n",
    "Example 1:\n",
    "Input: grid = [[0,0,1,0,0,0,0,1,0,0,0,0,0],[0,0,0,0,0,0,0,1,1,1,0,0,0],[0,1,1,0,1,0,0,0,0,0,0,0,0],[0,1,0,0,1,1,0,0,1,0,1,0,0],[0,1,0,0,1,1,0,0,1,1,1,0,0],[0,0,0,0,0,0,0,0,0,0,1,0,0],[0,0,0,0,0,0,0,1,1,1,0,0,0],[0,0,0,0,0,0,0,1,1,0,0,0,0]]\n",
    "Output: 6\n",
    "Explanation: The answer is not 11, because the island must be connected 4-directionally.\n",
    "                                                                                                    \n",
    "Example 2:\n",
    "Input: grid = [[0,0,0,0,0,0,0,0]]\n",
    "Output: 0\n",
    "\n",
    "Constraints:\n",
    "m == grid.length\n",
    "n == grid[i].length\n",
    "1 <= m, n <= 50\n",
    "grid[i][j] is either 0 or 1.\n",
    "```"
   ]
  },
  {
   "cell_type": "markdown",
   "metadata": {},
   "source": [
    "## Approach 1\n",
    "- Apply **DFS** for x(number of connected coponents) times\n",
    "- Global variable to track the max size of island seen so far\n",
    "\n",
    " \n",
    "**T(n)=O(m*n)**\n",
    "\n",
    "**S(n)=O(m*n)**"
   ]
  },
  {
   "cell_type": "code",
   "execution_count": 1,
   "metadata": {},
   "outputs": [],
   "source": [
    "def maxAreaOfIsland(grid):\n",
    "    #here land<=>node(1)  water<=>node(0)\n",
    "    m=len(grid)\n",
    "    n=len(grid[0])\n",
    "    visited=[[False for i in range(n)] for j in range(m)]\n",
    "    max_island_size=0\n",
    "\n",
    "    #dfs on all adjecent nodes to expand the search of islands size\n",
    "    def dfs(i,j):\n",
    "        nonlocal visited\n",
    "        nonlocal max_island_size\n",
    "        if 0<=i<m and 0<=j<n and grid[i][j]==1 and not visited[i][j]:\n",
    "            #if not visited land is found, find the adjecent lands\n",
    "                visited[i][j]=True\n",
    "                top=dfs(i-1,j) #top land\n",
    "                left=dfs(i,j-1) #left land\n",
    "                bottom=dfs(i+1,j) #bottom land\n",
    "                right=dfs(i,j+1) #right land\n",
    "                island_size=top+left+bottom+right+1\n",
    "                max_island_size=max(max_island_size,island_size)\n",
    "                return island_size\n",
    "        else:\n",
    "            return 0\n",
    "\n",
    "    for i in range(m):\n",
    "        for j in range(n):\n",
    "            #if land is not visited then expand the search of islands size\n",
    "            if  grid[i][j]==1 and not visited[i][j]:\n",
    "                dfs(i,j)\n",
    "\n",
    "    return max_island_size"
   ]
  },
  {
   "cell_type": "code",
   "execution_count": 2,
   "metadata": {},
   "outputs": [
    {
     "data": {
      "text/plain": [
       "6"
      ]
     },
     "execution_count": 2,
     "metadata": {},
     "output_type": "execute_result"
    }
   ],
   "source": [
    "grid = [[0,0,1,0,0,0,0,1,0,0,0,0,0],[0,0,0,0,0,0,0,1,1,1,0,0,0],[0,1,1,0,1,0,0,0,0,0,0,0,0],[0,1,0,0,1,1,0,0,1,0,1,0,0],[0,1,0,0,1,1,0,0,1,1,1,0,0],[0,0,0,0,0,0,0,0,0,0,1,0,0],[0,0,0,0,0,0,0,1,1,1,0,0,0],[0,0,0,0,0,0,0,1,1,0,0,0,0]]\n",
    "maxAreaOfIsland(grid)"
   ]
  }
 ],
 "metadata": {
  "kernelspec": {
   "display_name": "Python 3",
   "language": "python",
   "name": "python3"
  },
  "language_info": {
   "codemirror_mode": {
    "name": "ipython",
    "version": 3
   },
   "file_extension": ".py",
   "mimetype": "text/x-python",
   "name": "python",
   "nbconvert_exporter": "python",
   "pygments_lexer": "ipython3",
   "version": "3.8.5"
  }
 },
 "nbformat": 4,
 "nbformat_minor": 4
}
